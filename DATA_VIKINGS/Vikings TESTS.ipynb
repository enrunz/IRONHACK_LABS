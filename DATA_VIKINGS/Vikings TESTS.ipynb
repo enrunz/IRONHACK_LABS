{
 "cells": [
  {
   "cell_type": "code",
   "execution_count": 1,
   "id": "1376d88a",
   "metadata": {},
   "outputs": [],
   "source": [
    "from viking_clases import *"
   ]
  },
  {
   "cell_type": "code",
   "execution_count": 2,
   "id": "3bc38c98",
   "metadata": {},
   "outputs": [],
   "source": [
    "Juan=Soldier(100,10)"
   ]
  },
  {
   "cell_type": "code",
   "execution_count": 3,
   "id": "67118329",
   "metadata": {},
   "outputs": [
    {
     "data": {
      "text/plain": [
       "10"
      ]
     },
     "execution_count": 3,
     "metadata": {},
     "output_type": "execute_result"
    }
   ],
   "source": [
    "Juan.attack()"
   ]
  },
  {
   "cell_type": "code",
   "execution_count": 4,
   "id": "94346f5d",
   "metadata": {},
   "outputs": [],
   "source": [
    "Juan.receive_damage(1000)"
   ]
  },
  {
   "cell_type": "code",
   "execution_count": 5,
   "id": "598c20f4",
   "metadata": {},
   "outputs": [],
   "source": [
    "Pedro=Viking('Pedro',1000,10)\n"
   ]
  },
  {
   "cell_type": "code",
   "execution_count": 6,
   "id": "00abf69c",
   "metadata": {},
   "outputs": [
    {
     "data": {
      "text/plain": [
       "'Pedro has received 50 points of damage'"
      ]
     },
     "execution_count": 6,
     "metadata": {},
     "output_type": "execute_result"
    }
   ],
   "source": [
    "Pedro.receive_damage(50)"
   ]
  },
  {
   "cell_type": "code",
   "execution_count": 7,
   "id": "f8e84df7",
   "metadata": {},
   "outputs": [
    {
     "data": {
      "text/plain": [
       "'Pedro has died in act of combat'"
      ]
     },
     "execution_count": 7,
     "metadata": {},
     "output_type": "execute_result"
    }
   ],
   "source": [
    "Pedro.receive_damage(5000)"
   ]
  },
  {
   "cell_type": "code",
   "execution_count": 8,
   "id": "7bc3711f",
   "metadata": {},
   "outputs": [
    {
     "data": {
      "text/plain": [
       "'Odin Owns You All!'"
      ]
     },
     "execution_count": 8,
     "metadata": {},
     "output_type": "execute_result"
    }
   ],
   "source": [
    "Pedro.battle_cry()"
   ]
  },
  {
   "cell_type": "code",
   "execution_count": 9,
   "id": "8f5b586e",
   "metadata": {},
   "outputs": [
    {
     "data": {
      "text/plain": [
       "0"
      ]
     },
     "execution_count": 9,
     "metadata": {},
     "output_type": "execute_result"
    }
   ],
   "source": [
    "y=[]\n",
    "len(y)"
   ]
  },
  {
   "cell_type": "code",
   "execution_count": 10,
   "id": "334bf76d",
   "metadata": {},
   "outputs": [],
   "source": [
    "COLD=War()"
   ]
  },
  {
   "cell_type": "code",
   "execution_count": 11,
   "id": "75f66d33",
   "metadata": {},
   "outputs": [],
   "source": [
    "COLD.add_viking(Viking('Maik',1000,1000))"
   ]
  },
  {
   "cell_type": "code",
   "execution_count": 12,
   "id": "cd4e0b8c",
   "metadata": {},
   "outputs": [
    {
     "name": "stdout",
     "output_type": "stream",
     "text": [
      "Maik\n",
      "1000\n",
      "1000\n"
     ]
    }
   ],
   "source": [
    "for i in COLD.viking_army:\n",
    "    print(i.name)\n",
    "    print(i.health)\n",
    "    print(i.strength)"
   ]
  },
  {
   "cell_type": "code",
   "execution_count": 13,
   "id": "dd798193",
   "metadata": {},
   "outputs": [],
   "source": [
    "def army_generator():\n",
    "    #code\n",
    "    print()"
   ]
  },
  {
   "cell_type": "code",
   "execution_count": 14,
   "id": "5ad03f65",
   "metadata": {},
   "outputs": [],
   "source": [
    "COLD.add_saxon(Saxon(800,1200))\n",
    "COLD.add_saxon(Saxon(1000,100))\n",
    "COLD.add_viking(Viking('Carl',7,1))"
   ]
  },
  {
   "cell_type": "code",
   "execution_count": 15,
   "id": "54d31a4b",
   "metadata": {},
   "outputs": [
    {
     "data": {
      "text/plain": [
       "'Carl has died in act of combat'"
      ]
     },
     "execution_count": 15,
     "metadata": {},
     "output_type": "execute_result"
    }
   ],
   "source": [
    "COLD.saxon_attack()"
   ]
  },
  {
   "cell_type": "code",
   "execution_count": 16,
   "id": "85b2d234",
   "metadata": {},
   "outputs": [
    {
     "data": {
      "text/plain": [
       "'A Saxon has received 1000 points of damage'"
      ]
     },
     "execution_count": 16,
     "metadata": {},
     "output_type": "execute_result"
    }
   ],
   "source": [
    "COLD.viking_attack()"
   ]
  },
  {
   "cell_type": "code",
   "execution_count": 17,
   "id": "5d81483e",
   "metadata": {},
   "outputs": [
    {
     "name": "stdout",
     "output_type": "stream",
     "text": [
      "Vikings and Saxons are still in the thick of battle.\n"
     ]
    }
   ],
   "source": [
    "print(COLD.show_status())"
   ]
  },
  {
   "cell_type": "code",
   "execution_count": null,
   "id": "b9039d84",
   "metadata": {},
   "outputs": [],
   "source": []
  },
  {
   "cell_type": "code",
   "execution_count": 19,
   "id": "f235d396",
   "metadata": {},
   "outputs": [
    {
     "name": "stdout",
     "output_type": "stream",
     "text": [
      "Vikings have won the war of the century!\n"
     ]
    }
   ],
   "source": [
    "while True:\n",
    "    \n",
    "    if not COLD.viking_army:\n",
    "        print(COLD.show_status())\n",
    "        break\n",
    "    \n",
    "    COLD.viking_attack()\n",
    "    \n",
    "    if not COLD.saxon_army:\n",
    "        print(COLD.show_status())\n",
    "        break \n",
    "         "
   ]
  },
  {
   "cell_type": "code",
   "execution_count": null,
   "id": "e17ef977",
   "metadata": {},
   "outputs": [],
   "source": []
  }
 ],
 "metadata": {
  "kernelspec": {
   "display_name": "Python 3 (ipykernel)",
   "language": "python",
   "name": "python3"
  },
  "language_info": {
   "codemirror_mode": {
    "name": "ipython",
    "version": 3
   },
   "file_extension": ".py",
   "mimetype": "text/x-python",
   "name": "python",
   "nbconvert_exporter": "python",
   "pygments_lexer": "ipython3",
   "version": "3.9.12"
  }
 },
 "nbformat": 4,
 "nbformat_minor": 5
}
