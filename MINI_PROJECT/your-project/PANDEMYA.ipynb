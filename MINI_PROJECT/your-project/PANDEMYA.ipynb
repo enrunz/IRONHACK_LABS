{
 "cells": [
  {
   "cell_type": "markdown",
   "id": "aa023eec",
   "metadata": {},
   "source": [
    "# PANDEMYA"
   ]
  },
  {
   "cell_type": "markdown",
   "id": "22a87d58",
   "metadata": {},
   "source": [
    "As the ice in the poles melt, a new virus capable of infecting humans has emerged in Norway. This virus is more contagious and deadlier than Covid-19. Scientists are calling this the imminent start of a second pandemic. A group of people in Norway are resistant to the virus. A data scientist, Maik, realized this group shares one thing in common; they all have the same vaccine profile for Covid-19. This means the right combination of Covid-19 vaccines are preventing the new virus from infecting vaccinated humans. Unfortunately, Maik got infected and died before he could divulge the right combination of vaccines. However, he left a notebook with some information:\n",
    "\n",
    "1. It is a combination of 4 vaccines\n",
    "2. There's 7 possible vaccines \n",
    "3. The order matters.\n"
   ]
  },
  {
   "cell_type": "markdown",
   "id": "95c8689e",
   "metadata": {},
   "source": [
    "### Your MISSION, should you choose to accept it, is to find the right combination and save the world. \n",
    "\n"
   ]
  },
  {
   "cell_type": "markdown",
   "id": "bad1686c",
   "metadata": {},
   "source": [
    "Maik left something else! \n",
    "\n",
    "A black box that will take guesses for the right combination, and spit out whether the guess is right or wrong. \n",
    "If our guess is wrong it will give us some hints:\n",
    "\n",
    "Remember the order matters\n",
    "if the vaccine taken is correct and in the correct position, then a ‘Y’ will appear.\n",
    "If the vaccine is not in the right position but it is part of the combination, then a ‘O’ will appear.\n",
    "If the vaccine is not in the combination at all, then an ‘N’ will appear.\n",
    "\n",
    "### There’s a catch! \n",
    "\n",
    "The black box will only allow 4 guesses before it breaks. And it takes the information in CODE. \n",
    "\n",
    "DON’T WORRY! Maik left a table in his notebook and It’s simple to understand:\n"
   ]
  },
  {
   "cell_type": "code",
   "execution_count": 1,
   "id": "fec05293",
   "metadata": {},
   "outputs": [
    {
     "name": "stdout",
     "output_type": "stream",
     "text": [
      "          Brand  Code\n",
      "0       Moderna     1\n",
      "1        Pfizer     2\n",
      "2  Astra-Zeneca     3\n",
      "3       Sputnik     4\n",
      "4       Janssen     5\n",
      "5     CoronaVac     6\n",
      "6       Cansino     7\n"
     ]
    }
   ],
   "source": [
    "#RUN THIS CODE TO GET THE TABLE:\n",
    "import pandas as pd\n",
    "\n",
    "brand_dictionary=[['Moderna',1],['Pfizer',2],['Astra-Zeneca',3],['Sputnik',4],['Janssen',5],['CoronaVac',6],['Cansino',7]]\n",
    "cols=['Brand','Code']\n",
    "\n",
    "df=pd.DataFrame(brand_dictionary, columns=cols)\n",
    "print(df)"
   ]
  },
  {
   "cell_type": "markdown",
   "id": "c5560add",
   "metadata": {},
   "source": [
    "Finally, make sure you enter every vaccine code separated by a comma with no spaces. \n",
    "\n",
    "To start the box just run the code below. Good luck saving the world."
   ]
  },
  {
   "cell_type": "code",
   "execution_count": 3,
   "id": "b891ce96",
   "metadata": {},
   "outputs": [
    {
     "ename": "ModuleNotFoundError",
     "evalue": "No module named 'pandemya_class'",
     "output_type": "error",
     "traceback": [
      "\u001b[0;31m---------------------------------------------------------------------------\u001b[0m",
      "\u001b[0;31mModuleNotFoundError\u001b[0m                       Traceback (most recent call last)",
      "Input \u001b[0;32mIn [3]\u001b[0m, in \u001b[0;36m<cell line: 3>\u001b[0;34m()\u001b[0m\n\u001b[1;32m      1\u001b[0m \u001b[38;5;66;03m#RUN THIS CODE:\u001b[39;00m\n\u001b[0;32m----> 3\u001b[0m \u001b[38;5;28;01mfrom\u001b[39;00m \u001b[38;5;21;01mpandemya_class\u001b[39;00m \u001b[38;5;28;01mimport\u001b[39;00m \u001b[38;5;241m*\u001b[39m\n\u001b[1;32m      4\u001b[0m \u001b[38;5;28mround\u001b[39m\u001b[38;5;241m=\u001b[39mvcard()\n\u001b[1;32m      5\u001b[0m \u001b[38;5;28mround\u001b[39m\u001b[38;5;241m.\u001b[39mkeyList()\n",
      "\u001b[0;31mModuleNotFoundError\u001b[0m: No module named 'pandemya_class'"
     ]
    }
   ],
   "source": [
    "#RUN THIS CODE:\n",
    "\n",
    "from pandemya_class import *\n",
    "round=vcard()\n",
    "round.keyList()\n",
    "round.play()"
   ]
  },
  {
   "cell_type": "code",
   "execution_count": null,
   "id": "268be6b7",
   "metadata": {},
   "outputs": [],
   "source": []
  },
  {
   "cell_type": "code",
   "execution_count": null,
   "id": "4d83fdd9",
   "metadata": {},
   "outputs": [],
   "source": []
  }
 ],
 "metadata": {
  "kernelspec": {
   "display_name": "Python 3 (ipykernel)",
   "language": "python",
   "name": "python3"
  },
  "language_info": {
   "codemirror_mode": {
    "name": "ipython",
    "version": 3
   },
   "file_extension": ".py",
   "mimetype": "text/x-python",
   "name": "python",
   "nbconvert_exporter": "python",
   "pygments_lexer": "ipython3",
   "version": "3.9.12"
  }
 },
 "nbformat": 4,
 "nbformat_minor": 5
}
