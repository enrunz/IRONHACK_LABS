{
 "cells": [
  {
   "cell_type": "code",
   "execution_count": 18,
   "id": "c7c51990",
   "metadata": {},
   "outputs": [],
   "source": [
    "import random\n",
    "def keyList():\n",
    "    key=[]\n",
    "    brands=[1,2,3,4,5,6,7]\n",
    "    key=[random.choices(brands,k=4)]\n",
    "    return f'{key} this is the key'"
   ]
  },
  {
   "cell_type": "code",
   "execution_count": 19,
   "id": "fdf2aca3",
   "metadata": {},
   "outputs": [
    {
     "data": {
      "text/plain": [
       "'[[4, 6, 1, 5]] this is the key'"
      ]
     },
     "execution_count": 19,
     "metadata": {},
     "output_type": "execute_result"
    }
   ],
   "source": [
    "keyList()"
   ]
  },
  {
   "cell_type": "code",
   "execution_count": 20,
   "id": "b534a49f",
   "metadata": {},
   "outputs": [
    {
     "ename": "NameError",
     "evalue": "name 'key' is not defined",
     "output_type": "error",
     "traceback": [
      "\u001b[0;31m---------------------------------------------------------------------------\u001b[0m",
      "\u001b[0;31mNameError\u001b[0m                                 Traceback (most recent call last)",
      "Input \u001b[0;32mIn [20]\u001b[0m, in \u001b[0;36m<cell line: 1>\u001b[0;34m()\u001b[0m\n\u001b[0;32m----> 1\u001b[0m \u001b[38;5;28mtype\u001b[39m(\u001b[43mkey\u001b[49m)\n",
      "\u001b[0;31mNameError\u001b[0m: name 'key' is not defined"
     ]
    }
   ],
   "source": [
    "type(key)"
   ]
  },
  {
   "cell_type": "code",
   "execution_count": 21,
   "id": "8990fa17",
   "metadata": {},
   "outputs": [],
   "source": [
    "TEMPKEY=[6,4,2,4]\n"
   ]
  },
  {
   "cell_type": "code",
   "execution_count": 40,
   "id": "0d73db42",
   "metadata": {},
   "outputs": [
    {
     "name": "stdout",
     "output_type": "stream",
     "text": [
      "give me:1,2,3,4\n",
      "1,2,3,4\n"
     ]
    },
    {
     "data": {
      "text/plain": [
       "str"
      ]
     },
     "execution_count": 40,
     "metadata": {},
     "output_type": "execute_result"
    }
   ],
   "source": [
    "y=input('give me:')\n",
    "print(y)\n",
    "type(y)\n"
   ]
  },
  {
   "cell_type": "code",
   "execution_count": 44,
   "id": "a47dfcdc",
   "metadata": {},
   "outputs": [
    {
     "name": "stdout",
     "output_type": "stream",
     "text": [
      "['1', '2', '3', '4']\n"
     ]
    },
    {
     "data": {
      "text/plain": [
       "list"
      ]
     },
     "execution_count": 44,
     "metadata": {},
     "output_type": "execute_result"
    }
   ],
   "source": [
    "split_input=y.split(',')\n",
    "print(split_input)\n",
    "type(split_input)"
   ]
  },
  {
   "cell_type": "code",
   "execution_count": 50,
   "id": "7448d874",
   "metadata": {},
   "outputs": [
    {
     "name": "stdout",
     "output_type": "stream",
     "text": [
      "[1, 2, 3, 4]\n"
     ]
    }
   ],
   "source": [
    "transformed=[]\n",
    "for i in split_input:\n",
    "    transformed.append(int(i))\n",
    "print(transformed)"
   ]
  },
  {
   "cell_type": "code",
   "execution_count": 51,
   "id": "21fb8eb3",
   "metadata": {},
   "outputs": [
    {
     "data": {
      "text/plain": [
       "int"
      ]
     },
     "execution_count": 51,
     "metadata": {},
     "output_type": "execute_result"
    }
   ],
   "source": [
    "type(transformed[0])"
   ]
  },
  {
   "cell_type": "code",
   "execution_count": 54,
   "id": "7f1f92dc",
   "metadata": {},
   "outputs": [
    {
     "name": "stdout",
     "output_type": "stream",
     "text": [
      "Enter multiple values: 1,2,3,4\n",
      "[1, 2, 3, 4]\n"
     ]
    }
   ],
   "source": [
    "\n",
    "x = list(map(int, input(\"Enter multiple values: \").split(',')))\n",
    "print(x)"
   ]
  },
  {
   "cell_type": "code",
   "execution_count": 56,
   "id": "b7fc4fcd",
   "metadata": {},
   "outputs": [
    {
     "name": "stdout",
     "output_type": "stream",
     "text": [
      "3\n"
     ]
    }
   ],
   "source": [
    "a=x[2]\n",
    "\n",
    "print(a)"
   ]
  },
  {
   "cell_type": "code",
   "execution_count": null,
   "id": "7ea026be",
   "metadata": {},
   "outputs": [],
   "source": []
  }
 ],
 "metadata": {
  "kernelspec": {
   "display_name": "Python 3 (ipykernel)",
   "language": "python",
   "name": "python3"
  },
  "language_info": {
   "codemirror_mode": {
    "name": "ipython",
    "version": 3
   },
   "file_extension": ".py",
   "mimetype": "text/x-python",
   "name": "python",
   "nbconvert_exporter": "python",
   "pygments_lexer": "ipython3",
   "version": "3.9.12"
  }
 },
 "nbformat": 4,
 "nbformat_minor": 5
}
