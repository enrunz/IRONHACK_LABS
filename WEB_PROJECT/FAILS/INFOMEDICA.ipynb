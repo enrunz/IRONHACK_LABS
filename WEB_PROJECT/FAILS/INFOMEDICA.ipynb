{
 "cells": [
  {
   "cell_type": "code",
   "execution_count": 2,
   "id": "ec614455",
   "metadata": {},
   "outputs": [],
   "source": [
    "import requests \n",
    "import pandas as pd\n",
    "import json\n",
    "import matplotlib.pyplot as plt\n",
    "import itertools\n",
    "import collections \n",
    "import tweepy as tw\n",
    "import nltk\n",
    "from nltk.corpus import stopwords\n",
    "import re"
   ]
  },
  {
   "cell_type": "code",
   "execution_count": 3,
   "id": "aa2515aa",
   "metadata": {},
   "outputs": [
    {
     "data": {
      "text/plain": [
       "{'message': 'no mapping rule matched'}"
      ]
     },
     "execution_count": 3,
     "metadata": {},
     "output_type": "execute_result"
    }
   ],
   "source": [
    "api_endpoint='https://api.infermedica.com/v3'\n",
    "token='952638043478f2ca474786cb8d2af53f'\n",
    "headers={\"App-Id\":'dd726967',\"App-Key\":'952638043478f2ca474786cb8d2af53f'}\n",
    "respuesta=requests.get(api_endpoint, headers=headers)\n",
    "x=respuesta.json()\n",
    "x"
   ]
  },
  {
   "cell_type": "code",
   "execution_count": 6,
   "id": "e556c239",
   "metadata": {},
   "outputs": [
    {
     "name": "stdout",
     "output_type": "stream",
     "text": [
      "Collecting infermedica-api\n",
      "  Downloading infermedica_api-1.0.0-py2.py3-none-any.whl (39 kB)\n",
      "Requirement already satisfied: requests>=2.4.2 in /Users/derinkivaner/opt/anaconda3/lib/python3.9/site-packages (from infermedica-api) (2.27.1)\n",
      "Requirement already satisfied: charset-normalizer~=2.0.0 in /Users/derinkivaner/opt/anaconda3/lib/python3.9/site-packages (from requests>=2.4.2->infermedica-api) (2.0.4)\n",
      "Requirement already satisfied: idna<4,>=2.5 in /Users/derinkivaner/opt/anaconda3/lib/python3.9/site-packages (from requests>=2.4.2->infermedica-api) (3.3)\n",
      "Requirement already satisfied: urllib3<1.27,>=1.21.1 in /Users/derinkivaner/opt/anaconda3/lib/python3.9/site-packages (from requests>=2.4.2->infermedica-api) (1.26.9)\n",
      "Requirement already satisfied: certifi>=2017.4.17 in /Users/derinkivaner/opt/anaconda3/lib/python3.9/site-packages (from requests>=2.4.2->infermedica-api) (2021.10.8)\n",
      "Installing collected packages: infermedica-api\n",
      "Successfully installed infermedica-api-1.0.0\n"
     ]
    }
   ],
   "source": [
    "!pip install infermedica-api"
   ]
  },
  {
   "cell_type": "code",
   "execution_count": 7,
   "id": "d3d699c5",
   "metadata": {},
   "outputs": [
    {
     "name": "stdout",
     "output_type": "stream",
     "text": [
      "{'api_version': '3.9.2', 'updated_at': '2022-07-21T15:24:40Z', 'conditions_count': 818, 'symptoms_count': 1500, 'risk_factors_count': 229, 'lab_tests_count': 496}\n"
     ]
    }
   ],
   "source": [
    "import infermedica_api\n",
    "\n",
    "api = infermedica_api.APIv3Connector(app_id=\"dd726967\", app_key=\"952638043478f2ca474786cb8d2af53f\")\n",
    "print(api.info())"
   ]
  },
  {
   "cell_type": "code",
   "execution_count": null,
   "id": "11850017",
   "metadata": {},
   "outputs": [],
   "source": []
  },
  {
   "cell_type": "code",
   "execution_count": null,
   "id": "15312ddd",
   "metadata": {},
   "outputs": [],
   "source": []
  },
  {
   "cell_type": "code",
   "execution_count": null,
   "id": "d3ac6177",
   "metadata": {},
   "outputs": [],
   "source": []
  },
  {
   "cell_type": "code",
   "execution_count": null,
   "id": "e7cba6ee",
   "metadata": {},
   "outputs": [],
   "source": []
  },
  {
   "cell_type": "code",
   "execution_count": null,
   "id": "2f38f9b9",
   "metadata": {},
   "outputs": [],
   "source": []
  },
  {
   "cell_type": "code",
   "execution_count": null,
   "id": "c7aea9b2",
   "metadata": {},
   "outputs": [],
   "source": []
  },
  {
   "cell_type": "code",
   "execution_count": null,
   "id": "eb3918ec",
   "metadata": {},
   "outputs": [],
   "source": []
  },
  {
   "cell_type": "code",
   "execution_count": null,
   "id": "d9ef9411",
   "metadata": {},
   "outputs": [],
   "source": []
  },
  {
   "cell_type": "code",
   "execution_count": null,
   "id": "6509638c",
   "metadata": {},
   "outputs": [],
   "source": []
  },
  {
   "cell_type": "code",
   "execution_count": null,
   "id": "0fb09dcb",
   "metadata": {},
   "outputs": [],
   "source": []
  },
  {
   "cell_type": "code",
   "execution_count": null,
   "id": "83e3c383",
   "metadata": {},
   "outputs": [],
   "source": []
  },
  {
   "cell_type": "code",
   "execution_count": null,
   "id": "62d3dbe8",
   "metadata": {},
   "outputs": [],
   "source": []
  },
  {
   "cell_type": "code",
   "execution_count": null,
   "id": "b68ed6ff",
   "metadata": {},
   "outputs": [],
   "source": []
  },
  {
   "cell_type": "markdown",
   "id": "90733b64",
   "metadata": {},
   "source": [
    "\n",
    "ACCESS_TOKEN='168255741-jCr4LktZHhBS1V7xd8jiJCEOxDtu0Cs8oSE4QLT0'\n",
    "ACCESS_TOKEN_SECRET='6l2E0PJSJfr2uRXR5vObmskkOK7id0AYaRxvgqUzRTWuP'\n",
    "\n",
    "API_KEY = 'iLo3Nspu5Yd7CKmb4MncOpQX3'\n",
    "%store API_KEY\n",
    "API_SECRET = 'kUIh5wVeSmwz9TedjBltCP2xNfwJVUmeeI1zqt49Xr1J0vzqGx'\n",
    "%store API_SECRET\n",
    "\n",
    "\n",
    "auth=tw.OAuthHandler(API_KEY,API_SECRET)\n",
    "auth.set_access_token(ACCESS_TOKEN,ACCESS_TOKEN_SECRET)\n",
    "api=tw.API(auth)\n",
    "public_tweets=api.home_timeline()\n",
    "lista=[]\n",
    "for i in public_tweets:\n",
    "    print(i._json)\n",
    "    lista.append(i._json)"
   ]
  }
 ],
 "metadata": {
  "kernelspec": {
   "display_name": "Python 3 (ipykernel)",
   "language": "python",
   "name": "python3"
  },
  "language_info": {
   "codemirror_mode": {
    "name": "ipython",
    "version": 3
   },
   "file_extension": ".py",
   "mimetype": "text/x-python",
   "name": "python",
   "nbconvert_exporter": "python",
   "pygments_lexer": "ipython3",
   "version": "3.9.12"
  }
 },
 "nbformat": 4,
 "nbformat_minor": 5
}
