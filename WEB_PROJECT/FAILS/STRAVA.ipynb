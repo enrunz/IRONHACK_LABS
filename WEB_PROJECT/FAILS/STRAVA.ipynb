{
 "cells": [
  {
   "cell_type": "code",
   "execution_count": 5,
   "id": "08236d9b",
   "metadata": {},
   "outputs": [],
   "source": [
    "import pandas as pd\n",
    "import matplotlib.pyplot as plt\n",
    "import itertools\n",
    "import collections \n",
    "import tweepy as tw\n",
    "import nltk\n",
    "from nltk.corpus import stopwords\n",
    "import re\n",
    "import requests "
   ]
  },
  {
   "cell_type": "code",
   "execution_count": 7,
   "id": "94985889",
   "metadata": {},
   "outputs": [],
   "source": [
    "#FROM API\n",
    "\n",
    "http GET \"https://www.strava.com/api/v3/activities/{id}?include_all_efforts=\" \"Authorization: Bearer [[token]]\"\n"
   ]
  },
  {
   "cell_type": "markdown",
   "id": "eadbe9f8",
   "metadata": {},
   "source": [
    "# TRY WITH OAuth"
   ]
  },
  {
   "cell_type": "code",
   "execution_count": 2,
   "id": "0ddc0e20",
   "metadata": {},
   "outputs": [],
   "source": [
    "ACCESS_TOKEN='7c1f08deaa4549f09bd4633db2d531d4476f6943 '\n",
    "client_id = '92691'\n",
    "client_secret = '0648b3fc7cd8421c2b427a5402a412776e2e2b2d'"
   ]
  },
  {
   "cell_type": "code",
   "execution_count": 6,
   "id": "e54464d8",
   "metadata": {},
   "outputs": [
    {
     "ename": "TypeError",
     "evalue": "set_access_token() missing 1 required positional argument: 'secret'",
     "output_type": "error",
     "traceback": [
      "\u001b[0;31m---------------------------------------------------------------------------\u001b[0m",
      "\u001b[0;31mTypeError\u001b[0m                                 Traceback (most recent call last)",
      "Input \u001b[0;32mIn [6]\u001b[0m, in \u001b[0;36m<cell line: 3>\u001b[0;34m()\u001b[0m\n\u001b[1;32m      1\u001b[0m endpoint\u001b[38;5;241m=\u001b[39m\u001b[38;5;124m'\u001b[39m\u001b[38;5;124mhttps://www.strava.com/api/v3/activities/\u001b[39m\u001b[38;5;132;01m{id}\u001b[39;00m\u001b[38;5;124m?include_all_efforts=\u001b[39m\u001b[38;5;124m'\u001b[39m\n\u001b[1;32m      2\u001b[0m auth\u001b[38;5;241m=\u001b[39mtw\u001b[38;5;241m.\u001b[39mOAuthHandler(client_id,client_secret)\n\u001b[0;32m----> 3\u001b[0m \u001b[43mauth\u001b[49m\u001b[38;5;241;43m.\u001b[39;49m\u001b[43mset_access_token\u001b[49m\u001b[43m(\u001b[49m\u001b[43mACCESS_TOKEN\u001b[49m\u001b[43m)\u001b[49m\n\u001b[1;32m      4\u001b[0m api\u001b[38;5;241m=\u001b[39mtw\u001b[38;5;241m.\u001b[39mAPI(auth)\n\u001b[1;32m      5\u001b[0m response\u001b[38;5;241m=\u001b[39mrequests\u001b[38;5;241m.\u001b[39mget(endpoint)\n",
      "\u001b[0;31mTypeError\u001b[0m: set_access_token() missing 1 required positional argument: 'secret'"
     ]
    }
   ],
   "source": [
    "endpoint='https://www.strava.com/api/v3/activities/{id}?include_all_efforts='\n",
    "auth=tw.OAuthHandler(client_id,client_secret)\n",
    "auth.set_access_token(ACCESS_TOKEN)\n",
    "api=tw.API(auth)\n",
    "response=requests.get(endpoint)\n",
    "response"
   ]
  },
  {
   "cell_type": "markdown",
   "id": "b3b7d4a8",
   "metadata": {},
   "source": [
    "# TRY WITH TOKEN ONLY "
   ]
  },
  {
   "cell_type": "code",
   "execution_count": 9,
   "id": "2cc66ce0",
   "metadata": {},
   "outputs": [],
   "source": [
    "\n",
    "api_url=\"https://www.strava.com/api/v3/activities/{id}?include_all_efforts=\"\n",
    "token='7c1f08deaa4549f09bd4633db2d531d4476f6943'\n",
    "headers={\"Authorization\": \"Bearer {}\".format(token)}\n",
    "respuesta=requests.get(api_url, headers=headers)"
   ]
  },
  {
   "cell_type": "code",
   "execution_count": 10,
   "id": "5cbddbf6",
   "metadata": {},
   "outputs": [
    {
     "data": {
      "text/plain": [
       "{'message': 'Record Not Found',\n",
       " 'errors': [{'resource': 'Activity', 'field': 'id', 'code': 'invalid'}]}"
      ]
     },
     "execution_count": 10,
     "metadata": {},
     "output_type": "execute_result"
    }
   ],
   "source": [
    "respuesta.json()"
   ]
  },
  {
   "cell_type": "markdown",
   "id": "4c9ed465",
   "metadata": {},
   "source": [
    "# TRY THEIR OYTHON VERSION\n"
   ]
  },
  {
   "cell_type": "code",
   "execution_count": 17,
   "id": "c991218d",
   "metadata": {},
   "outputs": [
    {
     "name": "stdout",
     "output_type": "stream",
     "text": [
      "\u001b[31mERROR: Could not find a version that satisfies the requirement swagger_client (from versions: none)\u001b[0m\r\n",
      "\u001b[31mERROR: No matching distribution found for swagger_client\u001b[0m\r\n"
     ]
    }
   ],
   "source": [
    "!pip install swagger_client\n"
   ]
  },
  {
   "cell_type": "code",
   "execution_count": 16,
   "id": "53543d31",
   "metadata": {},
   "outputs": [
    {
     "ename": "ModuleNotFoundError",
     "evalue": "No module named 'swagger_client'",
     "output_type": "error",
     "traceback": [
      "\u001b[0;31m---------------------------------------------------------------------------\u001b[0m",
      "\u001b[0;31mModuleNotFoundError\u001b[0m                       Traceback (most recent call last)",
      "Input \u001b[0;32mIn [16]\u001b[0m, in \u001b[0;36m<cell line: 3>\u001b[0;34m()\u001b[0m\n\u001b[1;32m      1\u001b[0m \u001b[38;5;28;01mfrom\u001b[39;00m \u001b[38;5;21;01m__future__\u001b[39;00m \u001b[38;5;28;01mimport\u001b[39;00m print_function\n\u001b[1;32m      2\u001b[0m \u001b[38;5;28;01mimport\u001b[39;00m \u001b[38;5;21;01mtime\u001b[39;00m\n\u001b[0;32m----> 3\u001b[0m \u001b[38;5;28;01mimport\u001b[39;00m \u001b[38;5;21;01mswagger_client\u001b[39;00m\n\u001b[1;32m      4\u001b[0m \u001b[38;5;28;01mfrom\u001b[39;00m \u001b[38;5;21;01mswagger_client\u001b[39;00m\u001b[38;5;21;01m.\u001b[39;00m\u001b[38;5;21;01mrest\u001b[39;00m \u001b[38;5;28;01mimport\u001b[39;00m ApiException\n\u001b[1;32m      5\u001b[0m \u001b[38;5;28;01mfrom\u001b[39;00m \u001b[38;5;21;01mpprint\u001b[39;00m \u001b[38;5;28;01mimport\u001b[39;00m pprint\n",
      "\u001b[0;31mModuleNotFoundError\u001b[0m: No module named 'swagger_client'"
     ]
    }
   ],
   "source": [
    "from __future__ import print_function\n",
    "import time\n",
    "import swagger_client\n",
    "from swagger_client.rest import ApiException\n",
    "from pprint import pprint"
   ]
  },
  {
   "cell_type": "markdown",
   "id": "026a5c0e",
   "metadata": {},
   "source": [
    "# TRY MAIK WAY\n"
   ]
  },
  {
   "cell_type": "code",
   "execution_count": 68,
   "id": "1e9bce37",
   "metadata": {},
   "outputs": [
    {
     "data": {
      "text/plain": [
       "[{'resource_state': 2,\n",
       "  'firstname': 'Alexis',\n",
       "  'lastname': 'T.',\n",
       "  'membership': 'member',\n",
       "  'admin': False,\n",
       "  'owner': False},\n",
       " {'resource_state': 2,\n",
       "  'firstname': 'barbey',\n",
       "  'lastname': 'M.',\n",
       "  'membership': 'member',\n",
       "  'admin': False,\n",
       "  'owner': False},\n",
       " {'resource_state': 2,\n",
       "  'firstname': 'Benoit',\n",
       "  'lastname': 'D.',\n",
       "  'membership': 'member',\n",
       "  'admin': True,\n",
       "  'owner': True},\n",
       " {'resource_state': 2,\n",
       "  'firstname': 'Cédric',\n",
       "  'lastname': 'P.',\n",
       "  'membership': 'member',\n",
       "  'admin': False,\n",
       "  'owner': False},\n",
       " {'resource_state': 2,\n",
       "  'firstname': 'Christel',\n",
       "  'lastname': 'D.',\n",
       "  'membership': 'member',\n",
       "  'admin': False,\n",
       "  'owner': False},\n",
       " {'resource_state': 2,\n",
       "  'firstname': 'Clément',\n",
       "  'lastname': 'P.',\n",
       "  'membership': 'member',\n",
       "  'admin': False,\n",
       "  'owner': False},\n",
       " {'resource_state': 2,\n",
       "  'firstname': 'Daniel',\n",
       "  'lastname': 'R.',\n",
       "  'membership': 'member',\n",
       "  'admin': False,\n",
       "  'owner': False},\n",
       " {'resource_state': 2,\n",
       "  'firstname': 'david',\n",
       "  'lastname': 'P.',\n",
       "  'membership': 'member',\n",
       "  'admin': False,\n",
       "  'owner': False},\n",
       " {'resource_state': 2,\n",
       "  'firstname': 'Fred',\n",
       "  'lastname': 'F.',\n",
       "  'membership': 'member',\n",
       "  'admin': False,\n",
       "  'owner': False},\n",
       " {'resource_state': 2,\n",
       "  'firstname': 'Hugo',\n",
       "  'lastname': 'P.',\n",
       "  'membership': 'member',\n",
       "  'admin': False,\n",
       "  'owner': False},\n",
       " {'resource_state': 2,\n",
       "  'firstname': 'Ivan',\n",
       "  'lastname': 'C.',\n",
       "  'membership': 'member',\n",
       "  'admin': False,\n",
       "  'owner': False},\n",
       " {'resource_state': 2,\n",
       "  'firstname': 'Julien',\n",
       "  'lastname': 'C.',\n",
       "  'membership': 'member',\n",
       "  'admin': False,\n",
       "  'owner': False},\n",
       " {'resource_state': 2,\n",
       "  'firstname': 'Julien',\n",
       "  'lastname': 'O.',\n",
       "  'membership': 'member',\n",
       "  'admin': False,\n",
       "  'owner': False},\n",
       " {'resource_state': 2,\n",
       "  'firstname': 'Les foulées de la vallée noire',\n",
       "  'lastname': ' .',\n",
       "  'membership': 'member',\n",
       "  'admin': False,\n",
       "  'owner': False},\n",
       " {'resource_state': 2,\n",
       "  'firstname': 'manue',\n",
       "  'lastname': 'F.',\n",
       "  'membership': 'member',\n",
       "  'admin': False,\n",
       "  'owner': False},\n",
       " {'resource_state': 2,\n",
       "  'firstname': 'Matthieu',\n",
       "  'lastname': 'L.',\n",
       "  'membership': 'member',\n",
       "  'admin': False,\n",
       "  'owner': False},\n",
       " {'resource_state': 2,\n",
       "  'firstname': 'Maxime',\n",
       "  'lastname': 'L.',\n",
       "  'membership': 'member',\n",
       "  'admin': False,\n",
       "  'owner': False},\n",
       " {'resource_state': 2,\n",
       "  'firstname': 'Michel',\n",
       "  'lastname': 'T.',\n",
       "  'membership': 'member',\n",
       "  'admin': False,\n",
       "  'owner': False},\n",
       " {'resource_state': 2,\n",
       "  'firstname': 'Niamor',\n",
       "  'lastname': 'N.',\n",
       "  'membership': 'member',\n",
       "  'admin': False,\n",
       "  'owner': False},\n",
       " {'resource_state': 2,\n",
       "  'firstname': 'Nicolas',\n",
       "  'lastname': 'M.',\n",
       "  'membership': 'member',\n",
       "  'admin': False,\n",
       "  'owner': False},\n",
       " {'resource_state': 2,\n",
       "  'firstname': 'philippe',\n",
       "  'lastname': 'L.',\n",
       "  'membership': 'member',\n",
       "  'admin': True,\n",
       "  'owner': False},\n",
       " {'resource_state': 2,\n",
       "  'firstname': 'Romain',\n",
       "  'lastname': 'V.',\n",
       "  'membership': 'member',\n",
       "  'admin': False,\n",
       "  'owner': False}]"
      ]
     },
     "execution_count": 68,
     "metadata": {},
     "output_type": "execute_result"
    }
   ],
   "source": [
    "url=\"https://www.strava.com/api/v3/clubs/902691/members\" \n",
    "#\"Authorization: Bearer [7c1f08deaa4549f09bd4633db2d531d4476f6943 ]\"\n",
    "token='7c1f08deaa4549f09bd4633db2d531d4476f6943'\n",
    "headers = {\"Authorization\": \"Bearer {}\".format(token)}\n",
    "response = requests.get(url,headers=headers)\n",
    "resultados=response.json()\n",
    "resultados\n",
    "\n"
   ]
  },
  {
   "cell_type": "code",
   "execution_count": 84,
   "id": "9c907b7c",
   "metadata": {},
   "outputs": [
    {
     "data": {
      "text/plain": [
       "{'id': 107440199,\n",
       " 'username': 'enrique_unzueta',\n",
       " 'resource_state': 2,\n",
       " 'firstname': 'Enrique',\n",
       " 'lastname': 'Unzueta',\n",
       " 'bio': None,\n",
       " 'city': None,\n",
       " 'state': None,\n",
       " 'country': None,\n",
       " 'sex': 'M',\n",
       " 'premium': False,\n",
       " 'summit': False,\n",
       " 'created_at': '2022-08-26T15:15:38Z',\n",
       " 'updated_at': '2022-08-26T17:13:20Z',\n",
       " 'badge_type_id': 0,\n",
       " 'weight': None,\n",
       " 'profile_medium': 'https://lh3.googleusercontent.com/a-/AFdZucpqBcRkUj2WaZod8GPnTpDd7leRVBG8yDUUiqmeBg=s96-c',\n",
       " 'profile': 'https://lh3.googleusercontent.com/a-/AFdZucpqBcRkUj2WaZod8GPnTpDd7leRVBG8yDUUiqmeBg=s96-c',\n",
       " 'friend': None,\n",
       " 'follower': None}"
      ]
     },
     "execution_count": 84,
     "metadata": {},
     "output_type": "execute_result"
    }
   ],
   "source": [
    "url3=\"https://www.strava.com/api/v3/athlete\" \n",
    "#\"Authorization: Bearer [7c1f08deaa4549f09bd4633db2d531d4476f6943 ]\"\n",
    "token='7c1f08deaa4549f09bd4633db2d531d4476f6943'\n",
    "headers = {\"Authorization\": \"Bearer {}\".format(token)}\n",
    "response3 = requests.get(url3,headers=headers)\n",
    "resultados3=response3.json()\n",
    "resultados3"
   ]
  },
  {
   "cell_type": "code",
   "execution_count": 86,
   "id": "4663ebed",
   "metadata": {},
   "outputs": [
    {
     "data": {
      "text/plain": [
       "{'message': 'Record Not Found',\n",
       " 'errors': [{'resource': 'resource', 'field': 'path', 'code': 'invalid'}]}"
      ]
     },
     "execution_count": 86,
     "metadata": {},
     "output_type": "execute_result"
    }
   ],
   "source": [
    "url2=\"https://www.strava.com/api/v3/athlete/26409146/activities\" \n",
    "#\"Authorization: Bearer [7c1f08deaa4549f09bd4633db2d531d4476f6943 ]\"\n",
    "token='7c1f08deaa4549f09bd4633db2d531d4476f6943'\n",
    "headers = {\"Authorization\": \"Bearer {}\".format(token)}\n",
    "response2 = requests.get(url2,headers=headers)\n",
    "resultados2=response2.json()\n",
    "resultados2"
   ]
  },
  {
   "cell_type": "code",
   "execution_count": null,
   "id": "7927dfde",
   "metadata": {},
   "outputs": [],
   "source": [
    "\n",
    "\n",
    "# Configure OAuth2 access token for authorization: strava_oauth\n",
    "swagger_client.configuration.access_token = 'YOUR_ACCESS_TOKEN'\n",
    "\n",
    "# create an instance of the API class\n",
    "api_instance = swagger_client.ActivitiesApi()\n",
    "name = name_example # String | The name of the activity.\n",
    "sportType = sportType_example # String | Sport type of activity. For example - Run, MountainBikeRide, Ride, etc.\n",
    "startDateLocal = 2013-10-20T19:20:30+01:00 # Date | ISO 8601 formatted date time.\n",
    "elapsedTime = 56 # Integer | In seconds.\n",
    "type = type_example # String | Type of activity. For example - Run, Ride etc. (optional)\n",
    "description = description_example # String | Description of the activity. (optional)\n",
    "distance = 3.4 # Float | In meters. (optional)\n",
    "trainer = 56 # Integer | Set to 1 to mark as a trainer activity. (optional)\n",
    "commute = 56 # Integer | Set to 1 to mark as commute. (optional)\n",
    "\n",
    "try: \n",
    "    # Create an Activity\n",
    "    api_response = api_instance.createActivity(name, sportType, startDateLocal, elapsedTime, type=type, description=description, distance=distance, trainer=trainer, commute=commute)\n",
    "    pprint(api_response)\n",
    "except ApiException as e:\n",
    "    print(\"Exception when calling ActivitiesApi->createActivity: %s\\n\" % e)\n"
   ]
  },
  {
   "cell_type": "code",
   "execution_count": null,
   "id": "378198a2",
   "metadata": {},
   "outputs": [],
   "source": []
  },
  {
   "cell_type": "code",
   "execution_count": null,
   "id": "c2424994",
   "metadata": {},
   "outputs": [],
   "source": []
  },
  {
   "cell_type": "code",
   "execution_count": 3,
   "id": "543d1dcb",
   "metadata": {},
   "outputs": [],
   "source": [
    "#BIN\n",
    "\n",
    "#ACCESS_TOKEN_SECRET='6l2E0PJSJfr2uRXR5vObmskkOK7id0AYaRxvgqUzRTWuP'\n",
    "\n",
    "# public_tweets=api.home_timeline()\n",
    "# lista=[]\n",
    "# for i in public_tweets:\n",
    "#     print(i._json)\n",
    "#     lista.append(i._json)\n"
   ]
  },
  {
   "cell_type": "code",
   "execution_count": null,
   "id": "ec89eb38",
   "metadata": {},
   "outputs": [],
   "source": [
    "curl -X POST https://www.strava.com/api/v3/oauth/token \\\n",
    "  -d client_id=ReplaceWithClientID \\\n",
    "  -d client_secret=ReplaceWithClientSecret \\\n",
    "  -d code=ReplaceWithCode \\\n",
    "  -d grant_type=authorization_code"
   ]
  }
 ],
 "metadata": {
  "kernelspec": {
   "display_name": "Python 3 (ipykernel)",
   "language": "python",
   "name": "python3"
  },
  "language_info": {
   "codemirror_mode": {
    "name": "ipython",
    "version": 3
   },
   "file_extension": ".py",
   "mimetype": "text/x-python",
   "name": "python",
   "nbconvert_exporter": "python",
   "pygments_lexer": "ipython3",
   "version": "3.9.12"
  }
 },
 "nbformat": 4,
 "nbformat_minor": 5
}
