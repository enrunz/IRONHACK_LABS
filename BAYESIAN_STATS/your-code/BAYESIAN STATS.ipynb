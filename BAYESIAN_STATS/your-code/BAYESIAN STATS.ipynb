{
 "cells": [
  {
   "cell_type": "markdown",
   "metadata": {},
   "source": [
    "# Intro to Bayesian Statistics Lab\n",
    "\n",
    "Complete the following set of exercises to solidify your knowledge of Bayesian statistics and Bayesian data analysis."
   ]
  },
  {
   "cell_type": "code",
   "execution_count": 5,
   "metadata": {},
   "outputs": [],
   "source": [
    "import pandas as pd\n",
    "import numpy as np\n",
    "import scipy as sp\n",
    "import matplotlib.pyplot as plt\n",
    "import seaborn as sns\n",
    "sns.set_theme(context = \"notebook\", style = \"darkgrid\")"
   ]
  },
  {
   "cell_type": "markdown",
   "metadata": {},
   "source": [
    "## 1. Cookie Problem\n",
    "\n",
    "Suppose we have two bowls of cookies. Bowl 1 contains 30 vanilla cookies and 10 chocolate cookies. Bowl 2 contains 20 of each. You randomly pick one cookie out of one of the bowls, and it is vanilla. Use Bayes Theorem to calculate the probability that the vanilla cookie you picked came from Bowl 1?"
   ]
  },
  {
   "cell_type": "code",
   "execution_count": 6,
   "metadata": {},
   "outputs": [],
   "source": [
    "#p(BI|Vanilla)\n",
    "\n",
    "p_vanilla_I=.75 # chance of containing black balls\n",
    "p_vanilla_II = 0.5\n",
    "\n",
    "dist_I = sp.stats.binom(1, p_vanilla_I) ## take out 3 balls from a distribution with previous probability\n",
    "dist_II = sp.stats.binom(1, p_vanilla_II)\n",
    "\n"
   ]
  },
  {
   "cell_type": "code",
   "execution_count": 9,
   "metadata": {},
   "outputs": [
    {
     "data": {
      "text/plain": [
       "0.75"
      ]
     },
     "execution_count": 9,
     "metadata": {},
     "output_type": "execute_result"
    }
   ],
   "source": [
    "dist_I.pmf(1)"
   ]
  },
  {
   "cell_type": "code",
   "execution_count": 10,
   "metadata": {},
   "outputs": [
    {
     "data": {
      "text/plain": [
       "0.5"
      ]
     },
     "execution_count": 10,
     "metadata": {},
     "output_type": "execute_result"
    }
   ],
   "source": [
    "dist_II.pmf(1)"
   ]
  },
  {
   "cell_type": "code",
   "execution_count": 15,
   "metadata": {},
   "outputs": [
    {
     "name": "stdout",
     "output_type": "stream",
     "text": [
      "0.6\n"
     ]
    }
   ],
   "source": [
    "#P(A|B) = P((B|A)*P(A)) / P(B)\n",
    "#A=el bowl 1\n",
    "#B=vanilla\n",
    "#p de que es vanilla si viene de bowl 1 = .75\n",
    "#p de que es vanilla sin importar de dodne viene=  .5*.75+.5*.5= .625\n",
    "#p de bowl 1 es .5\n",
    "\n",
    "p_A=.5\n",
    "p_B=.5*dist_I.pmf(1)+.5*dist_II.pmf(1)\n",
    "p_BA=.75\n",
    "P_AB= p_BA*p_A/p_B\n",
    "print(P_AB)\n",
    "\n"
   ]
  },
  {
   "cell_type": "markdown",
   "metadata": {},
   "source": [
    "What is the probability that it came from Bowl 2?"
   ]
  },
  {
   "cell_type": "code",
   "execution_count": 16,
   "metadata": {},
   "outputs": [
    {
     "name": "stdout",
     "output_type": "stream",
     "text": [
      "0.4\n"
     ]
    }
   ],
   "source": [
    "p_A=.5\n",
    "p_B=.5*dist_I.pmf(1)+.5*dist_II.pmf(1)\n",
    "p_BA=.5\n",
    "P_AB= p_BA*p_A/p_B\n",
    "print(P_AB)"
   ]
  },
  {
   "cell_type": "markdown",
   "metadata": {},
   "source": [
    "What if the cookie you had picked was chocolate? What are the probabilities that the chocolate cookie came from Bowl 1 and Bowl 2 respectively?"
   ]
  },
  {
   "cell_type": "code",
   "execution_count": 18,
   "metadata": {},
   "outputs": [],
   "source": [
    "p_ch_I=.25 # chance of containing black balls\n",
    "p_ch_II = 0.5\n",
    "\n",
    "dist_I = sp.stats.binom(1, p_ch_I) ## take out 3 balls from a distribution with previous probability\n",
    "dist_II = sp.stats.binom(1, p_ch_II)"
   ]
  },
  {
   "cell_type": "code",
   "execution_count": 19,
   "metadata": {},
   "outputs": [
    {
     "name": "stdout",
     "output_type": "stream",
     "text": [
      "0.3333333333333333\n"
     ]
    }
   ],
   "source": [
    "p_A=.5\n",
    "p_B=.5*dist_I.pmf(1)+.5*dist_II.pmf(1)\n",
    "p_BA=.25\n",
    "P_AB= p_BA*p_A/p_B\n",
    "print(P_AB)"
   ]
  },
  {
   "cell_type": "markdown",
   "metadata": {},
   "source": [
    "## 2. Candy Problem\n",
    "\n",
    "Suppose you have two bags of candies:\n",
    "\n",
    "- In Bag 1, the mix of colors is:\n",
    "    - Brown - 30%\n",
    "    - Yellow - 20%\n",
    "    - Red - 20%\n",
    "    - Green - 10%\n",
    "    - Orange - 10%\n",
    "    - Tan - 10%\n",
    "    \n",
    "- In Bag 2, the mix of colors is:\n",
    "    - Blue - 24%\n",
    "    - Green - 20%\n",
    "    - Orange - 16%\n",
    "    - Yellow - 14%\n",
    "    - Red - 13%\n",
    "    - Brown - 13%\n",
    "    \n",
    "Not knowing which bag is which, you randomly draw one candy from each bag. One is yellow and one is green. What is the probability that the yellow one came from the Bag 1?\n",
    "\n",
    "*Hint: For the likelihoods, you will need to multiply the probabilities of drawing yellow from one bag and green from the other bag and vice versa.*"
   ]
  },
  {
   "cell_type": "code",
   "execution_count": 116,
   "metadata": {},
   "outputs": [],
   "source": [
    "def bayes_rule(priors, likelihoods):\n",
    "    marg = sum(np.multiply(priors, likelihoods))\n",
    "    post = np.divide(np.multiply(priors, likelihoods), marg)\n",
    "    return post"
   ]
  },
  {
   "cell_type": "code",
   "execution_count": 117,
   "metadata": {},
   "outputs": [],
   "source": [
    "priors=[1/2,1/2]\n",
    "likelihoods=[.2*.2,.14*.1]"
   ]
  },
  {
   "cell_type": "code",
   "execution_count": 126,
   "metadata": {},
   "outputs": [
    {
     "data": {
      "text/plain": [
       "0.7407407407407408"
      ]
     },
     "execution_count": 126,
     "metadata": {},
     "output_type": "execute_result"
    }
   ],
   "source": [
    "bayes_rule(priors, likelihoods)[0]"
   ]
  },
  {
   "cell_type": "markdown",
   "metadata": {},
   "source": [
    "P(AB=candy bag1|one yellow one green)\n",
    "P(A=candy came from bag 1 regardless of color)\n",
    "P(B=here you make sure it's from one bag and the other)\n",
    "P(BA= one yellow one green| candu bag1)"
   ]
  },
  {
   "cell_type": "code",
   "execution_count": 133,
   "metadata": {},
   "outputs": [],
   "source": [
    "p_A=.5\n",
    "p_B=(.5*(.2*.2))+(.5*(.14*.10))\n",
    "p_BA=.2*.2"
   ]
  },
  {
   "cell_type": "code",
   "execution_count": 134,
   "metadata": {},
   "outputs": [
    {
     "data": {
      "text/plain": [
       "0.7407407407407408"
      ]
     },
     "execution_count": 134,
     "metadata": {},
     "output_type": "execute_result"
    }
   ],
   "source": [
    "p_AB=(p_A*p_BA)/p_B\n",
    "p_AB"
   ]
  },
  {
   "cell_type": "markdown",
   "metadata": {},
   "source": [
    "### ASK ABOUT THE OPTION BELOW:"
   ]
  },
  {
   "cell_type": "code",
   "execution_count": 127,
   "metadata": {},
   "outputs": [
    {
     "data": {
      "text/plain": [
       "array([0.39215686, 0.19607843, 0.1372549 , 0.2745098 ])"
      ]
     },
     "execution_count": 127,
     "metadata": {},
     "output_type": "execute_result"
    }
   ],
   "source": [
    "priors2=[1/4,1/4,1/4,1/4]\n",
    "likelihoods2=[.2*.2,.2*.1,.14*.1,.14*.2]\n",
    "bayes_rule(priors2, likelihoods2)"
   ]
  },
  {
   "cell_type": "code",
   "execution_count": 124,
   "metadata": {},
   "outputs": [
    {
     "data": {
      "text/plain": [
       "array([0.74074074, 0.25925926])"
      ]
     },
     "execution_count": 124,
     "metadata": {},
     "output_type": "execute_result"
    }
   ],
   "source": [
    "priors3=[1/4,1/4]\n",
    "likelihoods3=[.2*.2,.14*.1]\n",
    "bayes_rule(priors3, likelihoods3)\n"
   ]
  },
  {
   "cell_type": "code",
   "execution_count": 129,
   "metadata": {},
   "outputs": [
    {
     "data": {
      "text/plain": [
       "array([0.58823529, 0.41176471])"
      ]
     },
     "execution_count": 129,
     "metadata": {},
     "output_type": "execute_result"
    }
   ],
   "source": [
    "priors4=[1/2,1]\n",
    "likelihoods4=[.2*.2,.14*.1]\n",
    "bayes_rule(priors4, likelihoods4)\n"
   ]
  },
  {
   "cell_type": "markdown",
   "metadata": {},
   "source": [
    "What is the probability that the yellow candy came from Bag 2?"
   ]
  },
  {
   "cell_type": "code",
   "execution_count": 109,
   "metadata": {},
   "outputs": [
    {
     "data": {
      "text/plain": [
       "0.25925925925925924"
      ]
     },
     "execution_count": 109,
     "metadata": {},
     "output_type": "execute_result"
    }
   ],
   "source": [
    "priors2=[1/2,1/2]\n",
    "likelihoods2=[.2*.2,.14*.1]\n",
    "bayes_rule(priors2, likelihoods2)[1]"
   ]
  },
  {
   "cell_type": "markdown",
   "metadata": {},
   "source": [
    "What are the probabilities that the green one came from Bag 1 and Bag 2 respectively?"
   ]
  },
  {
   "cell_type": "code",
   "execution_count": 111,
   "metadata": {},
   "outputs": [
    {
     "data": {
      "text/plain": [
       "0.25925925925925924"
      ]
     },
     "execution_count": 111,
     "metadata": {},
     "output_type": "execute_result"
    }
   ],
   "source": [
    "priors3=[1/2,1/2]\n",
    "likelihoods3=[.1*.14,.2*.2]\n",
    "bayes_rule(priors3, likelihoods3)[0]"
   ]
  },
  {
   "cell_type": "code",
   "execution_count": 112,
   "metadata": {},
   "outputs": [
    {
     "data": {
      "text/plain": [
       "0.7407407407407408"
      ]
     },
     "execution_count": 112,
     "metadata": {},
     "output_type": "execute_result"
    }
   ],
   "source": [
    "priors3=[1/2,1/2]\n",
    "likelihoods3=[.1*.14,.2*.2]\n",
    "bayes_rule(priors3, likelihoods3)[1]"
   ]
  },
  {
   "cell_type": "markdown",
   "metadata": {},
   "source": [
    "## 3. Monty Hall Problem\n",
    "\n",
    "Suppose you are a contestant on the popular game show *Let's Make a Deal*. The host of the show (Monty Hall) presents you with three doors - Door A, Door B, and Door C. He tells you that there is a sports car behind one of them and if you choose the correct one, you win the car!\n",
    "\n",
    "You select Door A, but then Monty makes things a little more interesting. He opens Door B to reveal that there is no sports car behind it and asks you if you would like to stick with your choice of Door A or switch your choice to Door C. Given this new information, what are the probabilities of you winning the car if you stick with Door A versus if you switch to Door C?"
   ]
  },
  {
   "cell_type": "code",
   "execution_count": 114,
   "metadata": {},
   "outputs": [
    {
     "data": {
      "text/plain": [
       "0.3333333333333333"
      ]
     },
     "execution_count": 114,
     "metadata": {},
     "output_type": "execute_result"
    }
   ],
   "source": [
    "#For Door A\n",
    "\n",
    "#If the car is actually behind door A, then Monty can open door B or C. \n",
    "#So the probability of opening either is 50%.\n",
    "\n",
    "#FOR P(B) In cases where analyzed events cover all possible options and don’t overlap, \n",
    "#we can take the sum of the numerators.\n",
    "\n",
    "P_A= 1/3\n",
    "P_BA=1/2\n",
    "P_B=1/6 + 1/3\n",
    "P_AB=(P_A*P_BA)/P_B\n",
    "door_A=P_AB\n",
    "door_A"
   ]
  },
  {
   "cell_type": "code",
   "execution_count": 115,
   "metadata": {},
   "outputs": [
    {
     "data": {
      "text/plain": [
       "0.6666666666666666"
      ]
     },
     "execution_count": 115,
     "metadata": {},
     "output_type": "execute_result"
    }
   ],
   "source": [
    "#For Door C\n",
    "\n",
    "#If the car is actually behind door C then monty can only open door B. \n",
    "#He cannot open A, the door we picked. \n",
    "#He also cannot open door C because it has the car behind it.\n",
    "\n",
    "#FOR P(B) In cases where analyzed events cover all possible options and don’t overlap, \n",
    "#we can take the sum of the numerators.\n",
    "\n",
    "P_A= 1/3\n",
    "P_BA=1\n",
    "P_B=1/6 + 1/3\n",
    "P_AB=(P_A*P_BA)/P_B\n",
    "door_C=P_AB\n",
    "door_C"
   ]
  },
  {
   "cell_type": "markdown",
   "metadata": {},
   "source": [
    "### I would have said P(B) is one third, why do you add?"
   ]
  },
  {
   "cell_type": "markdown",
   "metadata": {},
   "source": [
    "## 4. Bayesian Analysis \n",
    "\n",
    "Suppose you work for a landscaping company, and they want to advertise their service online. They create an ad and sit back waiting for the money to roll in. On the first day, the ad sends 100 visitors to the site and 14 of them sign up for landscaping services. Create a generative model to come up with the posterior distribution and produce a visualization of what the posterior distribution would look like given the observed data."
   ]
  },
  {
   "cell_type": "code",
   "execution_count": 85,
   "metadata": {},
   "outputs": [
    {
     "data": {
      "text/plain": [
       "<AxesSubplot:ylabel='Count'>"
      ]
     },
     "execution_count": 85,
     "metadata": {},
     "output_type": "execute_result"
    },
    {
     "data": {
      "image/png": "[encoded data removed]",
      "text/plain": [
       "<Figure size 432x288 with 1 Axes>"
      ]
     },
     "metadata": {},
     "output_type": "display_data"
    }
   ],
   "source": [
    "n_draws = 100000\n",
    "prior = np.random.uniform(0, 1, size=n_draws) ## uniform: no idea about something\n",
    "sns.histplot(prior)\n"
   ]
  },
  {
   "cell_type": "code",
   "execution_count": 87,
   "metadata": {},
   "outputs": [],
   "source": [
    "def generative_model(n, p): ## sampling function: creates random samples from prior distribution and generates observable date\n",
    "    result = np.random.binomial(n, p)\n",
    "    return result\n"
   ]
  },
  {
   "cell_type": "code",
   "execution_count": 89,
   "metadata": {},
   "outputs": [],
   "source": [
    "observed = (100, 14)\n",
    "sim_data = list()\n",
    "for p in prior:\n",
    "    sim_data.append(generative_model(observed[0], p))"
   ]
  },
  {
   "cell_type": "code",
   "execution_count": 90,
   "metadata": {},
   "outputs": [
    {
     "data": {
      "text/plain": [
       "(array([ 11.,  43., 116., 233., 228., 192.,  97.,  49.,  23.,   8.]),\n",
       " array([0.05762433, 0.07765001, 0.0976757 , 0.11770138, 0.13772706,\n",
       "        0.15775275, 0.17777843, 0.19780412, 0.2178298 , 0.23785548,\n",
       "        0.25788117]),\n",
       " <BarContainer object of 10 artists>)"
      ]
     },
     "execution_count": 90,
     "metadata": {},
     "output_type": "execute_result"
    },
    {
     "data": {
      "image/png": "[encoded data removed]",
      "text/plain": [
       "<Figure size 432x288 with 1 Axes>"
      ]
     },
     "metadata": {},
     "output_type": "display_data"
    }
   ],
   "source": [
    "posterior = prior[list(map(lambda x: x == observed[1], sim_data))]\n",
    "plt.hist(posterior)"
   ]
  },
  {
   "cell_type": "markdown",
   "metadata": {},
   "source": [
    "Produce a set of descriptive statistics for the posterior distribution."
   ]
  },
  {
   "cell_type": "code",
   "execution_count": 91,
   "metadata": {},
   "outputs": [],
   "source": [
    "q05, med, q95 = np.round(np.quantile(posterior, [0.05, 0.5, 0.95]), 2)\n",
    "vals, counts = np.unique(np.round(posterior, 2), return_counts=True)\n",
    "mode_value = vals[np.argwhere(counts == np.max(counts)).flatten()]\n"
   ]
  },
  {
   "cell_type": "markdown",
   "metadata": {},
   "source": [
    "What is the 90% credible interval range?"
   ]
  },
  {
   "cell_type": "code",
   "execution_count": 92,
   "metadata": {},
   "outputs": [
    {
     "name": "stdout",
     "output_type": "stream",
     "text": [
      "Q05: 0.1 - Med.: 0.15 - Q95: 0.21\n"
     ]
    }
   ],
   "source": [
    "print(f\"Q05: {q05} - Med.: {med} - Q95: {q95}\")"
   ]
  },
  {
   "cell_type": "markdown",
   "metadata": {},
   "source": [
    "What is the Maximum Likelihood Estimate?"
   ]
  },
  {
   "cell_type": "code",
   "execution_count": 93,
   "metadata": {},
   "outputs": [
    {
     "name": "stdout",
     "output_type": "stream",
     "text": [
      "MLE: [0.13]\n"
     ]
    }
   ],
   "source": [
    "print(f\"MLE: {mode_value}\")"
   ]
  },
  {
   "cell_type": "code",
   "execution_count": null,
   "metadata": {},
   "outputs": [],
   "source": []
  }
 ],
 "metadata": {
  "kernelspec": {
   "display_name": "Python 3 (ipykernel)",
   "language": "python",
   "name": "python3"
  },
  "language_info": {
   "codemirror_mode": {
    "name": "ipython",
    "version": 3
   },
   "file_extension": ".py",
   "mimetype": "text/x-python",
   "name": "python",
   "nbconvert_exporter": "python",
   "pygments_lexer": "ipython3",
   "version": "3.9.12"
  }
 },
 "nbformat": 4,
 "nbformat_minor": 2
}
