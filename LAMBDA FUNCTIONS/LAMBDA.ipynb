{
 "cells": [
  {
   "cell_type": "markdown",
   "id": "8e836a05",
   "metadata": {},
   "source": [
    "\n",
    "## Challenge 1 - Passing a Lambda Expression to a Function\n",
    "In the next excercise you will create a function that returns a lambda expression. Create a function called modify_list. The function takes two arguments, a list and a lambda expression. The function iterates through the list and applies the lambda expression to every element in the list.\n",
    "\n"
   ]
  },
  {
   "cell_type": "code",
   "execution_count": 11,
   "id": "8eef60f4",
   "metadata": {},
   "outputs": [
    {
     "name": "stdout",
     "output_type": "stream",
     "text": [
      "[6, 7, 8, 9, 10]\n"
     ]
    }
   ],
   "source": [
    "l = [1,2,3,4,5]\n",
    "f = lambda y: y+5\n",
    "b = []\n",
    "def modify_list(lst, fudduLambda):\n",
    "    for x in lst:\n",
    "        b.append(fudduLambda(x))\n",
    "modify_list(l,f)\n",
    "print(b)\n"
   ]
  },
  {
   "cell_type": "markdown",
   "id": "f342a0ea",
   "metadata": {},
   "source": [
    "Now we will define a lambda expression that will transform the elements of the list.\n",
    "In the cell below, create a lambda expression that converts Celsius to Kelvin. Recall that 0°C + 273.15 = 273.15K"
   ]
  },
  {
   "cell_type": "code",
   "execution_count": null,
   "id": "7c803aeb",
   "metadata": {},
   "outputs": [],
   "source": [
    "to_kelvin= lambda C: C + 273.15\n"
   ]
  },
  {
   "cell_type": "code",
   "execution_count": null,
   "id": "ef2f013c",
   "metadata": {},
   "outputs": [],
   "source": []
  },
  {
   "cell_type": "code",
   "execution_count": 15,
   "id": "7c1c7cc9",
   "metadata": {},
   "outputs": [
    {
     "name": "stdout",
     "output_type": "stream",
     "text": [
      "[285.15, 296.15, 311.15, 218.14999999999998, 297.15]\n"
     ]
    }
   ],
   "source": [
    "temps = [12, 23, 38, -55, 24]\n",
    "to_kelvin= lambda C: C+273.15\n",
    "temps_converted = []\n",
    "def modify_list(lst, fudduLambda):\n",
    "    for x in lst:\n",
    "        temps_converted.append(fudduLambda(x))\n",
    "        \n",
    "modify_list(temps,to_kelvin)\n",
    "print(temps_converted)"
   ]
  },
  {
   "cell_type": "markdown",
   "id": "f85f7f3a",
   "metadata": {},
   "source": [
    "In this part, we will define a function that returns a lambda expression.\n",
    "In the cell below, write a lambda expression that takes two numbers and returns 1 if one is divisible by the other and zero otherwise. Call the lambda expression mod."
   ]
  },
  {
   "cell_type": "code",
   "execution_count": 144,
   "id": "a6a4d325",
   "metadata": {},
   "outputs": [
    {
     "name": "stdout",
     "output_type": "stream",
     "text": [
      "0\n"
     ]
    }
   ],
   "source": [
    "mod= lambda x,y: print(1) if (x%y==0) or (y%x==0) else print(0)\n",
    "mod(4,3)"
   ]
  },
  {
   "cell_type": "markdown",
   "id": "fe79643d",
   "metadata": {},
   "source": [
    "Now create a function that returns mod. The function only takes one argument - the first number in the mod lambda function.\n",
    "Note: the lambda function above took two arguments, the lambda function in the return statement only takes one argument but also uses the argument passed to the function."
   ]
  },
  {
   "cell_type": "code",
   "execution_count": 2,
   "id": "1fc5d800",
   "metadata": {},
   "outputs": [],
   "source": [
    "def divisor(b): \n",
    "    return lambda x: print(1) if (b%x==0) or (x%b==0) else print(0)"
   ]
  },
  {
   "cell_type": "markdown",
   "id": "4a6fcd06",
   "metadata": {},
   "source": [
    "Finally, pass the number 5 to divisor. Now the function will check whether a number is divisble by 5. Assign this function to divisible5"
   ]
  },
  {
   "cell_type": "code",
   "execution_count": 4,
   "id": "99904a98",
   "metadata": {},
   "outputs": [
    {
     "data": {
      "text/plain": [
       "<function __main__.divisor.<locals>.<lambda>(x)>"
      ]
     },
     "execution_count": 4,
     "metadata": {},
     "output_type": "execute_result"
    }
   ],
   "source": [
    "divisor(5)"
   ]
  },
  {
   "cell_type": "code",
   "execution_count": 5,
   "id": "4e3d3882",
   "metadata": {},
   "outputs": [],
   "source": [
    "divisible5= divisor(5)"
   ]
  },
  {
   "cell_type": "code",
   "execution_count": 6,
   "id": "0e50079c",
   "metadata": {},
   "outputs": [
    {
     "name": "stdout",
     "output_type": "stream",
     "text": [
      "1\n"
     ]
    }
   ],
   "source": [
    "divisible5(10)"
   ]
  },
  {
   "cell_type": "code",
   "execution_count": 7,
   "id": "057ec5dc",
   "metadata": {},
   "outputs": [
    {
     "name": "stdout",
     "output_type": "stream",
     "text": [
      "0\n"
     ]
    }
   ],
   "source": [
    "divisible5(8)"
   ]
  },
  {
   "cell_type": "markdown",
   "id": "02542608",
   "metadata": {},
   "source": [
    "### Challenge 2 - Using Lambda Expressions in List Comprehensions\n"
   ]
  },
  {
   "cell_type": "markdown",
   "id": "97247d68",
   "metadata": {},
   "source": [
    "In the following challenge, we will combine two lists using a lambda expression in a list comprehension.\n",
    "\n",
    "To do this, we will need to introduce the zip function. The zip function returns an iterator of tuples.\n",
    "\n",
    "The way zip function works with list has been shown below:"
   ]
  },
  {
   "cell_type": "code",
   "execution_count": 8,
   "id": "b3ef1a85",
   "metadata": {},
   "outputs": [
    {
     "data": {
      "text/plain": [
       "[('Green', 'eggs'),\n",
       " ('cheese', 'cheese'),\n",
       " ('English', 'cucumber'),\n",
       " ('tomato', 'tomato')]"
      ]
     },
     "execution_count": 8,
     "metadata": {},
     "output_type": "execute_result"
    }
   ],
   "source": [
    "list1 = ['Green', 'cheese', 'English', 'tomato']\n",
    "list2 = ['eggs', 'cheese', 'cucumber', 'tomato']\n",
    "zipped = zip(list1,list2)\n",
    "list(zipped)"
   ]
  },
  {
   "cell_type": "markdown",
   "id": "2d83ea5e",
   "metadata": {},
   "source": [
    "In this exercise we will try to compare the elements on the same index in the two lists. We want to zip the two lists and then use a lambda expression to compare if: list1 element > list2 element"
   ]
  },
  {
   "cell_type": "code",
   "execution_count": 20,
   "id": "012c280f",
   "metadata": {},
   "outputs": [
    {
     "name": "stdout",
     "output_type": "stream",
     "text": [
      "[(1, 2), (2, 3), (3, 4), (4, 5)]\n"
     ]
    }
   ],
   "source": [
    "\n",
    "listA = [1,2,3,4]\n",
    "listB = [2,3,4,5]\n",
    "Zipped = zip(listA,listB)\n",
    "y=list(Zipped)\n",
    "print(y)\n",
    "## Zip the lists together \n",
    "## Print the zipped list "
   ]
  },
  {
   "cell_type": "code",
   "execution_count": 19,
   "id": "b55039f4",
   "metadata": {},
   "outputs": [
    {
     "name": "stdout",
     "output_type": "stream",
     "text": [
      "False\n",
      "False\n",
      "False\n",
      "False\n"
     ]
    }
   ],
   "source": [
    "compare = lambda x: print ('True') if x[0]>x[1] else print ('False')\n",
    "for i in y:\n",
    "    compare(i)\n",
    "    "
   ]
  },
  {
   "cell_type": "markdown",
   "id": "f93f9e60",
   "metadata": {},
   "source": [
    "### Challenge 3 - Using Lambda Expressions as Arguments\n"
   ]
  },
  {
   "cell_type": "markdown",
   "id": "ed9cca79",
   "metadata": {},
   "source": [
    "In this challenge, we will zip together two lists and sort by the resulting tuple.\n",
    "In the cell below, take the two lists provided, zip them together and sort by the first letter of the second element of each tuple. Do this using a lambda function."
   ]
  },
  {
   "cell_type": "code",
   "execution_count": 21,
   "id": "6e8fb07a",
   "metadata": {},
   "outputs": [
    {
     "name": "stdout",
     "output_type": "stream",
     "text": [
      "[('Engineering', 'Lab'), ('Computer Science', 'Homework'), ('Political Science', 'Essay'), ('Mathematics', 'Module')]\n"
     ]
    }
   ],
   "source": [
    "listx = ['Engineering', 'Computer Science', 'Political Science', 'Mathematics']\n",
    "listy = ['Lab', 'Homework', 'Essay', 'Module']\n",
    "\n",
    "ZIP=zip(listx,listy)\n",
    "zipped_list=list(ZIP)\n",
    "print(zipped_list)"
   ]
  },
  {
   "cell_type": "code",
   "execution_count": 25,
   "id": "3e46d662",
   "metadata": {},
   "outputs": [
    {
     "data": {
      "text/plain": [
       "[('Political Science', 'Essay'),\n",
       " ('Computer Science', 'Homework'),\n",
       " ('Engineering', 'Lab'),\n",
       " ('Mathematics', 'Module')]"
      ]
     },
     "execution_count": 25,
     "metadata": {},
     "output_type": "execute_result"
    }
   ],
   "source": [
    "zipped_list.sort(key=lambda x:x[1])\n",
    "zipped_list\n",
    "\n"
   ]
  },
  {
   "cell_type": "markdown",
   "id": "ecb980b8",
   "metadata": {},
   "source": [
    "### Bonus Challenge - Sort a Dictionary by Values"
   ]
  },
  {
   "cell_type": "markdown",
   "id": "1342362a",
   "metadata": {},
   "source": [
    "Given the dictionary below, sort it by values rather than by keys. Use a lambda function to specify the values as a sorting key.\n"
   ]
  },
  {
   "cell_type": "code",
   "execution_count": 27,
   "id": "e1bfd862",
   "metadata": {},
   "outputs": [],
   "source": [
    "d = {'Honda': 1997, 'Toyota': 1995, 'Audi': 2001, 'BMW': 2005}\n",
    "\n",
    "# Your code here:"
   ]
  },
  {
   "cell_type": "code",
   "execution_count": 34,
   "id": "c25bed39",
   "metadata": {},
   "outputs": [
    {
     "ename": "AttributeError",
     "evalue": "'dict_values' object has no attribute 'sort'",
     "output_type": "error",
     "traceback": [
      "\u001b[0;31m---------------------------------------------------------------------------\u001b[0m",
      "\u001b[0;31mAttributeError\u001b[0m                            Traceback (most recent call last)",
      "Input \u001b[0;32mIn [34]\u001b[0m, in \u001b[0;36m<cell line: 1>\u001b[0;34m()\u001b[0m\n\u001b[0;32m----> 1\u001b[0m \u001b[43m(\u001b[49m\u001b[43md\u001b[49m\u001b[38;5;241;43m.\u001b[39;49m\u001b[43mvalues\u001b[49m\u001b[43m(\u001b[49m\u001b[43m)\u001b[49m\u001b[43m)\u001b[49m\u001b[38;5;241;43m.\u001b[39;49m\u001b[43msort\u001b[49m()\n",
      "\u001b[0;31mAttributeError\u001b[0m: 'dict_values' object has no attribute 'sort'"
     ]
    }
   ],
   "source": [
    "d.value"
   ]
  },
  {
   "cell_type": "code",
   "execution_count": null,
   "id": "409a16cb",
   "metadata": {},
   "outputs": [],
   "source": []
  }
 ],
 "metadata": {
  "kernelspec": {
   "display_name": "Python 3 (ipykernel)",
   "language": "python",
   "name": "python3"
  },
  "language_info": {
   "codemirror_mode": {
    "name": "ipython",
    "version": 3
   },
   "file_extension": ".py",
   "mimetype": "text/x-python",
   "name": "python",
   "nbconvert_exporter": "python",
   "pygments_lexer": "ipython3",
   "version": "3.9.12"
  }
 },
 "nbformat": 4,
 "nbformat_minor": 5
}
