{
 "cells": [
  {
   "cell_type": "markdown",
   "id": "f3950c72",
   "metadata": {},
   "source": [
    "### First, import the Python random libary"
   ]
  },
  {
   "cell_type": "code",
   "execution_count": 1,
   "id": "189c764d",
   "metadata": {},
   "outputs": [],
   "source": [
    "import random"
   ]
  },
  {
   "cell_type": "markdown",
   "id": "52afcee0",
   "metadata": {},
   "source": [
    "### Create a list named sample_list_1 with 80 random values."
   ]
  },
  {
   "cell_type": "code",
   "execution_count": 90,
   "id": "e8894ea8",
   "metadata": {},
   "outputs": [
    {
     "name": "stdout",
     "output_type": "stream",
     "text": [
      "[17, 44, 10, 56, 65, 52, 47, 66, 14, 21, 80, 63, 15, 11, 92, 2, 34, 75, 64, 60, 97, 68, 30, 32, 85, 19, 59, 40, 39, 3, 83, 77, 46, 9, 72, 81, 43, 31, 74, 29, 20, 96, 90, 16, 26, 37, 12, 62, 24, 8, 18, 67, 70, 0, 82, 48, 76, 22, 51, 57, 87, 4, 5, 79, 27, 33, 94, 7, 99, 45, 55, 69, 49, 38, 23, 1, 54, 61, 41, 36]\n"
     ]
    }
   ],
   "source": [
    "sample_list_1=random.sample(range(0,100),k=80,counts=None)\n",
    "print(sample_list_1)"
   ]
  },
  {
   "cell_type": "code",
   "execution_count": 17,
   "id": "aaf95729",
   "metadata": {},
   "outputs": [
    {
     "data": {
      "text/plain": [
       "80"
      ]
     },
     "execution_count": 17,
     "metadata": {},
     "output_type": "execute_result"
    }
   ],
   "source": [
    "len(sample_list_1)"
   ]
  },
  {
   "cell_type": "markdown",
   "id": "7c06225f",
   "metadata": {},
   "source": [
    "### Convert sample_list_1 to a set called set1. Print the length of the set. Is its length still 80."
   ]
  },
  {
   "cell_type": "code",
   "execution_count": 18,
   "id": "73f032ee",
   "metadata": {},
   "outputs": [
    {
     "data": {
      "text/plain": [
       "80"
      ]
     },
     "execution_count": 18,
     "metadata": {},
     "output_type": "execute_result"
    }
   ],
   "source": [
    "set1=set(sample_list_1)\n",
    "len(set1)"
   ]
  },
  {
   "cell_type": "markdown",
   "id": "77f54ec9",
   "metadata": {},
   "source": [
    "### Create another list named sample_list_2 with 80 random values."
   ]
  },
  {
   "cell_type": "code",
   "execution_count": 32,
   "id": "b4869592",
   "metadata": {},
   "outputs": [
    {
     "name": "stdout",
     "output_type": "stream",
     "text": [
      "[63, 100, 33, 44, 19, 4, 25, 59, 54, 46, 45, 23, 76, 50, 60, 65, 34, 68, 70, 35, 66, 9, 94, 26, 24, 17, 85, 81, 86, 30, 94, 3, 57, 39, 19, 36, 1, 95, 87, 84, 27, 0, 86, 49, 43, 38, 77, 97, 20, 45, 50, 100, 52, 85, 84, 84, 35, 39, 63, 63, 22, 4, 93, 89, 39, 78, 72, 34, 92, 0, 83, 63, 8, 1, 58, 4, 96, 63, 65, 28]\n"
     ]
    }
   ],
   "source": [
    "sample_list_2=[]\n",
    "\n",
    "for i in range(0,80):\n",
    "    sample_list_2.append(random.randint(0,100))\n",
    "    \n",
    "\n",
    "\n",
    "print(sample_list_2)"
   ]
  },
  {
   "cell_type": "code",
   "execution_count": 33,
   "id": "8d625967",
   "metadata": {},
   "outputs": [
    {
     "data": {
      "text/plain": [
       "80"
      ]
     },
     "execution_count": 33,
     "metadata": {},
     "output_type": "execute_result"
    }
   ],
   "source": [
    "len(sample_list_2)"
   ]
  },
  {
   "cell_type": "markdown",
   "id": "65eeed1f",
   "metadata": {},
   "source": [
    "### Convert sample_list_2 to a set called set2. Print the length of the set. Is its length still 80?"
   ]
  },
  {
   "cell_type": "code",
   "execution_count": 34,
   "id": "34fd86b8",
   "metadata": {},
   "outputs": [
    {
     "data": {
      "text/plain": [
       "58"
      ]
     },
     "execution_count": 34,
     "metadata": {},
     "output_type": "execute_result"
    }
   ],
   "source": [
    "set2=set(sample_list_2)\n",
    "len(set2)"
   ]
  },
  {
   "cell_type": "markdown",
   "id": "2a5685dd",
   "metadata": {},
   "source": [
    "### <font color='red'>THE NUMBER OF ITEMS HAS CHANHGED</font>"
   ]
  },
  {
   "cell_type": "markdown",
   "id": "867088c7",
   "metadata": {},
   "source": [
    "### Identify the elements present in set1 but not in set2. Assign the elements to a new set named set3."
   ]
  },
  {
   "cell_type": "code",
   "execution_count": 36,
   "id": "01e07696",
   "metadata": {},
   "outputs": [
    {
     "name": "stdout",
     "output_type": "stream",
     "text": [
      "{2, 6, 10, 11, 12, 13, 14, 15, 16, 18, 21, 32, 37, 40, 41, 42, 47, 53, 56, 61, 64, 67, 69, 71, 74, 75, 80, 82, 88, 91, 99}\n"
     ]
    }
   ],
   "source": [
    "set3=set1-set2\n",
    "print(set3)"
   ]
  },
  {
   "cell_type": "markdown",
   "id": "4edacbe7",
   "metadata": {},
   "source": [
    "### Identify the elements present in set2 but not in set1. Assign the elements to a new set named set4."
   ]
  },
  {
   "cell_type": "code",
   "execution_count": 38,
   "id": "363ab109",
   "metadata": {},
   "outputs": [
    {
     "name": "stdout",
     "output_type": "stream",
     "text": [
      "{97, 100, 39, 72, 45, 49, 85, 24, 95}\n"
     ]
    }
   ],
   "source": [
    "set4=set2-set1\n",
    "print(set4)"
   ]
  },
  {
   "cell_type": "markdown",
   "id": "0525dbfe",
   "metadata": {},
   "source": [
    "### Now Identify the elements shared between set1 and set2. Assign the elements to a new set named set5."
   ]
  },
  {
   "cell_type": "code",
   "execution_count": 41,
   "id": "90b3af9a",
   "metadata": {},
   "outputs": [
    {
     "name": "stdout",
     "output_type": "stream",
     "text": [
      "{0, 1, 3, 4, 8, 9, 17, 19, 20, 22, 23, 25, 26, 27, 28, 30, 33, 34, 35, 36, 38, 43, 44, 46, 50, 52, 54, 57, 58, 59, 60, 63, 65, 66, 68, 70, 76, 77, 78, 81, 83, 84, 86, 87, 89, 92, 93, 94, 96}\n"
     ]
    }
   ],
   "source": [
    "set5= set1.intersection(set2)\n",
    "print(set5)"
   ]
  },
  {
   "cell_type": "markdown",
   "id": "5105cc19",
   "metadata": {},
   "source": [
    "### What is the relationship among the following values:\n",
    "\n",
    "len(set1)\n",
    "len(set2)\n",
    "len(set3)\n",
    "len(set4)\n",
    "len(set5)\n",
    "\n",
    "### <font color='red'>THE LENGHT OF SET 1+2 IS EQUAL TO THE LEGHT OF SET 3+4+5. IF THIS WAS A VENN DIAGRAM LEN 1 AND 2 WOULD BE THE CIRCLES. LEN 5 WOULD BE THE INTERSECTION AND LEN 3 AND 4 THE NON INTERSECTIONAL SECTIONS OF THE CIRCLES</font> \n",
    "### <font color='GREEN'>len(set1)+len(set2)=len(set3)+len(set4)+len(set5)</font>\n",
    "\n"
   ]
  },
  {
   "cell_type": "markdown",
   "id": "fc8774ea",
   "metadata": {},
   "source": [
    "### Create an empty set called set6."
   ]
  },
  {
   "cell_type": "code",
   "execution_count": 57,
   "id": "83198484",
   "metadata": {},
   "outputs": [],
   "source": [
    "set6=set()"
   ]
  },
  {
   "cell_type": "markdown",
   "id": "f2ba69c5",
   "metadata": {},
   "source": [
    "### Add set3 and set5 to set6 using the Python Set update method."
   ]
  },
  {
   "cell_type": "code",
   "execution_count": 58,
   "id": "60ccddf5",
   "metadata": {},
   "outputs": [],
   "source": [
    "set6.update(set3)"
   ]
  },
  {
   "cell_type": "code",
   "execution_count": 59,
   "id": "c902ec98",
   "metadata": {},
   "outputs": [
    {
     "name": "stdout",
     "output_type": "stream",
     "text": [
      "{64, 2, 67, 69, 6, 71, 10, 11, 12, 13, 14, 15, 16, 74, 18, 75, 80, 21, 82, 88, 91, 32, 99, 37, 40, 41, 42, 47, 53, 56, 61}\n"
     ]
    }
   ],
   "source": [
    "print(set6)"
   ]
  },
  {
   "cell_type": "code",
   "execution_count": 60,
   "id": "ba9e8dea",
   "metadata": {},
   "outputs": [],
   "source": [
    "set6.update(set5)"
   ]
  },
  {
   "cell_type": "code",
   "execution_count": 61,
   "id": "e949eec0",
   "metadata": {},
   "outputs": [
    {
     "name": "stdout",
     "output_type": "stream",
     "text": [
      "{0, 1, 2, 3, 4, 6, 8, 9, 10, 11, 12, 13, 14, 15, 16, 17, 18, 19, 20, 21, 22, 23, 25, 26, 27, 28, 30, 32, 33, 34, 35, 36, 37, 38, 40, 41, 42, 43, 44, 46, 47, 50, 52, 53, 54, 56, 57, 58, 59, 60, 61, 63, 64, 65, 66, 67, 68, 69, 70, 71, 74, 75, 76, 77, 78, 80, 81, 82, 83, 84, 86, 87, 88, 89, 91, 92, 93, 94, 96, 99}\n"
     ]
    }
   ],
   "source": [
    "print(set6)"
   ]
  },
  {
   "cell_type": "markdown",
   "id": "f9af18c3",
   "metadata": {},
   "source": [
    "### Check if set1 and set6 are equal."
   ]
  },
  {
   "cell_type": "code",
   "execution_count": 63,
   "id": "efa10510",
   "metadata": {},
   "outputs": [
    {
     "name": "stdout",
     "output_type": "stream",
     "text": [
      "SAME\n"
     ]
    }
   ],
   "source": [
    "if set6==set1:\n",
    "    print('SAME')\n",
    "else:\n",
    "    print('NOT THE SAME')"
   ]
  },
  {
   "cell_type": "markdown",
   "id": "2ba301b2",
   "metadata": {},
   "source": [
    "### Check if set1 contains set2 using the Python Set issubset method. Then check if set1 contains set3.*"
   ]
  },
  {
   "cell_type": "code",
   "execution_count": 65,
   "id": "07c260ff",
   "metadata": {},
   "outputs": [
    {
     "name": "stdout",
     "output_type": "stream",
     "text": [
      "False\n"
     ]
    }
   ],
   "source": [
    "z=set2.issubset(set1)\n",
    "print(z)"
   ]
  },
  {
   "cell_type": "markdown",
   "id": "c67179a5",
   "metadata": {},
   "source": [
    "### Using the Python Set union method, aggregate set3, set4, and set5. Then aggregate set1 and set2."
   ]
  },
  {
   "cell_type": "code",
   "execution_count": 73,
   "id": "d478b035",
   "metadata": {},
   "outputs": [
    {
     "data": {
      "text/plain": [
       "{0,\n",
       " 1,\n",
       " 2,\n",
       " 3,\n",
       " 4,\n",
       " 6,\n",
       " 8,\n",
       " 9,\n",
       " 10,\n",
       " 11,\n",
       " 12,\n",
       " 13,\n",
       " 14,\n",
       " 15,\n",
       " 16,\n",
       " 17,\n",
       " 18,\n",
       " 19,\n",
       " 20,\n",
       " 21,\n",
       " 22,\n",
       " 23,\n",
       " 24,\n",
       " 25,\n",
       " 26,\n",
       " 27,\n",
       " 28,\n",
       " 30,\n",
       " 32,\n",
       " 33,\n",
       " 34,\n",
       " 35,\n",
       " 36,\n",
       " 37,\n",
       " 38,\n",
       " 39,\n",
       " 40,\n",
       " 41,\n",
       " 42,\n",
       " 43,\n",
       " 44,\n",
       " 45,\n",
       " 46,\n",
       " 47,\n",
       " 49,\n",
       " 50,\n",
       " 52,\n",
       " 53,\n",
       " 54,\n",
       " 56,\n",
       " 57,\n",
       " 58,\n",
       " 59,\n",
       " 60,\n",
       " 61,\n",
       " 63,\n",
       " 64,\n",
       " 65,\n",
       " 66,\n",
       " 67,\n",
       " 68,\n",
       " 69,\n",
       " 70,\n",
       " 71,\n",
       " 72,\n",
       " 74,\n",
       " 75,\n",
       " 76,\n",
       " 77,\n",
       " 78,\n",
       " 80,\n",
       " 81,\n",
       " 82,\n",
       " 83,\n",
       " 84,\n",
       " 85,\n",
       " 86,\n",
       " 87,\n",
       " 88,\n",
       " 89,\n",
       " 91,\n",
       " 92,\n",
       " 93,\n",
       " 94,\n",
       " 95,\n",
       " 96,\n",
       " 97,\n",
       " 99,\n",
       " 100}"
      ]
     },
     "execution_count": 73,
     "metadata": {},
     "output_type": "execute_result"
    }
   ],
   "source": [
    "set3.union(set4,set5)"
   ]
  },
  {
   "cell_type": "markdown",
   "id": "39a6b6f8",
   "metadata": {},
   "source": [
    "### Using the Python Set union method, aggregate set3, set4, and set5. Then aggregate set1 and set2."
   ]
  },
  {
   "cell_type": "code",
   "execution_count": 74,
   "id": "75687ba1",
   "metadata": {},
   "outputs": [
    {
     "data": {
      "text/plain": [
       "{0,\n",
       " 1,\n",
       " 2,\n",
       " 3,\n",
       " 4,\n",
       " 6,\n",
       " 8,\n",
       " 9,\n",
       " 10,\n",
       " 11,\n",
       " 12,\n",
       " 13,\n",
       " 14,\n",
       " 15,\n",
       " 16,\n",
       " 17,\n",
       " 18,\n",
       " 19,\n",
       " 20,\n",
       " 21,\n",
       " 22,\n",
       " 23,\n",
       " 24,\n",
       " 25,\n",
       " 26,\n",
       " 27,\n",
       " 28,\n",
       " 30,\n",
       " 32,\n",
       " 33,\n",
       " 34,\n",
       " 35,\n",
       " 36,\n",
       " 37,\n",
       " 38,\n",
       " 39,\n",
       " 40,\n",
       " 41,\n",
       " 42,\n",
       " 43,\n",
       " 44,\n",
       " 45,\n",
       " 46,\n",
       " 47,\n",
       " 49,\n",
       " 50,\n",
       " 52,\n",
       " 53,\n",
       " 54,\n",
       " 56,\n",
       " 57,\n",
       " 58,\n",
       " 59,\n",
       " 60,\n",
       " 61,\n",
       " 63,\n",
       " 64,\n",
       " 65,\n",
       " 66,\n",
       " 67,\n",
       " 68,\n",
       " 69,\n",
       " 70,\n",
       " 71,\n",
       " 72,\n",
       " 74,\n",
       " 75,\n",
       " 76,\n",
       " 77,\n",
       " 78,\n",
       " 80,\n",
       " 81,\n",
       " 82,\n",
       " 83,\n",
       " 84,\n",
       " 85,\n",
       " 86,\n",
       " 87,\n",
       " 88,\n",
       " 89,\n",
       " 91,\n",
       " 92,\n",
       " 93,\n",
       " 94,\n",
       " 95,\n",
       " 96,\n",
       " 97,\n",
       " 99,\n",
       " 100}"
      ]
     },
     "execution_count": 74,
     "metadata": {},
     "output_type": "execute_result"
    }
   ],
   "source": [
    "set1.union(set2)"
   ]
  },
  {
   "cell_type": "markdown",
   "id": "5f5c1413",
   "metadata": {},
   "source": [
    "### Check if the aggregated values are equal."
   ]
  },
  {
   "cell_type": "code",
   "execution_count": 75,
   "id": "9a35bf81",
   "metadata": {},
   "outputs": [
    {
     "name": "stdout",
     "output_type": "stream",
     "text": [
      "EQUAL\n"
     ]
    }
   ],
   "source": [
    "if set3.union(set4,set5)==set1.union(set2):\n",
    "    print('EQUAL')\n",
    "else:\n",
    "    print('NOT EQUAL')"
   ]
  },
  {
   "cell_type": "markdown",
   "id": "64906093",
   "metadata": {},
   "source": [
    "### Using the pop method, remove the first element from set1."
   ]
  },
  {
   "cell_type": "code",
   "execution_count": 76,
   "id": "47d6e9f9",
   "metadata": {},
   "outputs": [
    {
     "data": {
      "text/plain": [
       "0"
      ]
     },
     "execution_count": 76,
     "metadata": {},
     "output_type": "execute_result"
    }
   ],
   "source": [
    "set1.pop()"
   ]
  },
  {
   "cell_type": "markdown",
   "id": "7d0ff0bc",
   "metadata": {},
   "source": [
    "### Remove every element in the following list from set1 if they are present in the set. Print the remaining elements."
   ]
  },
  {
   "cell_type": "code",
   "execution_count": 104,
   "id": "6977cf75",
   "metadata": {},
   "outputs": [
    {
     "name": "stdout",
     "output_type": "stream",
     "text": [
      "{17, 18, 20, 22, 23, 25, 26, 27, 28, 30, 32, 33, 34, 35, 36, 37, 38, 40, 42, 43, 44, 46, 47, 50, 52, 53, 54, 56, 57, 58, 60, 63, 64, 65, 66, 67, 68, 70, 74, 75, 76, 77, 78, 80, 82, 83, 84, 86, 87, 88, 92, 93, 94, 96}\n"
     ]
    }
   ],
   "source": [
    "list_to_remove = [1, 9, 11, 19, 21, 29, 31, 39, 41, 49, 51, 59, 61, 69, 71, 79, 81, 89, 91, 99]\n",
    "for i in list_to_remove:\n",
    "    set1.discard(i)\n",
    "        \n",
    "print(set1)"
   ]
  },
  {
   "cell_type": "code",
   "execution_count": null,
   "id": "b631dae5",
   "metadata": {},
   "outputs": [],
   "source": []
  }
 ],
 "metadata": {
  "kernelspec": {
   "display_name": "Python 3 (ipykernel)",
   "language": "python",
   "name": "python3"
  },
  "language_info": {
   "codemirror_mode": {
    "name": "ipython",
    "version": 3
   },
   "file_extension": ".py",
   "mimetype": "text/x-python",
   "name": "python",
   "nbconvert_exporter": "python",
   "pygments_lexer": "ipython3",
   "version": "3.9.12"
  }
 },
 "nbformat": 4,
 "nbformat_minor": 5
}
