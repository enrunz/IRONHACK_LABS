{
 "cells": [
  {
   "cell_type": "code",
   "execution_count": 1,
   "id": "d13d8fae",
   "metadata": {},
   "outputs": [],
   "source": [
    "import re"
   ]
  },
  {
   "cell_type": "markdown",
   "id": "ef7c4780",
   "metadata": {},
   "source": [
    "## Challenge 1 - Combining Strings"
   ]
  },
  {
   "cell_type": "markdown",
   "id": "cad0b85e",
   "metadata": {},
   "source": [
    "### In the cell below, combine the strings in the list and add spaces between the strings (do not add a space after the last string). Insert a period after the last string."
   ]
  },
  {
   "cell_type": "code",
   "execution_count": 12,
   "id": "b1817b84",
   "metadata": {},
   "outputs": [
    {
     "name": "stdout",
     "output_type": "stream",
     "text": [
      "Durante un tiempo no estuvo segura de si su marido era su marido.\n"
     ]
    }
   ],
   "source": [
    "str_list = ['Durante', 'un', 'tiempo', 'no', 'estuvo', 'segura', 'de', 'si', 'su', 'marido', 'era', 'su', 'marido']\n",
    "cmb=' '.join(str_list)+'.'\n",
    "print(cmb)\n",
    "\n"
   ]
  },
  {
   "cell_type": "markdown",
   "id": "c7229a70",
   "metadata": {},
   "source": [
    "### Use the list of strings to create a grocery list. Start the list with the string Grocery list: and include a comma and a space between each item except for the last one. Include a period at the end. Only include foods in the list that start with the letter 'b' and ensure all foods are lower case."
   ]
  },
  {
   "cell_type": "code",
   "execution_count": 57,
   "id": "eef4e79b",
   "metadata": {},
   "outputs": [
    {
     "name": "stdout",
     "output_type": "stream",
     "text": [
      "['bananas', 'bread', 'brownie mix', 'broccoli']\n",
      "['Grocery list: bananas, bread, brownie mix, broccoli.']\n"
     ]
    }
   ],
   "source": [
    "food_list = ['Bananas', 'Chocolate', 'bread', 'diapers', 'Ice Cream', 'Brownie Mix', 'broccoli']\n",
    "GL=[i.lower() for i in food_list if i.startswith('b') or i.startswith('B')]\n",
    "print(GL)\n",
    "str1='Grocery list: '\n",
    "str2=', '.join(GL)+'.'\n",
    "\n",
    "grocery_list=[str1+str2]\n",
    "print(grocery_list)\n"
   ]
  },
  {
   "cell_type": "markdown",
   "id": "cfa91d2f",
   "metadata": {},
   "source": [
    "### In the cell below, write a function that computes the area of a circle using its radius. Compute the area of the circle and insert the radius and the area between the two strings. Make sure to include spaces between the variable and the strings.\n",
    "\n",
    "### Note: You can use the techniques we have learned so far or use f-strings. F-strings allow us to embed code inside strings. "
   ]
  },
  {
   "cell_type": "code",
   "execution_count": 143,
   "id": "59c35767",
   "metadata": {},
   "outputs": [
    {
     "data": {
      "text/plain": [
       "('The area of the circle with radius:', 4.5, 'is:', 63.61725123519331)"
      ]
     },
     "execution_count": 143,
     "metadata": {},
     "output_type": "execute_result"
    }
   ],
   "source": [
    "import math\n",
    "\n",
    "string1 = \"The area of the circle with radius:\"\n",
    "string2  = \"is:\"\n",
    "radius = 4.5\n",
    "\n",
    "def area(x, pi = math.pi):\n",
    "    result=pi*(x*x)\n",
    "    return (string1,radius,string2,result)\n",
    "area(radius)"
   ]
  },
  {
   "cell_type": "code",
   "execution_count": 98,
   "id": "63cea869",
   "metadata": {},
   "outputs": [
    {
     "data": {
      "text/plain": [
       "'The area of the circle with radius: 4.5 is: 63.61725123519331'"
      ]
     },
     "execution_count": 98,
     "metadata": {},
     "output_type": "execute_result"
    }
   ],
   "source": [
    "import math\n",
    "\n",
    "string1 = \"The area of the circle with radius:\"\n",
    "string2  = \"is:\"\n",
    "radius = 4.5\n",
    "\n",
    "def area(x, pi = math.pi):\n",
    "    return pi*(x*x)\n",
    "area(4.5)\n",
    "f'{string1} {radius} {string2} {area(4.5)}'"
   ]
  },
  {
   "cell_type": "markdown",
   "id": "1ba0744f",
   "metadata": {},
   "source": [
    "## Challenge 2 - Splitting Strings\n"
   ]
  },
  {
   "cell_type": "markdown",
   "id": "f0af0775",
   "metadata": {},
   "source": [
    "### In the cell below, split the string into a list of strings using the space delimiter. Count the frequency of each word in the string in a dictionary. Strip the periods, line breaks and commas from the text. Make sure to remove empty strings from your dictionary."
   ]
  },
  {
   "cell_type": "code",
   "execution_count": 158,
   "id": "ed1aefd8",
   "metadata": {},
   "outputs": [],
   "source": [
    "poem = \"\"\"Some say the world will end in fire,\n",
    "Some say in ice.\n",
    "From what I’ve tasted of desire\n",
    "I hold with those who favor fire.\n",
    "But if it had to perish twice,\n",
    "I think I know enough of hate\n",
    "To say that for destruction ice\n",
    "Is also great\n",
    "And would suffice.\"\"\""
   ]
  },
  {
   "cell_type": "code",
   "execution_count": 168,
   "id": "3498b525",
   "metadata": {},
   "outputs": [
    {
     "data": {
      "text/plain": [
       "['Some',\n",
       " 'say',\n",
       " 'the',\n",
       " 'world',\n",
       " 'will',\n",
       " 'end',\n",
       " 'in',\n",
       " 'fire',\n",
       " 'Some',\n",
       " 'say',\n",
       " 'in',\n",
       " 'ice',\n",
       " 'From',\n",
       " 'what',\n",
       " 'I’ve',\n",
       " 'tasted',\n",
       " 'of',\n",
       " 'desire',\n",
       " 'I',\n",
       " 'hold',\n",
       " 'with',\n",
       " 'those',\n",
       " 'who',\n",
       " 'favor',\n",
       " 'fire',\n",
       " 'But',\n",
       " 'if',\n",
       " 'it',\n",
       " 'had',\n",
       " 'to',\n",
       " 'perish',\n",
       " 'twice',\n",
       " 'I',\n",
       " 'think',\n",
       " 'I',\n",
       " 'know',\n",
       " 'enough',\n",
       " 'of',\n",
       " 'hate',\n",
       " 'To',\n",
       " 'say',\n",
       " 'that',\n",
       " 'for',\n",
       " 'destruction',\n",
       " 'ice',\n",
       " 'Is',\n",
       " 'also',\n",
       " 'great',\n",
       " 'And',\n",
       " 'would',\n",
       " 'suffice']"
      ]
     },
     "execution_count": 168,
     "metadata": {},
     "output_type": "execute_result"
    }
   ],
   "source": [
    "no_characters=poem.replace('.','').replace(',','').replace('\\n',' ')\n",
    "no_characters_list= re.split(' ', no_characters)\n",
    "no_characters_list\n",
    "\n",
    "\n",
    "\n"
   ]
  },
  {
   "cell_type": "code",
   "execution_count": 169,
   "id": "5eb12340",
   "metadata": {},
   "outputs": [
    {
     "name": "stdout",
     "output_type": "stream",
     "text": [
      "{'Some': 2, 'say': 3, 'the': 1, 'world': 1, 'will': 1, 'end': 1, 'in': 2, 'fire': 2, 'ice': 2, 'From': 1, 'what': 1, 'I’ve': 1, 'tasted': 1, 'of': 2, 'desire': 1, 'I': 3, 'hold': 1, 'with': 1, 'those': 1, 'who': 1, 'favor': 1, 'But': 1, 'if': 1, 'it': 1, 'had': 1, 'to': 1, 'perish': 1, 'twice': 1, 'think': 1, 'know': 1, 'enough': 1, 'hate': 1, 'To': 1, 'that': 1, 'for': 1, 'destruction': 1, 'Is': 1, 'also': 1, 'great': 1, 'And': 1, 'would': 1, 'suffice': 1}\n"
     ]
    }
   ],
   "source": [
    "def word_count(x):\n",
    "    counts = dict()\n",
    "    words = no_characters_list\n",
    "    for word in words:\n",
    "        if word in counts:\n",
    "            counts[word] += 1\n",
    "        else:\n",
    "            counts[word] = 1\n",
    "\n",
    "    return counts\n",
    "\n",
    "Dictionary= word_count(no_characters_list)\n",
    "print(Dictionary)"
   ]
  },
  {
   "cell_type": "markdown",
   "id": "d3af53ff",
   "metadata": {},
   "source": [
    "### In the cell below, find all the words that appear in the text and do not appear in the blacklist. You must parse the string but can choose any data structure you wish for the words that do not appear in the blacklist. Remove all non letter characters and convert all words to lower case."
   ]
  },
  {
   "cell_type": "code",
   "execution_count": 125,
   "id": "ecc95f37",
   "metadata": {},
   "outputs": [],
   "source": [
    "blacklist = ['and', 'as', 'an', 'a', 'the', 'in', 'it']\n",
    "\n",
    "poem2 = \"\"\"I was angry with my friend; \n",
    "I told my wrath, my wrath did end.\n",
    "I was angry with my foe: \n",
    "I told it not, my wrath did grow. \n",
    "\n",
    "And I waterd it in fears,\n",
    "Night & morning with my tears: \n",
    "And I sunned it with smiles,\n",
    "And with soft deceitful wiles. \n",
    "\n",
    "And it grew both day and night. \n",
    "Till it bore an apple bright. \n",
    "And my foe beheld it shine,\n",
    "And he knew that it was mine. \n",
    "\n",
    "And into my garden stole, \n",
    "When the night had veild the pole; \n",
    "In the morning glad I see; \n",
    "My foe outstretched beneath the tree.\"\"\"\n"
   ]
  },
  {
   "cell_type": "code",
   "execution_count": 198,
   "id": "35eb846d",
   "metadata": {},
   "outputs": [
    {
     "name": "stdout",
     "output_type": "stream",
     "text": [
      "I was angry with my friend I told my wrath my wrath did end I was angry with my foe I told it not my wrath did grow And I waterd it in fears Night morning with my tears And I sunned it with smiles And with soft deceitful wiles And it grew both day and night Till it bore an apple bright And my foe beheld it shine And he knew that it was mine And into my garden stole When the night had veild the pole In the morning glad I see My foe outstretched beneath the tree\n"
     ]
    },
    {
     "data": {
      "text/plain": [
       "['i',\n",
       " 'was',\n",
       " 'angry',\n",
       " 'with',\n",
       " 'my',\n",
       " 'friend',\n",
       " 'i',\n",
       " 'told',\n",
       " 'my',\n",
       " 'wrath',\n",
       " 'my',\n",
       " 'wrath',\n",
       " 'did',\n",
       " 'end',\n",
       " 'i',\n",
       " 'was',\n",
       " 'angry',\n",
       " 'with',\n",
       " 'my',\n",
       " 'foe',\n",
       " 'i',\n",
       " 'told',\n",
       " 'it',\n",
       " 'not',\n",
       " 'my',\n",
       " 'wrath',\n",
       " 'did',\n",
       " 'grow',\n",
       " 'and',\n",
       " 'i',\n",
       " 'waterd',\n",
       " 'it',\n",
       " 'in',\n",
       " 'fears',\n",
       " 'night',\n",
       " 'morning',\n",
       " 'with',\n",
       " 'my',\n",
       " 'tears',\n",
       " 'and',\n",
       " 'i',\n",
       " 'sunned',\n",
       " 'it',\n",
       " 'with',\n",
       " 'smiles',\n",
       " 'and',\n",
       " 'with',\n",
       " 'soft',\n",
       " 'deceitful',\n",
       " 'wiles',\n",
       " 'and',\n",
       " 'it',\n",
       " 'grew',\n",
       " 'both',\n",
       " 'day',\n",
       " 'and',\n",
       " 'night',\n",
       " 'till',\n",
       " 'it',\n",
       " 'bore',\n",
       " 'an',\n",
       " 'apple',\n",
       " 'bright',\n",
       " 'and',\n",
       " 'my',\n",
       " 'foe',\n",
       " 'beheld',\n",
       " 'it',\n",
       " 'shine',\n",
       " 'and',\n",
       " 'he',\n",
       " 'knew',\n",
       " 'that',\n",
       " 'it',\n",
       " 'was',\n",
       " 'mine',\n",
       " 'and',\n",
       " 'into',\n",
       " 'my',\n",
       " 'garden',\n",
       " 'stole',\n",
       " 'when',\n",
       " 'the',\n",
       " 'night',\n",
       " 'had',\n",
       " 'veild',\n",
       " 'the',\n",
       " 'pole',\n",
       " 'in',\n",
       " 'the',\n",
       " 'morning',\n",
       " 'glad',\n",
       " 'i',\n",
       " 'see',\n",
       " 'my',\n",
       " 'foe',\n",
       " 'outstretched',\n",
       " 'beneath',\n",
       " 'the',\n",
       " 'tree']"
      ]
     },
     "execution_count": 198,
     "metadata": {},
     "output_type": "execute_result"
    }
   ],
   "source": [
    "limpio=poem2.replace('.','').replace(',','').replace('\\n',' ').replace(';','').replace(':','').replace('&','')\n",
    "limpio2=limpio.replace('   ', ' ').replace('  ',' ')\n",
    "print(limpio2)\n",
    "limpio3=limpio2.lower()\n",
    "limpio_list= re.split(' ', limpio3)\n",
    "limpio_list\n",
    "\n",
    "        \n",
    "        "
   ]
  },
  {
   "cell_type": "code",
   "execution_count": 202,
   "id": "98e9dceb",
   "metadata": {},
   "outputs": [
    {
     "name": "stdout",
     "output_type": "stream",
     "text": [
      "['i', 'was', 'angry', 'with', 'my', 'friend', 'i', 'told', 'my', 'wrath', 'my', 'wrath', 'did', 'end', 'i', 'was', 'angry', 'with', 'my', 'foe', 'i', 'told', 'not', 'my', 'wrath', 'did', 'grow', 'i', 'waterd', 'fears', 'night', 'morning', 'with', 'my', 'tears', 'i', 'sunned', 'with', 'smiles', 'with', 'soft', 'deceitful', 'wiles', 'grew', 'both', 'day', 'night', 'till', 'bore', 'apple', 'bright', 'my', 'foe', 'beheld', 'shine', 'he', 'knew', 'that', 'was', 'mine', 'into', 'my', 'garden', 'stole', 'when', 'night', 'had', 'veild', 'pole', 'morning', 'glad', 'i', 'see', 'my', 'foe', 'outstretched', 'beneath', 'tree']\n"
     ]
    }
   ],
   "source": [
    "purged=[]\n",
    "\n",
    "\n",
    "for i in limpio_list:\n",
    "    if i not in blacklist:\n",
    "        purged.append(i)\n",
    "        \n",
    "print(purged)"
   ]
  },
  {
   "cell_type": "markdown",
   "id": "9671efab",
   "metadata": {},
   "source": [
    "### Sometimes, we would like to perform more complex manipulations of our string. This is where regular expressions come in handy. In the cell below, return all characters that are upper case from the string specified below."
   ]
  },
  {
   "cell_type": "code",
   "execution_count": 217,
   "id": "f15dfc48",
   "metadata": {},
   "outputs": [],
   "source": [
    "poem3 = \"\"\"The apparition of these faces in the crowd;\n",
    "Petals on a wet, black bough.\"\"\""
   ]
  },
  {
   "cell_type": "code",
   "execution_count": 231,
   "id": "93859aa8",
   "metadata": {},
   "outputs": [
    {
     "data": {
      "text/plain": [
       "['T', 'P']"
      ]
     },
     "execution_count": 231,
     "metadata": {},
     "output_type": "execute_result"
    }
   ],
   "source": [
    "re.findall('[A-Z]', poem3)"
   ]
  },
  {
   "cell_type": "markdown",
   "id": "d8fd1358",
   "metadata": {},
   "source": [
    "### In the cell below, filter the list provided and return all elements of the list containing a number. To filter the list, use the re.search function. Check if the function does not return None. You can read more about the re.search function here.\n",
    "\n"
   ]
  },
  {
   "cell_type": "code",
   "execution_count": 234,
   "id": "20d97880",
   "metadata": {},
   "outputs": [],
   "source": [
    "data = ['123abc', 'abc123', 'JohnSmith1', 'ABBY4', 'JANE']"
   ]
  },
  {
   "cell_type": "code",
   "execution_count": 285,
   "id": "7df07100",
   "metadata": {},
   "outputs": [
    {
     "name": "stdout",
     "output_type": "stream",
     "text": [
      "['123abc', 'abc123', 'JohnSmith1', 'ABBY4']\n"
     ]
    }
   ],
   "source": [
    "filtered_list=[]\n",
    "for i in data:\n",
    "    match=re.search('\\d+',i)\n",
    "    if match:\n",
    "        filtered_list.append(i)\n",
    "print(filtered_list)"
   ]
  },
  {
   "cell_type": "markdown",
   "id": "814fa78c",
   "metadata": {},
   "source": [
    "## Bonus Challenge - Regular Expressions II"
   ]
  },
  {
   "cell_type": "markdown",
   "id": "721793a7",
   "metadata": {},
   "source": [
    "### In the cell below, filter the list provided to keep only strings containing at least one digit and at least one lower case letter. As in the previous question, use the re.search function and check that the result is not None.\n",
    "\n",
    "### To read more about regular expressions, check out this link."
   ]
  },
  {
   "cell_type": "code",
   "execution_count": 293,
   "id": "88edab9f",
   "metadata": {},
   "outputs": [],
   "source": [
    "data = ['123abc', 'abc123', 'JohnSmith1', 'ABBY4', 'JANE','AbBy6', 'MigueLE7']"
   ]
  },
  {
   "cell_type": "code",
   "execution_count": 294,
   "id": "ad4c37ae",
   "metadata": {},
   "outputs": [
    {
     "name": "stdout",
     "output_type": "stream",
     "text": [
      "['123abc', 'abc123', 'JohnSmith1', 'AbBy6', 'MigueLE7']\n"
     ]
    }
   ],
   "source": [
    "filtered_list2=[]\n",
    "for i in data:\n",
    "    match=re.search('\\d'and'[a-z]',i)\n",
    "    if match:\n",
    "        filtered_list2.append(i)\n",
    "print(filtered_list2)"
   ]
  },
  {
   "cell_type": "raw",
   "id": "c7b9e5b5",
   "metadata": {},
   "source": [
    "#WHAT IF I ADD AbbY6 (calrify . and +)"
   ]
  },
  {
   "cell_type": "code",
   "execution_count": null,
   "id": "c49d4582",
   "metadata": {},
   "outputs": [],
   "source": []
  }
 ],
 "metadata": {
  "kernelspec": {
   "display_name": "Python 3 (ipykernel)",
   "language": "python",
   "name": "python3"
  },
  "language_info": {
   "codemirror_mode": {
    "name": "ipython",
    "version": 3
   },
   "file_extension": ".py",
   "mimetype": "text/x-python",
   "name": "python",
   "nbconvert_exporter": "python",
   "pygments_lexer": "ipython3",
   "version": "3.9.12"
  }
 },
 "nbformat": 4,
 "nbformat_minor": 5
}
