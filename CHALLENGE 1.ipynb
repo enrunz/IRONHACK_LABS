{
 "cells": [
  {
   "cell_type": "markdown",
   "id": "18ed906f",
   "metadata": {},
   "source": [
    "### 1. Define a variable tup with a single element \"I\""
   ]
  },
  {
   "cell_type": "code",
   "execution_count": 100,
   "id": "482eb657",
   "metadata": {},
   "outputs": [],
   "source": [
    "tup=('I',)"
   ]
  },
  {
   "cell_type": "markdown",
   "id": "e5c9426d",
   "metadata": {},
   "source": [
    "### 2. Print the type of tup"
   ]
  },
  {
   "cell_type": "code",
   "execution_count": 7,
   "id": "b380c39d",
   "metadata": {},
   "outputs": [
    {
     "data": {
      "text/plain": [
       "tuple"
      ]
     },
     "execution_count": 7,
     "metadata": {},
     "output_type": "execute_result"
    }
   ],
   "source": [
    "type(tup)"
   ]
  },
  {
   "cell_type": "markdown",
   "id": "c4898976",
   "metadata": {},
   "source": [
    "### 3. Try to append the following elements to tup"
   ]
  },
  {
   "cell_type": "code",
   "execution_count": 11,
   "id": "e1d33d99",
   "metadata": {},
   "outputs": [
    {
     "ename": "AttributeError",
     "evalue": "'tuple' object has no attribute 'append'",
     "output_type": "error",
     "traceback": [
      "\u001b[0;31m---------------------------------------------------------------------------\u001b[0m",
      "\u001b[0;31mAttributeError\u001b[0m                            Traceback (most recent call last)",
      "Input \u001b[0;32mIn [11]\u001b[0m, in \u001b[0;36m<cell line: 1>\u001b[0;34m()\u001b[0m\n\u001b[0;32m----> 1\u001b[0m tup\u001b[38;5;241m.\u001b[39mappend\u001b[38;5;241m=\u001b[39m\u001b[38;5;124m'\u001b[39m\u001b[38;5;124mr\u001b[39m\u001b[38;5;124m'\u001b[39m\n\u001b[1;32m      2\u001b[0m tup\u001b[38;5;241m.\u001b[39madd\u001b[38;5;241m=\u001b[39m\u001b[38;5;124m'\u001b[39m\u001b[38;5;124mr\u001b[39m\u001b[38;5;124m'\u001b[39m\n",
      "\u001b[0;31mAttributeError\u001b[0m: 'tuple' object has no attribute 'append'"
     ]
    }
   ],
   "source": [
    "tup.append='r'\n",
    "tup.add='r'"
   ]
  },
  {
   "cell_type": "markdown",
   "id": "3d395049",
   "metadata": {},
   "source": [
    "### <font color='red'>YOU CANNOT APPEND OR ADD ANYTHING TO A TUPLE BECAUSE IT IS IMMUTABLE</font>"
   ]
  },
  {
   "cell_type": "markdown",
   "id": "02fdc4bc",
   "metadata": {},
   "source": [
    "### 4. How about re-assign a new value to an existing tuple?"
   ]
  },
  {
   "cell_type": "code",
   "execution_count": 14,
   "id": "985dd46b",
   "metadata": {},
   "outputs": [
    {
     "data": {
      "text/plain": [
       "'I'"
      ]
     },
     "execution_count": 14,
     "metadata": {},
     "output_type": "execute_result"
    }
   ],
   "source": [
    "tup[0]"
   ]
  },
  {
   "cell_type": "code",
   "execution_count": 15,
   "id": "1e8e4950",
   "metadata": {},
   "outputs": [
    {
     "ename": "TypeError",
     "evalue": "'tuple' object does not support item assignment",
     "output_type": "error",
     "traceback": [
      "\u001b[0;31m---------------------------------------------------------------------------\u001b[0m",
      "\u001b[0;31mTypeError\u001b[0m                                 Traceback (most recent call last)",
      "Input \u001b[0;32mIn [15]\u001b[0m, in \u001b[0;36m<cell line: 1>\u001b[0;34m()\u001b[0m\n\u001b[0;32m----> 1\u001b[0m tup[\u001b[38;5;241m0\u001b[39m]\u001b[38;5;241m=\u001b[39m\u001b[38;5;124m'\u001b[39m\u001b[38;5;124mIronhack\u001b[39m\u001b[38;5;124m'\u001b[39m\n",
      "\u001b[0;31mTypeError\u001b[0m: 'tuple' object does not support item assignment"
     ]
    }
   ],
   "source": [
    "tup[0]='Ironhack'"
   ]
  },
  {
   "cell_type": "markdown",
   "id": "04e286f4",
   "metadata": {},
   "source": [
    "### <font color='red'>YOU CANNOT SUBSTITUTE OR REASSIGN ITEMS IN A TUPLE BECAUSE IT IS IMMUTABLE</font>\n"
   ]
  },
  {
   "cell_type": "markdown",
   "id": "007abff8",
   "metadata": {},
   "source": [
    "### 5.Split tup into tup1 and tup2 with 4 elements in each"
   ]
  },
  {
   "cell_type": "code",
   "execution_count": 16,
   "id": "02393d9c",
   "metadata": {},
   "outputs": [],
   "source": [
    "Tup=('I','r','o','n','h','a','c','k')"
   ]
  },
  {
   "cell_type": "code",
   "execution_count": 17,
   "id": "fa45a802",
   "metadata": {},
   "outputs": [
    {
     "data": {
      "text/plain": [
       "tuple"
      ]
     },
     "execution_count": 17,
     "metadata": {},
     "output_type": "execute_result"
    }
   ],
   "source": [
    "type(Tup)"
   ]
  },
  {
   "cell_type": "code",
   "execution_count": 83,
   "id": "7f1787f5",
   "metadata": {},
   "outputs": [
    {
     "name": "stdout",
     "output_type": "stream",
     "text": [
      "('I', 'r', 'o', 'n')\n"
     ]
    }
   ],
   "source": [
    "TUP1=(Tup[0:4])\n",
    "print(TUP1) \n",
    "    "
   ]
  },
  {
   "cell_type": "code",
   "execution_count": 84,
   "id": "f15e0d4b",
   "metadata": {},
   "outputs": [
    {
     "data": {
      "text/plain": [
       "tuple"
      ]
     },
     "execution_count": 84,
     "metadata": {},
     "output_type": "execute_result"
    }
   ],
   "source": [
    "type(TUP1)"
   ]
  },
  {
   "cell_type": "code",
   "execution_count": 92,
   "id": "d27c7ac5",
   "metadata": {},
   "outputs": [
    {
     "name": "stdout",
     "output_type": "stream",
     "text": [
      "('h', 'a', 'c', 'k')\n"
     ]
    }
   ],
   "source": [
    "TUP2=(Tup[-4:])\n",
    "print(TUP2)"
   ]
  },
  {
   "cell_type": "markdown",
   "id": "cb8f8064",
   "metadata": {},
   "source": [
    "### 6. Add tup1 and tup2 into tup3 using the + operator."
   ]
  },
  {
   "cell_type": "code",
   "execution_count": 101,
   "id": "6b56f565",
   "metadata": {},
   "outputs": [],
   "source": [
    "TUP3=TUP1+TUP2"
   ]
  },
  {
   "cell_type": "code",
   "execution_count": 102,
   "id": "a02c3e25",
   "metadata": {},
   "outputs": [
    {
     "name": "stdout",
     "output_type": "stream",
     "text": [
      "('I', 'r', 'o', 'n', 'h', 'a', 'c', 'k')\n"
     ]
    }
   ],
   "source": [
    "print(TUP3)"
   ]
  },
  {
   "cell_type": "code",
   "execution_count": 113,
   "id": "fee425dc",
   "metadata": {},
   "outputs": [
    {
     "name": "stdout",
     "output_type": "stream",
     "text": [
      "('I', 'r', 'o', 'n', 'h', 'a', 'c', 'k')\n",
      "('I', 'r', 'o', 'n', 'h', 'a', 'c', 'k')\n",
      "SAME\n"
     ]
    }
   ],
   "source": [
    "print(Tup)\n",
    "print(TUP3)\n",
    "\n",
    "if Tup==TUP3:\n",
    "    print('SAME')"
   ]
  },
  {
   "cell_type": "markdown",
   "id": "45b42f06",
   "metadata": {},
   "source": [
    "### Count the number of elements in tup1 and tup2. Then add the two counts together and check if the sum is the same as the number of elements in tup3"
   ]
  },
  {
   "cell_type": "code",
   "execution_count": 94,
   "id": "3ce520a0",
   "metadata": {},
   "outputs": [
    {
     "data": {
      "text/plain": [
       "4"
      ]
     },
     "execution_count": 94,
     "metadata": {},
     "output_type": "execute_result"
    }
   ],
   "source": [
    "len(TUP1)"
   ]
  },
  {
   "cell_type": "code",
   "execution_count": 95,
   "id": "cf3d98c3",
   "metadata": {},
   "outputs": [
    {
     "data": {
      "text/plain": [
       "4"
      ]
     },
     "execution_count": 95,
     "metadata": {},
     "output_type": "execute_result"
    }
   ],
   "source": [
    "len(TUP2)"
   ]
  },
  {
   "cell_type": "code",
   "execution_count": 112,
   "id": "d466f290",
   "metadata": {},
   "outputs": [
    {
     "name": "stdout",
     "output_type": "stream",
     "text": [
      "SAME\n"
     ]
    }
   ],
   "source": [
    "y=len(TUP1)+len(TUP2)\n",
    "\n",
    "if y==len(TUP3):\n",
    "    print('SAME')"
   ]
  },
  {
   "cell_type": "markdown",
   "id": "61d90e4b",
   "metadata": {},
   "source": [
    "### What is the index number of \"h\" in tup3"
   ]
  },
  {
   "cell_type": "code",
   "execution_count": 114,
   "id": "ac4e66ed",
   "metadata": {},
   "outputs": [
    {
     "data": {
      "text/plain": [
       "4"
      ]
     },
     "execution_count": 114,
     "metadata": {},
     "output_type": "execute_result"
    }
   ],
   "source": [
    "TUP3.index('h')"
   ]
  },
  {
   "cell_type": "markdown",
   "id": "8e4b7bc9",
   "metadata": {},
   "source": [
    "### Now, use a FOR loop to check whether each letter in the following list is present in tup3"
   ]
  },
  {
   "cell_type": "code",
   "execution_count": 121,
   "id": "00c99cc7",
   "metadata": {},
   "outputs": [
    {
     "name": "stdout",
     "output_type": "stream",
     "text": [
      "a IS in TUP3\n",
      "b NOT in TUP3\n",
      "c IS in TUP3\n",
      "d NOT in TUP3\n",
      "e NOT in TUP3\n"
     ]
    }
   ],
   "source": [
    "letters = [\"a\", \"b\", \"c\", \"d\", \"e\"]\n",
    "\n",
    "for item in letters:\n",
    "    if item in TUP3:\n",
    "        print(item,'IS in TUP3')\n",
    "    else:\n",
    "        print(item, 'NOT in TUP3')"
   ]
  },
  {
   "cell_type": "markdown",
   "id": "c5769af7",
   "metadata": {},
   "source": [
    "### How many times does each letter in letters appear in tup3"
   ]
  },
  {
   "cell_type": "code",
   "execution_count": 122,
   "id": "fc9fca55",
   "metadata": {},
   "outputs": [
    {
     "name": "stdout",
     "output_type": "stream",
     "text": [
      "a is in TUP3 1 time(s)\n",
      "b is not in TUP3\n",
      "c is in TUP3 1 time(s)\n",
      "d is not in TUP3\n",
      "e is not in TUP3\n"
     ]
    }
   ],
   "source": [
    "for item in letters:\n",
    "    if item in TUP3:\n",
    "        TUP3.count(item)\n",
    "        print(item,'is in TUP3',TUP3.count(item),'time(s)')\n",
    "    else:\n",
    "        print(item, 'is not in TUP3')"
   ]
  },
  {
   "cell_type": "code",
   "execution_count": null,
   "id": "c86beed2",
   "metadata": {},
   "outputs": [],
   "source": []
  }
 ],
 "metadata": {
  "kernelspec": {
   "display_name": "Python 3 (ipykernel)",
   "language": "python",
   "name": "python3"
  },
  "language_info": {
   "codemirror_mode": {
    "name": "ipython",
    "version": 3
   },
   "file_extension": ".py",
   "mimetype": "text/x-python",
   "name": "python",
   "nbconvert_exporter": "python",
   "pygments_lexer": "ipython3",
   "version": "3.9.12"
  }
 },
 "nbformat": 4,
 "nbformat_minor": 5
}
