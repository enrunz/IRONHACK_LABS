{
 "cells": [
  {
   "cell_type": "markdown",
   "metadata": {},
   "source": [
    "# Supervised Learning Model Evaluation Lab\n",
    "\n",
    "Complete the exercises below to solidify your knowledge and understanding of supervised learning model evaluation."
   ]
  },
  {
   "cell_type": "code",
   "execution_count": 127,
   "metadata": {},
   "outputs": [],
   "source": [
    "import pandas as pd\n",
    "import numpy as np\n",
    "import pandas as pd\n",
    "import matplotlib.pyplot as plt\n",
    "import seaborn as sns\n",
    "from sklearn.model_selection import train_test_split\n",
    "from sklearn.linear_model import LinearRegression\n",
    "from sklearn.linear_model import LogisticRegression\n",
    "from sklearn.metrics import confusion_matrix, accuracy_score, plot_confusion_matrix\n",
    "import statsmodels.api as sm\n",
    "from sklearn.metrics import r2_score\n",
    "from sklearn.metrics import mean_squared_error, mean_absolute_error\n",
    "from sklearn.metrics import accuracy_score\n",
    "from sklearn.metrics import balanced_accuracy_score\n",
    "from sklearn.metrics import precision_score\n",
    "from sklearn.metrics import recall_score\n",
    "from sklearn.metrics import f1_score\n",
    "from sklearn.metrics import confusion_matrix, plot_confusion_matrix\n"
   ]
  },
  {
   "cell_type": "markdown",
   "metadata": {},
   "source": [
    "## Regression Model Evaluation"
   ]
  },
  {
   "cell_type": "code",
   "execution_count": 80,
   "metadata": {
    "scrolled": true
   },
   "outputs": [
    {
     "name": "stderr",
     "output_type": "stream",
     "text": [
      "/Users/derinkivaner/opt/anaconda3/lib/python3.9/site-packages/sklearn/utils/deprecation.py:87: FutureWarning: Function load_boston is deprecated; `load_boston` is deprecated in 1.0 and will be removed in 1.2.\n",
      "\n",
      "    The Boston housing prices dataset has an ethical problem. You can refer to\n",
      "    the documentation of this function for further details.\n",
      "\n",
      "    The scikit-learn maintainers therefore strongly discourage the use of this\n",
      "    dataset unless the purpose of the code is to study and educate about\n",
      "    ethical issues in data science and machine learning.\n",
      "\n",
      "    In this special case, you can fetch the dataset from the original\n",
      "    source::\n",
      "\n",
      "        import pandas as pd\n",
      "        import numpy as np\n",
      "\n",
      "\n",
      "        data_url = \"http://lib.stat.cmu.edu/datasets/boston\"\n",
      "        raw_df = pd.read_csv(data_url, sep=\"\\s+\", skiprows=22, header=None)\n",
      "        data = np.hstack([raw_df.values[::2, :], raw_df.values[1::2, :2]])\n",
      "        target = raw_df.values[1::2, 2]\n",
      "\n",
      "    Alternative datasets include the California housing dataset (i.e.\n",
      "    :func:`~sklearn.datasets.fetch_california_housing`) and the Ames housing\n",
      "    dataset. You can load the datasets as follows::\n",
      "\n",
      "        from sklearn.datasets import fetch_california_housing\n",
      "        housing = fetch_california_housing()\n",
      "\n",
      "    for the California housing dataset and::\n",
      "\n",
      "        from sklearn.datasets import fetch_openml\n",
      "        housing = fetch_openml(name=\"house_prices\", as_frame=True)\n",
      "\n",
      "    for the Ames housing dataset.\n",
      "    \n",
      "  warnings.warn(msg, category=FutureWarning)\n"
     ]
    }
   ],
   "source": [
    "from sklearn.datasets import load_boston\n",
    "\n",
    "data = load_boston()\n",
    "\n",
    "X = pd.DataFrame(data[\"data\"], columns=data[\"feature_names\"])\n",
    "y = pd.DataFrame(data[\"target\"], columns=['MEDV'])\n",
    "\n",
    "data = pd.concat([X, y], axis=1)"
   ]
  },
  {
   "cell_type": "markdown",
   "metadata": {},
   "source": [
    "## 1. Split this data set into training (80%) and testing (20%) sets.\n",
    "\n",
    "The `MEDV` field represents the median value of owner-occupied homes (in $1000's) and is the target variable that we will want to predict."
   ]
  },
  {
   "cell_type": "code",
   "execution_count": 81,
   "metadata": {},
   "outputs": [],
   "source": [
    "from sklearn.model_selection import train_test_split\n",
    "X_train, X_test, y_train, y_test= train_test_split(X,y,test_size=.20)"
   ]
  },
  {
   "cell_type": "markdown",
   "metadata": {},
   "source": [
    "## 2. Train a `LinearRegression` model on this data set and generate predictions on both the training and the testing set."
   ]
  },
  {
   "cell_type": "code",
   "execution_count": 82,
   "metadata": {},
   "outputs": [
    {
     "data": {
      "text/plain": [
       "LinearRegression()"
      ]
     },
     "execution_count": 82,
     "metadata": {},
     "output_type": "execute_result"
    }
   ],
   "source": [
    "lm_fit=LinearRegression()\n",
    "lm_fit.fit(X_train,y_train)"
   ]
  },
  {
   "cell_type": "code",
   "execution_count": 83,
   "metadata": {},
   "outputs": [],
   "source": [
    "y_train_pred=lm_fit.predict(X_train)"
   ]
  },
  {
   "cell_type": "code",
   "execution_count": 84,
   "metadata": {},
   "outputs": [],
   "source": [
    "y_test_pred=lm_fit.predict(X_test)"
   ]
  },
  {
   "cell_type": "markdown",
   "metadata": {},
   "source": [
    "## 3. Calculate and print R-squared for both the training and the testing set."
   ]
  },
  {
   "cell_type": "code",
   "execution_count": 85,
   "metadata": {},
   "outputs": [
    {
     "name": "stdout",
     "output_type": "stream",
     "text": [
      "0.7415298509128021\n"
     ]
    }
   ],
   "source": [
    "from sklearn.metrics import r2_score\n",
    "train_r2=r2_score(y_train,y_train_pred)\n",
    "print(train_r2)\n"
   ]
  },
  {
   "cell_type": "code",
   "execution_count": 86,
   "metadata": {},
   "outputs": [
    {
     "name": "stdout",
     "output_type": "stream",
     "text": [
      "0.7145859350546502\n"
     ]
    }
   ],
   "source": [
    "test_r2=r2_score(y_test,y_test_pred)\n",
    "print(test_r2)\n"
   ]
  },
  {
   "cell_type": "markdown",
   "metadata": {},
   "source": [
    "## 4. Calculate and print mean squared error for both the training and the testing set."
   ]
  },
  {
   "cell_type": "code",
   "execution_count": 90,
   "metadata": {},
   "outputs": [
    {
     "name": "stdout",
     "output_type": "stream",
     "text": [
      "24.147016676060318\n"
     ]
    },
    {
     "data": {
      "text/plain": [
       "4.913961403598965"
      ]
     },
     "execution_count": 90,
     "metadata": {},
     "output_type": "execute_result"
    }
   ],
   "source": [
    "from sklearn.metrics import mean_squared_error, mean_absolute_error\n",
    "\n",
    "train_mse=mean_squared_error(y_train,y_train_pred)\n",
    "print(train_mse)\n",
    "np.sqrt(train_mse)"
   ]
  },
  {
   "cell_type": "code",
   "execution_count": 91,
   "metadata": {},
   "outputs": [
    {
     "name": "stdout",
     "output_type": "stream",
     "text": [
      "13.89037748382208\n"
     ]
    },
    {
     "data": {
      "text/plain": [
       "3.7269796731162996"
      ]
     },
     "execution_count": 91,
     "metadata": {},
     "output_type": "execute_result"
    }
   ],
   "source": [
    "test_mse=mean_squared_error(y_test,y_test_pred)\n",
    "print(test_mse)\n",
    "np.sqrt(test_mse)"
   ]
  },
  {
   "cell_type": "markdown",
   "metadata": {},
   "source": [
    "## 5. Calculate and print mean absolute error for both the training and the testing set."
   ]
  },
  {
   "cell_type": "code",
   "execution_count": 92,
   "metadata": {},
   "outputs": [
    {
     "name": "stdout",
     "output_type": "stream",
     "text": [
      "3.4730625681335434\n"
     ]
    }
   ],
   "source": [
    "train_mae=mean_absolute_error(y_train,y_train_pred)\n",
    "print(train_mae)"
   ]
  },
  {
   "cell_type": "code",
   "execution_count": 93,
   "metadata": {},
   "outputs": [
    {
     "name": "stdout",
     "output_type": "stream",
     "text": [
      "2.9873025091744716\n"
     ]
    }
   ],
   "source": [
    "test_mae=mean_absolute_error(y_test,y_test_pred)\n",
    "print(test_mae)"
   ]
  },
  {
   "cell_type": "markdown",
   "metadata": {},
   "source": [
    "## Classification Model Evaluation"
   ]
  },
  {
   "cell_type": "code",
   "execution_count": 101,
   "metadata": {},
   "outputs": [],
   "source": [
    "from sklearn.datasets import load_iris\n",
    "\n",
    "data = load_iris()\n",
    "\n",
    "Xc = pd.DataFrame(data[\"data\"], columns=data[\"feature_names\"])\n",
    "yc= pd.DataFrame(data[\"target\"], columns=[\"class\"])\n",
    "\n",
    "data = pd.concat([Xc, yc], axis=1)"
   ]
  },
  {
   "cell_type": "code",
   "execution_count": 115,
   "metadata": {},
   "outputs": [
    {
     "data": {
      "text/html": [
       "<div>\n",
       "<style scoped>\n",
       "    .dataframe tbody tr th:only-of-type {\n",
       "        vertical-align: middle;\n",
       "    }\n",
       "\n",
       "    .dataframe tbody tr th {\n",
       "        vertical-align: top;\n",
       "    }\n",
       "\n",
       "    .dataframe thead th {\n",
       "        text-align: right;\n",
       "    }\n",
       "</style>\n",
       "<table border=\"1\" class=\"dataframe\">\n",
       "  <thead>\n",
       "    <tr style=\"text-align: right;\">\n",
       "      <th></th>\n",
       "      <th>sepal length (cm)</th>\n",
       "      <th>sepal width (cm)</th>\n",
       "      <th>petal length (cm)</th>\n",
       "      <th>petal width (cm)</th>\n",
       "    </tr>\n",
       "  </thead>\n",
       "  <tbody>\n",
       "    <tr>\n",
       "      <th>0</th>\n",
       "      <td>5.1</td>\n",
       "      <td>3.5</td>\n",
       "      <td>1.4</td>\n",
       "      <td>0.2</td>\n",
       "    </tr>\n",
       "    <tr>\n",
       "      <th>1</th>\n",
       "      <td>4.9</td>\n",
       "      <td>3.0</td>\n",
       "      <td>1.4</td>\n",
       "      <td>0.2</td>\n",
       "    </tr>\n",
       "    <tr>\n",
       "      <th>2</th>\n",
       "      <td>4.7</td>\n",
       "      <td>3.2</td>\n",
       "      <td>1.3</td>\n",
       "      <td>0.2</td>\n",
       "    </tr>\n",
       "    <tr>\n",
       "      <th>3</th>\n",
       "      <td>4.6</td>\n",
       "      <td>3.1</td>\n",
       "      <td>1.5</td>\n",
       "      <td>0.2</td>\n",
       "    </tr>\n",
       "    <tr>\n",
       "      <th>4</th>\n",
       "      <td>5.0</td>\n",
       "      <td>3.6</td>\n",
       "      <td>1.4</td>\n",
       "      <td>0.2</td>\n",
       "    </tr>\n",
       "    <tr>\n",
       "      <th>...</th>\n",
       "      <td>...</td>\n",
       "      <td>...</td>\n",
       "      <td>...</td>\n",
       "      <td>...</td>\n",
       "    </tr>\n",
       "    <tr>\n",
       "      <th>145</th>\n",
       "      <td>6.7</td>\n",
       "      <td>3.0</td>\n",
       "      <td>5.2</td>\n",
       "      <td>2.3</td>\n",
       "    </tr>\n",
       "    <tr>\n",
       "      <th>146</th>\n",
       "      <td>6.3</td>\n",
       "      <td>2.5</td>\n",
       "      <td>5.0</td>\n",
       "      <td>1.9</td>\n",
       "    </tr>\n",
       "    <tr>\n",
       "      <th>147</th>\n",
       "      <td>6.5</td>\n",
       "      <td>3.0</td>\n",
       "      <td>5.2</td>\n",
       "      <td>2.0</td>\n",
       "    </tr>\n",
       "    <tr>\n",
       "      <th>148</th>\n",
       "      <td>6.2</td>\n",
       "      <td>3.4</td>\n",
       "      <td>5.4</td>\n",
       "      <td>2.3</td>\n",
       "    </tr>\n",
       "    <tr>\n",
       "      <th>149</th>\n",
       "      <td>5.9</td>\n",
       "      <td>3.0</td>\n",
       "      <td>5.1</td>\n",
       "      <td>1.8</td>\n",
       "    </tr>\n",
       "  </tbody>\n",
       "</table>\n",
       "<p>150 rows × 4 columns</p>\n",
       "</div>"
      ],
      "text/plain": [
       "     sepal length (cm)  sepal width (cm)  petal length (cm)  petal width (cm)\n",
       "0                  5.1               3.5                1.4               0.2\n",
       "1                  4.9               3.0                1.4               0.2\n",
       "2                  4.7               3.2                1.3               0.2\n",
       "3                  4.6               3.1                1.5               0.2\n",
       "4                  5.0               3.6                1.4               0.2\n",
       "..                 ...               ...                ...               ...\n",
       "145                6.7               3.0                5.2               2.3\n",
       "146                6.3               2.5                5.0               1.9\n",
       "147                6.5               3.0                5.2               2.0\n",
       "148                6.2               3.4                5.4               2.3\n",
       "149                5.9               3.0                5.1               1.8\n",
       "\n",
       "[150 rows x 4 columns]"
      ]
     },
     "execution_count": 115,
     "metadata": {},
     "output_type": "execute_result"
    }
   ],
   "source": [
    "Xc"
   ]
  },
  {
   "cell_type": "markdown",
   "metadata": {},
   "source": [
    "## 6. Split this data set into training (80%) and testing (20%) sets.\n",
    "\n",
    "The `class` field represents the type of flower and is the target variable that we will want to predict."
   ]
  },
  {
   "cell_type": "code",
   "execution_count": 102,
   "metadata": {},
   "outputs": [],
   "source": [
    "X_train_c,X_test_c,y_train_c,y_test_c= train_test_split(Xc,yc,test_size=.20)"
   ]
  },
  {
   "cell_type": "markdown",
   "metadata": {},
   "source": [
    "## 7. Train a `LogisticRegression` model on this data set and generate predictions on both the training and the testing set."
   ]
  },
  {
   "cell_type": "code",
   "execution_count": 103,
   "metadata": {},
   "outputs": [
    {
     "name": "stderr",
     "output_type": "stream",
     "text": [
      "/Users/derinkivaner/opt/anaconda3/lib/python3.9/site-packages/sklearn/utils/validation.py:993: DataConversionWarning: A column-vector y was passed when a 1d array was expected. Please change the shape of y to (n_samples, ), for example using ravel().\n",
      "  y = column_or_1d(y, warn=True)\n"
     ]
    },
    {
     "data": {
      "text/plain": [
       "LogisticRegression()"
      ]
     },
     "execution_count": 103,
     "metadata": {},
     "output_type": "execute_result"
    }
   ],
   "source": [
    "log_fit=LogisticRegression()\n",
    "log_fit.fit(X_train_c,y_train_c)"
   ]
  },
  {
   "cell_type": "code",
   "execution_count": 104,
   "metadata": {},
   "outputs": [],
   "source": [
    "y_train_pred_c=log_fit.predict(X_train_c)"
   ]
  },
  {
   "cell_type": "code",
   "execution_count": 105,
   "metadata": {},
   "outputs": [],
   "source": [
    "y_test_pred_c=log_fit.predict(X_test_c)"
   ]
  },
  {
   "cell_type": "markdown",
   "metadata": {},
   "source": [
    "## 8. Calculate and print the accuracy score for both the training and the testing set."
   ]
  },
  {
   "cell_type": "code",
   "execution_count": 106,
   "metadata": {},
   "outputs": [
    {
     "data": {
      "text/plain": [
       "0.975"
      ]
     },
     "execution_count": 106,
     "metadata": {},
     "output_type": "execute_result"
    }
   ],
   "source": [
    "train_as=accuracy_score(y_train_c,y_train_pred_c)\n",
    "train_as"
   ]
  },
  {
   "cell_type": "code",
   "execution_count": 107,
   "metadata": {},
   "outputs": [
    {
     "data": {
      "text/plain": [
       "0.9333333333333333"
      ]
     },
     "execution_count": 107,
     "metadata": {},
     "output_type": "execute_result"
    }
   ],
   "source": [
    "test_as=accuracy_score(y_test_c,y_test_pred_c)\n",
    "test_as"
   ]
  },
  {
   "cell_type": "markdown",
   "metadata": {},
   "source": [
    "## 9. Calculate and print the balanced accuracy score for both the training and the testing set."
   ]
  },
  {
   "cell_type": "code",
   "execution_count": 109,
   "metadata": {},
   "outputs": [
    {
     "data": {
      "text/plain": [
       "0.9737295434969854"
      ]
     },
     "execution_count": 109,
     "metadata": {},
     "output_type": "execute_result"
    }
   ],
   "source": [
    "train_bas=balanced_accuracy_score(y_train_c,y_train_pred_c)\n",
    "train_bas"
   ]
  },
  {
   "cell_type": "code",
   "execution_count": 110,
   "metadata": {},
   "outputs": [
    {
     "data": {
      "text/plain": [
       "0.9285714285714285"
      ]
     },
     "execution_count": 110,
     "metadata": {},
     "output_type": "execute_result"
    }
   ],
   "source": [
    "test_bas=balanced_accuracy_score(y_test_c,y_test_pred_c)\n",
    "test_bas"
   ]
  },
  {
   "cell_type": "markdown",
   "metadata": {},
   "source": [
    "## 10. Calculate and print the precision score for both the training and the testing set."
   ]
  },
  {
   "cell_type": "code",
   "execution_count": 119,
   "metadata": {},
   "outputs": [
    {
     "data": {
      "text/plain": [
       "0.975"
      ]
     },
     "execution_count": 119,
     "metadata": {},
     "output_type": "execute_result"
    }
   ],
   "source": [
    "train_ps=precision_score(y_train_c,y_train_pred_c,average='micro')\n",
    "train_ps"
   ]
  },
  {
   "cell_type": "code",
   "execution_count": 118,
   "metadata": {},
   "outputs": [
    {
     "data": {
      "text/plain": [
       "0.9333333333333333"
      ]
     },
     "execution_count": 118,
     "metadata": {},
     "output_type": "execute_result"
    }
   ],
   "source": [
    "test_ps=precision_score(y_test_c,y_test_pred_c,average='micro')\n",
    "test_ps"
   ]
  },
  {
   "cell_type": "markdown",
   "metadata": {},
   "source": [
    "## 11. Calculate and print the recall score for both the training and the testing set."
   ]
  },
  {
   "cell_type": "code",
   "execution_count": 122,
   "metadata": {},
   "outputs": [
    {
     "data": {
      "text/plain": [
       "0.975"
      ]
     },
     "execution_count": 122,
     "metadata": {},
     "output_type": "execute_result"
    }
   ],
   "source": [
    "train_rs=recall_score(y_train_c,y_train_pred_c,average='micro')\n",
    "train_rs"
   ]
  },
  {
   "cell_type": "code",
   "execution_count": 123,
   "metadata": {},
   "outputs": [
    {
     "data": {
      "text/plain": [
       "0.9333333333333333"
      ]
     },
     "execution_count": 123,
     "metadata": {},
     "output_type": "execute_result"
    }
   ],
   "source": [
    "test_rs=recall_score(y_test_c,y_test_pred_c,average='micro')\n",
    "test_rs"
   ]
  },
  {
   "cell_type": "markdown",
   "metadata": {},
   "source": [
    "## 12. Calculate and print the F1 score for both the training and the testing set."
   ]
  },
  {
   "cell_type": "code",
   "execution_count": 125,
   "metadata": {},
   "outputs": [
    {
     "data": {
      "text/plain": [
       "0.975"
      ]
     },
     "execution_count": 125,
     "metadata": {},
     "output_type": "execute_result"
    }
   ],
   "source": [
    "train_f1=f1_score(y_train_c,y_train_pred_c,average='micro')\n",
    "train_f1"
   ]
  },
  {
   "cell_type": "code",
   "execution_count": 126,
   "metadata": {},
   "outputs": [
    {
     "data": {
      "text/plain": [
       "0.9333333333333333"
      ]
     },
     "execution_count": 126,
     "metadata": {},
     "output_type": "execute_result"
    }
   ],
   "source": [
    "test_f1=f1_score(y_test_c,y_test_pred_c,average='micro')\n",
    "test_f1"
   ]
  },
  {
   "cell_type": "markdown",
   "metadata": {},
   "source": [
    "## 13. Generate confusion matrices for both the training and the testing set."
   ]
  },
  {
   "cell_type": "code",
   "execution_count": 133,
   "metadata": {},
   "outputs": [
    {
     "name": "stdout",
     "output_type": "stream",
     "text": [
      "[[41  0  0]\n",
      " [ 0 42  1]\n",
      " [ 0  2 34]]\n"
     ]
    },
    {
     "name": "stderr",
     "output_type": "stream",
     "text": [
      "/Users/derinkivaner/opt/anaconda3/lib/python3.9/site-packages/sklearn/utils/deprecation.py:87: FutureWarning: Function plot_confusion_matrix is deprecated; Function `plot_confusion_matrix` is deprecated in 1.0 and will be removed in 1.2. Use one of the class methods: ConfusionMatrixDisplay.from_predictions or ConfusionMatrixDisplay.from_estimator.\n",
      "  warnings.warn(msg, category=FutureWarning)\n"
     ]
    },
    {
     "data": {
      "text/plain": [
       "<sklearn.metrics._plot.confusion_matrix.ConfusionMatrixDisplay at 0x7fb3e8517c40>"
      ]
     },
     "execution_count": 133,
     "metadata": {},
     "output_type": "execute_result"
    },
    {
     "data": {
      "image/png": "[encoded data removed]",
      "text/plain": [
       "<Figure size 432x288 with 2 Axes>"
      ]
     },
     "metadata": {
      "needs_background": "light"
     },
     "output_type": "display_data"
    }
   ],
   "source": [
    "print(confusion_matrix(y_train_c,y_train_pred_c))\n",
    "plot_confusion_matrix(log_fit,X_train_c,y_train_c)"
   ]
  },
  {
   "cell_type": "code",
   "execution_count": 134,
   "metadata": {},
   "outputs": [
    {
     "name": "stdout",
     "output_type": "stream",
     "text": [
      "[[ 9  0  0]\n",
      " [ 0  6  1]\n",
      " [ 0  1 13]]\n"
     ]
    },
    {
     "name": "stderr",
     "output_type": "stream",
     "text": [
      "/Users/derinkivaner/opt/anaconda3/lib/python3.9/site-packages/sklearn/utils/deprecation.py:87: FutureWarning: Function plot_confusion_matrix is deprecated; Function `plot_confusion_matrix` is deprecated in 1.0 and will be removed in 1.2. Use one of the class methods: ConfusionMatrixDisplay.from_predictions or ConfusionMatrixDisplay.from_estimator.\n",
      "  warnings.warn(msg, category=FutureWarning)\n"
     ]
    },
    {
     "data": {
      "text/plain": [
       "<sklearn.metrics._plot.confusion_matrix.ConfusionMatrixDisplay at 0x7fb3e8726fa0>"
      ]
     },
     "execution_count": 134,
     "metadata": {},
     "output_type": "execute_result"
    },
    {
     "data": {
      "image/png": "[encoded data removed]",
      "text/plain": [
       "<Figure size 432x288 with 2 Axes>"
      ]
     },
     "metadata": {
      "needs_background": "light"
     },
     "output_type": "display_data"
    }
   ],
   "source": [
    "print(confusion_matrix(y_test_c,y_test_pred_c))\n",
    "plot_confusion_matrix(log_fit,X_test_c,y_test_c)"
   ]
  },
  {
   "cell_type": "markdown",
   "metadata": {},
   "source": [
    "## Bonus: For each of the data sets in this lab, try training with some of the other models you have learned about, recalculate the evaluation metrics, and compare to determine which models perform best on each data set."
   ]
  },
  {
   "cell_type": "code",
   "execution_count": 138,
   "metadata": {},
   "outputs": [],
   "source": [
    "import catboost as cat"
   ]
  },
  {
   "cell_type": "code",
   "execution_count": 139,
   "metadata": {
    "collapsed": true
   },
   "outputs": [
    {
     "name": "stdout",
     "output_type": "stream",
     "text": [
      "Learning rate set to 0.005871\n",
      "0:\tlearn: 0.7960048\ttest: 0.8799542\tbest: 0.8799542 (0)\ttotal: 49.9ms\tremaining: 16m 37s\n",
      "1:\tlearn: 0.7922725\ttest: 0.8759482\tbest: 0.8759482 (1)\ttotal: 50.3ms\tremaining: 8m 22s\n",
      "2:\tlearn: 0.7883194\ttest: 0.8715292\tbest: 0.8715292 (2)\ttotal: 50.5ms\tremaining: 5m 36s\n",
      "3:\tlearn: 0.7854105\ttest: 0.8680834\tbest: 0.8680834 (3)\ttotal: 50.8ms\tremaining: 4m 13s\n",
      "4:\tlearn: 0.7814621\ttest: 0.8637940\tbest: 0.8637940 (4)\ttotal: 51ms\tremaining: 3m 23s\n",
      "5:\tlearn: 0.7775637\ttest: 0.8594054\tbest: 0.8594054 (5)\ttotal: 51.2ms\tremaining: 2m 50s\n",
      "6:\tlearn: 0.7739806\ttest: 0.8557501\tbest: 0.8557501 (6)\ttotal: 51.4ms\tremaining: 2m 26s\n",
      "7:\tlearn: 0.7710542\ttest: 0.8521094\tbest: 0.8521094 (7)\ttotal: 51.7ms\tremaining: 2m 9s\n",
      "8:\tlearn: 0.7670160\ttest: 0.8478948\tbest: 0.8478948 (8)\ttotal: 51.9ms\tremaining: 1m 55s\n",
      "9:\tlearn: 0.7632240\ttest: 0.8439686\tbest: 0.8439686 (9)\ttotal: 52.1ms\tremaining: 1m 44s\n",
      "10:\tlearn: 0.7605018\ttest: 0.8413085\tbest: 0.8413085 (10)\ttotal: 52.5ms\tremaining: 1m 35s\n",
      "11:\tlearn: 0.7569106\ttest: 0.8378517\tbest: 0.8378517 (11)\ttotal: 52.7ms\tremaining: 1m 27s\n",
      "12:\tlearn: 0.7535069\ttest: 0.8341740\tbest: 0.8341740 (12)\ttotal: 52.9ms\tremaining: 1m 21s\n",
      "13:\tlearn: 0.7501282\ttest: 0.8303881\tbest: 0.8303881 (13)\ttotal: 53.1ms\tremaining: 1m 15s\n",
      "14:\tlearn: 0.7472819\ttest: 0.8275179\tbest: 0.8275179 (14)\ttotal: 53.4ms\tremaining: 1m 11s\n",
      "15:\tlearn: 0.7435147\ttest: 0.8236760\tbest: 0.8236760 (15)\ttotal: 53.7ms\tremaining: 1m 7s\n",
      "16:\tlearn: 0.7397860\ttest: 0.8197039\tbest: 0.8197039 (16)\ttotal: 53.9ms\tremaining: 1m 3s\n",
      "17:\tlearn: 0.7365173\ttest: 0.8161679\tbest: 0.8161679 (17)\ttotal: 54.1ms\tremaining: 1m\n",
      "18:\tlearn: 0.7329004\ttest: 0.8121997\tbest: 0.8121997 (18)\ttotal: 54.3ms\tremaining: 57.2s\n",
      "19:\tlearn: 0.7293610\ttest: 0.8084715\tbest: 0.8084715 (19)\ttotal: 54.6ms\tremaining: 54.5s\n",
      "20:\tlearn: 0.7257893\ttest: 0.8045719\tbest: 0.8045719 (20)\ttotal: 55.1ms\tremaining: 52.4s\n",
      "21:\tlearn: 0.7224731\ttest: 0.8010987\tbest: 0.8010987 (21)\ttotal: 55.3ms\tremaining: 50.2s\n",
      "22:\tlearn: 0.7189044\ttest: 0.7974754\tbest: 0.7974754 (22)\ttotal: 55.5ms\tremaining: 48.2s\n",
      "23:\tlearn: 0.7158647\ttest: 0.7940999\tbest: 0.7940999 (23)\ttotal: 55.7ms\tremaining: 46.4s\n",
      "24:\tlearn: 0.7122302\ttest: 0.7903147\tbest: 0.7903147 (24)\ttotal: 55.9ms\tremaining: 44.7s\n",
      "25:\tlearn: 0.7095912\ttest: 0.7875311\tbest: 0.7875311 (25)\ttotal: 56.2ms\tremaining: 43.1s\n",
      "26:\tlearn: 0.7061496\ttest: 0.7842266\tbest: 0.7842266 (26)\ttotal: 56.4ms\tremaining: 41.7s\n",
      "27:\tlearn: 0.7029972\ttest: 0.7810094\tbest: 0.7810094 (27)\ttotal: 56.7ms\tremaining: 40.4s\n",
      "28:\tlearn: 0.6994133\ttest: 0.7773766\tbest: 0.7773766 (28)\ttotal: 56.9ms\tremaining: 39.2s\n",
      "29:\tlearn: 0.6960637\ttest: 0.7743502\tbest: 0.7743502 (29)\ttotal: 57.1ms\tremaining: 38s\n",
      "30:\tlearn: 0.6933301\ttest: 0.7713859\tbest: 0.7713859 (30)\ttotal: 57.8ms\tremaining: 37.2s\n",
      "31:\tlearn: 0.6902956\ttest: 0.7679475\tbest: 0.7679475 (31)\ttotal: 58.1ms\tremaining: 36.3s\n",
      "32:\tlearn: 0.6881776\ttest: 0.7657931\tbest: 0.7657931 (32)\ttotal: 58.7ms\tremaining: 35.5s\n",
      "33:\tlearn: 0.6847178\ttest: 0.7621271\tbest: 0.7621271 (33)\ttotal: 59ms\tremaining: 34.7s\n",
      "34:\tlearn: 0.6815707\ttest: 0.7590093\tbest: 0.7590093 (34)\ttotal: 59.4ms\tremaining: 33.9s\n",
      "35:\tlearn: 0.6784054\ttest: 0.7555439\tbest: 0.7555439 (35)\ttotal: 59.7ms\tremaining: 33.1s\n",
      "36:\tlearn: 0.6752631\ttest: 0.7522130\tbest: 0.7522130 (36)\ttotal: 60ms\tremaining: 32.4s\n",
      "37:\tlearn: 0.6721478\ttest: 0.7490520\tbest: 0.7490520 (37)\ttotal: 60.2ms\tremaining: 31.6s\n",
      "38:\tlearn: 0.6692288\ttest: 0.7458032\tbest: 0.7458032 (38)\ttotal: 60.4ms\tremaining: 30.9s\n",
      "39:\tlearn: 0.6666819\ttest: 0.7432328\tbest: 0.7432328 (39)\ttotal: 60.6ms\tremaining: 30.3s\n",
      "40:\tlearn: 0.6638322\ttest: 0.7402178\tbest: 0.7402178 (40)\ttotal: 60.9ms\tremaining: 29.6s\n",
      "41:\tlearn: 0.6606150\ttest: 0.7365595\tbest: 0.7365595 (41)\ttotal: 61.1ms\tremaining: 29s\n",
      "42:\tlearn: 0.6579095\ttest: 0.7342398\tbest: 0.7342398 (42)\ttotal: 61.3ms\tremaining: 28.4s\n",
      "43:\tlearn: 0.6546384\ttest: 0.7309743\tbest: 0.7309743 (43)\ttotal: 61.5ms\tremaining: 27.9s\n",
      "44:\tlearn: 0.6515240\ttest: 0.7274444\tbest: 0.7274444 (44)\ttotal: 61.7ms\tremaining: 27.4s\n",
      "45:\tlearn: 0.6485634\ttest: 0.7240135\tbest: 0.7240135 (45)\ttotal: 61.9ms\tremaining: 26.8s\n",
      "46:\tlearn: 0.6454883\ttest: 0.7210812\tbest: 0.7210812 (46)\ttotal: 62.1ms\tremaining: 26.4s\n",
      "47:\tlearn: 0.6421923\ttest: 0.7176845\tbest: 0.7176845 (47)\ttotal: 62.3ms\tremaining: 25.9s\n",
      "48:\tlearn: 0.6392347\ttest: 0.7146484\tbest: 0.7146484 (48)\ttotal: 62.5ms\tremaining: 25.5s\n",
      "49:\tlearn: 0.6366683\ttest: 0.7120979\tbest: 0.7120979 (49)\ttotal: 62.8ms\tremaining: 25.1s\n",
      "50:\tlearn: 0.6335315\ttest: 0.7088277\tbest: 0.7088277 (50)\ttotal: 63ms\tremaining: 24.7s\n",
      "51:\tlearn: 0.6304422\ttest: 0.7055714\tbest: 0.7055714 (51)\ttotal: 63.2ms\tremaining: 24.3s\n",
      "52:\tlearn: 0.6279657\ttest: 0.7028747\tbest: 0.7028747 (52)\ttotal: 63.4ms\tremaining: 23.9s\n",
      "53:\tlearn: 0.6251359\ttest: 0.7000053\tbest: 0.7000053 (53)\ttotal: 63.6ms\tremaining: 23.5s\n",
      "54:\tlearn: 0.6222773\ttest: 0.6967844\tbest: 0.6967844 (54)\ttotal: 63.8ms\tremaining: 23.1s\n",
      "55:\tlearn: 0.6200242\ttest: 0.6943613\tbest: 0.6943613 (55)\ttotal: 64ms\tremaining: 22.8s\n",
      "56:\tlearn: 0.6173964\ttest: 0.6919840\tbest: 0.6919840 (56)\ttotal: 64.2ms\tremaining: 22.4s\n",
      "57:\tlearn: 0.6151153\ttest: 0.6896743\tbest: 0.6896743 (57)\ttotal: 64.3ms\tremaining: 22.1s\n",
      "58:\tlearn: 0.6119566\ttest: 0.6864088\tbest: 0.6864088 (58)\ttotal: 64.5ms\tremaining: 21.8s\n",
      "59:\tlearn: 0.6094237\ttest: 0.6838366\tbest: 0.6838366 (59)\ttotal: 64.7ms\tremaining: 21.5s\n",
      "60:\tlearn: 0.6063437\ttest: 0.6808066\tbest: 0.6808066 (60)\ttotal: 65.2ms\tremaining: 21.3s\n",
      "61:\tlearn: 0.6035625\ttest: 0.6779548\tbest: 0.6779548 (61)\ttotal: 65.5ms\tremaining: 21.1s\n",
      "62:\tlearn: 0.6012307\ttest: 0.6755252\tbest: 0.6755252 (62)\ttotal: 65.8ms\tremaining: 20.8s\n",
      "63:\tlearn: 0.5982582\ttest: 0.6725660\tbest: 0.6725660 (63)\ttotal: 66.1ms\tremaining: 20.6s\n",
      "64:\tlearn: 0.5955319\ttest: 0.6697396\tbest: 0.6697396 (64)\ttotal: 66.6ms\tremaining: 20.4s\n",
      "65:\tlearn: 0.5933570\ttest: 0.6677147\tbest: 0.6677147 (65)\ttotal: 67ms\tremaining: 20.2s\n",
      "66:\tlearn: 0.5907206\ttest: 0.6653805\tbest: 0.6653805 (66)\ttotal: 67.3ms\tremaining: 20s\n",
      "67:\tlearn: 0.5884230\ttest: 0.6629430\tbest: 0.6629430 (67)\ttotal: 67.6ms\tremaining: 19.8s\n",
      "68:\tlearn: 0.5857417\ttest: 0.6603052\tbest: 0.6603052 (68)\ttotal: 67.9ms\tremaining: 19.6s\n",
      "69:\tlearn: 0.5836818\ttest: 0.6584006\tbest: 0.6584006 (69)\ttotal: 68.1ms\tremaining: 19.4s\n",
      "70:\tlearn: 0.5814293\ttest: 0.6564832\tbest: 0.6564832 (70)\ttotal: 68.4ms\tremaining: 19.2s\n",
      "71:\tlearn: 0.5791979\ttest: 0.6540514\tbest: 0.6540514 (71)\ttotal: 68.7ms\tremaining: 19s\n",
      "72:\tlearn: 0.5770134\ttest: 0.6518556\tbest: 0.6518556 (72)\ttotal: 69ms\tremaining: 18.8s\n",
      "73:\tlearn: 0.5744018\ttest: 0.6492642\tbest: 0.6492642 (73)\ttotal: 69.2ms\tremaining: 18.6s\n",
      "74:\tlearn: 0.5717857\ttest: 0.6468419\tbest: 0.6468419 (74)\ttotal: 69.5ms\tremaining: 18.5s\n",
      "75:\tlearn: 0.5694661\ttest: 0.6443317\tbest: 0.6443317 (75)\ttotal: 69.7ms\tremaining: 18.3s\n",
      "76:\tlearn: 0.5671072\ttest: 0.6415255\tbest: 0.6415255 (76)\ttotal: 70ms\tremaining: 18.1s\n",
      "77:\tlearn: 0.5643063\ttest: 0.6387597\tbest: 0.6387597 (77)\ttotal: 70.1ms\tremaining: 17.9s\n",
      "78:\tlearn: 0.5615120\ttest: 0.6360867\tbest: 0.6360867 (78)\ttotal: 70.3ms\tremaining: 17.7s\n",
      "79:\tlearn: 0.5590650\ttest: 0.6338928\tbest: 0.6338928 (79)\ttotal: 70.4ms\tremaining: 17.5s\n",
      "80:\tlearn: 0.5570360\ttest: 0.6317881\tbest: 0.6317881 (80)\ttotal: 70.6ms\tremaining: 17.4s\n",
      "81:\tlearn: 0.5542967\ttest: 0.6289488\tbest: 0.6289488 (81)\ttotal: 70.8ms\tremaining: 17.2s\n",
      "82:\tlearn: 0.5516035\ttest: 0.6262893\tbest: 0.6262893 (82)\ttotal: 71ms\tremaining: 17s\n",
      "83:\tlearn: 0.5492559\ttest: 0.6235933\tbest: 0.6235933 (83)\ttotal: 71.2ms\tremaining: 16.9s\n",
      "84:\tlearn: 0.5471862\ttest: 0.6213650\tbest: 0.6213650 (84)\ttotal: 71.9ms\tremaining: 16.8s\n",
      "85:\tlearn: 0.5446301\ttest: 0.6185544\tbest: 0.6185544 (85)\ttotal: 72.1ms\tremaining: 16.7s\n",
      "86:\tlearn: 0.5421207\ttest: 0.6161718\tbest: 0.6161718 (86)\ttotal: 72.4ms\tremaining: 16.6s\n",
      "87:\tlearn: 0.5403009\ttest: 0.6143680\tbest: 0.6143680 (87)\ttotal: 72.6ms\tremaining: 16.4s\n",
      "88:\tlearn: 0.5375929\ttest: 0.6116462\tbest: 0.6116462 (88)\ttotal: 72.8ms\tremaining: 16.3s\n",
      "89:\tlearn: 0.5349773\ttest: 0.6090643\tbest: 0.6090643 (89)\ttotal: 73ms\tremaining: 16.2s\n",
      "90:\tlearn: 0.5322705\ttest: 0.6063096\tbest: 0.6063096 (90)\ttotal: 73.3ms\tremaining: 16s\n",
      "91:\tlearn: 0.5301946\ttest: 0.6038287\tbest: 0.6038287 (91)\ttotal: 73.5ms\tremaining: 15.9s\n",
      "92:\tlearn: 0.5276575\ttest: 0.6010064\tbest: 0.6010064 (92)\ttotal: 73.7ms\tremaining: 15.8s\n",
      "93:\tlearn: 0.5256655\ttest: 0.5990886\tbest: 0.5990886 (93)\ttotal: 74ms\tremaining: 15.7s\n",
      "94:\tlearn: 0.5238681\ttest: 0.5971190\tbest: 0.5971190 (94)\ttotal: 74.2ms\tremaining: 15.5s\n",
      "95:\tlearn: 0.5216455\ttest: 0.5949270\tbest: 0.5949270 (95)\ttotal: 74.4ms\tremaining: 15.4s\n",
      "96:\tlearn: 0.5193557\ttest: 0.5923267\tbest: 0.5923267 (96)\ttotal: 74.6ms\tremaining: 15.3s\n",
      "97:\tlearn: 0.5174063\ttest: 0.5903014\tbest: 0.5903014 (97)\ttotal: 74.8ms\tremaining: 15.2s\n",
      "98:\tlearn: 0.5149383\ttest: 0.5877993\tbest: 0.5877993 (98)\ttotal: 75ms\tremaining: 15.1s\n",
      "99:\tlearn: 0.5127110\ttest: 0.5852403\tbest: 0.5852403 (99)\ttotal: 75.2ms\tremaining: 15s\n",
      "100:\tlearn: 0.5101337\ttest: 0.5826282\tbest: 0.5826282 (100)\ttotal: 75.4ms\tremaining: 14.9s\n",
      "101:\tlearn: 0.5076704\ttest: 0.5800524\tbest: 0.5800524 (101)\ttotal: 75.6ms\tremaining: 14.7s\n",
      "102:\tlearn: 0.5057811\ttest: 0.5778691\tbest: 0.5778691 (102)\ttotal: 75.8ms\tremaining: 14.7s\n",
      "103:\tlearn: 0.5035791\ttest: 0.5753080\tbest: 0.5753080 (103)\ttotal: 76.1ms\tremaining: 14.6s\n",
      "104:\tlearn: 0.5012205\ttest: 0.5727985\tbest: 0.5727985 (104)\ttotal: 76.3ms\tremaining: 14.5s\n",
      "105:\tlearn: 0.4991850\ttest: 0.5705344\tbest: 0.5705344 (105)\ttotal: 76.6ms\tremaining: 14.4s\n",
      "106:\tlearn: 0.4973451\ttest: 0.5685522\tbest: 0.5685522 (106)\ttotal: 76.8ms\tremaining: 14.3s\n",
      "107:\tlearn: 0.4950218\ttest: 0.5658687\tbest: 0.5658687 (107)\ttotal: 77.1ms\tremaining: 14.2s\n",
      "108:\tlearn: 0.4930234\ttest: 0.5636594\tbest: 0.5636594 (108)\ttotal: 77.3ms\tremaining: 14.1s\n",
      "109:\tlearn: 0.4910340\ttest: 0.5613326\tbest: 0.5613326 (109)\ttotal: 77.6ms\tremaining: 14s\n",
      "110:\tlearn: 0.4886842\ttest: 0.5589311\tbest: 0.5589311 (110)\ttotal: 77.9ms\tremaining: 13.9s\n",
      "111:\tlearn: 0.4866691\ttest: 0.5569056\tbest: 0.5569056 (111)\ttotal: 78ms\tremaining: 13.8s\n",
      "112:\tlearn: 0.4845358\ttest: 0.5547758\tbest: 0.5547758 (112)\ttotal: 78.2ms\tremaining: 13.8s\n",
      "113:\tlearn: 0.4825572\ttest: 0.5527146\tbest: 0.5527146 (113)\ttotal: 78.4ms\tremaining: 13.7s\n",
      "114:\tlearn: 0.4804448\ttest: 0.5504391\tbest: 0.5504391 (114)\ttotal: 78.7ms\tremaining: 13.6s\n",
      "115:\tlearn: 0.4783007\ttest: 0.5483182\tbest: 0.5483182 (115)\ttotal: 79.1ms\tremaining: 13.6s\n",
      "116:\tlearn: 0.4762060\ttest: 0.5461886\tbest: 0.5461886 (116)\ttotal: 79.3ms\tremaining: 13.5s\n",
      "117:\tlearn: 0.4741710\ttest: 0.5440424\tbest: 0.5440424 (117)\ttotal: 79.6ms\tremaining: 13.4s\n",
      "118:\tlearn: 0.4719259\ttest: 0.5418696\tbest: 0.5418696 (118)\ttotal: 79.9ms\tremaining: 13.3s\n",
      "119:\tlearn: 0.4697290\ttest: 0.5396142\tbest: 0.5396142 (119)\ttotal: 80.2ms\tremaining: 13.3s\n",
      "120:\tlearn: 0.4681466\ttest: 0.5378256\tbest: 0.5378256 (120)\ttotal: 80.5ms\tremaining: 13.2s\n",
      "121:\tlearn: 0.4664081\ttest: 0.5357001\tbest: 0.5357001 (121)\ttotal: 80.7ms\tremaining: 13.1s\n",
      "122:\tlearn: 0.4640975\ttest: 0.5333899\tbest: 0.5333899 (122)\ttotal: 80.9ms\tremaining: 13.1s\n",
      "123:\tlearn: 0.4620300\ttest: 0.5313142\tbest: 0.5313142 (123)\ttotal: 81.1ms\tremaining: 13s\n",
      "124:\tlearn: 0.4599787\ttest: 0.5289682\tbest: 0.5289682 (124)\ttotal: 81.4ms\tremaining: 12.9s\n",
      "125:\tlearn: 0.4578598\ttest: 0.5268792\tbest: 0.5268792 (125)\ttotal: 81.7ms\tremaining: 12.9s\n",
      "126:\tlearn: 0.4561033\ttest: 0.5249275\tbest: 0.5249275 (126)\ttotal: 82ms\tremaining: 12.8s\n",
      "127:\tlearn: 0.4544807\ttest: 0.5233274\tbest: 0.5233274 (127)\ttotal: 82.2ms\tremaining: 12.8s\n",
      "128:\tlearn: 0.4524066\ttest: 0.5212686\tbest: 0.5212686 (128)\ttotal: 82.5ms\tremaining: 12.7s\n",
      "129:\tlearn: 0.4507708\ttest: 0.5195466\tbest: 0.5195466 (129)\ttotal: 82.8ms\tremaining: 12.7s\n",
      "130:\tlearn: 0.4491197\ttest: 0.5177780\tbest: 0.5177780 (130)\ttotal: 83.1ms\tremaining: 12.6s\n",
      "131:\tlearn: 0.4469796\ttest: 0.5157106\tbest: 0.5157106 (131)\ttotal: 83.3ms\tremaining: 12.5s\n",
      "132:\tlearn: 0.4448923\ttest: 0.5137904\tbest: 0.5137904 (132)\ttotal: 83.6ms\tremaining: 12.5s\n",
      "133:\tlearn: 0.4431133\ttest: 0.5117795\tbest: 0.5117795 (133)\ttotal: 83.9ms\tremaining: 12.4s\n",
      "134:\tlearn: 0.4412342\ttest: 0.5096568\tbest: 0.5096568 (134)\ttotal: 84ms\tremaining: 12.4s\n",
      "135:\tlearn: 0.4397331\ttest: 0.5081483\tbest: 0.5081483 (135)\ttotal: 84.3ms\tremaining: 12.3s\n",
      "136:\tlearn: 0.4376652\ttest: 0.5061564\tbest: 0.5061564 (136)\ttotal: 84.5ms\tremaining: 12.2s\n",
      "137:\tlearn: 0.4356978\ttest: 0.5042019\tbest: 0.5042019 (137)\ttotal: 84.6ms\tremaining: 12.2s\n",
      "138:\tlearn: 0.4336063\ttest: 0.5021477\tbest: 0.5021477 (138)\ttotal: 84.9ms\tremaining: 12.1s\n",
      "139:\tlearn: 0.4321152\ttest: 0.5006634\tbest: 0.5006634 (139)\ttotal: 85.2ms\tremaining: 12.1s\n",
      "140:\tlearn: 0.4302779\ttest: 0.4990763\tbest: 0.4990763 (140)\ttotal: 85.5ms\tremaining: 12s\n",
      "141:\tlearn: 0.4282652\ttest: 0.4971426\tbest: 0.4971426 (141)\ttotal: 85.8ms\tremaining: 12s\n",
      "142:\tlearn: 0.4263254\ttest: 0.4952248\tbest: 0.4952248 (142)\ttotal: 86.1ms\tremaining: 11.9s\n",
      "143:\tlearn: 0.4245651\ttest: 0.4934699\tbest: 0.4934699 (143)\ttotal: 86.3ms\tremaining: 11.9s\n",
      "144:\tlearn: 0.4228915\ttest: 0.4915398\tbest: 0.4915398 (144)\ttotal: 86.6ms\tremaining: 11.9s\n",
      "145:\tlearn: 0.4209430\ttest: 0.4896399\tbest: 0.4896399 (145)\ttotal: 86.8ms\tremaining: 11.8s\n",
      "146:\tlearn: 0.4192230\ttest: 0.4876031\tbest: 0.4876031 (146)\ttotal: 87ms\tremaining: 11.7s\n",
      "147:\tlearn: 0.4177204\ttest: 0.4860950\tbest: 0.4860950 (147)\ttotal: 87.2ms\tremaining: 11.7s\n",
      "148:\tlearn: 0.4160223\ttest: 0.4844543\tbest: 0.4844543 (148)\ttotal: 87.4ms\tremaining: 11.6s\n",
      "149:\tlearn: 0.4140166\ttest: 0.4825239\tbest: 0.4825239 (149)\ttotal: 87.6ms\tremaining: 11.6s\n",
      "150:\tlearn: 0.4123225\ttest: 0.4807797\tbest: 0.4807797 (150)\ttotal: 87.9ms\tremaining: 11.6s\n",
      "151:\tlearn: 0.4106736\ttest: 0.4790904\tbest: 0.4790904 (151)\ttotal: 88.2ms\tremaining: 11.5s\n",
      "152:\tlearn: 0.4089028\ttest: 0.4773275\tbest: 0.4773275 (152)\ttotal: 88.4ms\tremaining: 11.5s\n",
      "153:\tlearn: 0.4073561\ttest: 0.4757938\tbest: 0.4757938 (153)\ttotal: 88.7ms\tremaining: 11.4s\n",
      "154:\tlearn: 0.4055301\ttest: 0.4739868\tbest: 0.4739868 (154)\ttotal: 89ms\tremaining: 11.4s\n",
      "155:\tlearn: 0.4036588\ttest: 0.4722045\tbest: 0.4722045 (155)\ttotal: 89.1ms\tremaining: 11.3s\n",
      "156:\tlearn: 0.4021235\ttest: 0.4706511\tbest: 0.4706511 (156)\ttotal: 89.3ms\tremaining: 11.3s\n",
      "157:\tlearn: 0.4003457\ttest: 0.4689238\tbest: 0.4689238 (157)\ttotal: 89.5ms\tremaining: 11.2s\n",
      "158:\tlearn: 0.3988562\ttest: 0.4673578\tbest: 0.4673578 (158)\ttotal: 89.7ms\tremaining: 11.2s\n",
      "159:\tlearn: 0.3973763\ttest: 0.4656037\tbest: 0.4656037 (159)\ttotal: 89.9ms\tremaining: 11.1s\n",
      "160:\tlearn: 0.3956467\ttest: 0.4639688\tbest: 0.4639688 (160)\ttotal: 90ms\tremaining: 11.1s\n",
      "161:\tlearn: 0.3942024\ttest: 0.4621512\tbest: 0.4621512 (161)\ttotal: 90.4ms\tremaining: 11.1s\n",
      "162:\tlearn: 0.3924653\ttest: 0.4606415\tbest: 0.4606415 (162)\ttotal: 90.7ms\tremaining: 11s\n",
      "163:\tlearn: 0.3906981\ttest: 0.4589115\tbest: 0.4589115 (163)\ttotal: 91ms\tremaining: 11s\n",
      "164:\tlearn: 0.3892598\ttest: 0.4573831\tbest: 0.4573831 (164)\ttotal: 91.2ms\tremaining: 11s\n",
      "165:\tlearn: 0.3876237\ttest: 0.4555994\tbest: 0.4555994 (165)\ttotal: 91.3ms\tremaining: 10.9s\n",
      "166:\tlearn: 0.3861088\ttest: 0.4540930\tbest: 0.4540930 (166)\ttotal: 91.5ms\tremaining: 10.9s\n",
      "167:\tlearn: 0.3843413\ttest: 0.4524324\tbest: 0.4524324 (167)\ttotal: 91.7ms\tremaining: 10.8s\n",
      "168:\tlearn: 0.3825848\ttest: 0.4508128\tbest: 0.4508128 (168)\ttotal: 91.9ms\tremaining: 10.8s\n",
      "169:\tlearn: 0.3808479\ttest: 0.4491305\tbest: 0.4491305 (169)\ttotal: 92ms\tremaining: 10.7s\n",
      "170:\tlearn: 0.3790829\ttest: 0.4474529\tbest: 0.4474529 (170)\ttotal: 92.2ms\tremaining: 10.7s\n",
      "171:\tlearn: 0.3774034\ttest: 0.4458909\tbest: 0.4458909 (171)\ttotal: 92.3ms\tremaining: 10.6s\n",
      "172:\tlearn: 0.3757643\ttest: 0.4439850\tbest: 0.4439850 (172)\ttotal: 92.5ms\tremaining: 10.6s\n",
      "173:\tlearn: 0.3744892\ttest: 0.4426622\tbest: 0.4426622 (173)\ttotal: 92.6ms\tremaining: 10.6s\n",
      "174:\tlearn: 0.3729687\ttest: 0.4408500\tbest: 0.4408500 (174)\ttotal: 92.8ms\tremaining: 10.5s\n",
      "175:\tlearn: 0.3712871\ttest: 0.4391203\tbest: 0.4391203 (175)\ttotal: 93ms\tremaining: 10.5s\n",
      "176:\tlearn: 0.3695984\ttest: 0.4375475\tbest: 0.4375475 (176)\ttotal: 93.2ms\tremaining: 10.4s\n",
      "177:\tlearn: 0.3680904\ttest: 0.4362812\tbest: 0.4362812 (177)\ttotal: 93.3ms\tremaining: 10.4s\n",
      "178:\tlearn: 0.3666851\ttest: 0.4350234\tbest: 0.4350234 (178)\ttotal: 93.5ms\tremaining: 10.3s\n",
      "179:\tlearn: 0.3656335\ttest: 0.4339031\tbest: 0.4339031 (179)\ttotal: 93.6ms\tremaining: 10.3s\n",
      "180:\tlearn: 0.3640565\ttest: 0.4324722\tbest: 0.4324722 (180)\ttotal: 93.7ms\tremaining: 10.3s\n",
      "181:\tlearn: 0.3626429\ttest: 0.4312087\tbest: 0.4312087 (181)\ttotal: 93.9ms\tremaining: 10.2s\n",
      "182:\tlearn: 0.3613976\ttest: 0.4299319\tbest: 0.4299319 (182)\ttotal: 94ms\tremaining: 10.2s\n",
      "183:\tlearn: 0.3602401\ttest: 0.4286602\tbest: 0.4286602 (183)\ttotal: 94.2ms\tremaining: 10.1s\n",
      "184:\tlearn: 0.3588676\ttest: 0.4275353\tbest: 0.4275353 (184)\ttotal: 94.3ms\tremaining: 10.1s\n",
      "185:\tlearn: 0.3572049\ttest: 0.4260033\tbest: 0.4260033 (185)\ttotal: 94.4ms\tremaining: 10.1s\n",
      "186:\tlearn: 0.3556795\ttest: 0.4247397\tbest: 0.4247397 (186)\ttotal: 94.6ms\tremaining: 10s\n",
      "187:\tlearn: 0.3544594\ttest: 0.4235884\tbest: 0.4235884 (187)\ttotal: 94.9ms\tremaining: 10s\n",
      "188:\tlearn: 0.3528735\ttest: 0.4220747\tbest: 0.4220747 (188)\ttotal: 95ms\tremaining: 9.96s\n",
      "189:\tlearn: 0.3513625\ttest: 0.4206681\tbest: 0.4206681 (189)\ttotal: 95.2ms\tremaining: 9.92s\n",
      "190:\tlearn: 0.3497693\ttest: 0.4191831\tbest: 0.4191831 (190)\ttotal: 95.3ms\tremaining: 9.88s\n",
      "191:\tlearn: 0.3485277\ttest: 0.4177287\tbest: 0.4177287 (191)\ttotal: 95.5ms\tremaining: 9.85s\n",
      "192:\tlearn: 0.3470760\ttest: 0.4162396\tbest: 0.4162396 (192)\ttotal: 95.6ms\tremaining: 9.81s\n",
      "193:\tlearn: 0.3457946\ttest: 0.4149701\tbest: 0.4149701 (193)\ttotal: 95.8ms\tremaining: 9.78s\n",
      "194:\tlearn: 0.3443058\ttest: 0.4137434\tbest: 0.4137434 (194)\ttotal: 96ms\tremaining: 9.75s\n",
      "195:\tlearn: 0.3430775\ttest: 0.4123014\tbest: 0.4123014 (195)\ttotal: 96.2ms\tremaining: 9.72s\n",
      "196:\tlearn: 0.3415965\ttest: 0.4108732\tbest: 0.4108732 (196)\ttotal: 96.4ms\tremaining: 9.69s\n",
      "197:\tlearn: 0.3402160\ttest: 0.4091887\tbest: 0.4091887 (197)\ttotal: 96.5ms\tremaining: 9.65s\n",
      "198:\tlearn: 0.3386840\ttest: 0.4078697\tbest: 0.4078697 (198)\ttotal: 96.9ms\tremaining: 9.64s\n",
      "199:\tlearn: 0.3373815\ttest: 0.4066549\tbest: 0.4066549 (199)\ttotal: 97.4ms\tremaining: 9.64s\n",
      "200:\tlearn: 0.3361043\ttest: 0.4055565\tbest: 0.4055565 (200)\ttotal: 97.7ms\tremaining: 9.62s\n",
      "201:\tlearn: 0.3346728\ttest: 0.4042012\tbest: 0.4042012 (201)\ttotal: 97.9ms\tremaining: 9.59s\n",
      "202:\tlearn: 0.3332089\ttest: 0.4028432\tbest: 0.4028432 (202)\ttotal: 98.1ms\tremaining: 9.57s\n",
      "203:\tlearn: 0.3318262\ttest: 0.4015573\tbest: 0.4015573 (203)\ttotal: 98.3ms\tremaining: 9.54s\n",
      "204:\tlearn: 0.3305326\ttest: 0.4004157\tbest: 0.4004157 (204)\ttotal: 98.6ms\tremaining: 9.52s\n",
      "205:\tlearn: 0.3294827\ttest: 0.3993113\tbest: 0.3993113 (205)\ttotal: 98.9ms\tremaining: 9.5s\n",
      "206:\tlearn: 0.3280861\ttest: 0.3979999\tbest: 0.3979999 (206)\ttotal: 99.1ms\tremaining: 9.47s\n",
      "207:\tlearn: 0.3268480\ttest: 0.3967969\tbest: 0.3967969 (207)\ttotal: 99.4ms\tremaining: 9.46s\n",
      "208:\tlearn: 0.3254877\ttest: 0.3955896\tbest: 0.3955896 (208)\ttotal: 100ms\tremaining: 9.47s\n",
      "209:\tlearn: 0.3242090\ttest: 0.3944668\tbest: 0.3944668 (209)\ttotal: 100ms\tremaining: 9.45s\n",
      "210:\tlearn: 0.3231840\ttest: 0.3934499\tbest: 0.3934499 (210)\ttotal: 101ms\tremaining: 9.43s\n",
      "211:\tlearn: 0.3220540\ttest: 0.3924953\tbest: 0.3924953 (211)\ttotal: 101ms\tremaining: 9.41s\n",
      "212:\tlearn: 0.3210587\ttest: 0.3915275\tbest: 0.3915275 (212)\ttotal: 101ms\tremaining: 9.4s\n",
      "213:\tlearn: 0.3198792\ttest: 0.3902662\tbest: 0.3902662 (213)\ttotal: 101ms\tremaining: 9.38s\n",
      "214:\tlearn: 0.3187268\ttest: 0.3892192\tbest: 0.3892192 (214)\ttotal: 102ms\tremaining: 9.36s\n",
      "215:\tlearn: 0.3176019\ttest: 0.3879830\tbest: 0.3879830 (215)\ttotal: 102ms\tremaining: 9.34s\n",
      "216:\tlearn: 0.3164254\ttest: 0.3869164\tbest: 0.3869164 (216)\ttotal: 102ms\tremaining: 9.32s\n",
      "217:\tlearn: 0.3151755\ttest: 0.3856193\tbest: 0.3856193 (217)\ttotal: 103ms\tremaining: 9.31s\n",
      "218:\tlearn: 0.3141762\ttest: 0.3846461\tbest: 0.3846461 (218)\ttotal: 103ms\tremaining: 9.29s\n",
      "219:\tlearn: 0.3132252\ttest: 0.3836201\tbest: 0.3836201 (219)\ttotal: 103ms\tremaining: 9.3s\n",
      "220:\tlearn: 0.3118504\ttest: 0.3824094\tbest: 0.3824094 (220)\ttotal: 104ms\tremaining: 9.28s\n",
      "221:\tlearn: 0.3105155\ttest: 0.3812254\tbest: 0.3812254 (221)\ttotal: 104ms\tremaining: 9.26s\n",
      "222:\tlearn: 0.3094029\ttest: 0.3804103\tbest: 0.3804103 (222)\ttotal: 104ms\tremaining: 9.24s\n",
      "223:\tlearn: 0.3083924\ttest: 0.3792519\tbest: 0.3792519 (223)\ttotal: 104ms\tremaining: 9.22s\n",
      "224:\tlearn: 0.3071073\ttest: 0.3781642\tbest: 0.3781642 (224)\ttotal: 105ms\tremaining: 9.21s\n",
      "225:\tlearn: 0.3058078\ttest: 0.3770052\tbest: 0.3770052 (225)\ttotal: 105ms\tremaining: 9.19s\n",
      "226:\tlearn: 0.3046551\ttest: 0.3760325\tbest: 0.3760325 (226)\ttotal: 105ms\tremaining: 9.17s\n",
      "227:\tlearn: 0.3037333\ttest: 0.3750681\tbest: 0.3750681 (227)\ttotal: 106ms\tremaining: 9.15s\n",
      "228:\tlearn: 0.3024462\ttest: 0.3739282\tbest: 0.3739282 (228)\ttotal: 106ms\tremaining: 9.13s\n",
      "229:\tlearn: 0.3013495\ttest: 0.3730359\tbest: 0.3730359 (229)\ttotal: 106ms\tremaining: 9.11s\n",
      "230:\tlearn: 0.3002110\ttest: 0.3719411\tbest: 0.3719411 (230)\ttotal: 106ms\tremaining: 9.09s\n",
      "231:\tlearn: 0.2990495\ttest: 0.3709470\tbest: 0.3709470 (231)\ttotal: 106ms\tremaining: 9.07s\n",
      "232:\tlearn: 0.2977642\ttest: 0.3698461\tbest: 0.3698461 (232)\ttotal: 107ms\tremaining: 9.05s\n",
      "233:\tlearn: 0.2966063\ttest: 0.3689211\tbest: 0.3689211 (233)\ttotal: 107ms\tremaining: 9.03s\n",
      "234:\tlearn: 0.2956154\ttest: 0.3677940\tbest: 0.3677940 (234)\ttotal: 107ms\tremaining: 9.01s\n",
      "235:\tlearn: 0.2947746\ttest: 0.3669581\tbest: 0.3669581 (235)\ttotal: 107ms\tremaining: 8.99s\n",
      "236:\tlearn: 0.2937918\ttest: 0.3657488\tbest: 0.3657488 (236)\ttotal: 108ms\tremaining: 8.97s\n",
      "237:\tlearn: 0.2928298\ttest: 0.3646227\tbest: 0.3646227 (237)\ttotal: 108ms\tremaining: 8.95s\n",
      "238:\tlearn: 0.2917305\ttest: 0.3633150\tbest: 0.3633150 (238)\ttotal: 108ms\tremaining: 8.93s\n",
      "239:\tlearn: 0.2905277\ttest: 0.3622919\tbest: 0.3622919 (239)\ttotal: 108ms\tremaining: 8.91s\n",
      "240:\tlearn: 0.2892982\ttest: 0.3612507\tbest: 0.3612507 (240)\ttotal: 108ms\tremaining: 8.89s\n",
      "241:\tlearn: 0.2882068\ttest: 0.3600231\tbest: 0.3600231 (241)\ttotal: 109ms\tremaining: 8.88s\n",
      "242:\tlearn: 0.2871923\ttest: 0.3590420\tbest: 0.3590420 (242)\ttotal: 109ms\tremaining: 8.87s\n",
      "243:\tlearn: 0.2862569\ttest: 0.3580491\tbest: 0.3580491 (243)\ttotal: 109ms\tremaining: 8.85s\n",
      "244:\tlearn: 0.2851719\ttest: 0.3571937\tbest: 0.3571937 (244)\ttotal: 110ms\tremaining: 8.87s\n",
      "245:\tlearn: 0.2843636\ttest: 0.3563468\tbest: 0.3563468 (245)\ttotal: 110ms\tremaining: 8.85s\n",
      "246:\tlearn: 0.2834112\ttest: 0.3555182\tbest: 0.3555182 (246)\ttotal: 111ms\tremaining: 8.84s\n",
      "247:\tlearn: 0.2824703\ttest: 0.3547891\tbest: 0.3547891 (247)\ttotal: 111ms\tremaining: 8.82s\n",
      "248:\tlearn: 0.2813074\ttest: 0.3537982\tbest: 0.3537982 (248)\ttotal: 111ms\tremaining: 8.8s\n",
      "249:\tlearn: 0.2803766\ttest: 0.3528449\tbest: 0.3528449 (249)\ttotal: 111ms\tremaining: 8.78s\n",
      "250:\tlearn: 0.2792572\ttest: 0.3518782\tbest: 0.3518782 (250)\ttotal: 111ms\tremaining: 8.76s\n",
      "251:\tlearn: 0.2781684\ttest: 0.3509268\tbest: 0.3509268 (251)\ttotal: 112ms\tremaining: 8.74s\n",
      "252:\tlearn: 0.2771679\ttest: 0.3500784\tbest: 0.3500784 (252)\ttotal: 112ms\tremaining: 8.72s\n",
      "253:\tlearn: 0.2761075\ttest: 0.3491726\tbest: 0.3491726 (253)\ttotal: 112ms\tremaining: 8.71s\n",
      "254:\tlearn: 0.2750957\ttest: 0.3483115\tbest: 0.3483115 (254)\ttotal: 112ms\tremaining: 8.69s\n",
      "255:\tlearn: 0.2740232\ttest: 0.3474840\tbest: 0.3474840 (255)\ttotal: 112ms\tremaining: 8.67s\n",
      "256:\tlearn: 0.2729951\ttest: 0.3466096\tbest: 0.3466096 (256)\ttotal: 113ms\tremaining: 8.65s\n",
      "257:\tlearn: 0.2720378\ttest: 0.3454936\tbest: 0.3454936 (257)\ttotal: 113ms\tremaining: 8.63s\n",
      "258:\tlearn: 0.2710240\ttest: 0.3446836\tbest: 0.3446836 (258)\ttotal: 113ms\tremaining: 8.62s\n",
      "259:\tlearn: 0.2699775\ttest: 0.3437471\tbest: 0.3437471 (259)\ttotal: 113ms\tremaining: 8.6s\n",
      "260:\tlearn: 0.2690188\ttest: 0.3429211\tbest: 0.3429211 (260)\ttotal: 113ms\tremaining: 8.58s\n",
      "261:\tlearn: 0.2682707\ttest: 0.3421639\tbest: 0.3421639 (261)\ttotal: 114ms\tremaining: 8.57s\n",
      "262:\tlearn: 0.2675277\ttest: 0.3414193\tbest: 0.3414193 (262)\ttotal: 114ms\tremaining: 8.55s\n",
      "263:\tlearn: 0.2664891\ttest: 0.3404930\tbest: 0.3404930 (263)\ttotal: 114ms\tremaining: 8.54s\n",
      "264:\tlearn: 0.2656284\ttest: 0.3395461\tbest: 0.3395461 (264)\ttotal: 115ms\tremaining: 8.53s\n",
      "265:\tlearn: 0.2647142\ttest: 0.3387638\tbest: 0.3387638 (265)\ttotal: 115ms\tremaining: 8.52s\n",
      "266:\tlearn: 0.2637068\ttest: 0.3379493\tbest: 0.3379493 (266)\ttotal: 115ms\tremaining: 8.5s\n",
      "267:\tlearn: 0.2627883\ttest: 0.3372959\tbest: 0.3372959 (267)\ttotal: 115ms\tremaining: 8.49s\n",
      "268:\tlearn: 0.2619137\ttest: 0.3366379\tbest: 0.3366379 (268)\ttotal: 116ms\tremaining: 8.48s\n",
      "269:\tlearn: 0.2610112\ttest: 0.3356760\tbest: 0.3356760 (269)\ttotal: 116ms\tremaining: 8.47s\n",
      "270:\tlearn: 0.2600503\ttest: 0.3346707\tbest: 0.3346707 (270)\ttotal: 116ms\tremaining: 8.45s\n",
      "271:\tlearn: 0.2591429\ttest: 0.3336581\tbest: 0.3336581 (271)\ttotal: 116ms\tremaining: 8.45s\n",
      "272:\tlearn: 0.2583290\ttest: 0.3327855\tbest: 0.3327855 (272)\ttotal: 117ms\tremaining: 8.44s\n",
      "273:\tlearn: 0.2574976\ttest: 0.3321128\tbest: 0.3321128 (273)\ttotal: 117ms\tremaining: 8.43s\n",
      "274:\tlearn: 0.2569222\ttest: 0.3315141\tbest: 0.3315141 (274)\ttotal: 117ms\tremaining: 8.41s\n",
      "275:\tlearn: 0.2560129\ttest: 0.3307603\tbest: 0.3307603 (275)\ttotal: 118ms\tremaining: 8.4s\n",
      "276:\tlearn: 0.2552773\ttest: 0.3301596\tbest: 0.3301596 (276)\ttotal: 118ms\tremaining: 8.39s\n",
      "277:\tlearn: 0.2545191\ttest: 0.3292543\tbest: 0.3292543 (277)\ttotal: 118ms\tremaining: 8.38s\n",
      "278:\tlearn: 0.2535850\ttest: 0.3285059\tbest: 0.3285059 (278)\ttotal: 118ms\tremaining: 8.37s\n",
      "279:\tlearn: 0.2528957\ttest: 0.3276437\tbest: 0.3276437 (279)\ttotal: 119ms\tremaining: 8.35s\n",
      "280:\tlearn: 0.2519227\ttest: 0.3268823\tbest: 0.3268823 (280)\ttotal: 119ms\tremaining: 8.34s\n",
      "281:\tlearn: 0.2509885\ttest: 0.3261840\tbest: 0.3261840 (281)\ttotal: 119ms\tremaining: 8.33s\n",
      "282:\tlearn: 0.2502513\ttest: 0.3255870\tbest: 0.3255870 (282)\ttotal: 119ms\tremaining: 8.31s\n",
      "283:\tlearn: 0.2494556\ttest: 0.3250366\tbest: 0.3250366 (283)\ttotal: 119ms\tremaining: 8.29s\n",
      "284:\tlearn: 0.2486788\ttest: 0.3245397\tbest: 0.3245397 (284)\ttotal: 120ms\tremaining: 8.27s\n",
      "285:\tlearn: 0.2479178\ttest: 0.3237003\tbest: 0.3237003 (285)\ttotal: 120ms\tremaining: 8.26s\n",
      "286:\tlearn: 0.2470731\ttest: 0.3227703\tbest: 0.3227703 (286)\ttotal: 120ms\tremaining: 8.24s\n",
      "287:\tlearn: 0.2464763\ttest: 0.3222064\tbest: 0.3222064 (287)\ttotal: 120ms\tremaining: 8.22s\n",
      "288:\tlearn: 0.2458398\ttest: 0.3216150\tbest: 0.3216150 (288)\ttotal: 120ms\tremaining: 8.21s\n",
      "289:\tlearn: 0.2449976\ttest: 0.3207273\tbest: 0.3207273 (289)\ttotal: 121ms\tremaining: 8.19s\n",
      "290:\tlearn: 0.2442543\ttest: 0.3201533\tbest: 0.3201533 (290)\ttotal: 121ms\tremaining: 8.18s\n",
      "291:\tlearn: 0.2434768\ttest: 0.3195288\tbest: 0.3195288 (291)\ttotal: 121ms\tremaining: 8.16s\n",
      "292:\tlearn: 0.2425514\ttest: 0.3188340\tbest: 0.3188340 (292)\ttotal: 121ms\tremaining: 8.15s\n",
      "293:\tlearn: 0.2416949\ttest: 0.3181589\tbest: 0.3181589 (293)\ttotal: 121ms\tremaining: 8.14s\n",
      "294:\tlearn: 0.2410298\ttest: 0.3176611\tbest: 0.3176611 (294)\ttotal: 122ms\tremaining: 8.14s\n",
      "295:\tlearn: 0.2404070\ttest: 0.3170185\tbest: 0.3170185 (295)\ttotal: 122ms\tremaining: 8.13s\n",
      "296:\tlearn: 0.2395995\ttest: 0.3163695\tbest: 0.3163695 (296)\ttotal: 122ms\tremaining: 8.12s\n",
      "297:\tlearn: 0.2389221\ttest: 0.3156240\tbest: 0.3156240 (297)\ttotal: 123ms\tremaining: 8.1s\n",
      "298:\tlearn: 0.2380852\ttest: 0.3149794\tbest: 0.3149794 (298)\ttotal: 123ms\tremaining: 8.09s\n",
      "299:\tlearn: 0.2373865\ttest: 0.3144830\tbest: 0.3144830 (299)\ttotal: 123ms\tremaining: 8.09s\n",
      "300:\tlearn: 0.2366679\ttest: 0.3137355\tbest: 0.3137355 (300)\ttotal: 123ms\tremaining: 8.08s\n",
      "301:\tlearn: 0.2358402\ttest: 0.3132034\tbest: 0.3132034 (301)\ttotal: 124ms\tremaining: 8.07s\n",
      "302:\tlearn: 0.2351633\ttest: 0.3124418\tbest: 0.3124418 (302)\ttotal: 124ms\tremaining: 8.05s\n",
      "303:\tlearn: 0.2345141\ttest: 0.3120185\tbest: 0.3120185 (303)\ttotal: 124ms\tremaining: 8.04s\n",
      "304:\tlearn: 0.2338375\ttest: 0.3111815\tbest: 0.3111815 (304)\ttotal: 124ms\tremaining: 8.03s\n",
      "305:\tlearn: 0.2330593\ttest: 0.3103793\tbest: 0.3103793 (305)\ttotal: 124ms\tremaining: 8.01s\n",
      "306:\tlearn: 0.2325115\ttest: 0.3098366\tbest: 0.3098366 (306)\ttotal: 125ms\tremaining: 8s\n",
      "307:\tlearn: 0.2317697\ttest: 0.3092696\tbest: 0.3092696 (307)\ttotal: 125ms\tremaining: 7.98s\n",
      "308:\tlearn: 0.2310462\ttest: 0.3084234\tbest: 0.3084234 (308)\ttotal: 125ms\tremaining: 7.97s\n",
      "309:\tlearn: 0.2303142\ttest: 0.3079083\tbest: 0.3079083 (309)\ttotal: 125ms\tremaining: 7.95s\n",
      "310:\tlearn: 0.2295930\ttest: 0.3073538\tbest: 0.3073538 (310)\ttotal: 125ms\tremaining: 7.94s\n",
      "311:\tlearn: 0.2289694\ttest: 0.3069840\tbest: 0.3069840 (311)\ttotal: 126ms\tremaining: 7.92s\n",
      "312:\tlearn: 0.2282002\ttest: 0.3064064\tbest: 0.3064064 (312)\ttotal: 126ms\tremaining: 7.91s\n",
      "313:\tlearn: 0.2274002\ttest: 0.3058072\tbest: 0.3058072 (313)\ttotal: 126ms\tremaining: 7.9s\n",
      "314:\tlearn: 0.2266701\ttest: 0.3050573\tbest: 0.3050573 (314)\ttotal: 126ms\tremaining: 7.88s\n",
      "315:\tlearn: 0.2259744\ttest: 0.3045454\tbest: 0.3045454 (315)\ttotal: 126ms\tremaining: 7.87s\n",
      "316:\tlearn: 0.2252877\ttest: 0.3037488\tbest: 0.3037488 (316)\ttotal: 126ms\tremaining: 7.85s\n",
      "317:\tlearn: 0.2245254\ttest: 0.3031819\tbest: 0.3031819 (317)\ttotal: 127ms\tremaining: 7.84s\n",
      "318:\tlearn: 0.2240018\ttest: 0.3026912\tbest: 0.3026912 (318)\ttotal: 127ms\tremaining: 7.82s\n",
      "319:\tlearn: 0.2233379\ttest: 0.3020202\tbest: 0.3020202 (319)\ttotal: 127ms\tremaining: 7.82s\n",
      "320:\tlearn: 0.2227444\ttest: 0.3014243\tbest: 0.3014243 (320)\ttotal: 127ms\tremaining: 7.8s\n",
      "321:\tlearn: 0.2220347\ttest: 0.3009176\tbest: 0.3009176 (321)\ttotal: 127ms\tremaining: 7.79s\n",
      "322:\tlearn: 0.2213492\ttest: 0.3004221\tbest: 0.3004221 (322)\ttotal: 128ms\tremaining: 7.77s\n",
      "323:\tlearn: 0.2206844\ttest: 0.2999354\tbest: 0.2999354 (323)\ttotal: 128ms\tremaining: 7.76s\n",
      "324:\tlearn: 0.2200540\ttest: 0.2995818\tbest: 0.2995818 (324)\ttotal: 128ms\tremaining: 7.74s\n",
      "325:\tlearn: 0.2193068\ttest: 0.2990396\tbest: 0.2990396 (325)\ttotal: 128ms\tremaining: 7.73s\n",
      "326:\tlearn: 0.2187564\ttest: 0.2987160\tbest: 0.2987160 (326)\ttotal: 128ms\tremaining: 7.71s\n",
      "327:\tlearn: 0.2181568\ttest: 0.2982727\tbest: 0.2982727 (327)\ttotal: 128ms\tremaining: 7.69s\n",
      "328:\tlearn: 0.2174261\ttest: 0.2977335\tbest: 0.2977335 (328)\ttotal: 128ms\tremaining: 7.68s\n",
      "329:\tlearn: 0.2167730\ttest: 0.2972612\tbest: 0.2972612 (329)\ttotal: 129ms\tremaining: 7.67s\n",
      "330:\tlearn: 0.2160801\ttest: 0.2967795\tbest: 0.2967795 (330)\ttotal: 129ms\tremaining: 7.65s\n",
      "331:\tlearn: 0.2156206\ttest: 0.2963323\tbest: 0.2963323 (331)\ttotal: 129ms\tremaining: 7.64s\n",
      "332:\tlearn: 0.2149401\ttest: 0.2958331\tbest: 0.2958331 (332)\ttotal: 129ms\tremaining: 7.64s\n",
      "333:\tlearn: 0.2144467\ttest: 0.2954172\tbest: 0.2954172 (333)\ttotal: 130ms\tremaining: 7.63s\n",
      "334:\tlearn: 0.2137899\ttest: 0.2949801\tbest: 0.2949801 (334)\ttotal: 130ms\tremaining: 7.62s\n",
      "335:\tlearn: 0.2130798\ttest: 0.2944887\tbest: 0.2944887 (335)\ttotal: 130ms\tremaining: 7.61s\n",
      "336:\tlearn: 0.2124921\ttest: 0.2940751\tbest: 0.2940751 (336)\ttotal: 130ms\tremaining: 7.59s\n",
      "337:\tlearn: 0.2119485\ttest: 0.2934887\tbest: 0.2934887 (337)\ttotal: 130ms\tremaining: 7.58s\n",
      "338:\tlearn: 0.2114977\ttest: 0.2930718\tbest: 0.2930718 (338)\ttotal: 130ms\tremaining: 7.56s\n",
      "339:\tlearn: 0.2109266\ttest: 0.2926808\tbest: 0.2926808 (339)\ttotal: 131ms\tremaining: 7.55s\n",
      "340:\tlearn: 0.2103247\ttest: 0.2920713\tbest: 0.2920713 (340)\ttotal: 131ms\tremaining: 7.54s\n",
      "341:\tlearn: 0.2096728\ttest: 0.2916566\tbest: 0.2916566 (341)\ttotal: 131ms\tremaining: 7.53s\n",
      "342:\tlearn: 0.2090436\ttest: 0.2912006\tbest: 0.2912006 (342)\ttotal: 131ms\tremaining: 7.51s\n",
      "343:\tlearn: 0.2084547\ttest: 0.2908249\tbest: 0.2908249 (343)\ttotal: 131ms\tremaining: 7.5s\n",
      "344:\tlearn: 0.2078131\ttest: 0.2904143\tbest: 0.2904143 (344)\ttotal: 131ms\tremaining: 7.49s\n",
      "345:\tlearn: 0.2072657\ttest: 0.2898526\tbest: 0.2898526 (345)\ttotal: 132ms\tremaining: 7.47s\n",
      "346:\tlearn: 0.2068770\ttest: 0.2892942\tbest: 0.2892942 (346)\ttotal: 132ms\tremaining: 7.46s\n",
      "347:\tlearn: 0.2062939\ttest: 0.2888261\tbest: 0.2888261 (347)\ttotal: 132ms\tremaining: 7.45s\n",
      "348:\tlearn: 0.2056815\ttest: 0.2883441\tbest: 0.2883441 (348)\ttotal: 132ms\tremaining: 7.43s\n",
      "349:\tlearn: 0.2050744\ttest: 0.2879100\tbest: 0.2879100 (349)\ttotal: 132ms\tremaining: 7.42s\n",
      "350:\tlearn: 0.2044904\ttest: 0.2872743\tbest: 0.2872743 (350)\ttotal: 132ms\tremaining: 7.41s\n",
      "351:\tlearn: 0.2039790\ttest: 0.2867417\tbest: 0.2867417 (351)\ttotal: 132ms\tremaining: 7.39s\n",
      "352:\tlearn: 0.2035681\ttest: 0.2863878\tbest: 0.2863878 (352)\ttotal: 133ms\tremaining: 7.38s\n",
      "353:\tlearn: 0.2029951\ttest: 0.2859936\tbest: 0.2859936 (353)\ttotal: 133ms\tremaining: 7.37s\n",
      "354:\tlearn: 0.2025770\ttest: 0.2855945\tbest: 0.2855945 (354)\ttotal: 133ms\tremaining: 7.36s\n",
      "355:\tlearn: 0.2021835\ttest: 0.2852620\tbest: 0.2852620 (355)\ttotal: 133ms\tremaining: 7.34s\n",
      "356:\tlearn: 0.2015600\ttest: 0.2848986\tbest: 0.2848986 (356)\ttotal: 133ms\tremaining: 7.33s\n",
      "357:\tlearn: 0.2011235\ttest: 0.2845298\tbest: 0.2845298 (357)\ttotal: 133ms\tremaining: 7.32s\n",
      "358:\tlearn: 0.2006009\ttest: 0.2842684\tbest: 0.2842684 (358)\ttotal: 134ms\tremaining: 7.3s\n",
      "359:\tlearn: 0.2000063\ttest: 0.2839067\tbest: 0.2839067 (359)\ttotal: 134ms\tremaining: 7.29s\n",
      "360:\tlearn: 0.1995907\ttest: 0.2836402\tbest: 0.2836402 (360)\ttotal: 134ms\tremaining: 7.28s\n",
      "361:\tlearn: 0.1991319\ttest: 0.2831252\tbest: 0.2831252 (361)\ttotal: 134ms\tremaining: 7.27s\n",
      "362:\tlearn: 0.1985806\ttest: 0.2827467\tbest: 0.2827467 (362)\ttotal: 134ms\tremaining: 7.25s\n",
      "363:\tlearn: 0.1981084\ttest: 0.2822485\tbest: 0.2822485 (363)\ttotal: 134ms\tremaining: 7.24s\n",
      "364:\tlearn: 0.1975879\ttest: 0.2819021\tbest: 0.2819021 (364)\ttotal: 134ms\tremaining: 7.23s\n",
      "365:\tlearn: 0.1971000\ttest: 0.2816268\tbest: 0.2816268 (365)\ttotal: 135ms\tremaining: 7.22s\n",
      "366:\tlearn: 0.1965415\ttest: 0.2813398\tbest: 0.2813398 (366)\ttotal: 135ms\tremaining: 7.21s\n",
      "367:\tlearn: 0.1960331\ttest: 0.2810279\tbest: 0.2810279 (367)\ttotal: 135ms\tremaining: 7.2s\n",
      "368:\tlearn: 0.1956206\ttest: 0.2805194\tbest: 0.2805194 (368)\ttotal: 135ms\tremaining: 7.19s\n",
      "369:\tlearn: 0.1950812\ttest: 0.2801628\tbest: 0.2801628 (369)\ttotal: 135ms\tremaining: 7.17s\n",
      "370:\tlearn: 0.1945575\ttest: 0.2798167\tbest: 0.2798167 (370)\ttotal: 135ms\tremaining: 7.16s\n",
      "371:\tlearn: 0.1940104\ttest: 0.2794877\tbest: 0.2794877 (371)\ttotal: 136ms\tremaining: 7.15s\n",
      "372:\tlearn: 0.1934914\ttest: 0.2791726\tbest: 0.2791726 (372)\ttotal: 136ms\tremaining: 7.14s\n",
      "373:\tlearn: 0.1930041\ttest: 0.2786185\tbest: 0.2786185 (373)\ttotal: 136ms\tremaining: 7.14s\n",
      "374:\tlearn: 0.1924821\ttest: 0.2782463\tbest: 0.2782463 (374)\ttotal: 136ms\tremaining: 7.13s\n",
      "375:\tlearn: 0.1920201\ttest: 0.2777312\tbest: 0.2777312 (375)\ttotal: 137ms\tremaining: 7.13s\n",
      "376:\tlearn: 0.1914878\ttest: 0.2773670\tbest: 0.2773670 (376)\ttotal: 137ms\tremaining: 7.13s\n",
      "377:\tlearn: 0.1910343\ttest: 0.2771142\tbest: 0.2771142 (377)\ttotal: 137ms\tremaining: 7.12s\n",
      "378:\tlearn: 0.1905073\ttest: 0.2767969\tbest: 0.2767969 (378)\ttotal: 137ms\tremaining: 7.11s\n",
      "379:\tlearn: 0.1900568\ttest: 0.2765136\tbest: 0.2765136 (379)\ttotal: 138ms\tremaining: 7.11s\n",
      "380:\tlearn: 0.1896500\ttest: 0.2760865\tbest: 0.2760865 (380)\ttotal: 138ms\tremaining: 7.1s\n",
      "381:\tlearn: 0.1891643\ttest: 0.2758068\tbest: 0.2758068 (381)\ttotal: 138ms\tremaining: 7.09s\n",
      "382:\tlearn: 0.1886876\ttest: 0.2754749\tbest: 0.2754749 (382)\ttotal: 138ms\tremaining: 7.09s\n",
      "383:\tlearn: 0.1882509\ttest: 0.2752467\tbest: 0.2752467 (383)\ttotal: 139ms\tremaining: 7.08s\n",
      "384:\tlearn: 0.1877569\ttest: 0.2749218\tbest: 0.2749218 (384)\ttotal: 139ms\tremaining: 7.07s\n",
      "385:\tlearn: 0.1872714\ttest: 0.2746080\tbest: 0.2746080 (385)\ttotal: 139ms\tremaining: 7.06s\n",
      "386:\tlearn: 0.1868108\ttest: 0.2743715\tbest: 0.2743715 (386)\ttotal: 139ms\tremaining: 7.05s\n",
      "387:\tlearn: 0.1864925\ttest: 0.2740793\tbest: 0.2740793 (387)\ttotal: 139ms\tremaining: 7.05s\n",
      "388:\tlearn: 0.1860293\ttest: 0.2737691\tbest: 0.2737691 (388)\ttotal: 140ms\tremaining: 7.04s\n",
      "389:\tlearn: 0.1855534\ttest: 0.2735154\tbest: 0.2735154 (389)\ttotal: 140ms\tremaining: 7.03s\n",
      "390:\tlearn: 0.1850877\ttest: 0.2732145\tbest: 0.2732145 (390)\ttotal: 140ms\tremaining: 7.02s\n",
      "391:\tlearn: 0.1846276\ttest: 0.2728752\tbest: 0.2728752 (391)\ttotal: 140ms\tremaining: 7.01s\n",
      "392:\tlearn: 0.1842223\ttest: 0.2723972\tbest: 0.2723972 (392)\ttotal: 140ms\tremaining: 7s\n",
      "393:\tlearn: 0.1838241\ttest: 0.2722094\tbest: 0.2722094 (393)\ttotal: 141ms\tremaining: 7s\n",
      "394:\tlearn: 0.1835076\ttest: 0.2719328\tbest: 0.2719328 (394)\ttotal: 141ms\tremaining: 6.99s\n",
      "395:\tlearn: 0.1831325\ttest: 0.2717461\tbest: 0.2717461 (395)\ttotal: 141ms\tremaining: 6.98s\n",
      "396:\tlearn: 0.1828197\ttest: 0.2715194\tbest: 0.2715194 (396)\ttotal: 141ms\tremaining: 6.97s\n",
      "397:\tlearn: 0.1823892\ttest: 0.2712866\tbest: 0.2712866 (397)\ttotal: 141ms\tremaining: 6.96s\n",
      "398:\tlearn: 0.1819680\ttest: 0.2708269\tbest: 0.2708269 (398)\ttotal: 142ms\tremaining: 6.96s\n",
      "399:\tlearn: 0.1815861\ttest: 0.2705861\tbest: 0.2705861 (399)\ttotal: 142ms\tremaining: 6.95s\n",
      "400:\tlearn: 0.1811559\ttest: 0.2703173\tbest: 0.2703173 (400)\ttotal: 142ms\tremaining: 6.94s\n",
      "401:\tlearn: 0.1807871\ttest: 0.2701165\tbest: 0.2701165 (401)\ttotal: 142ms\tremaining: 6.94s\n",
      "402:\tlearn: 0.1803820\ttest: 0.2698613\tbest: 0.2698613 (402)\ttotal: 142ms\tremaining: 6.93s\n",
      "403:\tlearn: 0.1800958\ttest: 0.2696014\tbest: 0.2696014 (403)\ttotal: 143ms\tremaining: 6.92s\n",
      "404:\tlearn: 0.1796316\ttest: 0.2693865\tbest: 0.2693865 (404)\ttotal: 143ms\tremaining: 6.92s\n",
      "405:\tlearn: 0.1793519\ttest: 0.2691437\tbest: 0.2691437 (405)\ttotal: 143ms\tremaining: 6.91s\n",
      "406:\tlearn: 0.1789418\ttest: 0.2689347\tbest: 0.2689347 (406)\ttotal: 143ms\tremaining: 6.9s\n",
      "407:\tlearn: 0.1786040\ttest: 0.2688177\tbest: 0.2688177 (407)\ttotal: 144ms\tremaining: 6.89s\n",
      "408:\tlearn: 0.1782672\ttest: 0.2684115\tbest: 0.2684115 (408)\ttotal: 144ms\tremaining: 6.88s\n",
      "409:\tlearn: 0.1779896\ttest: 0.2681653\tbest: 0.2681653 (409)\ttotal: 144ms\tremaining: 6.88s\n",
      "410:\tlearn: 0.1775946\ttest: 0.2680219\tbest: 0.2680219 (410)\ttotal: 144ms\tremaining: 6.87s\n",
      "411:\tlearn: 0.1772446\ttest: 0.2678902\tbest: 0.2678902 (411)\ttotal: 144ms\tremaining: 6.86s\n",
      "412:\tlearn: 0.1768366\ttest: 0.2676110\tbest: 0.2676110 (412)\ttotal: 145ms\tremaining: 6.86s\n",
      "413:\tlearn: 0.1764520\ttest: 0.2672674\tbest: 0.2672674 (413)\ttotal: 145ms\tremaining: 6.85s\n",
      "414:\tlearn: 0.1760945\ttest: 0.2671406\tbest: 0.2671406 (414)\ttotal: 145ms\tremaining: 6.84s\n",
      "415:\tlearn: 0.1757413\ttest: 0.2670894\tbest: 0.2670894 (415)\ttotal: 145ms\tremaining: 6.83s\n",
      "416:\tlearn: 0.1755185\ttest: 0.2669134\tbest: 0.2669134 (416)\ttotal: 145ms\tremaining: 6.83s\n",
      "417:\tlearn: 0.1751359\ttest: 0.2667144\tbest: 0.2667144 (417)\ttotal: 146ms\tremaining: 6.82s\n",
      "418:\tlearn: 0.1747891\ttest: 0.2666671\tbest: 0.2666671 (418)\ttotal: 146ms\tremaining: 6.81s\n",
      "419:\tlearn: 0.1743684\ttest: 0.2664406\tbest: 0.2664406 (419)\ttotal: 146ms\tremaining: 6.8s\n",
      "420:\tlearn: 0.1739716\ttest: 0.2662066\tbest: 0.2662066 (420)\ttotal: 146ms\tremaining: 6.8s\n",
      "421:\tlearn: 0.1736462\ttest: 0.2659166\tbest: 0.2659166 (421)\ttotal: 146ms\tremaining: 6.79s\n"
     ]
    },
    {
     "name": "stdout",
     "output_type": "stream",
     "text": [
      "422:\tlearn: 0.1732971\ttest: 0.2655914\tbest: 0.2655914 (422)\ttotal: 147ms\tremaining: 6.81s\n",
      "423:\tlearn: 0.1729153\ttest: 0.2654302\tbest: 0.2654302 (423)\ttotal: 148ms\tremaining: 6.82s\n",
      "424:\tlearn: 0.1726132\ttest: 0.2652698\tbest: 0.2652698 (424)\ttotal: 148ms\tremaining: 6.82s\n",
      "425:\tlearn: 0.1722723\ttest: 0.2648767\tbest: 0.2648767 (425)\ttotal: 148ms\tremaining: 6.81s\n",
      "426:\tlearn: 0.1719206\ttest: 0.2646162\tbest: 0.2646162 (426)\ttotal: 149ms\tremaining: 6.81s\n",
      "427:\tlearn: 0.1716548\ttest: 0.2643935\tbest: 0.2643935 (427)\ttotal: 149ms\tremaining: 6.8s\n",
      "428:\tlearn: 0.1712924\ttest: 0.2641966\tbest: 0.2641966 (428)\ttotal: 149ms\tremaining: 6.79s\n",
      "429:\tlearn: 0.1710478\ttest: 0.2640034\tbest: 0.2640034 (429)\ttotal: 152ms\tremaining: 6.91s\n",
      "430:\tlearn: 0.1706849\ttest: 0.2637837\tbest: 0.2637837 (430)\ttotal: 152ms\tremaining: 6.91s\n",
      "431:\tlearn: 0.1703302\ttest: 0.2636330\tbest: 0.2636330 (431)\ttotal: 152ms\tremaining: 6.89s\n",
      "432:\tlearn: 0.1700398\ttest: 0.2634564\tbest: 0.2634564 (432)\ttotal: 152ms\tremaining: 6.89s\n",
      "433:\tlearn: 0.1696650\ttest: 0.2632912\tbest: 0.2632912 (433)\ttotal: 152ms\tremaining: 6.88s\n",
      "434:\tlearn: 0.1693086\ttest: 0.2631406\tbest: 0.2631406 (434)\ttotal: 153ms\tremaining: 6.87s\n",
      "435:\tlearn: 0.1689165\ttest: 0.2629742\tbest: 0.2629742 (435)\ttotal: 153ms\tremaining: 6.86s\n",
      "436:\tlearn: 0.1686519\ttest: 0.2627562\tbest: 0.2627562 (436)\ttotal: 153ms\tremaining: 6.86s\n",
      "437:\tlearn: 0.1683618\ttest: 0.2626888\tbest: 0.2626888 (437)\ttotal: 153ms\tremaining: 6.85s\n",
      "438:\tlearn: 0.1679967\ttest: 0.2625581\tbest: 0.2625581 (438)\ttotal: 154ms\tremaining: 6.84s\n",
      "439:\tlearn: 0.1677137\ttest: 0.2622862\tbest: 0.2622862 (439)\ttotal: 154ms\tremaining: 6.83s\n",
      "440:\tlearn: 0.1674378\ttest: 0.2621353\tbest: 0.2621353 (440)\ttotal: 154ms\tremaining: 6.83s\n",
      "441:\tlearn: 0.1671607\ttest: 0.2618494\tbest: 0.2618494 (441)\ttotal: 154ms\tremaining: 6.82s\n",
      "442:\tlearn: 0.1669118\ttest: 0.2617020\tbest: 0.2617020 (442)\ttotal: 154ms\tremaining: 6.81s\n",
      "443:\tlearn: 0.1666679\ttest: 0.2615945\tbest: 0.2615945 (443)\ttotal: 154ms\tremaining: 6.8s\n",
      "444:\tlearn: 0.1663555\ttest: 0.2615048\tbest: 0.2615048 (444)\ttotal: 154ms\tremaining: 6.79s\n",
      "445:\tlearn: 0.1660816\ttest: 0.2613106\tbest: 0.2613106 (445)\ttotal: 155ms\tremaining: 6.78s\n",
      "446:\tlearn: 0.1658760\ttest: 0.2610767\tbest: 0.2610767 (446)\ttotal: 155ms\tremaining: 6.77s\n",
      "447:\tlearn: 0.1655562\ttest: 0.2608940\tbest: 0.2608940 (447)\ttotal: 155ms\tremaining: 6.76s\n",
      "448:\tlearn: 0.1653801\ttest: 0.2607344\tbest: 0.2607344 (448)\ttotal: 155ms\tremaining: 6.76s\n",
      "449:\tlearn: 0.1650849\ttest: 0.2606078\tbest: 0.2606078 (449)\ttotal: 155ms\tremaining: 6.75s\n",
      "450:\tlearn: 0.1647483\ttest: 0.2606389\tbest: 0.2606078 (449)\ttotal: 155ms\tremaining: 6.74s\n",
      "451:\tlearn: 0.1645462\ttest: 0.2605141\tbest: 0.2605141 (451)\ttotal: 156ms\tremaining: 6.73s\n",
      "452:\tlearn: 0.1642370\ttest: 0.2604098\tbest: 0.2604098 (452)\ttotal: 156ms\tremaining: 6.74s\n",
      "453:\tlearn: 0.1639205\ttest: 0.2602296\tbest: 0.2602296 (453)\ttotal: 157ms\tremaining: 6.74s\n",
      "454:\tlearn: 0.1637143\ttest: 0.2600637\tbest: 0.2600637 (454)\ttotal: 157ms\tremaining: 6.73s\n",
      "455:\tlearn: 0.1634196\ttest: 0.2599076\tbest: 0.2599076 (455)\ttotal: 157ms\tremaining: 6.72s\n",
      "456:\tlearn: 0.1631536\ttest: 0.2597074\tbest: 0.2597074 (456)\ttotal: 157ms\tremaining: 6.71s\n",
      "457:\tlearn: 0.1628467\ttest: 0.2594960\tbest: 0.2594960 (457)\ttotal: 157ms\tremaining: 6.7s\n",
      "458:\tlearn: 0.1625250\ttest: 0.2593985\tbest: 0.2593985 (458)\ttotal: 157ms\tremaining: 6.7s\n",
      "459:\tlearn: 0.1622091\ttest: 0.2593233\tbest: 0.2593233 (459)\ttotal: 158ms\tremaining: 6.69s\n",
      "460:\tlearn: 0.1620109\ttest: 0.2591267\tbest: 0.2591267 (460)\ttotal: 158ms\tremaining: 6.68s\n",
      "461:\tlearn: 0.1617819\ttest: 0.2588360\tbest: 0.2588360 (461)\ttotal: 158ms\tremaining: 6.68s\n",
      "462:\tlearn: 0.1615805\ttest: 0.2586773\tbest: 0.2586773 (462)\ttotal: 158ms\tremaining: 6.67s\n",
      "463:\tlearn: 0.1612918\ttest: 0.2584781\tbest: 0.2584781 (463)\ttotal: 158ms\tremaining: 6.66s\n",
      "464:\tlearn: 0.1610044\ttest: 0.2583181\tbest: 0.2583181 (464)\ttotal: 158ms\tremaining: 6.65s\n",
      "465:\tlearn: 0.1607715\ttest: 0.2582534\tbest: 0.2582534 (465)\ttotal: 159ms\tremaining: 6.65s\n",
      "466:\tlearn: 0.1605488\ttest: 0.2580854\tbest: 0.2580854 (466)\ttotal: 159ms\tremaining: 6.64s\n",
      "467:\tlearn: 0.1603278\ttest: 0.2578028\tbest: 0.2578028 (467)\ttotal: 159ms\tremaining: 6.63s\n",
      "468:\tlearn: 0.1601742\ttest: 0.2576856\tbest: 0.2576856 (468)\ttotal: 159ms\tremaining: 6.64s\n",
      "469:\tlearn: 0.1599443\ttest: 0.2575152\tbest: 0.2575152 (469)\ttotal: 160ms\tremaining: 6.65s\n",
      "470:\tlearn: 0.1596564\ttest: 0.2574230\tbest: 0.2574230 (470)\ttotal: 160ms\tremaining: 6.64s\n",
      "471:\tlearn: 0.1593568\ttest: 0.2573216\tbest: 0.2573216 (471)\ttotal: 160ms\tremaining: 6.64s\n",
      "472:\tlearn: 0.1591183\ttest: 0.2572246\tbest: 0.2572246 (472)\ttotal: 161ms\tremaining: 6.63s\n",
      "473:\tlearn: 0.1588296\ttest: 0.2569624\tbest: 0.2569624 (473)\ttotal: 161ms\tremaining: 6.63s\n",
      "474:\tlearn: 0.1585838\ttest: 0.2567479\tbest: 0.2567479 (474)\ttotal: 161ms\tremaining: 6.62s\n",
      "475:\tlearn: 0.1583127\ttest: 0.2566113\tbest: 0.2566113 (475)\ttotal: 161ms\tremaining: 6.61s\n",
      "476:\tlearn: 0.1580976\ttest: 0.2563921\tbest: 0.2563921 (476)\ttotal: 161ms\tremaining: 6.61s\n",
      "477:\tlearn: 0.1578115\ttest: 0.2561751\tbest: 0.2561751 (477)\ttotal: 162ms\tremaining: 6.6s\n",
      "478:\tlearn: 0.1575812\ttest: 0.2561527\tbest: 0.2561527 (478)\ttotal: 162ms\tremaining: 6.59s\n",
      "479:\tlearn: 0.1573877\ttest: 0.2559918\tbest: 0.2559918 (479)\ttotal: 163ms\tremaining: 6.62s\n",
      "480:\tlearn: 0.1571468\ttest: 0.2559589\tbest: 0.2559589 (480)\ttotal: 163ms\tremaining: 6.62s\n",
      "481:\tlearn: 0.1569037\ttest: 0.2558895\tbest: 0.2558895 (481)\ttotal: 163ms\tremaining: 6.61s\n",
      "482:\tlearn: 0.1566868\ttest: 0.2558670\tbest: 0.2558670 (482)\ttotal: 163ms\tremaining: 6.6s\n",
      "483:\tlearn: 0.1563765\ttest: 0.2558482\tbest: 0.2558482 (483)\ttotal: 164ms\tremaining: 6.59s\n",
      "484:\tlearn: 0.1561162\ttest: 0.2556562\tbest: 0.2556562 (484)\ttotal: 164ms\tremaining: 6.58s\n",
      "485:\tlearn: 0.1558463\ttest: 0.2555346\tbest: 0.2555346 (485)\ttotal: 164ms\tremaining: 6.57s\n",
      "486:\tlearn: 0.1556599\ttest: 0.2553671\tbest: 0.2553671 (486)\ttotal: 164ms\tremaining: 6.57s\n",
      "487:\tlearn: 0.1554280\ttest: 0.2552606\tbest: 0.2552606 (487)\ttotal: 164ms\tremaining: 6.56s\n",
      "488:\tlearn: 0.1552599\ttest: 0.2551381\tbest: 0.2551381 (488)\ttotal: 165ms\tremaining: 6.6s\n",
      "489:\tlearn: 0.1551370\ttest: 0.2550117\tbest: 0.2550117 (489)\ttotal: 166ms\tremaining: 6.59s\n",
      "490:\tlearn: 0.1549748\ttest: 0.2548991\tbest: 0.2548991 (490)\ttotal: 166ms\tremaining: 6.58s\n",
      "491:\tlearn: 0.1547450\ttest: 0.2547963\tbest: 0.2547963 (491)\ttotal: 166ms\tremaining: 6.57s\n",
      "492:\tlearn: 0.1544879\ttest: 0.2545880\tbest: 0.2545880 (492)\ttotal: 166ms\tremaining: 6.57s\n",
      "493:\tlearn: 0.1542956\ttest: 0.2545126\tbest: 0.2545126 (493)\ttotal: 166ms\tremaining: 6.56s\n",
      "494:\tlearn: 0.1540442\ttest: 0.2544893\tbest: 0.2544893 (494)\ttotal: 166ms\tremaining: 6.55s\n",
      "495:\tlearn: 0.1538697\ttest: 0.2543646\tbest: 0.2543646 (495)\ttotal: 166ms\tremaining: 6.55s\n",
      "496:\tlearn: 0.1536858\ttest: 0.2542209\tbest: 0.2542209 (496)\ttotal: 167ms\tremaining: 6.54s\n",
      "497:\tlearn: 0.1534881\ttest: 0.2540534\tbest: 0.2540534 (497)\ttotal: 167ms\tremaining: 6.53s\n",
      "498:\tlearn: 0.1532553\ttest: 0.2540444\tbest: 0.2540444 (498)\ttotal: 167ms\tremaining: 6.52s\n",
      "499:\tlearn: 0.1530570\ttest: 0.2539835\tbest: 0.2539835 (499)\ttotal: 167ms\tremaining: 6.51s\n",
      "500:\tlearn: 0.1528456\ttest: 0.2538278\tbest: 0.2538278 (500)\ttotal: 167ms\tremaining: 6.5s\n",
      "501:\tlearn: 0.1526139\ttest: 0.2537687\tbest: 0.2537687 (501)\ttotal: 167ms\tremaining: 6.5s\n",
      "502:\tlearn: 0.1523905\ttest: 0.2536754\tbest: 0.2536754 (502)\ttotal: 167ms\tremaining: 6.49s\n",
      "503:\tlearn: 0.1521361\ttest: 0.2535848\tbest: 0.2535848 (503)\ttotal: 168ms\tremaining: 6.48s\n",
      "504:\tlearn: 0.1519351\ttest: 0.2535818\tbest: 0.2535818 (504)\ttotal: 168ms\tremaining: 6.48s\n",
      "505:\tlearn: 0.1517787\ttest: 0.2534863\tbest: 0.2534863 (505)\ttotal: 168ms\tremaining: 6.47s\n",
      "506:\tlearn: 0.1515647\ttest: 0.2533634\tbest: 0.2533634 (506)\ttotal: 168ms\tremaining: 6.47s\n",
      "507:\tlearn: 0.1513844\ttest: 0.2531308\tbest: 0.2531308 (507)\ttotal: 168ms\tremaining: 6.46s\n",
      "508:\tlearn: 0.1511419\ttest: 0.2530675\tbest: 0.2530675 (508)\ttotal: 169ms\tremaining: 6.46s\n",
      "509:\tlearn: 0.1508676\ttest: 0.2528552\tbest: 0.2528552 (509)\ttotal: 169ms\tremaining: 6.46s\n",
      "510:\tlearn: 0.1506897\ttest: 0.2526859\tbest: 0.2526859 (510)\ttotal: 170ms\tremaining: 6.47s\n",
      "511:\tlearn: 0.1504586\ttest: 0.2525243\tbest: 0.2525243 (511)\ttotal: 170ms\tremaining: 6.46s\n",
      "512:\tlearn: 0.1502552\ttest: 0.2524274\tbest: 0.2524274 (512)\ttotal: 170ms\tremaining: 6.46s\n",
      "513:\tlearn: 0.1501178\ttest: 0.2523149\tbest: 0.2523149 (513)\ttotal: 170ms\tremaining: 6.46s\n",
      "514:\tlearn: 0.1499880\ttest: 0.2521880\tbest: 0.2521880 (514)\ttotal: 171ms\tremaining: 6.45s\n",
      "515:\tlearn: 0.1498182\ttest: 0.2520807\tbest: 0.2520807 (515)\ttotal: 171ms\tremaining: 6.45s\n",
      "516:\tlearn: 0.1496513\ttest: 0.2520182\tbest: 0.2520182 (516)\ttotal: 171ms\tremaining: 6.44s\n",
      "517:\tlearn: 0.1494757\ttest: 0.2519689\tbest: 0.2519689 (517)\ttotal: 171ms\tremaining: 6.44s\n",
      "518:\tlearn: 0.1492112\ttest: 0.2519094\tbest: 0.2519094 (518)\ttotal: 171ms\tremaining: 6.43s\n",
      "519:\tlearn: 0.1490253\ttest: 0.2519631\tbest: 0.2519094 (518)\ttotal: 172ms\tremaining: 6.43s\n",
      "520:\tlearn: 0.1487935\ttest: 0.2519759\tbest: 0.2519094 (518)\ttotal: 172ms\tremaining: 6.42s\n",
      "521:\tlearn: 0.1486649\ttest: 0.2518952\tbest: 0.2518952 (521)\ttotal: 172ms\tremaining: 6.41s\n",
      "522:\tlearn: 0.1484287\ttest: 0.2518398\tbest: 0.2518398 (522)\ttotal: 172ms\tremaining: 6.4s\n",
      "523:\tlearn: 0.1482240\ttest: 0.2517794\tbest: 0.2517794 (523)\ttotal: 172ms\tremaining: 6.39s\n",
      "524:\tlearn: 0.1480236\ttest: 0.2517288\tbest: 0.2517288 (524)\ttotal: 172ms\tremaining: 6.38s\n",
      "525:\tlearn: 0.1477687\ttest: 0.2516744\tbest: 0.2516744 (525)\ttotal: 172ms\tremaining: 6.37s\n",
      "526:\tlearn: 0.1475845\ttest: 0.2515721\tbest: 0.2515721 (526)\ttotal: 172ms\tremaining: 6.36s\n",
      "527:\tlearn: 0.1473747\ttest: 0.2515068\tbest: 0.2515068 (527)\ttotal: 173ms\tremaining: 6.39s\n",
      "528:\tlearn: 0.1471538\ttest: 0.2514225\tbest: 0.2514225 (528)\ttotal: 173ms\tremaining: 6.38s\n",
      "529:\tlearn: 0.1470116\ttest: 0.2512948\tbest: 0.2512948 (529)\ttotal: 174ms\tremaining: 6.4s\n",
      "530:\tlearn: 0.1468802\ttest: 0.2513097\tbest: 0.2512948 (529)\ttotal: 174ms\tremaining: 6.39s\n",
      "531:\tlearn: 0.1467130\ttest: 0.2512529\tbest: 0.2512529 (531)\ttotal: 175ms\tremaining: 6.39s\n",
      "532:\tlearn: 0.1465475\ttest: 0.2511971\tbest: 0.2511971 (532)\ttotal: 175ms\tremaining: 6.38s\n",
      "533:\tlearn: 0.1463370\ttest: 0.2510499\tbest: 0.2510499 (533)\ttotal: 175ms\tremaining: 6.38s\n",
      "534:\tlearn: 0.1462210\ttest: 0.2509758\tbest: 0.2509758 (534)\ttotal: 175ms\tremaining: 6.38s\n",
      "535:\tlearn: 0.1460699\ttest: 0.2509271\tbest: 0.2509271 (535)\ttotal: 176ms\tremaining: 6.37s\n",
      "536:\tlearn: 0.1459453\ttest: 0.2508020\tbest: 0.2508020 (536)\ttotal: 176ms\tremaining: 6.36s\n",
      "537:\tlearn: 0.1458240\ttest: 0.2506945\tbest: 0.2506945 (537)\ttotal: 176ms\tremaining: 6.36s\n",
      "538:\tlearn: 0.1456800\ttest: 0.2505624\tbest: 0.2505624 (538)\ttotal: 176ms\tremaining: 6.36s\n",
      "539:\tlearn: 0.1455045\ttest: 0.2505095\tbest: 0.2505095 (539)\ttotal: 176ms\tremaining: 6.35s\n",
      "540:\tlearn: 0.1452885\ttest: 0.2503453\tbest: 0.2503453 (540)\ttotal: 176ms\tremaining: 6.34s\n",
      "541:\tlearn: 0.1451397\ttest: 0.2502449\tbest: 0.2502449 (541)\ttotal: 177ms\tremaining: 6.34s\n",
      "542:\tlearn: 0.1449687\ttest: 0.2502568\tbest: 0.2502449 (541)\ttotal: 177ms\tremaining: 6.34s\n",
      "543:\tlearn: 0.1447658\ttest: 0.2502420\tbest: 0.2502420 (543)\ttotal: 177ms\tremaining: 6.34s\n",
      "544:\tlearn: 0.1445599\ttest: 0.2500509\tbest: 0.2500509 (544)\ttotal: 177ms\tremaining: 6.33s\n",
      "545:\tlearn: 0.1444624\ttest: 0.2499624\tbest: 0.2499624 (545)\ttotal: 178ms\tremaining: 6.33s\n",
      "546:\tlearn: 0.1443633\ttest: 0.2498966\tbest: 0.2498966 (546)\ttotal: 178ms\tremaining: 6.33s\n",
      "547:\tlearn: 0.1441885\ttest: 0.2499201\tbest: 0.2498966 (546)\ttotal: 178ms\tremaining: 6.33s\n",
      "548:\tlearn: 0.1440664\ttest: 0.2498321\tbest: 0.2498321 (548)\ttotal: 179ms\tremaining: 6.33s\n",
      "549:\tlearn: 0.1439075\ttest: 0.2497016\tbest: 0.2497016 (549)\ttotal: 179ms\tremaining: 6.33s\n",
      "550:\tlearn: 0.1437887\ttest: 0.2495715\tbest: 0.2495715 (550)\ttotal: 179ms\tremaining: 6.33s\n",
      "551:\tlearn: 0.1435932\ttest: 0.2495028\tbest: 0.2495028 (551)\ttotal: 180ms\tremaining: 6.33s\n",
      "552:\tlearn: 0.1434865\ttest: 0.2493935\tbest: 0.2493935 (552)\ttotal: 180ms\tremaining: 6.32s\n",
      "553:\tlearn: 0.1433722\ttest: 0.2493130\tbest: 0.2493130 (553)\ttotal: 180ms\tremaining: 6.32s\n",
      "554:\tlearn: 0.1432142\ttest: 0.2492716\tbest: 0.2492716 (554)\ttotal: 181ms\tremaining: 6.35s\n",
      "555:\tlearn: 0.1430356\ttest: 0.2492615\tbest: 0.2492615 (555)\ttotal: 181ms\tremaining: 6.34s\n",
      "556:\tlearn: 0.1428413\ttest: 0.2492834\tbest: 0.2492615 (555)\ttotal: 182ms\tremaining: 6.34s\n",
      "557:\tlearn: 0.1426742\ttest: 0.2491225\tbest: 0.2491225 (557)\ttotal: 182ms\tremaining: 6.35s\n",
      "558:\tlearn: 0.1424781\ttest: 0.2491308\tbest: 0.2491225 (557)\ttotal: 182ms\tremaining: 6.34s\n",
      "559:\tlearn: 0.1423020\ttest: 0.2492086\tbest: 0.2491225 (557)\ttotal: 183ms\tremaining: 6.34s\n",
      "560:\tlearn: 0.1421455\ttest: 0.2492145\tbest: 0.2491225 (557)\ttotal: 183ms\tremaining: 6.34s\n",
      "561:\tlearn: 0.1419856\ttest: 0.2491987\tbest: 0.2491225 (557)\ttotal: 184ms\tremaining: 6.36s\n",
      "562:\tlearn: 0.1418998\ttest: 0.2491120\tbest: 0.2491120 (562)\ttotal: 184ms\tremaining: 6.36s\n",
      "563:\tlearn: 0.1416850\ttest: 0.2491228\tbest: 0.2491120 (562)\ttotal: 184ms\tremaining: 6.36s\n",
      "564:\tlearn: 0.1415325\ttest: 0.2490833\tbest: 0.2490833 (564)\ttotal: 185ms\tremaining: 6.35s\n",
      "565:\tlearn: 0.1414086\ttest: 0.2490926\tbest: 0.2490833 (564)\ttotal: 185ms\tremaining: 6.34s\n",
      "566:\tlearn: 0.1412544\ttest: 0.2490582\tbest: 0.2490582 (566)\ttotal: 185ms\tremaining: 6.34s\n",
      "567:\tlearn: 0.1410478\ttest: 0.2490853\tbest: 0.2490582 (566)\ttotal: 185ms\tremaining: 6.34s\n",
      "568:\tlearn: 0.1409272\ttest: 0.2489818\tbest: 0.2489818 (568)\ttotal: 185ms\tremaining: 6.33s\n",
      "569:\tlearn: 0.1407421\ttest: 0.2489942\tbest: 0.2489818 (568)\ttotal: 186ms\tremaining: 6.33s\n",
      "570:\tlearn: 0.1406317\ttest: 0.2489311\tbest: 0.2489311 (570)\ttotal: 186ms\tremaining: 6.33s\n",
      "571:\tlearn: 0.1405404\ttest: 0.2488587\tbest: 0.2488587 (571)\ttotal: 186ms\tremaining: 6.33s\n",
      "572:\tlearn: 0.1404457\ttest: 0.2487816\tbest: 0.2487816 (572)\ttotal: 187ms\tremaining: 6.33s\n",
      "573:\tlearn: 0.1403058\ttest: 0.2485526\tbest: 0.2485526 (573)\ttotal: 187ms\tremaining: 6.33s\n",
      "574:\tlearn: 0.1402344\ttest: 0.2485146\tbest: 0.2485146 (574)\ttotal: 187ms\tremaining: 6.32s\n",
      "575:\tlearn: 0.1401337\ttest: 0.2484483\tbest: 0.2484483 (575)\ttotal: 187ms\tremaining: 6.32s\n",
      "576:\tlearn: 0.1400261\ttest: 0.2483362\tbest: 0.2483362 (576)\ttotal: 188ms\tremaining: 6.32s\n",
      "577:\tlearn: 0.1398673\ttest: 0.2482606\tbest: 0.2482606 (577)\ttotal: 188ms\tremaining: 6.31s\n",
      "578:\tlearn: 0.1397918\ttest: 0.2481813\tbest: 0.2481813 (578)\ttotal: 188ms\tremaining: 6.31s\n",
      "579:\tlearn: 0.1396704\ttest: 0.2481547\tbest: 0.2481547 (579)\ttotal: 188ms\tremaining: 6.3s\n",
      "580:\tlearn: 0.1395184\ttest: 0.2481309\tbest: 0.2481309 (580)\ttotal: 189ms\tremaining: 6.3s\n",
      "581:\tlearn: 0.1394343\ttest: 0.2480815\tbest: 0.2480815 (581)\ttotal: 189ms\tremaining: 6.3s\n",
      "582:\tlearn: 0.1393234\ttest: 0.2479739\tbest: 0.2479739 (582)\ttotal: 189ms\tremaining: 6.29s\n",
      "583:\tlearn: 0.1391157\ttest: 0.2478149\tbest: 0.2478149 (583)\ttotal: 189ms\tremaining: 6.29s\n",
      "584:\tlearn: 0.1390113\ttest: 0.2477581\tbest: 0.2477581 (584)\ttotal: 189ms\tremaining: 6.29s\n",
      "585:\tlearn: 0.1388209\ttest: 0.2476967\tbest: 0.2476967 (585)\ttotal: 190ms\tremaining: 6.29s\n",
      "586:\tlearn: 0.1387208\ttest: 0.2476066\tbest: 0.2476066 (586)\ttotal: 190ms\tremaining: 6.29s\n",
      "587:\tlearn: 0.1385283\ttest: 0.2475808\tbest: 0.2475808 (587)\ttotal: 190ms\tremaining: 6.29s\n",
      "588:\tlearn: 0.1384491\ttest: 0.2475064\tbest: 0.2475064 (588)\ttotal: 191ms\tremaining: 6.29s\n",
      "589:\tlearn: 0.1383311\ttest: 0.2474327\tbest: 0.2474327 (589)\ttotal: 191ms\tremaining: 6.28s\n",
      "590:\tlearn: 0.1381717\ttest: 0.2474624\tbest: 0.2474327 (589)\ttotal: 191ms\tremaining: 6.28s\n",
      "591:\tlearn: 0.1379998\ttest: 0.2474078\tbest: 0.2474078 (591)\ttotal: 191ms\tremaining: 6.28s\n",
      "592:\tlearn: 0.1378981\ttest: 0.2473134\tbest: 0.2473134 (592)\ttotal: 192ms\tremaining: 6.28s\n",
      "593:\tlearn: 0.1377816\ttest: 0.2472654\tbest: 0.2472654 (593)\ttotal: 192ms\tremaining: 6.27s\n",
      "594:\tlearn: 0.1376792\ttest: 0.2471647\tbest: 0.2471647 (594)\ttotal: 192ms\tremaining: 6.27s\n",
      "595:\tlearn: 0.1375295\ttest: 0.2471603\tbest: 0.2471603 (595)\ttotal: 192ms\tremaining: 6.26s\n",
      "596:\tlearn: 0.1373962\ttest: 0.2471473\tbest: 0.2471473 (596)\ttotal: 193ms\tremaining: 6.26s\n",
      "597:\tlearn: 0.1372969\ttest: 0.2470899\tbest: 0.2470899 (597)\ttotal: 193ms\tremaining: 6.25s\n",
      "598:\tlearn: 0.1372296\ttest: 0.2470231\tbest: 0.2470231 (598)\ttotal: 193ms\tremaining: 6.26s\n",
      "599:\tlearn: 0.1371072\ttest: 0.2469446\tbest: 0.2469446 (599)\ttotal: 193ms\tremaining: 6.25s\n",
      "600:\tlearn: 0.1369877\ttest: 0.2469645\tbest: 0.2469446 (599)\ttotal: 194ms\tremaining: 6.25s\n",
      "601:\tlearn: 0.1368566\ttest: 0.2469542\tbest: 0.2469446 (599)\ttotal: 194ms\tremaining: 6.25s\n",
      "602:\tlearn: 0.1367531\ttest: 0.2468483\tbest: 0.2468483 (602)\ttotal: 194ms\tremaining: 6.25s\n",
      "603:\tlearn: 0.1365857\ttest: 0.2469650\tbest: 0.2468483 (602)\ttotal: 194ms\tremaining: 6.24s\n",
      "604:\tlearn: 0.1364248\ttest: 0.2468444\tbest: 0.2468444 (604)\ttotal: 195ms\tremaining: 6.24s\n",
      "605:\tlearn: 0.1362875\ttest: 0.2468506\tbest: 0.2468444 (604)\ttotal: 195ms\tremaining: 6.24s\n",
      "606:\tlearn: 0.1361982\ttest: 0.2468038\tbest: 0.2468038 (606)\ttotal: 195ms\tremaining: 6.24s\n",
      "607:\tlearn: 0.1360294\ttest: 0.2468910\tbest: 0.2468038 (606)\ttotal: 196ms\tremaining: 6.24s\n",
      "608:\tlearn: 0.1358774\ttest: 0.2468405\tbest: 0.2468038 (606)\ttotal: 196ms\tremaining: 6.24s\n",
      "609:\tlearn: 0.1357955\ttest: 0.2467246\tbest: 0.2467246 (609)\ttotal: 196ms\tremaining: 6.24s\n",
      "610:\tlearn: 0.1356809\ttest: 0.2467459\tbest: 0.2467246 (609)\ttotal: 196ms\tremaining: 6.23s\n",
      "611:\tlearn: 0.1355440\ttest: 0.2468024\tbest: 0.2467246 (609)\ttotal: 197ms\tremaining: 6.23s\n",
      "612:\tlearn: 0.1354256\ttest: 0.2467881\tbest: 0.2467246 (609)\ttotal: 197ms\tremaining: 6.22s\n",
      "613:\tlearn: 0.1352589\ttest: 0.2468263\tbest: 0.2467246 (609)\ttotal: 197ms\tremaining: 6.22s\n",
      "614:\tlearn: 0.1351487\ttest: 0.2467689\tbest: 0.2467246 (609)\ttotal: 197ms\tremaining: 6.22s\n",
      "615:\tlearn: 0.1349808\ttest: 0.2467886\tbest: 0.2467246 (609)\ttotal: 198ms\tremaining: 6.22s\n",
      "616:\tlearn: 0.1348608\ttest: 0.2467415\tbest: 0.2467246 (609)\ttotal: 198ms\tremaining: 6.21s\n",
      "617:\tlearn: 0.1347725\ttest: 0.2466774\tbest: 0.2466774 (617)\ttotal: 198ms\tremaining: 6.21s\n",
      "618:\tlearn: 0.1346490\ttest: 0.2467003\tbest: 0.2466774 (617)\ttotal: 198ms\tremaining: 6.21s\n",
      "619:\tlearn: 0.1345771\ttest: 0.2466567\tbest: 0.2466567 (619)\ttotal: 198ms\tremaining: 6.2s\n",
      "620:\tlearn: 0.1344640\ttest: 0.2467604\tbest: 0.2466567 (619)\ttotal: 199ms\tremaining: 6.2s\n",
      "621:\tlearn: 0.1343438\ttest: 0.2466753\tbest: 0.2466567 (619)\ttotal: 199ms\tremaining: 6.2s\n",
      "622:\tlearn: 0.1342394\ttest: 0.2466328\tbest: 0.2466328 (622)\ttotal: 199ms\tremaining: 6.19s\n",
      "623:\tlearn: 0.1341650\ttest: 0.2465708\tbest: 0.2465708 (623)\ttotal: 199ms\tremaining: 6.19s\n",
      "624:\tlearn: 0.1340253\ttest: 0.2465867\tbest: 0.2465708 (623)\ttotal: 200ms\tremaining: 6.18s\n",
      "625:\tlearn: 0.1339229\ttest: 0.2465738\tbest: 0.2465708 (623)\ttotal: 200ms\tremaining: 6.18s\n",
      "626:\tlearn: 0.1338046\ttest: 0.2465398\tbest: 0.2465398 (626)\ttotal: 200ms\tremaining: 6.18s\n",
      "627:\tlearn: 0.1336891\ttest: 0.2465323\tbest: 0.2465323 (627)\ttotal: 200ms\tremaining: 6.18s\n",
      "628:\tlearn: 0.1335386\ttest: 0.2463807\tbest: 0.2463807 (628)\ttotal: 200ms\tremaining: 6.17s\n",
      "629:\tlearn: 0.1334552\ttest: 0.2463368\tbest: 0.2463368 (629)\ttotal: 201ms\tremaining: 6.17s\n",
      "630:\tlearn: 0.1333530\ttest: 0.2463347\tbest: 0.2463347 (630)\ttotal: 201ms\tremaining: 6.17s\n",
      "631:\tlearn: 0.1332188\ttest: 0.2463046\tbest: 0.2463046 (631)\ttotal: 202ms\tremaining: 6.19s\n",
      "632:\tlearn: 0.1330826\ttest: 0.2463279\tbest: 0.2463046 (631)\ttotal: 202ms\tremaining: 6.19s\n",
      "633:\tlearn: 0.1329732\ttest: 0.2462643\tbest: 0.2462643 (633)\ttotal: 202ms\tremaining: 6.18s\n",
      "634:\tlearn: 0.1328974\ttest: 0.2462600\tbest: 0.2462600 (634)\ttotal: 203ms\tremaining: 6.18s\n",
      "635:\tlearn: 0.1328213\ttest: 0.2462816\tbest: 0.2462600 (634)\ttotal: 203ms\tremaining: 6.18s\n",
      "636:\tlearn: 0.1326797\ttest: 0.2464156\tbest: 0.2462600 (634)\ttotal: 203ms\tremaining: 6.17s\n",
      "637:\tlearn: 0.1325597\ttest: 0.2464443\tbest: 0.2462600 (634)\ttotal: 203ms\tremaining: 6.17s\n",
      "638:\tlearn: 0.1324640\ttest: 0.2464362\tbest: 0.2462600 (634)\ttotal: 204ms\tremaining: 6.17s\n",
      "639:\tlearn: 0.1323682\ttest: 0.2464699\tbest: 0.2462600 (634)\ttotal: 204ms\tremaining: 6.16s\n",
      "640:\tlearn: 0.1322449\ttest: 0.2465375\tbest: 0.2462600 (634)\ttotal: 204ms\tremaining: 6.16s\n",
      "641:\tlearn: 0.1321087\ttest: 0.2466453\tbest: 0.2462600 (634)\ttotal: 204ms\tremaining: 6.16s\n",
      "642:\tlearn: 0.1320259\ttest: 0.2466066\tbest: 0.2462600 (634)\ttotal: 204ms\tremaining: 6.15s\n",
      "643:\tlearn: 0.1318622\ttest: 0.2466276\tbest: 0.2462600 (634)\ttotal: 205ms\tremaining: 6.15s\n",
      "644:\tlearn: 0.1317351\ttest: 0.2466662\tbest: 0.2462600 (634)\ttotal: 205ms\tremaining: 6.15s\n",
      "645:\tlearn: 0.1315888\ttest: 0.2466922\tbest: 0.2462600 (634)\ttotal: 205ms\tremaining: 6.14s\n",
      "646:\tlearn: 0.1314930\ttest: 0.2466897\tbest: 0.2462600 (634)\ttotal: 205ms\tremaining: 6.14s\n",
      "647:\tlearn: 0.1313878\ttest: 0.2466926\tbest: 0.2462600 (634)\ttotal: 206ms\tremaining: 6.15s\n",
      "648:\tlearn: 0.1313228\ttest: 0.2466007\tbest: 0.2462600 (634)\ttotal: 206ms\tremaining: 6.16s\n",
      "649:\tlearn: 0.1312603\ttest: 0.2465709\tbest: 0.2462600 (634)\ttotal: 207ms\tremaining: 6.15s\n",
      "650:\tlearn: 0.1311944\ttest: 0.2465122\tbest: 0.2462600 (634)\ttotal: 207ms\tremaining: 6.14s\n",
      "651:\tlearn: 0.1310291\ttest: 0.2463822\tbest: 0.2462600 (634)\ttotal: 207ms\tremaining: 6.14s\n",
      "652:\tlearn: 0.1309076\ttest: 0.2462400\tbest: 0.2462400 (652)\ttotal: 207ms\tremaining: 6.14s\n",
      "653:\tlearn: 0.1307729\ttest: 0.2461864\tbest: 0.2461864 (653)\ttotal: 208ms\tremaining: 6.15s\n",
      "654:\tlearn: 0.1306337\ttest: 0.2461136\tbest: 0.2461136 (654)\ttotal: 208ms\tremaining: 6.15s\n",
      "655:\tlearn: 0.1304966\ttest: 0.2460726\tbest: 0.2460726 (655)\ttotal: 208ms\tremaining: 6.15s\n",
      "656:\tlearn: 0.1304101\ttest: 0.2461082\tbest: 0.2460726 (655)\ttotal: 209ms\tremaining: 6.15s\n",
      "657:\tlearn: 0.1302875\ttest: 0.2460658\tbest: 0.2460658 (657)\ttotal: 209ms\tremaining: 6.14s\n",
      "658:\tlearn: 0.1301719\ttest: 0.2461310\tbest: 0.2460658 (657)\ttotal: 209ms\tremaining: 6.14s\n",
      "659:\tlearn: 0.1301008\ttest: 0.2460927\tbest: 0.2460658 (657)\ttotal: 210ms\tremaining: 6.14s\n",
      "660:\tlearn: 0.1300327\ttest: 0.2460515\tbest: 0.2460515 (660)\ttotal: 210ms\tremaining: 6.14s\n",
      "661:\tlearn: 0.1298950\ttest: 0.2461823\tbest: 0.2460515 (660)\ttotal: 210ms\tremaining: 6.15s\n",
      "662:\tlearn: 0.1298227\ttest: 0.2461641\tbest: 0.2460515 (660)\ttotal: 211ms\tremaining: 6.14s\n",
      "663:\tlearn: 0.1297054\ttest: 0.2461692\tbest: 0.2460515 (660)\ttotal: 211ms\tremaining: 6.13s\n",
      "664:\tlearn: 0.1295855\ttest: 0.2461287\tbest: 0.2460515 (660)\ttotal: 211ms\tremaining: 6.13s\n",
      "665:\tlearn: 0.1295136\ttest: 0.2460457\tbest: 0.2460457 (665)\ttotal: 211ms\tremaining: 6.13s\n",
      "666:\tlearn: 0.1294192\ttest: 0.2460556\tbest: 0.2460457 (665)\ttotal: 212ms\tremaining: 6.13s\n",
      "667:\tlearn: 0.1293394\ttest: 0.2460245\tbest: 0.2460245 (667)\ttotal: 212ms\tremaining: 6.13s\n",
      "668:\tlearn: 0.1292584\ttest: 0.2460592\tbest: 0.2460245 (667)\ttotal: 212ms\tremaining: 6.12s\n",
      "669:\tlearn: 0.1291797\ttest: 0.2460184\tbest: 0.2460184 (669)\ttotal: 212ms\tremaining: 6.12s\n",
      "670:\tlearn: 0.1290936\ttest: 0.2459837\tbest: 0.2459837 (670)\ttotal: 212ms\tremaining: 6.11s\n",
      "671:\tlearn: 0.1290093\ttest: 0.2459088\tbest: 0.2459088 (671)\ttotal: 213ms\tremaining: 6.12s\n",
      "672:\tlearn: 0.1289511\ttest: 0.2458966\tbest: 0.2458966 (672)\ttotal: 213ms\tremaining: 6.11s\n",
      "673:\tlearn: 0.1288862\ttest: 0.2458767\tbest: 0.2458767 (673)\ttotal: 213ms\tremaining: 6.11s\n",
      "674:\tlearn: 0.1287966\ttest: 0.2457962\tbest: 0.2457962 (674)\ttotal: 214ms\tremaining: 6.12s\n",
      "675:\tlearn: 0.1286841\ttest: 0.2458141\tbest: 0.2457962 (674)\ttotal: 214ms\tremaining: 6.11s\n",
      "676:\tlearn: 0.1285923\ttest: 0.2457492\tbest: 0.2457492 (676)\ttotal: 214ms\tremaining: 6.11s\n",
      "677:\tlearn: 0.1285090\ttest: 0.2457623\tbest: 0.2457492 (676)\ttotal: 215ms\tremaining: 6.12s\n",
      "678:\tlearn: 0.1283916\ttest: 0.2457907\tbest: 0.2457492 (676)\ttotal: 215ms\tremaining: 6.12s\n",
      "679:\tlearn: 0.1283567\ttest: 0.2457708\tbest: 0.2457492 (676)\ttotal: 215ms\tremaining: 6.12s\n",
      "680:\tlearn: 0.1282935\ttest: 0.2457696\tbest: 0.2457492 (676)\ttotal: 216ms\tremaining: 6.12s\n",
      "681:\tlearn: 0.1281888\ttest: 0.2458315\tbest: 0.2457492 (676)\ttotal: 216ms\tremaining: 6.11s\n",
      "682:\tlearn: 0.1280960\ttest: 0.2458351\tbest: 0.2457492 (676)\ttotal: 216ms\tremaining: 6.11s\n",
      "683:\tlearn: 0.1280354\ttest: 0.2458127\tbest: 0.2457492 (676)\ttotal: 216ms\tremaining: 6.11s\n",
      "684:\tlearn: 0.1279669\ttest: 0.2457827\tbest: 0.2457492 (676)\ttotal: 216ms\tremaining: 6.1s\n",
      "685:\tlearn: 0.1278987\ttest: 0.2457494\tbest: 0.2457492 (676)\ttotal: 217ms\tremaining: 6.1s\n",
      "686:\tlearn: 0.1277522\ttest: 0.2457811\tbest: 0.2457492 (676)\ttotal: 217ms\tremaining: 6.1s\n",
      "687:\tlearn: 0.1276762\ttest: 0.2458033\tbest: 0.2457492 (676)\ttotal: 217ms\tremaining: 6.09s\n",
      "688:\tlearn: 0.1275782\ttest: 0.2457932\tbest: 0.2457492 (676)\ttotal: 217ms\tremaining: 6.09s\n",
      "689:\tlearn: 0.1274755\ttest: 0.2456849\tbest: 0.2456849 (689)\ttotal: 218ms\tremaining: 6.09s\n",
      "690:\tlearn: 0.1274175\ttest: 0.2456531\tbest: 0.2456531 (690)\ttotal: 218ms\tremaining: 6.08s\n",
      "691:\tlearn: 0.1273074\ttest: 0.2456198\tbest: 0.2456198 (691)\ttotal: 218ms\tremaining: 6.09s\n",
      "692:\tlearn: 0.1272019\ttest: 0.2456617\tbest: 0.2456198 (691)\ttotal: 218ms\tremaining: 6.08s\n",
      "693:\tlearn: 0.1271378\ttest: 0.2456333\tbest: 0.2456198 (691)\ttotal: 219ms\tremaining: 6.08s\n",
      "694:\tlearn: 0.1270386\ttest: 0.2456635\tbest: 0.2456198 (691)\ttotal: 219ms\tremaining: 6.08s\n",
      "695:\tlearn: 0.1269172\ttest: 0.2458106\tbest: 0.2456198 (691)\ttotal: 219ms\tremaining: 6.07s\n",
      "696:\tlearn: 0.1268453\ttest: 0.2458447\tbest: 0.2456198 (691)\ttotal: 219ms\tremaining: 6.07s\n",
      "697:\tlearn: 0.1267520\ttest: 0.2458738\tbest: 0.2456198 (691)\ttotal: 219ms\tremaining: 6.07s\n",
      "698:\tlearn: 0.1266872\ttest: 0.2457942\tbest: 0.2456198 (691)\ttotal: 220ms\tremaining: 6.06s\n",
      "699:\tlearn: 0.1266173\ttest: 0.2458389\tbest: 0.2456198 (691)\ttotal: 220ms\tremaining: 6.06s\n",
      "700:\tlearn: 0.1265194\ttest: 0.2458466\tbest: 0.2456198 (691)\ttotal: 220ms\tremaining: 6.05s\n",
      "701:\tlearn: 0.1264576\ttest: 0.2458243\tbest: 0.2456198 (691)\ttotal: 220ms\tremaining: 6.05s\n",
      "702:\tlearn: 0.1263370\ttest: 0.2457702\tbest: 0.2456198 (691)\ttotal: 220ms\tremaining: 6.05s\n",
      "703:\tlearn: 0.1262835\ttest: 0.2456952\tbest: 0.2456198 (691)\ttotal: 221ms\tremaining: 6.05s\n",
      "704:\tlearn: 0.1261733\ttest: 0.2456971\tbest: 0.2456198 (691)\ttotal: 221ms\tremaining: 6.05s\n",
      "705:\tlearn: 0.1261148\ttest: 0.2456338\tbest: 0.2456198 (691)\ttotal: 221ms\tremaining: 6.04s\n",
      "706:\tlearn: 0.1259958\ttest: 0.2455060\tbest: 0.2455060 (706)\ttotal: 221ms\tremaining: 6.04s\n",
      "707:\tlearn: 0.1258774\ttest: 0.2453787\tbest: 0.2453787 (707)\ttotal: 222ms\tremaining: 6.05s\n",
      "708:\tlearn: 0.1258277\ttest: 0.2453544\tbest: 0.2453544 (708)\ttotal: 222ms\tremaining: 6.05s\n",
      "709:\tlearn: 0.1257751\ttest: 0.2453248\tbest: 0.2453248 (709)\ttotal: 223ms\tremaining: 6.05s\n",
      "710:\tlearn: 0.1256862\ttest: 0.2454428\tbest: 0.2453248 (709)\ttotal: 223ms\tremaining: 6.04s\n",
      "711:\tlearn: 0.1256423\ttest: 0.2453859\tbest: 0.2453248 (709)\ttotal: 223ms\tremaining: 6.04s\n",
      "712:\tlearn: 0.1255722\ttest: 0.2453481\tbest: 0.2453248 (709)\ttotal: 223ms\tremaining: 6.04s\n",
      "713:\tlearn: 0.1255183\ttest: 0.2453328\tbest: 0.2453248 (709)\ttotal: 224ms\tremaining: 6.04s\n",
      "714:\tlearn: 0.1254241\ttest: 0.2454327\tbest: 0.2453248 (709)\ttotal: 224ms\tremaining: 6.04s\n",
      "715:\tlearn: 0.1253408\ttest: 0.2454133\tbest: 0.2453248 (709)\ttotal: 224ms\tremaining: 6.03s\n",
      "716:\tlearn: 0.1252833\ttest: 0.2453930\tbest: 0.2453248 (709)\ttotal: 224ms\tremaining: 6.03s\n",
      "717:\tlearn: 0.1252264\ttest: 0.2453755\tbest: 0.2453248 (709)\ttotal: 224ms\tremaining: 6.03s\n",
      "718:\tlearn: 0.1251766\ttest: 0.2453423\tbest: 0.2453248 (709)\ttotal: 225ms\tremaining: 6.02s\n",
      "719:\tlearn: 0.1251267\ttest: 0.2453430\tbest: 0.2453248 (709)\ttotal: 225ms\tremaining: 6.02s\n",
      "720:\tlearn: 0.1250447\ttest: 0.2451819\tbest: 0.2451819 (720)\ttotal: 225ms\tremaining: 6.02s\n",
      "721:\tlearn: 0.1249915\ttest: 0.2451644\tbest: 0.2451644 (721)\ttotal: 225ms\tremaining: 6.02s\n",
      "722:\tlearn: 0.1248995\ttest: 0.2451945\tbest: 0.2451644 (721)\ttotal: 226ms\tremaining: 6.01s\n",
      "723:\tlearn: 0.1248559\ttest: 0.2451774\tbest: 0.2451644 (721)\ttotal: 226ms\tremaining: 6.01s\n",
      "724:\tlearn: 0.1247142\ttest: 0.2453409\tbest: 0.2451644 (721)\ttotal: 226ms\tremaining: 6.01s\n",
      "725:\tlearn: 0.1246398\ttest: 0.2453185\tbest: 0.2451644 (721)\ttotal: 226ms\tremaining: 6.01s\n",
      "726:\tlearn: 0.1245564\ttest: 0.2452731\tbest: 0.2451644 (721)\ttotal: 227ms\tremaining: 6.01s\n",
      "727:\tlearn: 0.1244807\ttest: 0.2454134\tbest: 0.2451644 (721)\ttotal: 227ms\tremaining: 6.01s\n",
      "728:\tlearn: 0.1244192\ttest: 0.2453319\tbest: 0.2451644 (721)\ttotal: 227ms\tremaining: 6.01s\n",
      "729:\tlearn: 0.1243254\ttest: 0.2453969\tbest: 0.2451644 (721)\ttotal: 228ms\tremaining: 6.01s\n",
      "730:\tlearn: 0.1242224\ttest: 0.2454442\tbest: 0.2451644 (721)\ttotal: 228ms\tremaining: 6.01s\n",
      "731:\tlearn: 0.1241776\ttest: 0.2454570\tbest: 0.2451644 (721)\ttotal: 228ms\tremaining: 6s\n",
      "732:\tlearn: 0.1241189\ttest: 0.2454354\tbest: 0.2451644 (721)\ttotal: 228ms\tremaining: 6s\n",
      "733:\tlearn: 0.1240679\ttest: 0.2454416\tbest: 0.2451644 (721)\ttotal: 228ms\tremaining: 6s\n",
      "734:\tlearn: 0.1239895\ttest: 0.2455080\tbest: 0.2451644 (721)\ttotal: 229ms\tremaining: 6s\n",
      "735:\tlearn: 0.1238973\ttest: 0.2455730\tbest: 0.2451644 (721)\ttotal: 229ms\tremaining: 5.99s\n",
      "736:\tlearn: 0.1238506\ttest: 0.2455669\tbest: 0.2451644 (721)\ttotal: 229ms\tremaining: 5.99s\n",
      "737:\tlearn: 0.1237734\ttest: 0.2455498\tbest: 0.2451644 (721)\ttotal: 229ms\tremaining: 5.98s\n",
      "738:\tlearn: 0.1237140\ttest: 0.2455503\tbest: 0.2451644 (721)\ttotal: 229ms\tremaining: 5.98s\n",
      "739:\tlearn: 0.1236116\ttest: 0.2455265\tbest: 0.2451644 (721)\ttotal: 230ms\tremaining: 5.98s\n",
      "740:\tlearn: 0.1235017\ttest: 0.2454927\tbest: 0.2451644 (721)\ttotal: 230ms\tremaining: 5.97s\n",
      "741:\tlearn: 0.1234539\ttest: 0.2454724\tbest: 0.2451644 (721)\ttotal: 230ms\tremaining: 5.97s\n",
      "742:\tlearn: 0.1233936\ttest: 0.2454487\tbest: 0.2451644 (721)\ttotal: 230ms\tremaining: 5.97s\n",
      "743:\tlearn: 0.1233275\ttest: 0.2453915\tbest: 0.2451644 (721)\ttotal: 230ms\tremaining: 5.96s\n",
      "744:\tlearn: 0.1232467\ttest: 0.2453234\tbest: 0.2451644 (721)\ttotal: 231ms\tremaining: 5.96s\n",
      "745:\tlearn: 0.1231582\ttest: 0.2453269\tbest: 0.2451644 (721)\ttotal: 231ms\tremaining: 5.96s\n",
      "746:\tlearn: 0.1231042\ttest: 0.2453527\tbest: 0.2451644 (721)\ttotal: 231ms\tremaining: 5.95s\n",
      "747:\tlearn: 0.1230485\ttest: 0.2452936\tbest: 0.2451644 (721)\ttotal: 231ms\tremaining: 5.95s\n",
      "748:\tlearn: 0.1229995\ttest: 0.2452751\tbest: 0.2451644 (721)\ttotal: 231ms\tremaining: 5.95s\n",
      "749:\tlearn: 0.1229131\ttest: 0.2453561\tbest: 0.2451644 (721)\ttotal: 231ms\tremaining: 5.94s\n",
      "750:\tlearn: 0.1227975\ttest: 0.2454936\tbest: 0.2451644 (721)\ttotal: 232ms\tremaining: 5.94s\n",
      "751:\tlearn: 0.1227048\ttest: 0.2454978\tbest: 0.2451644 (721)\ttotal: 232ms\tremaining: 5.93s\n",
      "752:\tlearn: 0.1226146\ttest: 0.2454836\tbest: 0.2451644 (721)\ttotal: 232ms\tremaining: 5.94s\n",
      "753:\tlearn: 0.1225154\ttest: 0.2456098\tbest: 0.2451644 (721)\ttotal: 232ms\tremaining: 5.93s\n",
      "754:\tlearn: 0.1224450\ttest: 0.2457504\tbest: 0.2451644 (721)\ttotal: 233ms\tremaining: 5.93s\n",
      "755:\tlearn: 0.1223654\ttest: 0.2457552\tbest: 0.2451644 (721)\ttotal: 233ms\tremaining: 5.92s\n",
      "756:\tlearn: 0.1223267\ttest: 0.2457465\tbest: 0.2451644 (721)\ttotal: 234ms\tremaining: 5.94s\n",
      "757:\tlearn: 0.1222526\ttest: 0.2458434\tbest: 0.2451644 (721)\ttotal: 234ms\tremaining: 5.93s\n",
      "758:\tlearn: 0.1221874\ttest: 0.2458023\tbest: 0.2451644 (721)\ttotal: 234ms\tremaining: 5.93s\n",
      "759:\tlearn: 0.1220902\ttest: 0.2459280\tbest: 0.2451644 (721)\ttotal: 234ms\tremaining: 5.93s\n",
      "760:\tlearn: 0.1220265\ttest: 0.2459234\tbest: 0.2451644 (721)\ttotal: 234ms\tremaining: 5.92s\n",
      "761:\tlearn: 0.1219542\ttest: 0.2458736\tbest: 0.2451644 (721)\ttotal: 235ms\tremaining: 5.92s\n",
      "762:\tlearn: 0.1218415\ttest: 0.2460107\tbest: 0.2451644 (721)\ttotal: 235ms\tremaining: 5.92s\n",
      "763:\tlearn: 0.1217735\ttest: 0.2459987\tbest: 0.2451644 (721)\ttotal: 235ms\tremaining: 5.92s\n",
      "764:\tlearn: 0.1216820\ttest: 0.2460719\tbest: 0.2451644 (721)\ttotal: 235ms\tremaining: 5.91s\n",
      "765:\tlearn: 0.1215853\ttest: 0.2461977\tbest: 0.2451644 (721)\ttotal: 235ms\tremaining: 5.91s\n",
      "766:\tlearn: 0.1214846\ttest: 0.2462442\tbest: 0.2451644 (721)\ttotal: 235ms\tremaining: 5.9s\n",
      "767:\tlearn: 0.1214019\ttest: 0.2462857\tbest: 0.2451644 (721)\ttotal: 236ms\tremaining: 5.9s\n",
      "768:\tlearn: 0.1212746\ttest: 0.2461809\tbest: 0.2451644 (721)\ttotal: 236ms\tremaining: 5.9s\n",
      "769:\tlearn: 0.1211755\ttest: 0.2461750\tbest: 0.2451644 (721)\ttotal: 236ms\tremaining: 5.9s\n",
      "770:\tlearn: 0.1211040\ttest: 0.2462721\tbest: 0.2451644 (721)\ttotal: 236ms\tremaining: 5.9s\n",
      "771:\tlearn: 0.1210684\ttest: 0.2462494\tbest: 0.2451644 (721)\ttotal: 237ms\tremaining: 5.9s\n",
      "772:\tlearn: 0.1210062\ttest: 0.2462038\tbest: 0.2451644 (721)\ttotal: 237ms\tremaining: 5.9s\n",
      "773:\tlearn: 0.1209215\ttest: 0.2462683\tbest: 0.2451644 (721)\ttotal: 237ms\tremaining: 5.9s\n",
      "774:\tlearn: 0.1208708\ttest: 0.2462516\tbest: 0.2451644 (721)\ttotal: 238ms\tremaining: 5.9s\n",
      "775:\tlearn: 0.1207776\ttest: 0.2463777\tbest: 0.2451644 (721)\ttotal: 238ms\tremaining: 5.9s\n",
      "776:\tlearn: 0.1207359\ttest: 0.2463619\tbest: 0.2451644 (721)\ttotal: 238ms\tremaining: 5.89s\n",
      "777:\tlearn: 0.1206432\ttest: 0.2464878\tbest: 0.2451644 (721)\ttotal: 239ms\tremaining: 5.89s\n",
      "778:\tlearn: 0.1205182\ttest: 0.2463842\tbest: 0.2451644 (721)\ttotal: 239ms\tremaining: 5.89s\n",
      "779:\tlearn: 0.1203939\ttest: 0.2462812\tbest: 0.2451644 (721)\ttotal: 239ms\tremaining: 5.89s\n",
      "780:\tlearn: 0.1203520\ttest: 0.2462669\tbest: 0.2451644 (721)\ttotal: 239ms\tremaining: 5.89s\n",
      "781:\tlearn: 0.1202972\ttest: 0.2462180\tbest: 0.2451644 (721)\ttotal: 240ms\tremaining: 5.89s\n",
      "782:\tlearn: 0.1202124\ttest: 0.2462938\tbest: 0.2451644 (721)\ttotal: 240ms\tremaining: 5.89s\n",
      "783:\tlearn: 0.1201478\ttest: 0.2463029\tbest: 0.2451644 (721)\ttotal: 240ms\tremaining: 5.89s\n",
      "784:\tlearn: 0.1200590\ttest: 0.2463087\tbest: 0.2451644 (721)\ttotal: 240ms\tremaining: 5.89s\n",
      "785:\tlearn: 0.1200156\ttest: 0.2463002\tbest: 0.2451644 (721)\ttotal: 241ms\tremaining: 5.88s\n",
      "786:\tlearn: 0.1199276\ttest: 0.2463062\tbest: 0.2451644 (721)\ttotal: 241ms\tremaining: 5.88s\n",
      "787:\tlearn: 0.1198746\ttest: 0.2462939\tbest: 0.2451644 (721)\ttotal: 241ms\tremaining: 5.88s\n",
      "788:\tlearn: 0.1198300\ttest: 0.2462834\tbest: 0.2451644 (721)\ttotal: 241ms\tremaining: 5.88s\n",
      "789:\tlearn: 0.1197662\ttest: 0.2462736\tbest: 0.2451644 (721)\ttotal: 242ms\tremaining: 5.88s\n",
      "790:\tlearn: 0.1196925\ttest: 0.2463025\tbest: 0.2451644 (721)\ttotal: 242ms\tremaining: 5.88s\n",
      "791:\tlearn: 0.1196263\ttest: 0.2462941\tbest: 0.2451644 (721)\ttotal: 242ms\tremaining: 5.88s\n",
      "792:\tlearn: 0.1195825\ttest: 0.2463257\tbest: 0.2451644 (721)\ttotal: 243ms\tremaining: 5.88s\n",
      "793:\tlearn: 0.1195410\ttest: 0.2463233\tbest: 0.2451644 (721)\ttotal: 243ms\tremaining: 5.88s\n",
      "794:\tlearn: 0.1194889\ttest: 0.2463316\tbest: 0.2451644 (721)\ttotal: 243ms\tremaining: 5.87s\n",
      "795:\tlearn: 0.1194318\ttest: 0.2462967\tbest: 0.2451644 (721)\ttotal: 243ms\tremaining: 5.87s\n",
      "796:\tlearn: 0.1194039\ttest: 0.2462849\tbest: 0.2451644 (721)\ttotal: 244ms\tremaining: 5.87s\n",
      "797:\tlearn: 0.1193817\ttest: 0.2462839\tbest: 0.2451644 (721)\ttotal: 244ms\tremaining: 5.86s\n",
      "798:\tlearn: 0.1193208\ttest: 0.2462364\tbest: 0.2451644 (721)\ttotal: 244ms\tremaining: 5.86s\n",
      "799:\tlearn: 0.1192138\ttest: 0.2463734\tbest: 0.2451644 (721)\ttotal: 244ms\tremaining: 5.86s\n",
      "800:\tlearn: 0.1191953\ttest: 0.2463692\tbest: 0.2451644 (721)\ttotal: 244ms\tremaining: 5.86s\n",
      "801:\tlearn: 0.1191457\ttest: 0.2463560\tbest: 0.2451644 (721)\ttotal: 244ms\tremaining: 5.85s\n",
      "802:\tlearn: 0.1191111\ttest: 0.2463489\tbest: 0.2451644 (721)\ttotal: 245ms\tremaining: 5.85s\n",
      "803:\tlearn: 0.1190562\ttest: 0.2463755\tbest: 0.2451644 (721)\ttotal: 245ms\tremaining: 5.85s\n",
      "804:\tlearn: 0.1190257\ttest: 0.2463664\tbest: 0.2451644 (721)\ttotal: 245ms\tremaining: 5.85s\n",
      "805:\tlearn: 0.1189564\ttest: 0.2463329\tbest: 0.2451644 (721)\ttotal: 246ms\tremaining: 5.85s\n",
      "806:\tlearn: 0.1188937\ttest: 0.2464736\tbest: 0.2451644 (721)\ttotal: 246ms\tremaining: 5.85s\n",
      "807:\tlearn: 0.1188175\ttest: 0.2465009\tbest: 0.2451644 (721)\ttotal: 246ms\tremaining: 5.85s\n",
      "808:\tlearn: 0.1187721\ttest: 0.2464972\tbest: 0.2451644 (721)\ttotal: 246ms\tremaining: 5.84s\n",
      "809:\tlearn: 0.1187113\ttest: 0.2464979\tbest: 0.2451644 (721)\ttotal: 247ms\tremaining: 5.84s\n",
      "810:\tlearn: 0.1186576\ttest: 0.2464790\tbest: 0.2451644 (721)\ttotal: 247ms\tremaining: 5.84s\n",
      "811:\tlearn: 0.1185738\ttest: 0.2464859\tbest: 0.2451644 (721)\ttotal: 247ms\tremaining: 5.84s\n",
      "812:\tlearn: 0.1185316\ttest: 0.2464865\tbest: 0.2451644 (721)\ttotal: 247ms\tremaining: 5.84s\n",
      "813:\tlearn: 0.1184635\ttest: 0.2465059\tbest: 0.2451644 (721)\ttotal: 248ms\tremaining: 5.83s\n",
      "814:\tlearn: 0.1183857\ttest: 0.2464990\tbest: 0.2451644 (721)\ttotal: 248ms\tremaining: 5.83s\n",
      "815:\tlearn: 0.1183197\ttest: 0.2465302\tbest: 0.2451644 (721)\ttotal: 248ms\tremaining: 5.83s\n",
      "816:\tlearn: 0.1182672\ttest: 0.2465136\tbest: 0.2451644 (721)\ttotal: 248ms\tremaining: 5.83s\n",
      "817:\tlearn: 0.1181918\ttest: 0.2465424\tbest: 0.2451644 (721)\ttotal: 248ms\tremaining: 5.82s\n",
      "818:\tlearn: 0.1181499\ttest: 0.2465373\tbest: 0.2451644 (721)\ttotal: 249ms\tremaining: 5.82s\n",
      "819:\tlearn: 0.1181081\ttest: 0.2465240\tbest: 0.2451644 (721)\ttotal: 249ms\tremaining: 5.82s\n",
      "820:\tlearn: 0.1180203\ttest: 0.2465209\tbest: 0.2451644 (721)\ttotal: 249ms\tremaining: 5.82s\n",
      "821:\tlearn: 0.1179270\ttest: 0.2465189\tbest: 0.2451644 (721)\ttotal: 249ms\tremaining: 5.82s\n",
      "822:\tlearn: 0.1178316\ttest: 0.2464953\tbest: 0.2451644 (721)\ttotal: 249ms\tremaining: 5.81s\n",
      "823:\tlearn: 0.1177569\ttest: 0.2465193\tbest: 0.2451644 (721)\ttotal: 250ms\tremaining: 5.81s\n",
      "824:\tlearn: 0.1177180\ttest: 0.2465213\tbest: 0.2451644 (721)\ttotal: 250ms\tremaining: 5.8s\n",
      "825:\tlearn: 0.1176530\ttest: 0.2466198\tbest: 0.2451644 (721)\ttotal: 250ms\tremaining: 5.8s\n",
      "826:\tlearn: 0.1175784\ttest: 0.2466465\tbest: 0.2451644 (721)\ttotal: 250ms\tremaining: 5.8s\n",
      "827:\tlearn: 0.1175341\ttest: 0.2465836\tbest: 0.2451644 (721)\ttotal: 250ms\tremaining: 5.8s\n",
      "828:\tlearn: 0.1174503\ttest: 0.2466067\tbest: 0.2451644 (721)\ttotal: 251ms\tremaining: 5.79s\n",
      "829:\tlearn: 0.1173779\ttest: 0.2466304\tbest: 0.2451644 (721)\ttotal: 251ms\tremaining: 5.79s\n",
      "830:\tlearn: 0.1173118\ttest: 0.2466506\tbest: 0.2451644 (721)\ttotal: 251ms\tremaining: 5.79s\n",
      "831:\tlearn: 0.1172292\ttest: 0.2467173\tbest: 0.2451644 (721)\ttotal: 251ms\tremaining: 5.78s\n",
      "832:\tlearn: 0.1171142\ttest: 0.2466209\tbest: 0.2451644 (721)\ttotal: 251ms\tremaining: 5.78s\n",
      "833:\tlearn: 0.1170631\ttest: 0.2466178\tbest: 0.2451644 (721)\ttotal: 251ms\tremaining: 5.78s\n",
      "834:\tlearn: 0.1170146\ttest: 0.2466073\tbest: 0.2451644 (721)\ttotal: 252ms\tremaining: 5.78s\n",
      "835:\tlearn: 0.1169721\ttest: 0.2466026\tbest: 0.2451644 (721)\ttotal: 252ms\tremaining: 5.77s\n",
      "836:\tlearn: 0.1168801\ttest: 0.2465970\tbest: 0.2451644 (721)\ttotal: 252ms\tremaining: 5.77s\n",
      "837:\tlearn: 0.1168275\ttest: 0.2466260\tbest: 0.2451644 (721)\ttotal: 252ms\tremaining: 5.76s\n",
      "838:\tlearn: 0.1167424\ttest: 0.2466244\tbest: 0.2451644 (721)\ttotal: 252ms\tremaining: 5.76s\n",
      "839:\tlearn: 0.1167035\ttest: 0.2466123\tbest: 0.2451644 (721)\ttotal: 252ms\tremaining: 5.76s\n",
      "840:\tlearn: 0.1166654\ttest: 0.2466143\tbest: 0.2451644 (721)\ttotal: 253ms\tremaining: 5.75s\n",
      "841:\tlearn: 0.1165742\ttest: 0.2466088\tbest: 0.2451644 (721)\ttotal: 253ms\tremaining: 5.75s\n",
      "842:\tlearn: 0.1165032\ttest: 0.2466319\tbest: 0.2451644 (721)\ttotal: 253ms\tremaining: 5.75s\n",
      "843:\tlearn: 0.1164823\ttest: 0.2466314\tbest: 0.2451644 (721)\ttotal: 253ms\tremaining: 5.75s\n",
      "844:\tlearn: 0.1164413\ttest: 0.2466275\tbest: 0.2451644 (721)\ttotal: 253ms\tremaining: 5.74s\n",
      "845:\tlearn: 0.1163606\ttest: 0.2466933\tbest: 0.2451644 (721)\ttotal: 253ms\tremaining: 5.74s\n",
      "846:\tlearn: 0.1163392\ttest: 0.2466929\tbest: 0.2451644 (721)\ttotal: 254ms\tremaining: 5.73s\n",
      "847:\tlearn: 0.1162469\ttest: 0.2467415\tbest: 0.2451644 (721)\ttotal: 254ms\tremaining: 5.73s\n",
      "848:\tlearn: 0.1161760\ttest: 0.2467662\tbest: 0.2451644 (721)\ttotal: 254ms\tremaining: 5.73s\n",
      "849:\tlearn: 0.1161473\ttest: 0.2467637\tbest: 0.2451644 (721)\ttotal: 254ms\tremaining: 5.72s\n",
      "850:\tlearn: 0.1160687\ttest: 0.2467541\tbest: 0.2451644 (721)\ttotal: 254ms\tremaining: 5.72s\n",
      "851:\tlearn: 0.1159886\ttest: 0.2468195\tbest: 0.2451644 (721)\ttotal: 254ms\tremaining: 5.72s\n",
      "852:\tlearn: 0.1159453\ttest: 0.2467946\tbest: 0.2451644 (721)\ttotal: 255ms\tremaining: 5.71s\n",
      "853:\tlearn: 0.1158660\ttest: 0.2468581\tbest: 0.2451644 (721)\ttotal: 255ms\tremaining: 5.71s\n",
      "854:\tlearn: 0.1157989\ttest: 0.2469494\tbest: 0.2451644 (721)\ttotal: 255ms\tremaining: 5.71s\n",
      "855:\tlearn: 0.1157535\ttest: 0.2469546\tbest: 0.2451644 (721)\ttotal: 255ms\tremaining: 5.7s\n",
      "856:\tlearn: 0.1156681\ttest: 0.2468115\tbest: 0.2451644 (721)\ttotal: 255ms\tremaining: 5.7s\n",
      "857:\tlearn: 0.1156280\ttest: 0.2468082\tbest: 0.2451644 (721)\ttotal: 255ms\tremaining: 5.7s\n",
      "858:\tlearn: 0.1155713\ttest: 0.2469462\tbest: 0.2451644 (721)\ttotal: 256ms\tremaining: 5.69s\n",
      "859:\tlearn: 0.1154937\ttest: 0.2469370\tbest: 0.2451644 (721)\ttotal: 256ms\tremaining: 5.69s\n",
      "860:\tlearn: 0.1154463\ttest: 0.2469529\tbest: 0.2451644 (721)\ttotal: 256ms\tremaining: 5.69s\n",
      "861:\tlearn: 0.1153695\ttest: 0.2470218\tbest: 0.2451644 (721)\ttotal: 256ms\tremaining: 5.68s\n",
      "862:\tlearn: 0.1153377\ttest: 0.2470099\tbest: 0.2451644 (721)\ttotal: 256ms\tremaining: 5.68s\n",
      "863:\tlearn: 0.1152984\ttest: 0.2470109\tbest: 0.2451644 (721)\ttotal: 256ms\tremaining: 5.68s\n",
      "864:\tlearn: 0.1152023\ttest: 0.2471632\tbest: 0.2451644 (721)\ttotal: 256ms\tremaining: 5.67s\n",
      "865:\tlearn: 0.1151032\ttest: 0.2472975\tbest: 0.2451644 (721)\ttotal: 257ms\tremaining: 5.67s\n",
      "866:\tlearn: 0.1150822\ttest: 0.2472975\tbest: 0.2451644 (721)\ttotal: 257ms\tremaining: 5.67s\n",
      "867:\tlearn: 0.1150132\ttest: 0.2473247\tbest: 0.2451644 (721)\ttotal: 257ms\tremaining: 5.66s\n",
      "868:\tlearn: 0.1149377\ttest: 0.2473930\tbest: 0.2451644 (721)\ttotal: 257ms\tremaining: 5.66s\n",
      "869:\tlearn: 0.1148754\ttest: 0.2474142\tbest: 0.2451644 (721)\ttotal: 257ms\tremaining: 5.66s\n",
      "870:\tlearn: 0.1148006\ttest: 0.2474066\tbest: 0.2451644 (721)\ttotal: 257ms\tremaining: 5.65s\n",
      "871:\tlearn: 0.1147555\ttest: 0.2474004\tbest: 0.2451644 (721)\ttotal: 258ms\tremaining: 5.65s\n",
      "872:\tlearn: 0.1147085\ttest: 0.2473741\tbest: 0.2451644 (721)\ttotal: 258ms\tremaining: 5.64s\n",
      "873:\tlearn: 0.1146307\ttest: 0.2474376\tbest: 0.2451644 (721)\ttotal: 258ms\tremaining: 5.64s\n",
      "874:\tlearn: 0.1145755\ttest: 0.2475749\tbest: 0.2451644 (721)\ttotal: 258ms\tremaining: 5.64s\n",
      "875:\tlearn: 0.1145402\ttest: 0.2475598\tbest: 0.2451644 (721)\ttotal: 258ms\tremaining: 5.64s\n",
      "876:\tlearn: 0.1144642\ttest: 0.2476220\tbest: 0.2451644 (721)\ttotal: 258ms\tremaining: 5.64s\n",
      "877:\tlearn: 0.1144256\ttest: 0.2476110\tbest: 0.2451644 (721)\ttotal: 259ms\tremaining: 5.63s\n",
      "878:\tlearn: 0.1143741\ttest: 0.2476019\tbest: 0.2451644 (721)\ttotal: 259ms\tremaining: 5.63s\n",
      "879:\tlearn: 0.1142909\ttest: 0.2477266\tbest: 0.2451644 (721)\ttotal: 259ms\tremaining: 5.63s\n",
      "880:\tlearn: 0.1142231\ttest: 0.2477484\tbest: 0.2451644 (721)\ttotal: 259ms\tremaining: 5.63s\n",
      "881:\tlearn: 0.1142063\ttest: 0.2477470\tbest: 0.2451644 (721)\ttotal: 260ms\tremaining: 5.63s\n",
      "882:\tlearn: 0.1141166\ttest: 0.2477422\tbest: 0.2451644 (721)\ttotal: 260ms\tremaining: 5.62s\n",
      "883:\tlearn: 0.1140951\ttest: 0.2477400\tbest: 0.2451644 (721)\ttotal: 260ms\tremaining: 5.62s\n",
      "884:\tlearn: 0.1140749\ttest: 0.2477399\tbest: 0.2451644 (721)\ttotal: 260ms\tremaining: 5.62s\n",
      "885:\tlearn: 0.1140297\ttest: 0.2477157\tbest: 0.2451644 (721)\ttotal: 260ms\tremaining: 5.62s\n",
      "886:\tlearn: 0.1140096\ttest: 0.2477153\tbest: 0.2451644 (721)\ttotal: 261ms\tremaining: 5.61s\n",
      "887:\tlearn: 0.1139268\ttest: 0.2478399\tbest: 0.2451644 (721)\ttotal: 261ms\tremaining: 5.61s\n",
      "888:\tlearn: 0.1138580\ttest: 0.2478648\tbest: 0.2451644 (721)\ttotal: 261ms\tremaining: 5.61s\n",
      "889:\tlearn: 0.1138184\ttest: 0.2478627\tbest: 0.2451644 (721)\ttotal: 261ms\tremaining: 5.61s\n",
      "890:\tlearn: 0.1137807\ttest: 0.2478522\tbest: 0.2451644 (721)\ttotal: 261ms\tremaining: 5.61s\n",
      "891:\tlearn: 0.1137521\ttest: 0.2478520\tbest: 0.2451644 (721)\ttotal: 262ms\tremaining: 5.6s\n",
      "892:\tlearn: 0.1136911\ttest: 0.2479801\tbest: 0.2451644 (721)\ttotal: 262ms\tremaining: 5.6s\n",
      "893:\tlearn: 0.1136305\ttest: 0.2481076\tbest: 0.2451644 (721)\ttotal: 262ms\tremaining: 5.6s\n",
      "894:\tlearn: 0.1135832\ttest: 0.2481017\tbest: 0.2451644 (721)\ttotal: 262ms\tremaining: 5.6s\n",
      "895:\tlearn: 0.1135296\ttest: 0.2481294\tbest: 0.2451644 (721)\ttotal: 263ms\tremaining: 5.6s\n",
      "896:\tlearn: 0.1134427\ttest: 0.2481280\tbest: 0.2451644 (721)\ttotal: 263ms\tremaining: 5.6s\n",
      "897:\tlearn: 0.1134208\ttest: 0.2481321\tbest: 0.2451644 (721)\ttotal: 263ms\tremaining: 5.59s\n",
      "898:\tlearn: 0.1133887\ttest: 0.2481213\tbest: 0.2451644 (721)\ttotal: 263ms\tremaining: 5.59s\n",
      "899:\tlearn: 0.1133362\ttest: 0.2481201\tbest: 0.2451644 (721)\ttotal: 264ms\tremaining: 5.59s\n",
      "900:\tlearn: 0.1132639\ttest: 0.2481820\tbest: 0.2451644 (721)\ttotal: 264ms\tremaining: 5.59s\n",
      "901:\tlearn: 0.1131781\ttest: 0.2481824\tbest: 0.2451644 (721)\ttotal: 264ms\tremaining: 5.59s\n",
      "902:\tlearn: 0.1131105\ttest: 0.2482045\tbest: 0.2451644 (721)\ttotal: 264ms\tremaining: 5.59s\n",
      "903:\tlearn: 0.1130775\ttest: 0.2481650\tbest: 0.2451644 (721)\ttotal: 264ms\tremaining: 5.58s\n",
      "904:\tlearn: 0.1130370\ttest: 0.2481666\tbest: 0.2451644 (721)\ttotal: 265ms\tremaining: 5.58s\n",
      "905:\tlearn: 0.1129960\ttest: 0.2481662\tbest: 0.2451644 (721)\ttotal: 265ms\tremaining: 5.58s\n",
      "906:\tlearn: 0.1129244\ttest: 0.2482279\tbest: 0.2451644 (721)\ttotal: 265ms\tremaining: 5.58s\n",
      "907:\tlearn: 0.1128825\ttest: 0.2482324\tbest: 0.2451644 (721)\ttotal: 265ms\tremaining: 5.58s\n",
      "908:\tlearn: 0.1128423\ttest: 0.2482296\tbest: 0.2451644 (721)\ttotal: 266ms\tremaining: 5.58s\n",
      "909:\tlearn: 0.1128223\ttest: 0.2482293\tbest: 0.2451644 (721)\ttotal: 266ms\tremaining: 5.58s\n",
      "910:\tlearn: 0.1128023\ttest: 0.2482289\tbest: 0.2451644 (721)\ttotal: 266ms\tremaining: 5.58s\n",
      "911:\tlearn: 0.1127215\ttest: 0.2483524\tbest: 0.2451644 (721)\ttotal: 267ms\tremaining: 5.58s\n",
      "912:\tlearn: 0.1126481\ttest: 0.2484059\tbest: 0.2451644 (721)\ttotal: 267ms\tremaining: 5.58s\n",
      "913:\tlearn: 0.1126065\ttest: 0.2483960\tbest: 0.2451644 (721)\ttotal: 267ms\tremaining: 5.58s\n",
      "914:\tlearn: 0.1125700\ttest: 0.2484013\tbest: 0.2451644 (721)\ttotal: 268ms\tremaining: 5.58s\n",
      "915:\tlearn: 0.1125100\ttest: 0.2485291\tbest: 0.2451644 (721)\ttotal: 268ms\tremaining: 5.58s\n",
      "916:\tlearn: 0.1124380\ttest: 0.2485952\tbest: 0.2451644 (721)\ttotal: 268ms\tremaining: 5.58s\n",
      "917:\tlearn: 0.1123675\ttest: 0.2486562\tbest: 0.2451644 (721)\ttotal: 268ms\tremaining: 5.58s\n",
      "918:\tlearn: 0.1123360\ttest: 0.2486437\tbest: 0.2451644 (721)\ttotal: 268ms\tremaining: 5.57s\n",
      "919:\tlearn: 0.1122620\ttest: 0.2487051\tbest: 0.2451644 (721)\ttotal: 269ms\tremaining: 5.57s\n",
      "920:\tlearn: 0.1121876\ttest: 0.2488328\tbest: 0.2451644 (721)\ttotal: 269ms\tremaining: 5.57s\n",
      "921:\tlearn: 0.1121185\ttest: 0.2488446\tbest: 0.2451644 (721)\ttotal: 269ms\tremaining: 5.57s\n",
      "922:\tlearn: 0.1120524\ttest: 0.2489470\tbest: 0.2451644 (721)\ttotal: 269ms\tremaining: 5.57s\n",
      "923:\tlearn: 0.1119846\ttest: 0.2489741\tbest: 0.2451644 (721)\ttotal: 270ms\tremaining: 5.57s\n",
      "924:\tlearn: 0.1119264\ttest: 0.2489904\tbest: 0.2451644 (721)\ttotal: 270ms\tremaining: 5.57s\n"
     ]
    },
    {
     "name": "stdout",
     "output_type": "stream",
     "text": [
      "925:\tlearn: 0.1118851\ttest: 0.2490124\tbest: 0.2451644 (721)\ttotal: 271ms\tremaining: 5.58s\n",
      "926:\tlearn: 0.1117944\ttest: 0.2491617\tbest: 0.2451644 (721)\ttotal: 271ms\tremaining: 5.58s\n",
      "927:\tlearn: 0.1117374\ttest: 0.2491777\tbest: 0.2451644 (721)\ttotal: 271ms\tremaining: 5.57s\n",
      "928:\tlearn: 0.1116982\ttest: 0.2491827\tbest: 0.2451644 (721)\ttotal: 271ms\tremaining: 5.57s\n",
      "929:\tlearn: 0.1115945\ttest: 0.2490938\tbest: 0.2451644 (721)\ttotal: 272ms\tremaining: 5.58s\n",
      "930:\tlearn: 0.1115252\ttest: 0.2491538\tbest: 0.2451644 (721)\ttotal: 273ms\tremaining: 5.58s\n",
      "931:\tlearn: 0.1115056\ttest: 0.2491536\tbest: 0.2451644 (721)\ttotal: 273ms\tremaining: 5.58s\n",
      "932:\tlearn: 0.1114673\ttest: 0.2491505\tbest: 0.2451644 (721)\ttotal: 273ms\tremaining: 5.57s\n",
      "933:\tlearn: 0.1114137\ttest: 0.2491464\tbest: 0.2451644 (721)\ttotal: 273ms\tremaining: 5.57s\n",
      "934:\tlearn: 0.1113680\ttest: 0.2491094\tbest: 0.2451644 (721)\ttotal: 273ms\tremaining: 5.57s\n",
      "935:\tlearn: 0.1112783\ttest: 0.2492582\tbest: 0.2451644 (721)\ttotal: 274ms\tremaining: 5.57s\n",
      "936:\tlearn: 0.1112402\ttest: 0.2492612\tbest: 0.2451644 (721)\ttotal: 274ms\tremaining: 5.57s\n",
      "937:\tlearn: 0.1111624\ttest: 0.2493818\tbest: 0.2451644 (721)\ttotal: 274ms\tremaining: 5.57s\n",
      "938:\tlearn: 0.1110904\ttest: 0.2494415\tbest: 0.2451644 (721)\ttotal: 274ms\tremaining: 5.57s\n",
      "939:\tlearn: 0.1110555\ttest: 0.2494436\tbest: 0.2451644 (721)\ttotal: 274ms\tremaining: 5.56s\n",
      "940:\tlearn: 0.1109888\ttest: 0.2494702\tbest: 0.2451644 (721)\ttotal: 274ms\tremaining: 5.56s\n",
      "941:\tlearn: 0.1109320\ttest: 0.2495231\tbest: 0.2451644 (721)\ttotal: 275ms\tremaining: 5.55s\n",
      "942:\tlearn: 0.1108977\ttest: 0.2495110\tbest: 0.2451644 (721)\ttotal: 275ms\tremaining: 5.55s\n",
      "943:\tlearn: 0.1108525\ttest: 0.2495483\tbest: 0.2451644 (721)\ttotal: 275ms\tremaining: 5.55s\n",
      "944:\tlearn: 0.1108097\ttest: 0.2495396\tbest: 0.2451644 (721)\ttotal: 275ms\tremaining: 5.54s\n",
      "945:\tlearn: 0.1107834\ttest: 0.2495265\tbest: 0.2451644 (721)\ttotal: 275ms\tremaining: 5.54s\n",
      "946:\tlearn: 0.1107157\ttest: 0.2495855\tbest: 0.2451644 (721)\ttotal: 275ms\tremaining: 5.54s\n",
      "947:\tlearn: 0.1106773\ttest: 0.2495832\tbest: 0.2451644 (721)\ttotal: 275ms\tremaining: 5.53s\n",
      "948:\tlearn: 0.1106296\ttest: 0.2496273\tbest: 0.2451644 (721)\ttotal: 275ms\tremaining: 5.53s\n",
      "949:\tlearn: 0.1105662\ttest: 0.2496457\tbest: 0.2451644 (721)\ttotal: 275ms\tremaining: 5.52s\n",
      "950:\tlearn: 0.1104987\ttest: 0.2497045\tbest: 0.2451644 (721)\ttotal: 276ms\tremaining: 5.53s\n",
      "951:\tlearn: 0.1104624\ttest: 0.2496554\tbest: 0.2451644 (721)\ttotal: 276ms\tremaining: 5.53s\n",
      "952:\tlearn: 0.1104166\ttest: 0.2496515\tbest: 0.2451644 (721)\ttotal: 277ms\tremaining: 5.53s\n",
      "953:\tlearn: 0.1103346\ttest: 0.2496472\tbest: 0.2451644 (721)\ttotal: 277ms\tremaining: 5.53s\n",
      "954:\tlearn: 0.1102895\ttest: 0.2496438\tbest: 0.2451644 (721)\ttotal: 277ms\tremaining: 5.52s\n",
      "955:\tlearn: 0.1102461\ttest: 0.2496357\tbest: 0.2451644 (721)\ttotal: 278ms\tremaining: 5.53s\n",
      "956:\tlearn: 0.1102017\ttest: 0.2496312\tbest: 0.2451644 (721)\ttotal: 278ms\tremaining: 5.53s\n",
      "957:\tlearn: 0.1101408\ttest: 0.2496442\tbest: 0.2451644 (721)\ttotal: 278ms\tremaining: 5.52s\n",
      "958:\tlearn: 0.1101212\ttest: 0.2496444\tbest: 0.2451644 (721)\ttotal: 278ms\tremaining: 5.52s\n",
      "959:\tlearn: 0.1100544\ttest: 0.2497030\tbest: 0.2451644 (721)\ttotal: 278ms\tremaining: 5.52s\n",
      "960:\tlearn: 0.1100205\ttest: 0.2496829\tbest: 0.2451644 (721)\ttotal: 279ms\tremaining: 5.52s\n",
      "961:\tlearn: 0.1099562\ttest: 0.2497023\tbest: 0.2451644 (721)\ttotal: 279ms\tremaining: 5.51s\n",
      "962:\tlearn: 0.1099366\ttest: 0.2497020\tbest: 0.2451644 (721)\ttotal: 279ms\tremaining: 5.51s\n",
      "963:\tlearn: 0.1099187\ttest: 0.2497003\tbest: 0.2451644 (721)\ttotal: 279ms\tremaining: 5.51s\n",
      "964:\tlearn: 0.1098850\ttest: 0.2496905\tbest: 0.2451644 (721)\ttotal: 279ms\tremaining: 5.5s\n",
      "965:\tlearn: 0.1098654\ttest: 0.2496902\tbest: 0.2451644 (721)\ttotal: 279ms\tremaining: 5.5s\n",
      "966:\tlearn: 0.1097952\ttest: 0.2497490\tbest: 0.2451644 (721)\ttotal: 279ms\tremaining: 5.5s\n",
      "967:\tlearn: 0.1097596\ttest: 0.2497306\tbest: 0.2451644 (721)\ttotal: 280ms\tremaining: 5.5s\n",
      "968:\tlearn: 0.1096794\ttest: 0.2497305\tbest: 0.2451644 (721)\ttotal: 280ms\tremaining: 5.49s\n",
      "969:\tlearn: 0.1095982\ttest: 0.2497282\tbest: 0.2451644 (721)\ttotal: 280ms\tremaining: 5.49s\n",
      "970:\tlearn: 0.1095432\ttest: 0.2497516\tbest: 0.2451644 (721)\ttotal: 280ms\tremaining: 5.49s\n",
      "971:\tlearn: 0.1095146\ttest: 0.2497404\tbest: 0.2451644 (721)\ttotal: 280ms\tremaining: 5.49s\n",
      "972:\tlearn: 0.1094768\ttest: 0.2497405\tbest: 0.2451644 (721)\ttotal: 280ms\tremaining: 5.48s\n",
      "973:\tlearn: 0.1094430\ttest: 0.2497427\tbest: 0.2451644 (721)\ttotal: 281ms\tremaining: 5.48s\n",
      "974:\tlearn: 0.1093772\ttest: 0.2498011\tbest: 0.2451644 (721)\ttotal: 281ms\tremaining: 5.48s\n",
      "975:\tlearn: 0.1093427\ttest: 0.2497949\tbest: 0.2451644 (721)\ttotal: 281ms\tremaining: 5.47s\n",
      "976:\tlearn: 0.1092716\ttest: 0.2498184\tbest: 0.2451644 (721)\ttotal: 281ms\tremaining: 5.47s\n",
      "977:\tlearn: 0.1092483\ttest: 0.2498179\tbest: 0.2451644 (721)\ttotal: 281ms\tremaining: 5.47s\n",
      "978:\tlearn: 0.1092062\ttest: 0.2498065\tbest: 0.2451644 (721)\ttotal: 281ms\tremaining: 5.47s\n",
      "979:\tlearn: 0.1091388\ttest: 0.2498564\tbest: 0.2451644 (721)\ttotal: 282ms\tremaining: 5.46s\n",
      "980:\tlearn: 0.1091022\ttest: 0.2498574\tbest: 0.2451644 (721)\ttotal: 282ms\tremaining: 5.46s\n",
      "981:\tlearn: 0.1090781\ttest: 0.2498556\tbest: 0.2451644 (721)\ttotal: 282ms\tremaining: 5.46s\n",
      "982:\tlearn: 0.1089983\ttest: 0.2498470\tbest: 0.2451644 (721)\ttotal: 283ms\tremaining: 5.47s\n",
      "983:\tlearn: 0.1089605\ttest: 0.2498491\tbest: 0.2451644 (721)\ttotal: 283ms\tremaining: 5.46s\n",
      "984:\tlearn: 0.1088735\ttest: 0.2499967\tbest: 0.2451644 (721)\ttotal: 283ms\tremaining: 5.46s\n",
      "985:\tlearn: 0.1088540\ttest: 0.2499957\tbest: 0.2451644 (721)\ttotal: 283ms\tremaining: 5.46s\n",
      "986:\tlearn: 0.1087876\ttest: 0.2499735\tbest: 0.2451644 (721)\ttotal: 283ms\tremaining: 5.45s\n",
      "987:\tlearn: 0.1087540\ttest: 0.2499755\tbest: 0.2451644 (721)\ttotal: 283ms\tremaining: 5.45s\n",
      "988:\tlearn: 0.1086640\ttest: 0.2500837\tbest: 0.2451644 (721)\ttotal: 284ms\tremaining: 5.46s\n",
      "989:\tlearn: 0.1085997\ttest: 0.2501412\tbest: 0.2451644 (721)\ttotal: 284ms\tremaining: 5.45s\n",
      "990:\tlearn: 0.1085619\ttest: 0.2501354\tbest: 0.2451644 (721)\ttotal: 284ms\tremaining: 5.45s\n",
      "991:\tlearn: 0.1085285\ttest: 0.2501375\tbest: 0.2451644 (721)\ttotal: 284ms\tremaining: 5.45s\n",
      "992:\tlearn: 0.1084624\ttest: 0.2501866\tbest: 0.2451644 (721)\ttotal: 284ms\tremaining: 5.44s\n",
      "993:\tlearn: 0.1084382\ttest: 0.2501789\tbest: 0.2451644 (721)\ttotal: 285ms\tremaining: 5.45s\n",
      "994:\tlearn: 0.1083966\ttest: 0.2501944\tbest: 0.2451644 (721)\ttotal: 285ms\tremaining: 5.45s\n",
      "995:\tlearn: 0.1083540\ttest: 0.2501916\tbest: 0.2451644 (721)\ttotal: 285ms\tremaining: 5.44s\n",
      "996:\tlearn: 0.1083161\ttest: 0.2501896\tbest: 0.2451644 (721)\ttotal: 286ms\tremaining: 5.44s\n",
      "997:\tlearn: 0.1082964\ttest: 0.2501892\tbest: 0.2451644 (721)\ttotal: 286ms\tremaining: 5.44s\n",
      "998:\tlearn: 0.1082293\ttest: 0.2502465\tbest: 0.2451644 (721)\ttotal: 286ms\tremaining: 5.44s\n",
      "999:\tlearn: 0.1081515\ttest: 0.2502574\tbest: 0.2451644 (721)\ttotal: 286ms\tremaining: 5.44s\n",
      "1000:\tlearn: 0.1080754\ttest: 0.2502527\tbest: 0.2451644 (721)\ttotal: 286ms\tremaining: 5.43s\n",
      "1001:\tlearn: 0.1080064\ttest: 0.2503792\tbest: 0.2451644 (721)\ttotal: 286ms\tremaining: 5.43s\n",
      "1002:\tlearn: 0.1079851\ttest: 0.2503798\tbest: 0.2451644 (721)\ttotal: 287ms\tremaining: 5.43s\n",
      "1003:\tlearn: 0.1079128\ttest: 0.2504962\tbest: 0.2451644 (721)\ttotal: 287ms\tremaining: 5.43s\n",
      "1004:\tlearn: 0.1078774\ttest: 0.2504965\tbest: 0.2451644 (721)\ttotal: 287ms\tremaining: 5.43s\n",
      "1005:\tlearn: 0.1078147\ttest: 0.2505532\tbest: 0.2451644 (721)\ttotal: 287ms\tremaining: 5.43s\n",
      "1006:\tlearn: 0.1077376\ttest: 0.2505465\tbest: 0.2451644 (721)\ttotal: 288ms\tremaining: 5.44s\n",
      "1007:\tlearn: 0.1077171\ttest: 0.2505449\tbest: 0.2451644 (721)\ttotal: 289ms\tremaining: 5.44s\n",
      "1008:\tlearn: 0.1076756\ttest: 0.2505409\tbest: 0.2451644 (721)\ttotal: 289ms\tremaining: 5.44s\n",
      "1009:\tlearn: 0.1076269\ttest: 0.2506715\tbest: 0.2451644 (721)\ttotal: 289ms\tremaining: 5.44s\n",
      "1010:\tlearn: 0.1075421\ttest: 0.2508178\tbest: 0.2451644 (721)\ttotal: 290ms\tremaining: 5.44s\n",
      "1011:\tlearn: 0.1074803\ttest: 0.2508159\tbest: 0.2451644 (721)\ttotal: 290ms\tremaining: 5.44s\n",
      "1012:\tlearn: 0.1074271\ttest: 0.2509221\tbest: 0.2451644 (721)\ttotal: 291ms\tremaining: 5.45s\n",
      "1013:\tlearn: 0.1074076\ttest: 0.2509212\tbest: 0.2451644 (721)\ttotal: 291ms\tremaining: 5.45s\n",
      "1014:\tlearn: 0.1073422\ttest: 0.2509775\tbest: 0.2451644 (721)\ttotal: 291ms\tremaining: 5.44s\n",
      "1015:\tlearn: 0.1072679\ttest: 0.2509675\tbest: 0.2451644 (721)\ttotal: 291ms\tremaining: 5.44s\n",
      "1016:\tlearn: 0.1072481\ttest: 0.2509679\tbest: 0.2451644 (721)\ttotal: 291ms\tremaining: 5.44s\n",
      "1017:\tlearn: 0.1071850\ttest: 0.2509633\tbest: 0.2451644 (721)\ttotal: 292ms\tremaining: 5.44s\n",
      "1018:\tlearn: 0.1071650\ttest: 0.2509635\tbest: 0.2451644 (721)\ttotal: 292ms\tremaining: 5.44s\n",
      "1019:\tlearn: 0.1070972\ttest: 0.2510895\tbest: 0.2451644 (721)\ttotal: 292ms\tremaining: 5.43s\n",
      "1020:\tlearn: 0.1070231\ttest: 0.2510000\tbest: 0.2451644 (721)\ttotal: 292ms\tremaining: 5.43s\n",
      "1021:\tlearn: 0.1069619\ttest: 0.2510558\tbest: 0.2451644 (721)\ttotal: 293ms\tremaining: 5.43s\n",
      "1022:\tlearn: 0.1068974\ttest: 0.2511116\tbest: 0.2451644 (721)\ttotal: 293ms\tremaining: 5.43s\n",
      "1023:\tlearn: 0.1068773\ttest: 0.2511118\tbest: 0.2451644 (721)\ttotal: 293ms\tremaining: 5.43s\n",
      "1024:\tlearn: 0.1068165\ttest: 0.2511673\tbest: 0.2451644 (721)\ttotal: 293ms\tremaining: 5.43s\n",
      "1025:\tlearn: 0.1067521\ttest: 0.2511852\tbest: 0.2451644 (721)\ttotal: 293ms\tremaining: 5.43s\n",
      "1026:\tlearn: 0.1067058\ttest: 0.2511831\tbest: 0.2451644 (721)\ttotal: 294ms\tremaining: 5.42s\n",
      "1027:\tlearn: 0.1066479\ttest: 0.2513106\tbest: 0.2451644 (721)\ttotal: 294ms\tremaining: 5.42s\n",
      "1028:\tlearn: 0.1066281\ttest: 0.2513106\tbest: 0.2451644 (721)\ttotal: 294ms\tremaining: 5.42s\n",
      "1029:\tlearn: 0.1065674\ttest: 0.2513658\tbest: 0.2451644 (721)\ttotal: 294ms\tremaining: 5.42s\n",
      "1030:\tlearn: 0.1065351\ttest: 0.2513678\tbest: 0.2451644 (721)\ttotal: 295ms\tremaining: 5.42s\n",
      "1031:\tlearn: 0.1065001\ttest: 0.2513686\tbest: 0.2451644 (721)\ttotal: 295ms\tremaining: 5.42s\n",
      "1032:\tlearn: 0.1064149\ttest: 0.2514946\tbest: 0.2451644 (721)\ttotal: 295ms\tremaining: 5.42s\n",
      "1033:\tlearn: 0.1063455\ttest: 0.2516077\tbest: 0.2451644 (721)\ttotal: 296ms\tremaining: 5.42s\n",
      "1034:\tlearn: 0.1062854\ttest: 0.2516621\tbest: 0.2451644 (721)\ttotal: 296ms\tremaining: 5.42s\n",
      "1035:\tlearn: 0.1062446\ttest: 0.2516597\tbest: 0.2451644 (721)\ttotal: 296ms\tremaining: 5.42s\n",
      "1036:\tlearn: 0.1061784\ttest: 0.2517846\tbest: 0.2451644 (721)\ttotal: 296ms\tremaining: 5.42s\n",
      "1037:\tlearn: 0.1061367\ttest: 0.2518068\tbest: 0.2451644 (721)\ttotal: 297ms\tremaining: 5.42s\n",
      "1038:\tlearn: 0.1060548\ttest: 0.2519507\tbest: 0.2451644 (721)\ttotal: 297ms\tremaining: 5.42s\n",
      "1039:\tlearn: 0.1060352\ttest: 0.2519506\tbest: 0.2451644 (721)\ttotal: 297ms\tremaining: 5.42s\n",
      "1040:\tlearn: 0.1059694\ttest: 0.2520750\tbest: 0.2451644 (721)\ttotal: 298ms\tremaining: 5.42s\n",
      "1041:\tlearn: 0.1059496\ttest: 0.2520747\tbest: 0.2451644 (721)\ttotal: 298ms\tremaining: 5.42s\n",
      "1042:\tlearn: 0.1058840\ttest: 0.2521989\tbest: 0.2451644 (721)\ttotal: 298ms\tremaining: 5.42s\n",
      "1043:\tlearn: 0.1058227\ttest: 0.2522450\tbest: 0.2451644 (721)\ttotal: 298ms\tremaining: 5.42s\n",
      "1044:\tlearn: 0.1057616\ttest: 0.2522909\tbest: 0.2451644 (721)\ttotal: 299ms\tremaining: 5.42s\n",
      "1045:\tlearn: 0.1057064\ttest: 0.2522724\tbest: 0.2451644 (721)\ttotal: 299ms\tremaining: 5.42s\n",
      "1046:\tlearn: 0.1056743\ttest: 0.2522670\tbest: 0.2451644 (721)\ttotal: 299ms\tremaining: 5.42s\n",
      "1047:\tlearn: 0.1056268\ttest: 0.2523952\tbest: 0.2451644 (721)\ttotal: 300ms\tremaining: 5.42s\n",
      "1048:\tlearn: 0.1055661\ttest: 0.2524409\tbest: 0.2451644 (721)\ttotal: 300ms\tremaining: 5.42s\n",
      "1049:\tlearn: 0.1054984\ttest: 0.2525518\tbest: 0.2451644 (721)\ttotal: 301ms\tremaining: 5.44s\n",
      "1050:\tlearn: 0.1054401\ttest: 0.2526047\tbest: 0.2451644 (721)\ttotal: 302ms\tremaining: 5.44s\n",
      "1051:\tlearn: 0.1053756\ttest: 0.2527280\tbest: 0.2451644 (721)\ttotal: 302ms\tremaining: 5.44s\n",
      "1052:\tlearn: 0.1053429\ttest: 0.2527299\tbest: 0.2451644 (721)\ttotal: 302ms\tremaining: 5.44s\n",
      "1053:\tlearn: 0.1052785\ttest: 0.2527491\tbest: 0.2451644 (721)\ttotal: 303ms\tremaining: 5.44s\n",
      "1054:\tlearn: 0.1052458\ttest: 0.2527511\tbest: 0.2451644 (721)\ttotal: 303ms\tremaining: 5.44s\n",
      "1055:\tlearn: 0.1052260\ttest: 0.2527514\tbest: 0.2451644 (721)\ttotal: 303ms\tremaining: 5.44s\n",
      "1056:\tlearn: 0.1051934\ttest: 0.2527532\tbest: 0.2451644 (721)\ttotal: 303ms\tremaining: 5.44s\n",
      "1057:\tlearn: 0.1051335\ttest: 0.2527983\tbest: 0.2451644 (721)\ttotal: 304ms\tremaining: 5.44s\n",
      "1058:\tlearn: 0.1050937\ttest: 0.2527950\tbest: 0.2451644 (721)\ttotal: 304ms\tremaining: 5.44s\n",
      "1059:\tlearn: 0.1050566\ttest: 0.2527927\tbest: 0.2451644 (721)\ttotal: 304ms\tremaining: 5.43s\n",
      "1060:\tlearn: 0.1049990\ttest: 0.2528451\tbest: 0.2451644 (721)\ttotal: 304ms\tremaining: 5.43s\n",
      "1061:\tlearn: 0.1049415\ttest: 0.2528974\tbest: 0.2451644 (721)\ttotal: 305ms\tremaining: 5.43s\n",
      "1062:\tlearn: 0.1048793\ttest: 0.2528790\tbest: 0.2451644 (721)\ttotal: 305ms\tremaining: 5.43s\n",
      "1063:\tlearn: 0.1048187\ttest: 0.2529316\tbest: 0.2451644 (721)\ttotal: 305ms\tremaining: 5.43s\n",
      "1064:\tlearn: 0.1047399\ttest: 0.2530732\tbest: 0.2451644 (721)\ttotal: 305ms\tremaining: 5.42s\n",
      "1065:\tlearn: 0.1046797\ttest: 0.2531254\tbest: 0.2451644 (721)\ttotal: 305ms\tremaining: 5.42s\n",
      "1066:\tlearn: 0.1046595\ttest: 0.2531254\tbest: 0.2451644 (721)\ttotal: 306ms\tremaining: 5.42s\n",
      "1067:\tlearn: 0.1046060\ttest: 0.2530817\tbest: 0.2451644 (721)\ttotal: 306ms\tremaining: 5.42s\n",
      "1068:\tlearn: 0.1045461\ttest: 0.2531337\tbest: 0.2451644 (721)\ttotal: 306ms\tremaining: 5.42s\n",
      "1069:\tlearn: 0.1044679\ttest: 0.2532746\tbest: 0.2451644 (721)\ttotal: 306ms\tremaining: 5.42s\n",
      "1070:\tlearn: 0.1044096\ttest: 0.2533184\tbest: 0.2451644 (721)\ttotal: 307ms\tremaining: 5.42s\n",
      "1071:\tlearn: 0.1043897\ttest: 0.2533183\tbest: 0.2451644 (721)\ttotal: 307ms\tremaining: 5.42s\n",
      "1072:\tlearn: 0.1043587\ttest: 0.2533132\tbest: 0.2451644 (721)\ttotal: 307ms\tremaining: 5.42s\n",
      "1073:\tlearn: 0.1042993\ttest: 0.2533646\tbest: 0.2451644 (721)\ttotal: 307ms\tremaining: 5.41s\n",
      "1074:\tlearn: 0.1042434\ttest: 0.2534152\tbest: 0.2451644 (721)\ttotal: 307ms\tremaining: 5.41s\n",
      "1075:\tlearn: 0.1041755\ttest: 0.2533307\tbest: 0.2451644 (721)\ttotal: 308ms\tremaining: 5.41s\n",
      "1076:\tlearn: 0.1041180\ttest: 0.2533740\tbest: 0.2451644 (721)\ttotal: 308ms\tremaining: 5.41s\n",
      "1077:\tlearn: 0.1040711\ttest: 0.2535002\tbest: 0.2451644 (721)\ttotal: 308ms\tremaining: 5.41s\n",
      "1078:\tlearn: 0.1039940\ttest: 0.2536403\tbest: 0.2451644 (721)\ttotal: 308ms\tremaining: 5.41s\n",
      "1079:\tlearn: 0.1039551\ttest: 0.2536374\tbest: 0.2451644 (721)\ttotal: 309ms\tremaining: 5.41s\n",
      "1080:\tlearn: 0.1038998\ttest: 0.2536872\tbest: 0.2451644 (721)\ttotal: 309ms\tremaining: 5.4s\n",
      "1081:\tlearn: 0.1038464\ttest: 0.2536701\tbest: 0.2451644 (721)\ttotal: 309ms\tremaining: 5.4s\n",
      "1082:\tlearn: 0.1037822\ttest: 0.2537765\tbest: 0.2451644 (721)\ttotal: 309ms\tremaining: 5.4s\n",
      "1083:\tlearn: 0.1037255\ttest: 0.2538191\tbest: 0.2451644 (721)\ttotal: 309ms\tremaining: 5.4s\n",
      "1084:\tlearn: 0.1036734\ttest: 0.2537763\tbest: 0.2451644 (721)\ttotal: 310ms\tremaining: 5.4s\n",
      "1085:\tlearn: 0.1036188\ttest: 0.2538257\tbest: 0.2451644 (721)\ttotal: 310ms\tremaining: 5.4s\n",
      "1086:\tlearn: 0.1035643\ttest: 0.2538748\tbest: 0.2451644 (721)\ttotal: 310ms\tremaining: 5.4s\n",
      "1087:\tlearn: 0.1035100\ttest: 0.2539238\tbest: 0.2451644 (721)\ttotal: 311ms\tremaining: 5.4s\n",
      "1088:\tlearn: 0.1034895\ttest: 0.2539235\tbest: 0.2451644 (721)\ttotal: 311ms\tremaining: 5.4s\n",
      "1089:\tlearn: 0.1034335\ttest: 0.2539656\tbest: 0.2451644 (721)\ttotal: 311ms\tremaining: 5.4s\n",
      "1090:\tlearn: 0.1034015\ttest: 0.2539676\tbest: 0.2451644 (721)\ttotal: 311ms\tremaining: 5.39s\n",
      "1091:\tlearn: 0.1033590\ttest: 0.2540023\tbest: 0.2451644 (721)\ttotal: 312ms\tremaining: 5.39s\n",
      "1092:\tlearn: 0.1033050\ttest: 0.2540511\tbest: 0.2451644 (721)\ttotal: 312ms\tremaining: 5.39s\n",
      "1093:\tlearn: 0.1032733\ttest: 0.2540531\tbest: 0.2451644 (721)\ttotal: 312ms\tremaining: 5.39s\n",
      "1094:\tlearn: 0.1032195\ttest: 0.2541018\tbest: 0.2451644 (721)\ttotal: 312ms\tremaining: 5.39s\n",
      "1095:\tlearn: 0.1031667\ttest: 0.2540852\tbest: 0.2451644 (721)\ttotal: 312ms\tremaining: 5.39s\n",
      "1096:\tlearn: 0.1031131\ttest: 0.2541338\tbest: 0.2451644 (721)\ttotal: 313ms\tremaining: 5.39s\n",
      "1097:\tlearn: 0.1030826\ttest: 0.2541369\tbest: 0.2451644 (721)\ttotal: 313ms\tremaining: 5.38s\n",
      "1098:\tlearn: 0.1030274\ttest: 0.2541784\tbest: 0.2451644 (721)\ttotal: 313ms\tremaining: 5.38s\n",
      "1099:\tlearn: 0.1030070\ttest: 0.2541767\tbest: 0.2451644 (721)\ttotal: 313ms\tremaining: 5.38s\n",
      "1100:\tlearn: 0.1029547\ttest: 0.2541603\tbest: 0.2451644 (721)\ttotal: 313ms\tremaining: 5.38s\n",
      "1101:\tlearn: 0.1028906\ttest: 0.2541774\tbest: 0.2451644 (721)\ttotal: 314ms\tremaining: 5.38s\n",
      "1102:\tlearn: 0.1028702\ttest: 0.2541770\tbest: 0.2451644 (721)\ttotal: 314ms\tremaining: 5.37s\n",
      "1103:\tlearn: 0.1028500\ttest: 0.2541766\tbest: 0.2451644 (721)\ttotal: 314ms\tremaining: 5.37s\n",
      "1104:\tlearn: 0.1028301\ttest: 0.2541768\tbest: 0.2451644 (721)\ttotal: 314ms\tremaining: 5.37s\n",
      "1105:\tlearn: 0.1028100\ttest: 0.2541767\tbest: 0.2451644 (721)\ttotal: 314ms\tremaining: 5.37s\n",
      "1106:\tlearn: 0.1027578\ttest: 0.2541607\tbest: 0.2451644 (721)\ttotal: 315ms\tremaining: 5.37s\n",
      "1107:\tlearn: 0.1027046\ttest: 0.2542093\tbest: 0.2451644 (721)\ttotal: 315ms\tremaining: 5.37s\n",
      "1108:\tlearn: 0.1026845\ttest: 0.2542091\tbest: 0.2451644 (721)\ttotal: 315ms\tremaining: 5.37s\n",
      "1109:\tlearn: 0.1026314\ttest: 0.2542577\tbest: 0.2451644 (721)\ttotal: 315ms\tremaining: 5.37s\n",
      "1110:\tlearn: 0.1026115\ttest: 0.2542577\tbest: 0.2451644 (721)\ttotal: 316ms\tremaining: 5.36s\n",
      "1111:\tlearn: 0.1025655\ttest: 0.2543824\tbest: 0.2451644 (721)\ttotal: 316ms\tremaining: 5.36s\n",
      "1112:\tlearn: 0.1025048\ttest: 0.2543663\tbest: 0.2451644 (721)\ttotal: 316ms\tremaining: 5.36s\n",
      "1113:\tlearn: 0.1024427\ttest: 0.2544709\tbest: 0.2451644 (721)\ttotal: 316ms\tremaining: 5.36s\n",
      "1114:\tlearn: 0.1023899\ttest: 0.2545192\tbest: 0.2451644 (721)\ttotal: 317ms\tremaining: 5.36s\n",
      "1115:\tlearn: 0.1023540\ttest: 0.2545194\tbest: 0.2451644 (721)\ttotal: 317ms\tremaining: 5.36s\n",
      "1116:\tlearn: 0.1023014\ttest: 0.2545675\tbest: 0.2451644 (721)\ttotal: 317ms\tremaining: 5.36s\n",
      "1117:\tlearn: 0.1022399\ttest: 0.2546714\tbest: 0.2451644 (721)\ttotal: 317ms\tremaining: 5.36s\n",
      "1118:\tlearn: 0.1022200\ttest: 0.2546716\tbest: 0.2451644 (721)\ttotal: 317ms\tremaining: 5.36s\n",
      "1119:\tlearn: 0.1021677\ttest: 0.2547194\tbest: 0.2451644 (721)\ttotal: 318ms\tremaining: 5.36s\n",
      "1120:\tlearn: 0.1020937\ttest: 0.2548572\tbest: 0.2451644 (721)\ttotal: 318ms\tremaining: 5.35s\n",
      "1121:\tlearn: 0.1020424\ttest: 0.2548417\tbest: 0.2451644 (721)\ttotal: 318ms\tremaining: 5.35s\n",
      "1122:\tlearn: 0.1020029\ttest: 0.2548613\tbest: 0.2451644 (721)\ttotal: 318ms\tremaining: 5.35s\n",
      "1123:\tlearn: 0.1019492\ttest: 0.2549020\tbest: 0.2451644 (721)\ttotal: 318ms\tremaining: 5.35s\n",
      "1124:\tlearn: 0.1018975\ttest: 0.2549492\tbest: 0.2451644 (721)\ttotal: 319ms\tremaining: 5.34s\n",
      "1125:\tlearn: 0.1018442\ttest: 0.2549896\tbest: 0.2451644 (721)\ttotal: 319ms\tremaining: 5.34s\n",
      "1126:\tlearn: 0.1017837\ttest: 0.2550921\tbest: 0.2451644 (721)\ttotal: 319ms\tremaining: 5.34s\n",
      "1127:\tlearn: 0.1017295\ttest: 0.2551399\tbest: 0.2451644 (721)\ttotal: 319ms\tremaining: 5.34s\n",
      "1128:\tlearn: 0.1017089\ttest: 0.2551396\tbest: 0.2451644 (721)\ttotal: 319ms\tremaining: 5.34s\n",
      "1129:\tlearn: 0.1016561\ttest: 0.2551796\tbest: 0.2451644 (721)\ttotal: 319ms\tremaining: 5.33s\n",
      "1130:\tlearn: 0.1016052\ttest: 0.2551645\tbest: 0.2451644 (721)\ttotal: 320ms\tremaining: 5.33s\n",
      "1131:\tlearn: 0.1015543\ttest: 0.2552111\tbest: 0.2451644 (721)\ttotal: 320ms\tremaining: 5.33s\n",
      "1132:\tlearn: 0.1015035\ttest: 0.2552575\tbest: 0.2451644 (721)\ttotal: 320ms\tremaining: 5.33s\n",
      "1133:\tlearn: 0.1014686\ttest: 0.2552577\tbest: 0.2451644 (721)\ttotal: 320ms\tremaining: 5.33s\n",
      "1134:\tlearn: 0.1014480\ttest: 0.2552575\tbest: 0.2451644 (721)\ttotal: 320ms\tremaining: 5.33s\n",
      "1135:\tlearn: 0.1013899\ttest: 0.2553771\tbest: 0.2451644 (721)\ttotal: 321ms\tremaining: 5.33s\n",
      "1136:\tlearn: 0.1013395\ttest: 0.2554233\tbest: 0.2451644 (721)\ttotal: 321ms\tremaining: 5.32s\n",
      "1137:\tlearn: 0.1012875\ttest: 0.2554627\tbest: 0.2451644 (721)\ttotal: 321ms\tremaining: 5.32s\n",
      "1138:\tlearn: 0.1012298\ttest: 0.2555818\tbest: 0.2451644 (721)\ttotal: 321ms\tremaining: 5.32s\n",
      "1139:\tlearn: 0.1011953\ttest: 0.2555822\tbest: 0.2451644 (721)\ttotal: 322ms\tremaining: 5.32s\n",
      "1140:\tlearn: 0.1011453\ttest: 0.2556278\tbest: 0.2451644 (721)\ttotal: 322ms\tremaining: 5.32s\n",
      "1141:\tlearn: 0.1010826\ttest: 0.2556653\tbest: 0.2451644 (721)\ttotal: 322ms\tremaining: 5.32s\n",
      "1142:\tlearn: 0.1010624\ttest: 0.2556654\tbest: 0.2451644 (721)\ttotal: 322ms\tremaining: 5.32s\n",
      "1143:\tlearn: 0.1010126\ttest: 0.2557110\tbest: 0.2451644 (721)\ttotal: 322ms\tremaining: 5.31s\n",
      "1144:\tlearn: 0.1009923\ttest: 0.2557116\tbest: 0.2451644 (721)\ttotal: 323ms\tremaining: 5.31s\n",
      "1145:\tlearn: 0.1009423\ttest: 0.2556968\tbest: 0.2451644 (721)\ttotal: 323ms\tremaining: 5.31s\n",
      "1146:\tlearn: 0.1009222\ttest: 0.2556969\tbest: 0.2451644 (721)\ttotal: 323ms\tremaining: 5.31s\n",
      "1147:\tlearn: 0.1008726\ttest: 0.2557425\tbest: 0.2451644 (721)\ttotal: 323ms\tremaining: 5.31s\n",
      "1148:\tlearn: 0.1008229\ttest: 0.2557279\tbest: 0.2451644 (721)\ttotal: 324ms\tremaining: 5.31s\n",
      "1149:\tlearn: 0.1007736\ttest: 0.2557734\tbest: 0.2451644 (721)\ttotal: 324ms\tremaining: 5.31s\n",
      "1150:\tlearn: 0.1007227\ttest: 0.2558123\tbest: 0.2451644 (721)\ttotal: 324ms\tremaining: 5.3s\n",
      "1151:\tlearn: 0.1006733\ttest: 0.2557978\tbest: 0.2451644 (721)\ttotal: 324ms\tremaining: 5.3s\n",
      "1152:\tlearn: 0.1006167\ttest: 0.2559162\tbest: 0.2451644 (721)\ttotal: 324ms\tremaining: 5.3s\n",
      "1153:\tlearn: 0.1005994\ttest: 0.2559164\tbest: 0.2451644 (721)\ttotal: 324ms\tremaining: 5.3s\n",
      "1154:\tlearn: 0.1005476\ttest: 0.2559627\tbest: 0.2451644 (721)\ttotal: 325ms\tremaining: 5.3s\n",
      "1155:\tlearn: 0.1004988\ttest: 0.2560076\tbest: 0.2451644 (721)\ttotal: 325ms\tremaining: 5.29s\n",
      "1156:\tlearn: 0.1004502\ttest: 0.2560523\tbest: 0.2451644 (721)\ttotal: 325ms\tremaining: 5.29s\n",
      "1157:\tlearn: 0.1003988\ttest: 0.2560981\tbest: 0.2451644 (721)\ttotal: 325ms\tremaining: 5.29s\n",
      "1158:\tlearn: 0.1003499\ttest: 0.2560839\tbest: 0.2451644 (721)\ttotal: 325ms\tremaining: 5.29s\n",
      "1159:\tlearn: 0.1003012\ttest: 0.2560697\tbest: 0.2451644 (721)\ttotal: 325ms\tremaining: 5.29s\n",
      "1160:\tlearn: 0.1002530\ttest: 0.2561142\tbest: 0.2451644 (721)\ttotal: 326ms\tremaining: 5.28s\n",
      "1161:\tlearn: 0.1002050\ttest: 0.2561585\tbest: 0.2451644 (721)\ttotal: 326ms\tremaining: 5.28s\n",
      "1162:\tlearn: 0.1001355\ttest: 0.2562927\tbest: 0.2451644 (721)\ttotal: 326ms\tremaining: 5.28s\n",
      "1163:\tlearn: 0.1000746\ttest: 0.2563287\tbest: 0.2451644 (721)\ttotal: 326ms\tremaining: 5.28s\n",
      "1164:\tlearn: 0.1000194\ttest: 0.2564458\tbest: 0.2451644 (721)\ttotal: 326ms\tremaining: 5.28s\n",
      "1165:\tlearn: 0.0999719\ttest: 0.2564895\tbest: 0.2451644 (721)\ttotal: 327ms\tremaining: 5.28s\n",
      "1166:\tlearn: 0.0999245\ttest: 0.2565329\tbest: 0.2451644 (721)\ttotal: 327ms\tremaining: 5.27s\n",
      "1167:\tlearn: 0.0998772\ttest: 0.2565762\tbest: 0.2451644 (721)\ttotal: 327ms\tremaining: 5.27s\n",
      "1168:\tlearn: 0.0998566\ttest: 0.2565757\tbest: 0.2451644 (721)\ttotal: 327ms\tremaining: 5.27s\n",
      "1169:\tlearn: 0.0997881\ttest: 0.2567089\tbest: 0.2451644 (721)\ttotal: 327ms\tremaining: 5.27s\n",
      "1170:\tlearn: 0.0997411\ttest: 0.2567518\tbest: 0.2451644 (721)\ttotal: 328ms\tremaining: 5.27s\n",
      "1171:\tlearn: 0.0997064\ttest: 0.2567500\tbest: 0.2451644 (721)\ttotal: 328ms\tremaining: 5.26s\n",
      "1172:\tlearn: 0.0996596\ttest: 0.2567928\tbest: 0.2451644 (721)\ttotal: 328ms\tremaining: 5.26s\n",
      "1173:\tlearn: 0.0996129\ttest: 0.2568354\tbest: 0.2451644 (721)\ttotal: 328ms\tremaining: 5.26s\n",
      "1174:\tlearn: 0.0995521\ttest: 0.2567579\tbest: 0.2451644 (721)\ttotal: 328ms\tremaining: 5.26s\n",
      "1175:\tlearn: 0.0995311\ttest: 0.2567581\tbest: 0.2451644 (721)\ttotal: 328ms\tremaining: 5.26s\n",
      "1176:\tlearn: 0.0994847\ttest: 0.2568006\tbest: 0.2451644 (721)\ttotal: 329ms\tremaining: 5.26s\n",
      "1177:\tlearn: 0.0994370\ttest: 0.2567869\tbest: 0.2451644 (721)\ttotal: 329ms\tremaining: 5.26s\n",
      "1178:\tlearn: 0.0993879\ttest: 0.2568310\tbest: 0.2451644 (721)\ttotal: 329ms\tremaining: 5.25s\n",
      "1179:\tlearn: 0.0993404\ttest: 0.2568173\tbest: 0.2451644 (721)\ttotal: 329ms\tremaining: 5.25s\n",
      "1180:\tlearn: 0.0993196\ttest: 0.2568174\tbest: 0.2451644 (721)\ttotal: 329ms\tremaining: 5.25s\n",
      "1181:\tlearn: 0.0992658\ttest: 0.2569335\tbest: 0.2451644 (721)\ttotal: 330ms\tremaining: 5.25s\n",
      "1182:\tlearn: 0.0992186\ttest: 0.2569201\tbest: 0.2451644 (721)\ttotal: 330ms\tremaining: 5.24s\n",
      "1183:\tlearn: 0.0991726\ttest: 0.2569622\tbest: 0.2451644 (721)\ttotal: 330ms\tremaining: 5.24s\n",
      "1184:\tlearn: 0.0991194\ttest: 0.2569617\tbest: 0.2451644 (721)\ttotal: 330ms\tremaining: 5.23s\n",
      "1185:\tlearn: 0.0990659\ttest: 0.2570774\tbest: 0.2451644 (721)\ttotal: 330ms\tremaining: 5.23s\n",
      "1186:\tlearn: 0.0990203\ttest: 0.2571192\tbest: 0.2451644 (721)\ttotal: 330ms\tremaining: 5.23s\n",
      "1187:\tlearn: 0.0989994\ttest: 0.2571193\tbest: 0.2451644 (721)\ttotal: 330ms\tremaining: 5.22s\n",
      "1188:\tlearn: 0.0989539\ttest: 0.2571610\tbest: 0.2451644 (721)\ttotal: 330ms\tremaining: 5.22s\n",
      "1189:\tlearn: 0.0989180\ttest: 0.2571584\tbest: 0.2451644 (721)\ttotal: 330ms\tremaining: 5.22s\n",
      "1190:\tlearn: 0.0988727\ttest: 0.2572000\tbest: 0.2451644 (721)\ttotal: 330ms\tremaining: 5.21s\n",
      "1191:\tlearn: 0.0988275\ttest: 0.2572414\tbest: 0.2451644 (721)\ttotal: 330ms\tremaining: 5.21s\n",
      "1192:\tlearn: 0.0988021\ttest: 0.2572403\tbest: 0.2451644 (721)\ttotal: 330ms\tremaining: 5.21s\n",
      "1193:\tlearn: 0.0987570\ttest: 0.2572817\tbest: 0.2451644 (721)\ttotal: 331ms\tremaining: 5.21s\n",
      "1194:\tlearn: 0.0987104\ttest: 0.2572685\tbest: 0.2451644 (721)\ttotal: 332ms\tremaining: 5.22s\n",
      "1195:\tlearn: 0.0986640\ttest: 0.2572554\tbest: 0.2451644 (721)\ttotal: 332ms\tremaining: 5.22s\n",
      "1196:\tlearn: 0.0986068\ttest: 0.2572420\tbest: 0.2451644 (721)\ttotal: 332ms\tremaining: 5.22s\n",
      "1197:\tlearn: 0.0985591\ttest: 0.2572852\tbest: 0.2451644 (721)\ttotal: 332ms\tremaining: 5.22s\n",
      "1198:\tlearn: 0.0984994\ttest: 0.2572801\tbest: 0.2451644 (721)\ttotal: 333ms\tremaining: 5.22s\n",
      "1199:\tlearn: 0.0984784\ttest: 0.2572803\tbest: 0.2451644 (721)\ttotal: 333ms\tremaining: 5.22s\n",
      "1200:\tlearn: 0.0984425\ttest: 0.2572780\tbest: 0.2451644 (721)\ttotal: 333ms\tremaining: 5.22s\n",
      "1201:\tlearn: 0.0983852\ttest: 0.2572643\tbest: 0.2451644 (721)\ttotal: 333ms\tremaining: 5.21s\n",
      "1202:\tlearn: 0.0983407\ttest: 0.2573054\tbest: 0.2451644 (721)\ttotal: 334ms\tremaining: 5.21s\n",
      "1203:\tlearn: 0.0983196\ttest: 0.2573060\tbest: 0.2451644 (721)\ttotal: 334ms\tremaining: 5.21s\n",
      "1204:\tlearn: 0.0982621\ttest: 0.2573171\tbest: 0.2451644 (721)\ttotal: 334ms\tremaining: 5.21s\n",
      "1205:\tlearn: 0.0982055\ttest: 0.2573039\tbest: 0.2451644 (721)\ttotal: 335ms\tremaining: 5.21s\n",
      "1206:\tlearn: 0.0981533\ttest: 0.2574188\tbest: 0.2451644 (721)\ttotal: 335ms\tremaining: 5.22s\n",
      "1207:\tlearn: 0.0981316\ttest: 0.2574184\tbest: 0.2451644 (721)\ttotal: 335ms\tremaining: 5.21s\n",
      "1208:\tlearn: 0.0980856\ttest: 0.2574057\tbest: 0.2451644 (721)\ttotal: 336ms\tremaining: 5.22s\n",
      "1209:\tlearn: 0.0980415\ttest: 0.2574466\tbest: 0.2451644 (721)\ttotal: 336ms\tremaining: 5.22s\n",
      "1210:\tlearn: 0.0980199\ttest: 0.2574464\tbest: 0.2451644 (721)\ttotal: 336ms\tremaining: 5.22s\n",
      "1211:\tlearn: 0.0979731\ttest: 0.2574892\tbest: 0.2451644 (721)\ttotal: 336ms\tremaining: 5.21s\n",
      "1212:\tlearn: 0.0979264\ttest: 0.2575318\tbest: 0.2451644 (721)\ttotal: 337ms\tremaining: 5.21s\n",
      "1213:\tlearn: 0.0979087\ttest: 0.2575321\tbest: 0.2451644 (721)\ttotal: 337ms\tremaining: 5.21s\n",
      "1214:\tlearn: 0.0978755\ttest: 0.2575342\tbest: 0.2451644 (721)\ttotal: 337ms\tremaining: 5.21s\n",
      "1215:\tlearn: 0.0978318\ttest: 0.2575748\tbest: 0.2451644 (721)\ttotal: 337ms\tremaining: 5.21s\n",
      "1216:\tlearn: 0.0977882\ttest: 0.2576153\tbest: 0.2451644 (721)\ttotal: 337ms\tremaining: 5.21s\n",
      "1217:\tlearn: 0.0977620\ttest: 0.2576163\tbest: 0.2451644 (721)\ttotal: 337ms\tremaining: 5.2s\n",
      "1218:\tlearn: 0.0977186\ttest: 0.2576566\tbest: 0.2451644 (721)\ttotal: 338ms\tremaining: 5.2s\n",
      "1219:\tlearn: 0.0976731\ttest: 0.2576441\tbest: 0.2451644 (721)\ttotal: 338ms\tremaining: 5.2s\n",
      "1220:\tlearn: 0.0976271\ttest: 0.2576863\tbest: 0.2451644 (721)\ttotal: 338ms\tremaining: 5.21s\n",
      "1221:\tlearn: 0.0975759\ttest: 0.2578005\tbest: 0.2451644 (721)\ttotal: 339ms\tremaining: 5.21s\n",
      "Stopped by overfitting detector  (500 iterations wait)\n",
      "\n",
      "bestTest = 0.2451643678\n",
      "bestIteration = 721\n",
      "\n",
      "Shrink model to first 722 iterations.\n"
     ]
    },
    {
     "data": {
      "text/plain": [
       "<catboost.core.CatBoostRegressor at 0x7fb3e8a6d910>"
      ]
     },
     "execution_count": 139,
     "metadata": {},
     "output_type": "execute_result"
    }
   ],
   "source": [
    "cat_fit = cat.CatBoostRegressor(iterations=20000, depth=3, od_type=\"Iter\", od_wait=500)\n",
    "cat_fit.fit(X_train_c, y_train_c, eval_set=(X_test_c, y_test_c))"
   ]
  },
  {
   "cell_type": "code",
   "execution_count": 140,
   "metadata": {},
   "outputs": [],
   "source": [
    "y_pred_cat = cat_fit.predict(X_test_c)\n"
   ]
  },
  {
   "cell_type": "code",
   "execution_count": 142,
   "metadata": {},
   "outputs": [
    {
     "data": {
      "text/plain": [
       "0.06010556725346685"
      ]
     },
     "execution_count": 142,
     "metadata": {},
     "output_type": "execute_result"
    }
   ],
   "source": [
    "mean_squared_error(y_test_c,y_pred_cat)"
   ]
  },
  {
   "cell_type": "code",
   "execution_count": null,
   "metadata": {},
   "outputs": [],
   "source": [
    "tb_test[\"pred_cat_SalePrice\"] = np.exp(y_pred)\n",
    "np.round(\n",
    "    np.sqrt(mean_squared_error(tb_test[\"SalePrice\"], tb_test[\"pred_cat_SalePrice\"])), 2\n",
    ")\n"
   ]
  }
 ],
 "metadata": {
  "kernelspec": {
   "display_name": "Python 3 (ipykernel)",
   "language": "python",
   "name": "python3"
  },
  "language_info": {
   "codemirror_mode": {
    "name": "ipython",
    "version": 3
   },
   "file_extension": ".py",
   "mimetype": "text/x-python",
   "name": "python",
   "nbconvert_exporter": "python",
   "pygments_lexer": "ipython3",
   "version": "3.9.12"
  }
 },
 "nbformat": 4,
 "nbformat_minor": 2
}
