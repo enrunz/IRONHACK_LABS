{
 "cells": [
  {
   "cell_type": "markdown",
   "id": "aa4a7d65",
   "metadata": {},
   "source": [
    "Import the NUMPY package under the name np.\n"
   ]
  },
  {
   "cell_type": "code",
   "execution_count": 13,
   "id": "970a02c3",
   "metadata": {},
   "outputs": [],
   "source": [
    "import numpy as np"
   ]
  },
  {
   "cell_type": "markdown",
   "id": "52acf2dd",
   "metadata": {},
   "source": [
    "1. Print the NUMPY version and the configuration.\n",
    "\n"
   ]
  },
  {
   "cell_type": "code",
   "execution_count": 14,
   "id": "be5c4d62",
   "metadata": {},
   "outputs": [
    {
     "name": "stdout",
     "output_type": "stream",
     "text": [
      "1.21.5\n",
      "blas_mkl_info:\n",
      "    libraries = ['mkl_rt', 'pthread']\n",
      "    library_dirs = ['/Users/derinkivaner/opt/anaconda3/lib']\n",
      "    define_macros = [('SCIPY_MKL_H', None), ('HAVE_CBLAS', None)]\n",
      "    include_dirs = ['/Users/derinkivaner/opt/anaconda3/include']\n",
      "blas_opt_info:\n",
      "    libraries = ['mkl_rt', 'pthread']\n",
      "    library_dirs = ['/Users/derinkivaner/opt/anaconda3/lib']\n",
      "    define_macros = [('SCIPY_MKL_H', None), ('HAVE_CBLAS', None)]\n",
      "    include_dirs = ['/Users/derinkivaner/opt/anaconda3/include']\n",
      "lapack_mkl_info:\n",
      "    libraries = ['mkl_rt', 'pthread']\n",
      "    library_dirs = ['/Users/derinkivaner/opt/anaconda3/lib']\n",
      "    define_macros = [('SCIPY_MKL_H', None), ('HAVE_CBLAS', None)]\n",
      "    include_dirs = ['/Users/derinkivaner/opt/anaconda3/include']\n",
      "lapack_opt_info:\n",
      "    libraries = ['mkl_rt', 'pthread']\n",
      "    library_dirs = ['/Users/derinkivaner/opt/anaconda3/lib']\n",
      "    define_macros = [('SCIPY_MKL_H', None), ('HAVE_CBLAS', None)]\n",
      "    include_dirs = ['/Users/derinkivaner/opt/anaconda3/include']\n",
      "Supported SIMD extensions in this NumPy install:\n",
      "    baseline = SSE,SSE2,SSE3\n",
      "    found = SSSE3,SSE41,POPCNT,SSE42,AVX,F16C,FMA3,AVX2\n",
      "    not found = AVX512F,AVX512CD,AVX512_KNL,AVX512_SKX,AVX512_CLX,AVX512_CNL,AVX512_ICL\n",
      "None\n"
     ]
    }
   ],
   "source": [
    "print(np.__version__)\n",
    "print(np.show_config())"
   ]
  },
  {
   "cell_type": "markdown",
   "id": "55f95f3c",
   "metadata": {},
   "source": [
    "\n",
    "Generate a 2x3x5 3-dimensional array with random values. Assign the array to variable \"a\"\n",
    "\n",
    "Challenge: there are at least three easy ways that use numpy to generate random arrays. How many ways can you find?\n",
    "\n"
   ]
  },
  {
   "cell_type": "code",
   "execution_count": 15,
   "id": "999760a9",
   "metadata": {},
   "outputs": [],
   "source": [
    "a=np.random.random((2,3,5))"
   ]
  },
  {
   "cell_type": "markdown",
   "id": "aa273b91",
   "metadata": {},
   "source": [
    "\n",
    "\n",
    "Print a.\n",
    "\n",
    "\n"
   ]
  },
  {
   "cell_type": "code",
   "execution_count": 16,
   "id": "cb5256b9",
   "metadata": {},
   "outputs": [
    {
     "name": "stdout",
     "output_type": "stream",
     "text": [
      "[[[0.71018955 0.12281943 0.99257707 0.98110609 0.34200509]\n",
      "  [0.60682586 0.28130253 0.43300314 0.23265259 0.36281085]\n",
      "  [0.76449524 0.96012857 0.86250844 0.06432616 0.91128535]]\n",
      "\n",
      " [[0.58241179 0.93314705 0.46032252 0.87937692 0.55048056]\n",
      "  [0.2418139  0.13961817 0.72539929 0.16251681 0.32500397]\n",
      "  [0.5777678  0.40930699 0.84658506 0.4134439  0.0736527 ]]]\n"
     ]
    }
   ],
   "source": [
    "print(a)"
   ]
  },
  {
   "cell_type": "code",
   "execution_count": 17,
   "id": "a77c623e",
   "metadata": {},
   "outputs": [
    {
     "name": "stdout",
     "output_type": "stream",
     "text": [
      "[[[0.58956921 0.38170234 0.18360913 0.82004621 0.31164362]\n",
      "  [0.34363682 0.38466937 0.37382518 0.50091483 0.47835108]\n",
      "  [0.47125333 0.92839533 0.53836725 0.86605427 0.25154596]]\n",
      "\n",
      " [[0.48048323 0.13803529 0.29049579 0.03374611 0.64596574]\n",
      "  [0.92200269 0.54015018 0.6675315  0.26311681 0.17475826]\n",
      "  [0.3654988  0.62948271 0.58217771 0.73825434 0.38006871]]]\n"
     ]
    }
   ],
   "source": [
    "#rand: returns random float between 0 and 1\n",
    "\n",
    "a1=np.random.rand(2,3,5)\n",
    "print(a1)"
   ]
  },
  {
   "cell_type": "code",
   "execution_count": 18,
   "id": "b0baf88a",
   "metadata": {},
   "outputs": [
    {
     "name": "stdout",
     "output_type": "stream",
     "text": [
      "[[[0.67391929 0.16000719 0.28985976 0.46210786 0.01529802]\n",
      "  [0.87700801 0.80147898 0.44267627 0.64491589 0.51792964]\n",
      "  [0.20741986 0.34128191 0.21666504 0.0892588  0.60033766]]\n",
      "\n",
      " [[0.91143583 0.05285059 0.48997135 0.14310569 0.99444966]\n",
      "  [0.24504918 0.52754149 0.52805444 0.55782153 0.91504692]\n",
      "  [0.61369966 0.97706114 0.42919822 0.10328351 0.72173741]]]\n"
     ]
    }
   ],
   "source": [
    "#randn 3 dimensional array of random values\n",
    "\n",
    "a3=np.random.rand(2,3,5)\n",
    "print(a3)"
   ]
  },
  {
   "cell_type": "markdown",
   "id": "92db2af5",
   "metadata": {},
   "source": [
    "\n",
    "Create a 5x2x3 3-dimensional array with all values equaling 1.\n",
    "#Assign the array to variable \"b\"\n",
    "\n"
   ]
  },
  {
   "cell_type": "code",
   "execution_count": 19,
   "id": "742cfb7e",
   "metadata": {},
   "outputs": [],
   "source": [
    "b=np.ones((5,2,3))\n"
   ]
  },
  {
   "cell_type": "markdown",
   "id": "7818d36d",
   "metadata": {},
   "source": [
    " Print b.\n"
   ]
  },
  {
   "cell_type": "code",
   "execution_count": 20,
   "id": "8fd30c9c",
   "metadata": {},
   "outputs": [
    {
     "name": "stdout",
     "output_type": "stream",
     "text": [
      "[[[1. 1. 1.]\n",
      "  [1. 1. 1.]]\n",
      "\n",
      " [[1. 1. 1.]\n",
      "  [1. 1. 1.]]\n",
      "\n",
      " [[1. 1. 1.]\n",
      "  [1. 1. 1.]]\n",
      "\n",
      " [[1. 1. 1.]\n",
      "  [1. 1. 1.]]\n",
      "\n",
      " [[1. 1. 1.]\n",
      "  [1. 1. 1.]]]\n"
     ]
    }
   ],
   "source": [
    "print(b)"
   ]
  },
  {
   "cell_type": "markdown",
   "id": "d8fcc7e3",
   "metadata": {},
   "source": [
    "\n",
    "\n",
    "Do a and b have the same size? How do you prove that in Python code?\n",
    "\n",
    "\n"
   ]
  },
  {
   "cell_type": "code",
   "execution_count": 21,
   "id": "3e25f9b1",
   "metadata": {},
   "outputs": [
    {
     "data": {
      "text/plain": [
       "True"
      ]
     },
     "execution_count": 21,
     "metadata": {},
     "output_type": "execute_result"
    }
   ],
   "source": [
    "np.size(a)==np.size(b)"
   ]
  },
  {
   "cell_type": "markdown",
   "id": "a4206e13",
   "metadata": {},
   "source": [
    "\n",
    "Are you able to add a and b? Why or why not?\n",
    "\n",
    "\n"
   ]
  },
  {
   "cell_type": "code",
   "execution_count": 22,
   "id": "d740fae8",
   "metadata": {},
   "outputs": [
    {
     "ename": "ValueError",
     "evalue": "operands could not be broadcast together with shapes (2,3,5) (5,2,3) ",
     "output_type": "error",
     "traceback": [
      "\u001b[0;31m---------------------------------------------------------------------------\u001b[0m",
      "\u001b[0;31mValueError\u001b[0m                                Traceback (most recent call last)",
      "Input \u001b[0;32mIn [22]\u001b[0m, in \u001b[0;36m<cell line: 1>\u001b[0;34m()\u001b[0m\n\u001b[0;32m----> 1\u001b[0m \u001b[43mnp\u001b[49m\u001b[38;5;241;43m.\u001b[39;49m\u001b[43madd\u001b[49m\u001b[43m(\u001b[49m\u001b[43ma\u001b[49m\u001b[43m,\u001b[49m\u001b[43mb\u001b[49m\u001b[43m)\u001b[49m\n",
      "\u001b[0;31mValueError\u001b[0m: operands could not be broadcast together with shapes (2,3,5) (5,2,3) "
     ]
    }
   ],
   "source": [
    "np.add(a,b)"
   ]
  },
  {
   "cell_type": "markdown",
   "id": "7d0021b2",
   "metadata": {},
   "source": [
    "### CANNOT BE ADDES UNLESS RESHAPED"
   ]
  },
  {
   "cell_type": "code",
   "execution_count": 23,
   "id": "416afda5",
   "metadata": {},
   "outputs": [
    {
     "data": {
      "text/plain": [
       "array([[[1.71018955, 1.12281943, 1.99257707, 1.98110609, 1.34200509],\n",
       "        [1.60682586, 1.28130253, 1.43300314, 1.23265259, 1.36281085],\n",
       "        [1.76449524, 1.96012857, 1.86250844, 1.06432616, 1.91128535]],\n",
       "\n",
       "       [[1.58241179, 1.93314705, 1.46032252, 1.87937692, 1.55048056],\n",
       "        [1.2418139 , 1.13961817, 1.72539929, 1.16251681, 1.32500397],\n",
       "        [1.5777678 , 1.40930699, 1.84658506, 1.4134439 , 1.0736527 ]]])"
      ]
     },
     "execution_count": 23,
     "metadata": {},
     "output_type": "execute_result"
    }
   ],
   "source": [
    "np.add(a,b.reshape(2,3,5))"
   ]
  },
  {
   "cell_type": "markdown",
   "id": "dfad2a81",
   "metadata": {},
   "source": [
    "Transpose b so that it has the same structure of a (i.e. become a 2x3x5 array). Assign the transposed array to varialbe \"c\".\n",
    "\n",
    "\n"
   ]
  },
  {
   "cell_type": "code",
   "execution_count": 24,
   "id": "d58905b2",
   "metadata": {},
   "outputs": [],
   "source": [
    "c=np.transpose(b, (1,2,0))"
   ]
  },
  {
   "cell_type": "code",
   "execution_count": 25,
   "id": "3dcee3ac",
   "metadata": {},
   "outputs": [
    {
     "data": {
      "text/plain": [
       "(2, 3, 5)"
      ]
     },
     "execution_count": 25,
     "metadata": {},
     "output_type": "execute_result"
    }
   ],
   "source": [
    "c.shape"
   ]
  },
  {
   "cell_type": "code",
   "execution_count": null,
   "id": "3eff2ac3",
   "metadata": {},
   "outputs": [],
   "source": []
  },
  {
   "cell_type": "markdown",
   "id": "35926f27",
   "metadata": {},
   "source": [
    "\n",
    "Try to add a and c. Now it should work. Assign the sum to varialbe \"d\". But why does it work now?\n",
    "\n",
    "\n"
   ]
  },
  {
   "cell_type": "code",
   "execution_count": 26,
   "id": "b70b1413",
   "metadata": {},
   "outputs": [
    {
     "name": "stdout",
     "output_type": "stream",
     "text": [
      "[[[1.71018955 1.12281943 1.99257707 1.98110609 1.34200509]\n",
      "  [1.60682586 1.28130253 1.43300314 1.23265259 1.36281085]\n",
      "  [1.76449524 1.96012857 1.86250844 1.06432616 1.91128535]]\n",
      "\n",
      " [[1.58241179 1.93314705 1.46032252 1.87937692 1.55048056]\n",
      "  [1.2418139  1.13961817 1.72539929 1.16251681 1.32500397]\n",
      "  [1.5777678  1.40930699 1.84658506 1.4134439  1.0736527 ]]]\n"
     ]
    }
   ],
   "source": [
    "d=np.add(a,c)\n",
    "print(d)"
   ]
  },
  {
   "cell_type": "markdown",
   "id": "686a7715",
   "metadata": {},
   "source": [
    "### IT WORKS BECAUSE THEY ARE THE SAME SHAPE NOW"
   ]
  },
  {
   "cell_type": "markdown",
   "id": "1b7c6adb",
   "metadata": {},
   "source": [
    "\n",
    "11. Print a and d. Notice the difference and relation of the two array in terms of the values? Explain.\n",
    "\n",
    "\n"
   ]
  },
  {
   "cell_type": "code",
   "execution_count": 27,
   "id": "5235f89e",
   "metadata": {},
   "outputs": [
    {
     "name": "stdout",
     "output_type": "stream",
     "text": [
      "[[[0.71018955 0.12281943 0.99257707 0.98110609 0.34200509]\n",
      "  [0.60682586 0.28130253 0.43300314 0.23265259 0.36281085]\n",
      "  [0.76449524 0.96012857 0.86250844 0.06432616 0.91128535]]\n",
      "\n",
      " [[0.58241179 0.93314705 0.46032252 0.87937692 0.55048056]\n",
      "  [0.2418139  0.13961817 0.72539929 0.16251681 0.32500397]\n",
      "  [0.5777678  0.40930699 0.84658506 0.4134439  0.0736527 ]]]\n",
      "[[[1.71018955 1.12281943 1.99257707 1.98110609 1.34200509]\n",
      "  [1.60682586 1.28130253 1.43300314 1.23265259 1.36281085]\n",
      "  [1.76449524 1.96012857 1.86250844 1.06432616 1.91128535]]\n",
      "\n",
      " [[1.58241179 1.93314705 1.46032252 1.87937692 1.55048056]\n",
      "  [1.2418139  1.13961817 1.72539929 1.16251681 1.32500397]\n",
      "  [1.5777678  1.40930699 1.84658506 1.4134439  1.0736527 ]]]\n"
     ]
    }
   ],
   "source": [
    "print(a)\n",
    "print(d)"
   ]
  },
  {
   "cell_type": "markdown",
   "id": "20bd9632",
   "metadata": {},
   "source": [
    "### The difference is that every element in the array has ben increased by one because we added  array c which contains only elements = 1. So its the addition of each element. "
   ]
  },
  {
   "cell_type": "markdown",
   "id": "2beebce0",
   "metadata": {},
   "source": [
    "\n",
    "\n",
    "12. Multiply a and c. Assign the result to e.\n",
    "\n"
   ]
  },
  {
   "cell_type": "code",
   "execution_count": 28,
   "id": "f4ab8ef6",
   "metadata": {},
   "outputs": [
    {
     "name": "stdout",
     "output_type": "stream",
     "text": [
      "[[[0.71018955 0.12281943 0.99257707 0.98110609 0.34200509]\n",
      "  [0.60682586 0.28130253 0.43300314 0.23265259 0.36281085]\n",
      "  [0.76449524 0.96012857 0.86250844 0.06432616 0.91128535]]\n",
      "\n",
      " [[0.58241179 0.93314705 0.46032252 0.87937692 0.55048056]\n",
      "  [0.2418139  0.13961817 0.72539929 0.16251681 0.32500397]\n",
      "  [0.5777678  0.40930699 0.84658506 0.4134439  0.0736527 ]]]\n"
     ]
    }
   ],
   "source": [
    "e=np.multiply(a,c)\n",
    "print(e)"
   ]
  },
  {
   "cell_type": "markdown",
   "id": "c81716ce",
   "metadata": {},
   "source": [
    "\n",
    "\n",
    "13. Does e equal to a? Why or why not?\n",
    "\n",
    "\n"
   ]
  },
  {
   "cell_type": "markdown",
   "id": "0ee26b79",
   "metadata": {},
   "source": [
    "### e equals a because c contains only elements equal to 1. Every element in a is being multiplied by 1 to result in e."
   ]
  },
  {
   "cell_type": "markdown",
   "id": "71b6ac30",
   "metadata": {},
   "source": [
    "\n",
    "14. Identify the max, min, and mean values in d. Assign those values to variables \"d_max\", \"d_min\", and \"d_mean\"\n",
    "\n",
    "\n"
   ]
  },
  {
   "cell_type": "code",
   "execution_count": 29,
   "id": "ce0d06ad",
   "metadata": {},
   "outputs": [
    {
     "name": "stdout",
     "output_type": "stream",
     "text": [
      "1.992577073311422\n",
      "1.0643261616718762\n",
      "1.5316294460699935\n"
     ]
    }
   ],
   "source": [
    "d_max=np.max(d)\n",
    "d_min=np.min(d)\n",
    "d_mean=np.mean(d)\n",
    "print(d_max)\n",
    "print(d_min)\n",
    "print(d_mean)"
   ]
  },
  {
   "cell_type": "markdown",
   "id": "ea81d7b3",
   "metadata": {},
   "source": [
    "\n",
    "\n",
    "15. Now we want to label the values in d. First create an empty array \"f\" with the same shape (i.e. 2x3x5) as d using `np.empty`."
   ]
  },
  {
   "cell_type": "code",
   "execution_count": 30,
   "id": "9631d0cc",
   "metadata": {
    "scrolled": true
   },
   "outputs": [],
   "source": [
    "f=np.empty((2,3,5))\n"
   ]
  },
  {
   "cell_type": "markdown",
   "id": "db95e625",
   "metadata": {},
   "source": [
    "16. Populate the values in f. For each value in d, if it's larger than d_min but smaller than d_mean, assign 25 to the corresponding value in f.\n",
    "\n",
    "If a value in d is larger than d_mean but smaller than d_max, assign 75 to the corresponding value in f.\n",
    "\n",
    "If a value equals to d_mean, assign 50 to the corresponding value in f.\n",
    "\n",
    "Assign 0 to the corresponding value(s) in f for d_min in d.\n",
    "Assign 100 to the corresponding value(s) in f for d_max in d.\n",
    "In the end, f should have only the following values: 0, 25, 50, 75, and 100.\n",
    "Note: you don't have to use Numpy in this question.\n",
    "\n"
   ]
  },
  {
   "cell_type": "code",
   "execution_count": 31,
   "id": "91f0376f",
   "metadata": {},
   "outputs": [
    {
     "name": "stdout",
     "output_type": "stream",
     "text": [
      "[[[ 75.  25. 100.  75.  25.]\n",
      "  [ 75.  25.  25.  25.  25.]\n",
      "  [ 75.  75.  75.   0.  75.]]\n",
      "\n",
      " [[ 75.  75.  25.  75.  75.]\n",
      "  [ 25.  25.  75.  25.  25.]\n",
      "  [ 75.  25.  75.  25.  25.]]]\n"
     ]
    }
   ],
   "source": [
    "for i in range(2):\n",
    "    for j in range(3):\n",
    "        for k in range(5):\n",
    "            if (d_mean>d[i][j][k]>d_min):\n",
    "                f[i][j][k]=25\n",
    "            elif (d_max>d[i][j][k]>d_mean):\n",
    "                f[i][j][k]=75\n",
    "            elif (d[i][j][k]==d_mean):\n",
    "                f[i][j][k]=50\n",
    "            elif (d[i][j][k]==d_max):\n",
    "                f[i][j][k]=100\n",
    "            else:\n",
    "                f[i][j][k]=0\n",
    "        \n",
    "print(f)"
   ]
  },
  {
   "cell_type": "markdown",
   "id": "4279abe9",
   "metadata": {},
   "source": [
    "\n",
    "17. Print d and f. Do you have your expected f?"
   ]
  },
  {
   "cell_type": "markdown",
   "id": "b6aee79b",
   "metadata": {},
   "source": [
    "### Sure. "
   ]
  },
  {
   "cell_type": "markdown",
   "id": "7cc1a770",
   "metadata": {},
   "source": [
    "\n",
    "For instance, if your d is:\n",
    "array([[[1.85836099, 1.67064465, 1.62576044, 1.40243961, 1.88454931],\n",
    "        [1.75354326, 1.69403643, 1.36729252, 1.61415071, 1.12104981],\n",
    "        [1.72201435, 1.1862918 , 1.87078449, 1.7726778 , 1.88180042]],\n",
    "\n",
    "       [[1.44747908, 1.31673383, 1.02000951, 1.52218947, 1.97066381],\n",
    "        [1.79129243, 1.74983003, 1.96028037, 1.85166831, 1.65450881],\n",
    "        [1.18068344, 1.9587381 , 1.00656599, 1.93402165, 1.73514584]]])\n",
    "\n",
    "Your f should be:\n",
    "array([[[ 75.,  75.,  75.,  25.,  75.],\n",
    "        [ 75.,  75.,  25.,  25.,  25.],\n",
    "        [ 75.,  25.,  75.,  75.,  75.]],\n",
    "\n",
    "       [[ 25.,  25.,  25.,  25., 100.],\n",
    "        [ 75.,  75.,  75.,  75.,  75.],\n",
    "        [ 25.,  75.,   0.,  75.,  75.]]])\n",
    "\n"
   ]
  },
  {
   "cell_type": "markdown",
   "id": "e1809cbd",
   "metadata": {},
   "source": [
    "\n",
    "18. Bonus question: instead of using numbers (i.e. 0, 25, 50, 75, and 100), how to use string values \n",
    "(\"A\", \"B\", \"C\", \"D\", and \"E\") to label the array elements? You are expecting the result to be:\n",
    "array([[[ 'D',  'D',  'D',  'B',  'D'],\n",
    "        [ 'D',  'D',  'B',  'B',  'B'],\n",
    "        [ 'D',  'B',  'D',  'D',  'D']],\n",
    "\n",
    "       [[ 'B',  'B',  'B',  'B',  'E'],\n",
    "        [ 'D',  'D',  'D',  'D',  'D'],\n",
    "        [ 'B',  'D',   'A',  'D', 'D']]])\n",
    "Again, you don't need Numpy in this question.\n"
   ]
  },
  {
   "cell_type": "code",
   "execution_count": 47,
   "id": "d0866b6d",
   "metadata": {},
   "outputs": [
    {
     "name": "stdout",
     "output_type": "stream",
     "text": [
      "[[['D' 'B' 'E' 'D' 'B']\n",
      "  ['D' 'B' 'B' 'B' 'B']\n",
      "  ['D' 'D' 'D' 'A' 'D']]\n",
      "\n",
      " [['D' 'D' 'B' 'D' 'D']\n",
      "  ['B' 'B' 'D' 'B' 'B']\n",
      "  ['D' 'B' 'D' 'B' 'B']]]\n"
     ]
    }
   ],
   "source": [
    "g=np.empty((2,3,5), dtype='object')\n",
    "\n",
    "for i in range(2):\n",
    "    for j in range(3):\n",
    "        for k in range(5):\n",
    "            if (d_mean>d[i][j][k]>d_min):\n",
    "                g[i][j][k]='B'\n",
    "            elif (d_max>d[i][j][k]>d_mean):\n",
    "                g[i][j][k]='D'\n",
    "            elif (d[i][j][k]==d_mean):\n",
    "                g[i][j][k]='B'\n",
    "            elif (d[i][j][k]==d_max):\n",
    "                g[i][j][k]='E'\n",
    "            else:\n",
    "                g[i][j][k]='A'\n",
    "        \n",
    "print(g)\n"
   ]
  },
  {
   "cell_type": "markdown",
   "id": "0bfde0c4",
   "metadata": {},
   "source": [
    "# IGNORE THE REST (ANOTHER METHOD BUT USES NUMPY)"
   ]
  },
  {
   "cell_type": "code",
   "execution_count": 32,
   "id": "5b04b697",
   "metadata": {},
   "outputs": [
    {
     "data": {
      "text/plain": [
       "array([[[ 75.,  25., 100.,  75.,  25.],\n",
       "        [ 75.,  25.,  25.,  25.,  25.],\n",
       "        [ 75.,  75.,  75.,   0.,  75.]],\n",
       "\n",
       "       [[ 75.,  75.,  25.,  75.,  75.],\n",
       "        [ 25.,  25.,  75.,  25.,  25.],\n",
       "        [ 75.,  25.,  75.,  25.,  25.]]])"
      ]
     },
     "execution_count": 32,
     "metadata": {},
     "output_type": "execute_result"
    }
   ],
   "source": [
    "def converter(x):\n",
    "    y=[]\n",
    "    for i in x:\n",
    "        for ii in i:\n",
    "            for iii in ii:\n",
    "                if (d_mean>iii)and(iii>d_min):\n",
    "                    y.append(float(25))\n",
    "                elif (d_max>iii)and(iii>d_mean):\n",
    "                    y.append(float(75))\n",
    "                elif (iii==d_mean):\n",
    "                    y.append(float(50))\n",
    "                elif (iii==d_max):\n",
    "                    y.append(float(100))\n",
    "                else:\n",
    "                    y.append(float(0))\n",
    "    return y\n",
    "\n",
    "np.array(converter(d)).reshape(2,3,5)\n",
    "\n",
    "                "
   ]
  },
  {
   "cell_type": "code",
   "execution_count": 33,
   "id": "598bc7fa",
   "metadata": {},
   "outputs": [
    {
     "data": {
      "text/plain": [
       "array([[['D', 'B', 'E', 'D', 'B'],\n",
       "        ['D', 'B', 'B', 'B', 'B'],\n",
       "        ['D', 'D', 'D', 'A', 'D']],\n",
       "\n",
       "       [['D', 'D', 'B', 'D', 'D'],\n",
       "        ['B', 'B', 'D', 'B', 'B'],\n",
       "        ['D', 'B', 'D', 'B', 'B']]], dtype='<U1')"
      ]
     },
     "execution_count": 33,
     "metadata": {},
     "output_type": "execute_result"
    }
   ],
   "source": [
    "def converter(x):\n",
    "    y=[]\n",
    "    for i in x:\n",
    "        for ii in i:\n",
    "            for iii in ii:\n",
    "                if (d_mean>iii)and(iii>d_min):\n",
    "                    y.append('B')\n",
    "                elif (d_max>iii)and(iii>d_mean):\n",
    "                    y.append('D')\n",
    "                elif (iii==d_mean):\n",
    "                    y.append('C')\n",
    "                elif (iii==d_max):\n",
    "                    y.append('E')\n",
    "                else:\n",
    "                    y.append('A')\n",
    "    return y\n",
    "\n",
    "np.array(converter(d)).reshape(2,3,5)"
   ]
  },
  {
   "cell_type": "code",
   "execution_count": null,
   "id": "deea2aac",
   "metadata": {},
   "outputs": [],
   "source": []
  },
  {
   "cell_type": "code",
   "execution_count": null,
   "id": "aa714250",
   "metadata": {},
   "outputs": [],
   "source": []
  },
  {
   "cell_type": "code",
   "execution_count": null,
   "id": "b5a7fd33",
   "metadata": {},
   "outputs": [],
   "source": []
  }
 ],
 "metadata": {
  "kernelspec": {
   "display_name": "Python 3 (ipykernel)",
   "language": "python",
   "name": "python3"
  },
  "language_info": {
   "codemirror_mode": {
    "name": "ipython",
    "version": 3
   },
   "file_extension": ".py",
   "mimetype": "text/x-python",
   "name": "python",
   "nbconvert_exporter": "python",
   "pygments_lexer": "ipython3",
   "version": "3.9.12"
  }
 },
 "nbformat": 4,
 "nbformat_minor": 5
}
