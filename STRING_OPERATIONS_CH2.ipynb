{
 "cells": [
  {
   "cell_type": "code",
   "execution_count": 1,
   "id": "b7f6ac31",
   "metadata": {},
   "outputs": [],
   "source": [
    "#docs = ['doc1.txt', 'doc2.txt', 'doc3.txt']"
   ]
  },
  {
   "cell_type": "code",
   "execution_count": 11,
   "id": "c81cc0c5",
   "metadata": {},
   "outputs": [],
   "source": [
    "import pandas as pd\n",
    "import os\n",
    "import numpy as np"
   ]
  },
  {
   "cell_type": "code",
   "execution_count": null,
   "id": "d9ecf072",
   "metadata": {},
   "outputs": [],
   "source": []
  },
  {
   "cell_type": "code",
   "execution_count": 10,
   "id": "d11e7289",
   "metadata": {},
   "outputs": [
    {
     "name": "stdout",
     "output_type": "stream",
     "text": [
      "['doc1.txt', 'doc3.txt', 'doc2.txt']\n"
     ]
    }
   ],
   "source": [
    "docs=[]\n",
    "for filename in os.listdir('./'):\n",
    "    if filename.endswith('.txt'):\n",
    "        docs.append(filename)\n",
    "print(docs)"
   ]
  },
  {
   "cell_type": "code",
   "execution_count": 12,
   "id": "78594023",
   "metadata": {},
   "outputs": [
    {
     "name": "stdout",
     "output_type": "stream",
     "text": [
      "['Ironhack is cool.', 'I am a student at Ironhack.', 'I love Ironhack.']\n"
     ]
    }
   ],
   "source": [
    "\n",
    "corpus=[]\n",
    "\n",
    "for Filename in os.listdir('./'):\n",
    "    if Filename.endswith('.txt'):\n",
    "        with open(Filename,'r') as f:\n",
    "            content=f.readline()\n",
    "        corpus.append(content)\n",
    "print(corpus)"
   ]
  },
  {
   "cell_type": "code",
   "execution_count": 13,
   "id": "83d958cb",
   "metadata": {},
   "outputs": [
    {
     "data": {
      "text/plain": [
       "list"
      ]
     },
     "execution_count": 13,
     "metadata": {},
     "output_type": "execute_result"
    }
   ],
   "source": [
    "type(corpus)"
   ]
  },
  {
   "cell_type": "code",
   "execution_count": 14,
   "id": "2290d7e2",
   "metadata": {},
   "outputs": [],
   "source": [
    "#Write your code below to process corpus (convert to lower case and remove special characters)."
   ]
  },
  {
   "cell_type": "code",
   "execution_count": 79,
   "id": "0da66ed1",
   "metadata": {},
   "outputs": [
    {
     "name": "stdout",
     "output_type": "stream",
     "text": [
      "['ironhack is cool', 'i am a student at ironhack', 'i love ironhack']\n"
     ]
    }
   ],
   "source": [
    "corpus_clean=[(lambda i: i.lower().strip('\\.')) (i) for i in corpus] \n",
    "print(corpus_clean)"
   ]
  },
  {
   "cell_type": "code",
   "execution_count": 80,
   "id": "73c6df59",
   "metadata": {},
   "outputs": [],
   "source": [
    "#Now define bag_of_words as an empty array. It will be used to store the unique terms in corpus."
   ]
  },
  {
   "cell_type": "code",
   "execution_count": 81,
   "id": "9e540049",
   "metadata": {},
   "outputs": [],
   "source": [
    "bag_of_words=[]"
   ]
  },
  {
   "cell_type": "code",
   "execution_count": 134,
   "id": "03edfe51",
   "metadata": {},
   "outputs": [
    {
     "name": "stdout",
     "output_type": "stream",
     "text": [
      "['ironhack', 'is', 'cool', 'i', 'am', 'a', 'student', 'at', 'love']\n"
     ]
    }
   ],
   "source": [
    "#Loop through corpus. In each loop, do the following:\n",
    "#Break the string into an array of terms.\n",
    "#Create a sub-loop to iterate the terms array.\n",
    "#In each sub-loop, you'll check if the current term is already contained in bag_of_words. \n",
    "#If not in bag_of_words, append it to the array.\n",
    "\n",
    "for i in corpus_clean:\n",
    "    terms = i.split(' ')\n",
    "    for word in terms:\n",
    "        if word not in bag_of_words:\n",
    "            bag_of_words.append(word)\n",
    "            \n",
    "            \n",
    "print(bag_of_words)"
   ]
  },
  {
   "cell_type": "code",
   "execution_count": 157,
   "id": "9910353e",
   "metadata": {},
   "outputs": [
    {
     "name": "stdout",
     "output_type": "stream",
     "text": [
      "[1, 1, 1, 0, 0, 0, 0, 0, 0, 1, 0, 0, 1, 1, 1, 1, 1, 0, 1, 0, 0, 1, 0, 0, 0, 0, 1]\n"
     ]
    }
   ],
   "source": [
    "#Now we define an empty array called term_freq. \n",
    "#Loop corpus for a second time. In each loop, create a sub-loop to iterate the terms in bag_of_words. \n",
    "#Count how many times each term appears in each doc of corpus. \n",
    "#Append the term-frequency array to term_freq.\n",
    "\n",
    "\n",
    "term_freq=[]\n",
    "\n",
    "count=0\n",
    "corpus_split=[]\n",
    "for i in corpus_clean:\n",
    "    corpus_split.append(i.split(' '))\n",
    "    \n",
    "for j in corpus_split:\n",
    "    for k in bag_of_words:\n",
    "        if k in j:\n",
    "            term_freq.append(count+1)\n",
    "        else:\n",
    "            term_freq.append(count)\n",
    "            \n",
    "print(term_freq)\n"
   ]
  },
  {
   "cell_type": "code",
   "execution_count": null,
   "id": "d6a7dc08",
   "metadata": {},
   "outputs": [],
   "source": []
  },
  {
   "cell_type": "code",
   "execution_count": 121,
   "id": "8b0b05d7",
   "metadata": {},
   "outputs": [
    {
     "data": {
      "text/plain": [
       "([1, 1, 1, 0, 0, 0, 0, 0, 0],\n",
       " [1, 0, 0, 1, 1, 0, 0, 0, 0],\n",
       " [1, 0, 0, 1, 0, 1, 1, 1, 1])"
      ]
     },
     "execution_count": 121,
     "metadata": {},
     "output_type": "execute_result"
    }
   ],
   "source": [
    "[1, 1, 1, 0, 0, 0, 0, 0, 0], [1, 0, 0, 1, 1, 0, 0, 0, 0], [1, 0, 0, 1, 0, 1, 1, 1, 1]\n",
    "\n"
   ]
  },
  {
   "cell_type": "code",
   "execution_count": null,
   "id": "f756c622",
   "metadata": {},
   "outputs": [],
   "source": []
  },
  {
   "cell_type": "code",
   "execution_count": null,
   "id": "92eb6c19",
   "metadata": {},
   "outputs": [],
   "source": []
  },
  {
   "cell_type": "code",
   "execution_count": null,
   "id": "429247a1",
   "metadata": {},
   "outputs": [],
   "source": []
  }
 ],
 "metadata": {
  "kernelspec": {
   "display_name": "Python 3 (ipykernel)",
   "language": "python",
   "name": "python3"
  },
  "language_info": {
   "codemirror_mode": {
    "name": "ipython",
    "version": 3
   },
   "file_extension": ".py",
   "mimetype": "text/x-python",
   "name": "python",
   "nbconvert_exporter": "python",
   "pygments_lexer": "ipython3",
   "version": "3.9.12"
  }
 },
 "nbformat": 4,
 "nbformat_minor": 5
}
