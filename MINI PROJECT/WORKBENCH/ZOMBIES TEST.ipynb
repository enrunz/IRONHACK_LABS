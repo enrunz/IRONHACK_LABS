{
 "cells": [
  {
   "cell_type": "code",
   "execution_count": 1,
   "id": "0c725b02",
   "metadata": {},
   "outputs": [],
   "source": [
    "from pandemicZombiesCURRENT import *"
   ]
  },
  {
   "cell_type": "code",
   "execution_count": 2,
   "id": "b12df513",
   "metadata": {},
   "outputs": [],
   "source": [
    "test=vcard()"
   ]
  },
  {
   "cell_type": "code",
   "execution_count": 3,
   "id": "7e73c840",
   "metadata": {},
   "outputs": [
    {
     "data": {
      "text/plain": [
       "[[1, 5, 5, 7]]"
      ]
     },
     "execution_count": 3,
     "metadata": {},
     "output_type": "execute_result"
    }
   ],
   "source": [
    "test.keyList()"
   ]
  },
  {
   "cell_type": "code",
   "execution_count": 4,
   "id": "aa3273c7",
   "metadata": {},
   "outputs": [
    {
     "name": "stdout",
     "output_type": "stream",
     "text": [
      "Enter your vaccination code here: 1,2,3,4\n",
      "Not quite, here are some hints: ['Y', 'N', 'N', 'N']\n",
      "Enter your vaccination code here: 1,2,4,5\n",
      "Not quite, here are some hints: ['Y', 'N', 'N', 'O']\n",
      "Enter your vaccination code here: 1,5,5,7\n",
      "You have found the profile, go and save the world!\n"
     ]
    }
   ],
   "source": [
    "test.play()"
   ]
  },
  {
   "cell_type": "code",
   "execution_count": null,
   "id": "f3050021",
   "metadata": {},
   "outputs": [],
   "source": []
  },
  {
   "cell_type": "code",
   "execution_count": null,
   "id": "8d4fb566",
   "metadata": {},
   "outputs": [],
   "source": []
  },
  {
   "cell_type": "code",
   "execution_count": null,
   "id": "33fe84eb",
   "metadata": {},
   "outputs": [],
   "source": []
  }
 ],
 "metadata": {
  "kernelspec": {
   "display_name": "Python 3 (ipykernel)",
   "language": "python",
   "name": "python3"
  },
  "language_info": {
   "codemirror_mode": {
    "name": "ipython",
    "version": 3
   },
   "file_extension": ".py",
   "mimetype": "text/x-python",
   "name": "python",
   "nbconvert_exporter": "python",
   "pygments_lexer": "ipython3",
   "version": "3.9.12"
  }
 },
 "nbformat": 4,
 "nbformat_minor": 5
}
