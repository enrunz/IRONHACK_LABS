{
 "cells": [
  {
   "cell_type": "markdown",
   "id": "f451c358",
   "metadata": {},
   "source": [
    "## Challenge 1 - Functions."
   ]
  },
  {
   "cell_type": "markdown",
   "id": "da0eb159",
   "metadata": {},
   "source": [
    "\n",
    "### A function is a block of organized, reusable code that is used to perform a single, related action. Functions provide better modularity for your application and a high degree of code reusing. Create a function to find the summation of the number of every number from 1 to num."
   ]
  },
  {
   "cell_type": "code",
   "execution_count": 1,
   "id": "45a33469",
   "metadata": {},
   "outputs": [],
   "source": [
    "num=76\n",
    "\n"
   ]
  },
  {
   "cell_type": "code",
   "execution_count": 5,
   "id": "a0029ce3",
   "metadata": {},
   "outputs": [],
   "source": [
    "def summation(num):\n",
    "    result = sum(range(1,num+1)) \n",
    "    return result\n",
    "    # This function returns 1+2+3+....+num\n",
    "    "
   ]
  },
  {
   "cell_type": "code",
   "execution_count": 6,
   "id": "208909ea",
   "metadata": {},
   "outputs": [
    {
     "name": "stdout",
     "output_type": "stream",
     "text": [
      "2926\n"
     ]
    }
   ],
   "source": [
    "print(summation(76))"
   ]
  },
  {
   "cell_type": "markdown",
   "id": "aae37d6d",
   "metadata": {},
   "source": [
    "## Challenge 2 - Positional arguments, Args and Kwargs.\n"
   ]
  },
  {
   "cell_type": "markdown",
   "id": "1a0da2be",
   "metadata": {},
   "source": [
    "### The syntax args and **kwargs in function definitions is used to pass a variable number of arguments to a function. The single asterisk form (args) is used to pass a non-keyworded, variable-length argument list, and the double asterisk form is used to pass a keyworded, variable-length argument list. Create a function to find the summation of all elements of the array."
   ]
  },
  {
   "cell_type": "code",
   "execution_count": 12,
   "id": "c0dae213",
   "metadata": {},
   "outputs": [],
   "source": [
    "array=[3, 8, 16]\n"
   ]
  },
  {
   "cell_type": "code",
   "execution_count": 153,
   "id": "fb908987",
   "metadata": {},
   "outputs": [],
   "source": [
    "def summation2(*args):\n",
    "    result2=sum(*args)\n",
    "    return result2\n",
    "\n",
    "    # This function returns the sum of *args\n",
    "    "
   ]
  },
  {
   "cell_type": "code",
   "execution_count": 154,
   "id": "41c1992c",
   "metadata": {},
   "outputs": [
    {
     "name": "stdout",
     "output_type": "stream",
     "text": [
      "27\n"
     ]
    }
   ],
   "source": [
    "print(summation2(array))"
   ]
  },
  {
   "cell_type": "markdown",
   "id": "4fef2c72",
   "metadata": {},
   "source": [
    "### Now, do the same thing with positional arguments."
   ]
  },
  {
   "cell_type": "code",
   "execution_count": null,
   "id": "d2f919aa",
   "metadata": {},
   "outputs": [],
   "source": [
    "array=[3, 8, 16]"
   ]
  },
  {
   "cell_type": "code",
   "execution_count": 29,
   "id": "09debd69",
   "metadata": {},
   "outputs": [],
   "source": [
    "def summation3(a, b, c):\n",
    "    # This function returns a+b+c\n",
    "    result3= a+b+c\n",
    "    return result3\n",
    "    \n",
    "    # Your code here:\n",
    "# print summation3"
   ]
  },
  {
   "cell_type": "code",
   "execution_count": 30,
   "id": "d40cde2b",
   "metadata": {},
   "outputs": [
    {
     "data": {
      "text/plain": [
       "27"
      ]
     },
     "execution_count": 30,
     "metadata": {},
     "output_type": "execute_result"
    }
   ],
   "source": [
    "summation3(3,8,16)"
   ]
  },
  {
   "cell_type": "markdown",
   "id": "6321b213",
   "metadata": {},
   "source": [
    "### Given the next dictionary of M&Ms, create a function to sum all non red M&Ms."
   ]
  },
  {
   "cell_type": "code",
   "execution_count": 31,
   "id": "ba5d41cc",
   "metadata": {},
   "outputs": [],
   "source": [
    "dictionary={'red':3, 'blue':8, 'green':24, 'orange':12, 'purple':10}\n",
    "\n"
   ]
  },
  {
   "cell_type": "code",
   "execution_count": 166,
   "id": "cf55d247",
   "metadata": {},
   "outputs": [
    {
     "name": "stdout",
     "output_type": "stream",
     "text": [
      "{'blue': 8, 'green': 24, 'orange': 12, 'purple': 10}\n"
     ]
    }
   ],
   "source": [
    "Dict_clean={}\n",
    "for i,j in dictionary.items():\n",
    "        if i!='red':\n",
    "            Dict_clean[i]=j\n",
    "print(Dict_clean)\n",
    "                \n",
    "def summation4(D,**kwargs):\n",
    "    # This function returns the sum of all M&Ms, except the red ones\n",
    "    result4=sum(D.values(),**kwargs)\n",
    "    return result4\n",
    "    "
   ]
  },
  {
   "cell_type": "code",
   "execution_count": 167,
   "id": "26184938",
   "metadata": {},
   "outputs": [
    {
     "name": "stdout",
     "output_type": "stream",
     "text": [
      "54\n"
     ]
    }
   ],
   "source": [
    "print(summation4(Dict_clean))"
   ]
  },
  {
   "cell_type": "markdown",
   "id": "b6d3c2cb",
   "metadata": {},
   "source": [
    "### Below, create a function to sum all following elements."
   ]
  },
  {
   "cell_type": "code",
   "execution_count": 203,
   "id": "5e9dcbcc",
   "metadata": {},
   "outputs": [],
   "source": [
    "a=4\n",
    "b=6\n",
    "c=15\n",
    "d=[48, 465, 23, 96]\n",
    "e={'A':16, 'B':32, 'C':64}\n",
    "f=[[48,49], [465,46], [23,56], [96,45]]\n"
   ]
  },
  {
   "cell_type": "code",
   "execution_count": 211,
   "id": "fe0c3216",
   "metadata": {},
   "outputs": [
    {
     "ename": "TypeError",
     "evalue": "unsupported operand type(s) for +: 'int' and 'list'",
     "output_type": "error",
     "traceback": [
      "\u001b[0;31m---------------------------------------------------------------------------\u001b[0m",
      "\u001b[0;31mTypeError\u001b[0m                                 Traceback (most recent call last)",
      "Input \u001b[0;32mIn [211]\u001b[0m, in \u001b[0;36m<cell line: 4>\u001b[0;34m()\u001b[0m\n\u001b[1;32m      2\u001b[0m     result5\u001b[38;5;241m=\u001b[39mA\u001b[38;5;241m+\u001b[39mB\u001b[38;5;241m+\u001b[39mC\u001b[38;5;241m+\u001b[39m\u001b[38;5;28msum\u001b[39m(D)\u001b[38;5;241m+\u001b[39m\u001b[38;5;28msum\u001b[39m(E\u001b[38;5;241m.\u001b[39mvalues()\u001b[38;5;241m+\u001b[39m\u001b[38;5;28msum\u001b[39m(\u001b[38;5;241m*\u001b[39mF))\n\u001b[1;32m      3\u001b[0m     \u001b[38;5;28;01mreturn\u001b[39;00m result5\n\u001b[0;32m----> 4\u001b[0m \u001b[38;5;28mprint\u001b[39m(\u001b[43msummation5\u001b[49m\u001b[43m(\u001b[49m\u001b[43ma\u001b[49m\u001b[43m,\u001b[49m\u001b[43mb\u001b[49m\u001b[43m,\u001b[49m\u001b[43mc\u001b[49m\u001b[43m,\u001b[49m\u001b[43md\u001b[49m\u001b[43m,\u001b[49m\u001b[43me\u001b[49m\u001b[43m,\u001b[49m\u001b[43mf\u001b[49m\u001b[43m)\u001b[49m)\n",
      "Input \u001b[0;32mIn [211]\u001b[0m, in \u001b[0;36msummation5\u001b[0;34m(A, B, C, D, E, *F)\u001b[0m\n\u001b[1;32m      1\u001b[0m \u001b[38;5;28;01mdef\u001b[39;00m \u001b[38;5;21msummation5\u001b[39m(A,B,C,D,E,\u001b[38;5;241m*\u001b[39mF):\n\u001b[0;32m----> 2\u001b[0m     result5\u001b[38;5;241m=\u001b[39mA\u001b[38;5;241m+\u001b[39mB\u001b[38;5;241m+\u001b[39mC\u001b[38;5;241m+\u001b[39m\u001b[38;5;28msum\u001b[39m(D)\u001b[38;5;241m+\u001b[39m\u001b[38;5;28msum\u001b[39m(E\u001b[38;5;241m.\u001b[39mvalues()\u001b[38;5;241m+\u001b[39m\u001b[38;5;28;43msum\u001b[39;49m\u001b[43m(\u001b[49m\u001b[38;5;241;43m*\u001b[39;49m\u001b[43mF\u001b[49m\u001b[43m)\u001b[49m)\n\u001b[1;32m      3\u001b[0m     \u001b[38;5;28;01mreturn\u001b[39;00m result5\n",
      "\u001b[0;31mTypeError\u001b[0m: unsupported operand type(s) for +: 'int' and 'list'"
     ]
    }
   ],
   "source": [
    "def summation5(A,B,C,D,E,*F):\n",
    "    result5=A+B+C+sum(D)+sum(E.values()+sum(*F))\n",
    "    return result5\n",
    "print(summation5(a,b,c,d,e,f))"
   ]
  },
  {
   "cell_type": "code",
   "execution_count": 197,
   "id": "4539379b",
   "metadata": {},
   "outputs": [
    {
     "name": "stdout",
     "output_type": "stream",
     "text": [
      "769\n"
     ]
    }
   ],
   "source": [
    "def summation5(A,B,C,D,E):\n",
    "    result5=A+B+C+sum(D)+sum(E.values())\n",
    "    return result5\n",
    "print(summation5(a,b,c,d,e))"
   ]
  },
  {
   "cell_type": "code",
   "execution_count": 191,
   "id": "e54610bf",
   "metadata": {},
   "outputs": [
    {
     "name": "stdout",
     "output_type": "stream",
     "text": [
      "769\n"
     ]
    }
   ],
   "source": [
    "def summation5(A,B,C,D,E,*args,**kwargs):\n",
    "    result5=A+B+C+sum(D,*args)+sum(E.values(),**kwargs)\n",
    "    return result5\n",
    "print(summation5(a,b,c,d,e))"
   ]
  },
  {
   "cell_type": "markdown",
   "id": "aae2420e",
   "metadata": {},
   "source": [
    "## Challenge 3 - Iterators, Generators and yield.\n"
   ]
  },
  {
   "cell_type": "markdown",
   "id": "87c15692",
   "metadata": {},
   "source": [
    "### In iterator in Python is an object that represents a stream of data. However, iterators contain a countable number of values. We traverse through the iterator and return one value at a time. All iterators support a next function that allows us to traverse through the iterator. We can create an iterator using the iter function that comes with the base package of Python. Below is an example of an iterator.\n",
    "\n"
   ]
  },
  {
   "cell_type": "code",
   "execution_count": 137,
   "id": "0d0f580a",
   "metadata": {},
   "outputs": [
    {
     "name": "stdout",
     "output_type": "stream",
     "text": [
      "1\n"
     ]
    }
   ],
   "source": [
    "# We first define our iterator:\n",
    "\n",
    "iterator = iter([1,2,3])\n",
    "\n",
    "# We can now iterate through the object using the next function\n",
    "\n",
    "print(next(iterator))"
   ]
  },
  {
   "cell_type": "code",
   "execution_count": 138,
   "id": "58f48b85",
   "metadata": {},
   "outputs": [
    {
     "name": "stdout",
     "output_type": "stream",
     "text": [
      "2\n"
     ]
    }
   ],
   "source": [
    "# We continue to iterate through the iterator.\n",
    "\n",
    "print(next(iterator))"
   ]
  },
  {
   "cell_type": "code",
   "execution_count": 139,
   "id": "88ee4077",
   "metadata": {},
   "outputs": [
    {
     "name": "stdout",
     "output_type": "stream",
     "text": [
      "3\n"
     ]
    }
   ],
   "source": [
    "print(next(iterator))"
   ]
  },
  {
   "cell_type": "code",
   "execution_count": 192,
   "id": "83496dfe",
   "metadata": {},
   "outputs": [
    {
     "ename": "StopIteration",
     "evalue": "",
     "output_type": "error",
     "traceback": [
      "\u001b[0;31m---------------------------------------------------------------------------\u001b[0m",
      "\u001b[0;31mStopIteration\u001b[0m                             Traceback (most recent call last)",
      "Input \u001b[0;32mIn [192]\u001b[0m, in \u001b[0;36m<cell line: 3>\u001b[0;34m()\u001b[0m\n\u001b[1;32m      1\u001b[0m \u001b[38;5;66;03m# After we have iterated through all elements, we will get a StopIteration Error\u001b[39;00m\n\u001b[0;32m----> 3\u001b[0m \u001b[38;5;28mprint\u001b[39m(\u001b[38;5;28;43mnext\u001b[39;49m\u001b[43m(\u001b[49m\u001b[43miterator\u001b[49m\u001b[43m)\u001b[49m)\n",
      "\u001b[0;31mStopIteration\u001b[0m: "
     ]
    }
   ],
   "source": [
    "# After we have iterated through all elements, we will get a StopIteration Error\n",
    "\n",
    "print(next(iterator))"
   ]
  },
  {
   "cell_type": "code",
   "execution_count": 1,
   "id": "54db7363",
   "metadata": {},
   "outputs": [
    {
     "name": "stdout",
     "output_type": "stream",
     "text": [
      "1\n",
      "2\n",
      "3\n"
     ]
    }
   ],
   "source": [
    "# We can also iterate through an iterator using a for loop like this:\n",
    "# Note: we cannot go back directly in an iterator once we have traversed through the elements. \n",
    "# This is why we are redefining the iterator below\n",
    "\n",
    "iterator = iter([1,2,3])\n",
    "\n",
    "for i in iterator:\n",
    "    print(i)"
   ]
  },
  {
   "cell_type": "markdown",
   "id": "a3859386",
   "metadata": {},
   "source": [
    "### In the cell below, write a function that takes an iterator and returns the first element in the iterator and returns the first element in the iterator that is divisible by 2. Assume that all iterators contain only numeric data. If we have not found a single element that is divisible by 2, return zero."
   ]
  },
  {
   "cell_type": "code",
   "execution_count": 150,
   "id": "ad9db82c",
   "metadata": {},
   "outputs": [],
   "source": [
    "iterator=iter([1,2,3])\n",
    "iterator2=iter([1,2,3,4,5,6])\n",
    "iterator3=iter([1,3,5,7])\n",
    "iterator4=iter([1,3,5,7,8])\n",
    "\n",
    "def divisible2(iterator):\n",
    "    while True:\n",
    "        try:\n",
    "            element = next(iterator)\n",
    "            if element%2==0:\n",
    "                print(element)\n",
    "                break\n",
    "        except StopIteration:\n",
    "            print(0)\n",
    "            break\n",
    "              \n"
   ]
  },
  {
   "cell_type": "code",
   "execution_count": 145,
   "id": "571afbc5",
   "metadata": {},
   "outputs": [
    {
     "name": "stdout",
     "output_type": "stream",
     "text": [
      "0\n"
     ]
    }
   ],
   "source": [
    "divisible2(iterator)"
   ]
  },
  {
   "cell_type": "code",
   "execution_count": 146,
   "id": "5f7ccee4",
   "metadata": {},
   "outputs": [
    {
     "name": "stdout",
     "output_type": "stream",
     "text": [
      "2\n"
     ]
    }
   ],
   "source": [
    "divisible2(iterator2)"
   ]
  },
  {
   "cell_type": "code",
   "execution_count": 147,
   "id": "423c65de",
   "metadata": {},
   "outputs": [
    {
     "name": "stdout",
     "output_type": "stream",
     "text": [
      "0\n"
     ]
    }
   ],
   "source": [
    "divisible2(iterator3)"
   ]
  },
  {
   "cell_type": "code",
   "execution_count": 151,
   "id": "4c555de0",
   "metadata": {},
   "outputs": [
    {
     "name": "stdout",
     "output_type": "stream",
     "text": [
      "8\n"
     ]
    }
   ],
   "source": [
    "divisible2(iterator4)"
   ]
  },
  {
   "cell_type": "code",
   "execution_count": 101,
   "id": "b0464132",
   "metadata": {},
   "outputs": [],
   "source": [
    "#iterator=iter([1,2,3])\n",
    "#iterator2=iter([1,2,3,4,6])\n",
    "#iterator3=iter([1,3,5,7])\n",
    "#iterator4=iter([1,3,5,7,8])\n",
    "\n",
    "#def divisible3(iterator):  \n",
    " #   for i in iterator:\n",
    "  #      if i%2==0:\n",
    "   #         print(i)\n",
    "            \n",
    "         "
   ]
  },
  {
   "cell_type": "markdown",
   "id": "206c3a41",
   "metadata": {},
   "source": [
    "### Generators"
   ]
  },
  {
   "cell_type": "markdown",
   "id": "8c2c88d8",
   "metadata": {},
   "source": [
    "It is quite difficult to create your own iterator since you would have to implement a next function. Generators are functions that enable us to create iterators. The difference between a function and a generator is that instead of using return, we use yield. For example, below we have a function that returns an iterator containing the numbers 0 through n:"
   ]
  },
  {
   "cell_type": "code",
   "execution_count": 103,
   "id": "8f12189b",
   "metadata": {},
   "outputs": [],
   "source": [
    "def firstn(n):\n",
    "     number = 0\n",
    "     while number < n:\n",
    "         yield number\n",
    "         number = number + 1"
   ]
  },
  {
   "cell_type": "code",
   "execution_count": 105,
   "id": "335d2726",
   "metadata": {},
   "outputs": [
    {
     "data": {
      "text/plain": [
       "<generator object firstn at 0x7fc1c53e1740>"
      ]
     },
     "execution_count": 105,
     "metadata": {},
     "output_type": "execute_result"
    }
   ],
   "source": [
    "firstn(5)"
   ]
  },
  {
   "cell_type": "markdown",
   "id": "0bfe1125",
   "metadata": {},
   "source": [
    "If we pass 5 to the function, we will see that we have a iterator containing the numbers 0 through 4."
   ]
  },
  {
   "cell_type": "code",
   "execution_count": 107,
   "id": "7d8eb440",
   "metadata": {},
   "outputs": [
    {
     "name": "stdout",
     "output_type": "stream",
     "text": [
      "0\n",
      "1\n",
      "2\n",
      "3\n",
      "4\n"
     ]
    }
   ],
   "source": [
    "iterator = firstn(5)\n",
    "\n",
    "for i in iterator:\n",
    "    print(i)"
   ]
  },
  {
   "cell_type": "markdown",
   "id": "a6db1fc7",
   "metadata": {},
   "source": [
    "In the cell below, create a generator that takes a number and returns an iterator containing all even numbers between 0 and the number you passed to the generator."
   ]
  },
  {
   "cell_type": "code",
   "execution_count": 126,
   "id": "148e1c23",
   "metadata": {},
   "outputs": [],
   "source": [
    "\n",
    "    # This function produces an iterator containing all even numbers between 0 and n\n",
    "    # Input: integer\n",
    "    # Output: iterator\n",
    "\n",
    "    def even_iterator(n):\n",
    "        \n",
    "        num=0\n",
    "        while num < n:\n",
    "            if num%2==0:\n",
    "                yield num\n",
    "            num = num + 1\n",
    "        \n",
    "    \n",
    "    # Sample Input: 5\n",
    "    # Sample Output: iter([0, 2, 4])"
   ]
  },
  {
   "cell_type": "code",
   "execution_count": 137,
   "id": "96b04cde",
   "metadata": {},
   "outputs": [],
   "source": [
    "def iteratorA(x):\n",
    "    iterator=even_iterator(x)\n",
    "    for i in iterator:\n",
    "        print(i)"
   ]
  },
  {
   "cell_type": "code",
   "execution_count": 160,
   "id": "f88e939a",
   "metadata": {},
   "outputs": [
    {
     "name": "stdout",
     "output_type": "stream",
     "text": [
      "0\n",
      "2\n",
      "4\n",
      "6\n",
      "8\n"
     ]
    }
   ],
   "source": [
    "iteratorA(10)  "
   ]
  },
  {
   "cell_type": "code",
   "execution_count": 134,
   "id": "a4de3d3a",
   "metadata": {},
   "outputs": [],
   "source": [
    "#def iteratorA(x):\n",
    " #   y=[]\n",
    "  #  iterator=even_iterator(x)\n",
    "   # for i in iterator:\n",
    "    #    y.append(i)\n",
    "    #print(iter(y))"
   ]
  }
 ],
 "metadata": {
  "kernelspec": {
   "display_name": "Python 3 (ipykernel)",
   "language": "python",
   "name": "python3"
  },
  "language_info": {
   "codemirror_mode": {
    "name": "ipython",
    "version": 3
   },
   "file_extension": ".py",
   "mimetype": "text/x-python",
   "name": "python",
   "nbconvert_exporter": "python",
   "pygments_lexer": "ipython3",
   "version": "3.9.12"
  }
 },
 "nbformat": 4,
 "nbformat_minor": 5
}
